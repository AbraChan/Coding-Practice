{
 "cells": [
  {
   "cell_type": "markdown",
   "metadata": {},
   "source": [
    "<br>"
   ]
  },
  {
   "cell_type": "markdown",
   "metadata": {},
   "source": [
    "<div align=center><font color=maroon size=6><b>Text classification with TensorFlow Hub: Movie reviews</b></font></div>"
   ]
  },
  {
   "cell_type": "markdown",
   "metadata": {},
   "source": [
    "<br>"
   ]
  },
  {
   "cell_type": "markdown",
   "metadata": {},
   "source": [
    "<font size=4><b>References:</b></font>\n",
    "1. TF2 official tutorials: <a href=\"https://www.tensorflow.org/tutorials\" style=\"text-decoration:none;\">TensorFlow Tutorials</a> \n",
    "    * `TensorFlow > Learn > TensorFlow Core > `Tutorials > <a href=\"https://www.tensorflow.org/tutorials/keras/text_classification_with_hub\" style=\"text-decoration:none;\">Text classification with TensorFlow Hub: Movie reviews</a>\n",
    "        * Run in <a href=\"https://colab.research.google.com/github/tensorflow/docs/blob/master/site/en/tutorials/keras/text_classification_with_hub.ipynb\" style=\"text-decoration:none;\">Google Colab</a>"
   ]
  },
  {
   "cell_type": "markdown",
   "metadata": {},
   "source": [
    "<br>\n",
    "<br>\n",
    "<br>"
   ]
  },
  {
   "cell_type": "markdown",
   "metadata": {},
   "source": [
    "This notebook classifies movie reviews as *positive* or *negative* using the text of the review. This is an example of *binary*—or two-class—classification, an important and widely applicable kind of machine learning problem.\n",
    "\n",
    "The tutorial demonstrates the basic application of transfer learning with [TensorFlow Hub](https://tfhub.dev) and Keras.\n",
    "\n",
    "It uses the [IMDB dataset](https://www.tensorflow.org/api_docs/python/tf/keras/datasets/imdb) that contains the text of 50,000 movie reviews from the [Internet Movie Database](https://www.imdb.com/). These are split into 25,000 reviews for training and 25,000 reviews for testing. The training and testing sets are *balanced*, meaning they contain an equal number of positive and negative reviews. \n",
    "\n",
    "This notebook uses [`tf.keras`](https://www.tensorflow.org/guide/keras), a high-level API to build and train models in TensorFlow, and [`tensorflow_hub`](https://www.tensorflow.org/hub), a library for loading trained models from [TFHub](https://tfhub.dev) in a single line of code. For a more advanced text classification tutorial using `tf.keras`, see the [MLCC Text Classification Guide](https://developers.google.com/machine-learning/guides/text-classification/)."
   ]
  },
  {
   "cell_type": "code",
   "execution_count": null,
   "metadata": {},
   "outputs": [],
   "source": [
    "# !pip install tensorflow-hub\n",
    "# !pip install tensorflow-datasets"
   ]
  },
  {
   "cell_type": "code",
   "execution_count": 1,
   "metadata": {},
   "outputs": [
    {
     "name": "stderr",
     "output_type": "stream",
     "text": [
      "D:\\Programs\\Anaconda3\\envs\\tfg\\lib\\site-packages\\tqdm\\auto.py:22: TqdmWarning: IProgress not found. Please update jupyter and ipywidgets. See https://ipywidgets.readthedocs.io/en/stable/user_install.html\n",
      "  from .autonotebook import tqdm as notebook_tqdm\n"
     ]
    }
   ],
   "source": [
    "import tensorflow as tf\n",
    "import tensorflow_hub as hub\n",
    "import tensorflow_datasets as tfds\n",
    "\n",
    "import os\n",
    "import numpy as np"
   ]
  },
  {
   "cell_type": "code",
   "execution_count": 2,
   "metadata": {},
   "outputs": [
    {
     "name": "stdout",
     "output_type": "stream",
     "text": [
      "Version:  2.5.0\n",
      "Eager mode:  True\n",
      "Hub version:  0.12.0\n",
      "GPU is available\n"
     ]
    }
   ],
   "source": [
    "print(\"Version: \", tf.__version__)\n",
    "print(\"Eager mode: \", tf.executing_eagerly())\n",
    "print(\"Hub version: \", hub.__version__)\n",
    "print(\"GPU is\", \"available\" if tf.config.list_physical_devices(\"GPU\") else \"NOT AVAILABLE\")"
   ]
  },
  {
   "cell_type": "markdown",
   "metadata": {},
   "source": [
    "<br>\n",
    "<br>\n",
    "<br>"
   ]
  },
  {
   "cell_type": "markdown",
   "metadata": {},
   "source": [
    "## Download the IMDB dataset\n",
    "\n",
    "The IMDB dataset is available on [imdb reviews](https://www.tensorflow.org/datasets/catalog/imdb_reviews) or on [TensorFlow datasets](https://www.tensorflow.org/datasets). The following code downloads the IMDB dataset to your machine (or the colab runtime):"
   ]
  },
  {
   "cell_type": "code",
   "execution_count": 3,
   "metadata": {},
   "outputs": [
    {
     "name": "stdout",
     "output_type": "stream",
     "text": [
      "\u001b[1mDownloading and preparing dataset Unknown size (download: Unknown size, generated: Unknown size, total: Unknown size) to C:\\Users\\18617\\tensorflow_datasets\\imdb_reviews\\plain_text\\1.0.0...\u001b[0m\n"
     ]
    },
    {
     "name": "stderr",
     "output_type": "stream",
     "text": [
      "Dl Completed...: 0 url [00:00, ? url/s]\n",
      "Dl Completed...:   0%|                                                                         | 0/1 [00:00<?, ? url/s]\n",
      "Dl Completed...:   0%|                                                                         | 0/1 [00:00<?, ? url/s]\n",
      "Dl Size...:   0%|                                                                             | 0/80 [00:00<?, ? MiB/s]\u001b[A\n",
      "Dl Completed...:   0%|                                                                         | 0/1 [00:01<?, ? url/s]\u001b[A\n",
      "Dl Size...:   1%|▊                                                                    | 1/80 [00:01<01:49,  1.39s/ MiB]\u001b[A\n",
      "Dl Completed...:   0%|                                                                         | 0/1 [00:01<?, ? url/s]\u001b[A\n",
      "Dl Size...:   2%|█▋                                                                   | 2/80 [00:01<01:01,  1.28 MiB/s]\u001b[A\n",
      "Dl Completed...:   0%|                                                                         | 0/1 [00:01<?, ? url/s]\u001b[A\n",
      "Dl Size...:   4%|██▌                                                                  | 3/80 [00:01<00:37,  2.04 MiB/s]\u001b[A\n",
      "Dl Completed...:   0%|                                                                         | 0/1 [00:01<?, ? url/s]\u001b[A\n",
      "Dl Size...:   5%|███▍                                                                 | 4/80 [00:01<00:25,  2.97 MiB/s]\u001b[A\n",
      "Dl Completed...:   0%|                                                                         | 0/1 [00:02<?, ? url/s]\u001b[A\n",
      "Dl Completed...:   0%|                                                                         | 0/1 [00:02<?, ? url/s]\u001b[A\n",
      "Dl Completed...:   0%|                                                                         | 0/1 [00:02<?, ? url/s]\u001b[A\n",
      "Dl Size...:   9%|██████                                                               | 7/80 [00:02<00:25,  2.83 MiB/s]\u001b[A\n",
      "Dl Completed...:   0%|                                                                         | 0/1 [00:02<?, ? url/s]\u001b[A\n",
      "Dl Size...:  10%|██████▉                                                              | 8/80 [00:02<00:12,  5.70 MiB/s]\u001b[A\n",
      "Dl Completed...:   0%|                                                                         | 0/1 [00:02<?, ? url/s]\u001b[A\n",
      "Dl Completed...:   0%|                                                                         | 0/1 [00:02<?, ? url/s]\u001b[A\n",
      "Dl Size...:  12%|████████▌                                                           | 10/80 [00:02<00:13,  5.07 MiB/s]\u001b[A\n",
      "Dl Completed...:   0%|                                                                         | 0/1 [00:02<?, ? url/s]\u001b[A\n",
      "Dl Completed...:   0%|                                                                         | 0/1 [00:03<?, ? url/s]\u001b[A\n",
      "Dl Size...:  15%|██████████▏                                                         | 12/80 [00:03<00:10,  6.76 MiB/s]\u001b[A\n",
      "Dl Completed...:   0%|                                                                         | 0/1 [00:03<?, ? url/s]\u001b[A\n",
      "Dl Completed...:   0%|                                                                         | 0/1 [00:03<?, ? url/s]\u001b[A\n",
      "Dl Size...:  18%|███████████▉                                                        | 14/80 [00:03<00:07,  8.62 MiB/s]\u001b[A\n",
      "Dl Completed...:   0%|                                                                         | 0/1 [00:03<?, ? url/s]\u001b[A\n",
      "Dl Completed...:   0%|                                                                         | 0/1 [00:03<?, ? url/s]\u001b[A\n",
      "Dl Size...:  20%|█████████████▌                                                      | 16/80 [00:03<00:06,  9.35 MiB/s]\u001b[A\n",
      "Dl Completed...:   0%|                                                                         | 0/1 [00:03<?, ? url/s]\u001b[A\n",
      "Dl Completed...:   0%|                                                                         | 0/1 [00:03<?, ? url/s]\u001b[A\n",
      "Dl Size...:  22%|███████████████▎                                                    | 18/80 [00:03<00:07,  7.99 MiB/s]\u001b[A\n",
      "Dl Completed...:   0%|                                                                         | 0/1 [00:03<?, ? url/s]\u001b[A\n",
      "Dl Completed...:   0%|                                                                         | 0/1 [00:03<?, ? url/s]\u001b[A\n",
      "Dl Size...:  25%|█████████████████                                                   | 20/80 [00:03<00:06,  8.81 MiB/s]\u001b[A\n",
      "Dl Completed...:   0%|                                                                         | 0/1 [00:03<?, ? url/s]\u001b[A\n",
      "Dl Completed...:   0%|                                                                         | 0/1 [00:03<?, ? url/s]\u001b[A\n",
      "Dl Size...:  28%|██████████████████▋                                                 | 22/80 [00:03<00:05, 10.34 MiB/s]\u001b[A\n",
      "Dl Completed...:   0%|                                                                         | 0/1 [00:04<?, ? url/s]\u001b[A\n",
      "Dl Completed...:   0%|                                                                         | 0/1 [00:04<?, ? url/s]\u001b[A\n",
      "Dl Size...:  30%|████████████████████▍                                               | 24/80 [00:04<00:05, 11.07 MiB/s]\u001b[A\n",
      "Dl Completed...:   0%|                                                                         | 0/1 [00:04<?, ? url/s]\u001b[A\n",
      "Dl Completed...:   0%|                                                                         | 0/1 [00:04<?, ? url/s]\u001b[A\n",
      "Dl Size...:  32%|██████████████████████                                              | 26/80 [00:04<00:04, 12.35 MiB/s]\u001b[A\n",
      "Dl Completed...:   0%|                                                                         | 0/1 [00:04<?, ? url/s]\u001b[A\n",
      "Dl Completed...:   0%|                                                                         | 0/1 [00:04<?, ? url/s]\u001b[A\n",
      "Dl Completed...:   0%|                                                                         | 0/1 [00:04<?, ? url/s]\u001b[A\n",
      "Dl Size...:  36%|████████████████████████▋                                           | 29/80 [00:04<00:05,  8.58 MiB/s]\u001b[A\n",
      "Dl Completed...:   0%|                                                                         | 0/1 [00:04<?, ? url/s]\u001b[A\n",
      "Dl Completed...:   0%|                                                                         | 0/1 [00:04<?, ? url/s]\u001b[A\n",
      "Dl Size...:  39%|██████████████████████████▎                                         | 31/80 [00:04<00:04, 10.32 MiB/s]\u001b[A\n",
      "Dl Completed...:   0%|                                                                         | 0/1 [00:05<?, ? url/s]\u001b[A\n",
      "Dl Completed...:   0%|                                                                         | 0/1 [00:05<?, ? url/s]\u001b[A\n",
      "Dl Size...:  41%|████████████████████████████                                        | 33/80 [00:05<00:05,  7.86 MiB/s]\u001b[A\n",
      "Dl Completed...:   0%|                                                                         | 0/1 [00:05<?, ? url/s]\u001b[A\n",
      "Dl Completed...:   0%|                                                                         | 0/1 [00:05<?, ? url/s]\u001b[A\n",
      "Dl Size...:  44%|█████████████████████████████▊                                      | 35/80 [00:05<00:05,  8.81 MiB/s]\u001b[A\n",
      "Dl Completed...:   0%|                                                                         | 0/1 [00:05<?, ? url/s]\u001b[A\n",
      "Dl Completed...:   0%|                                                                         | 0/1 [00:05<?, ? url/s]\u001b[A\n",
      "Dl Size...:  46%|███████████████████████████████▍                                    | 37/80 [00:05<00:04, 10.42 MiB/s]\u001b[A\n",
      "Dl Completed...:   0%|                                                                         | 0/1 [00:05<?, ? url/s]\u001b[A\n",
      "Dl Completed...:   0%|                                                                         | 0/1 [00:05<?, ? url/s]\u001b[A\n",
      "Dl Completed...:   0%|                                                                         | 0/1 [00:05<?, ? url/s]\u001b[A\n",
      "Dl Completed...:   0%|                                                                         | 0/1 [00:05<?, ? url/s]\u001b[A\n",
      "Dl Size...:  51%|██████████████████████████████████▊                                 | 41/80 [00:05<00:05,  7.70 MiB/s]\u001b[A\n",
      "Dl Completed...:   0%|                                                                         | 0/1 [00:06<?, ? url/s]\u001b[A\n"
     ]
    },
    {
     "name": "stderr",
     "output_type": "stream",
     "text": [
      "Dl Completed...:   0%|                                                                         | 0/1 [00:06<?, ? url/s]\u001b[A\n",
      "Dl Size...:  54%|████████████████████████████████████▌                               | 43/80 [00:06<00:03, 10.40 MiB/s]\u001b[A\n",
      "Dl Completed...:   0%|                                                                         | 0/1 [00:06<?, ? url/s]\u001b[A\n",
      "Dl Completed...:   0%|                                                                         | 0/1 [00:06<?, ? url/s]\u001b[A\n",
      "Dl Size...:  56%|██████████████████████████████████████▎                             | 45/80 [00:06<00:03, 11.46 MiB/s]\u001b[A\n",
      "Dl Completed...:   0%|                                                                         | 0/1 [00:06<?, ? url/s]\u001b[A\n",
      "Dl Completed...:   0%|                                                                         | 0/1 [00:06<?, ? url/s]\u001b[A\n",
      "Dl Size...:  59%|███████████████████████████████████████▉                            | 47/80 [00:06<00:03,  8.74 MiB/s]\u001b[A\n",
      "Dl Completed...:   0%|                                                                         | 0/1 [00:06<?, ? url/s]\u001b[A\n",
      "Dl Completed...:   0%|                                                                         | 0/1 [00:06<?, ? url/s]\u001b[A\n",
      "Dl Size...:  61%|█████████████████████████████████████████▋                          | 49/80 [00:06<00:03,  9.92 MiB/s]\u001b[A\n",
      "Dl Completed...:   0%|                                                                         | 0/1 [00:06<?, ? url/s]\u001b[A\n",
      "Dl Completed...:   0%|                                                                         | 0/1 [00:06<?, ? url/s]\u001b[A\n",
      "Dl Completed...:   0%|                                                                         | 0/1 [00:06<?, ? url/s]\u001b[A\n",
      "Dl Size...:  65%|████████████████████████████████████████████▏                       | 52/80 [00:06<00:02,  9.68 MiB/s]\u001b[A\n",
      "Dl Completed...:   0%|                                                                         | 0/1 [00:07<?, ? url/s]\u001b[A\n",
      "Dl Completed...:   0%|                                                                         | 0/1 [00:07<?, ? url/s]\u001b[A\n",
      "Dl Size...:  68%|█████████████████████████████████████████████▉                      | 54/80 [00:07<00:02, 12.35 MiB/s]\u001b[A\n",
      "Dl Completed...:   0%|                                                                         | 0/1 [00:07<?, ? url/s]\u001b[A\n",
      "Dl Completed...:   0%|                                                                         | 0/1 [00:07<?, ? url/s]\u001b[A\n",
      "Dl Size...:  70%|███████████████████████████████████████████████▌                    | 56/80 [00:07<00:02, 11.53 MiB/s]\u001b[A\n",
      "Dl Completed...:   0%|                                                                         | 0/1 [00:07<?, ? url/s]\u001b[A\n",
      "Dl Completed...:   0%|                                                                         | 0/1 [00:07<?, ? url/s]\u001b[A\n",
      "Dl Size...:  72%|█████████████████████████████████████████████████▎                  | 58/80 [00:07<00:01, 12.03 MiB/s]\u001b[A\n",
      "Dl Completed...:   0%|                                                                         | 0/1 [00:07<?, ? url/s]\u001b[A\n",
      "Dl Completed...:   0%|                                                                         | 0/1 [00:07<?, ? url/s]\u001b[A\n",
      "Dl Size...:  75%|███████████████████████████████████████████████████                 | 60/80 [00:07<00:01, 12.77 MiB/s]\u001b[A\n",
      "Dl Completed...:   0%|                                                                         | 0/1 [00:07<?, ? url/s]\u001b[A\n",
      "Dl Completed...:   0%|                                                                         | 0/1 [00:07<?, ? url/s]\u001b[A\n",
      "Dl Size...:  78%|████████████████████████████████████████████████████▋               | 62/80 [00:07<00:01, 12.96 MiB/s]\u001b[A\n",
      "Dl Completed...:   0%|                                                                         | 0/1 [00:07<?, ? url/s]\u001b[A\n",
      "Dl Completed...:   0%|                                                                         | 0/1 [00:07<?, ? url/s]\u001b[A\n",
      "Dl Size...:  80%|██████████████████████████████████████████████████████▍             | 64/80 [00:07<00:01, 10.29 MiB/s]\u001b[A\n",
      "Dl Completed...:   0%|                                                                         | 0/1 [00:08<?, ? url/s]\u001b[A\n",
      "Dl Completed...:   0%|                                                                         | 0/1 [00:08<?, ? url/s]\u001b[A\n",
      "Dl Size...:  82%|████████████████████████████████████████████████████████            | 66/80 [00:08<00:01, 10.62 MiB/s]\u001b[A\n",
      "Dl Completed...:   0%|                                                                         | 0/1 [00:08<?, ? url/s]\u001b[A\n",
      "Dl Completed...:   0%|                                                                         | 0/1 [00:08<?, ? url/s]\u001b[A\n",
      "Dl Size...:  85%|█████████████████████████████████████████████████████████▊          | 68/80 [00:08<00:01, 11.82 MiB/s]\u001b[A\n",
      "Dl Completed...:   0%|                                                                         | 0/1 [00:08<?, ? url/s]\u001b[A\n",
      "Dl Completed...:   0%|                                                                         | 0/1 [00:08<?, ? url/s]\u001b[A\n",
      "Dl Size...:  88%|███████████████████████████████████████████████████████████▌        | 70/80 [00:08<00:00, 12.31 MiB/s]\u001b[A\n",
      "Dl Completed...:   0%|                                                                         | 0/1 [00:08<?, ? url/s]\u001b[A\n",
      "Dl Completed...:   0%|                                                                         | 0/1 [00:08<?, ? url/s]\u001b[A\n",
      "Dl Size...:  90%|█████████████████████████████████████████████████████████████▏      | 72/80 [00:08<00:00, 13.23 MiB/s]\u001b[A\n",
      "Dl Completed...:   0%|                                                                         | 0/1 [00:08<?, ? url/s]\u001b[A\n",
      "Dl Completed...:   0%|                                                                         | 0/1 [00:08<?, ? url/s]\u001b[A\n",
      "Dl Size...:  92%|██████████████████████████████████████████████████████████████▉     | 74/80 [00:08<00:00, 13.11 MiB/s]\u001b[A\n",
      "Dl Completed...:   0%|                                                                         | 0/1 [00:08<?, ? url/s]\u001b[A\n",
      "Dl Completed...:   0%|                                                                         | 0/1 [00:08<?, ? url/s]\u001b[A\n",
      "Dl Size...:  95%|████████████████████████████████████████████████████████████████▌   | 76/80 [00:08<00:00, 13.08 MiB/s]\u001b[A\n",
      "Dl Completed...:   0%|                                                                         | 0/1 [00:08<?, ? url/s]\u001b[A\n",
      "Dl Completed...:   0%|                                                                         | 0/1 [00:09<?, ? url/s]\u001b[A\n",
      "Dl Size...:  98%|██████████████████████████████████████████████████████████████████▎ | 78/80 [00:09<00:00, 13.93 MiB/s]\u001b[A\n",
      "Dl Completed...:   0%|                                                                         | 0/1 [00:09<?, ? url/s]\u001b[A\n",
      "Dl Completed...:   0%|                                                                         | 0/1 [00:09<?, ? url/s]\u001b[A\n",
      "Dl Completed...: 100%|█████████████████████████████████████████████████████████████████| 1/1 [00:09<00:00,  9.53s/ url]\u001b[A\n",
      "Dl Size...: 100%|████████████████████████████████████████████████████████████████████| 80/80 [00:09<00:00,  8.39 MiB/s]\u001b[A\n",
      "Dl Completed...: 100%|█████████████████████████████████████████████████████████████████| 1/1 [00:09<00:00,  9.54s/ url]\n",
      "Generating splits...:   0%|                                                                 | 0/3 [00:00<?, ? splits/s]\n",
      "Generating train examples...: 0 examples [00:00, ? examples/s]\u001b[A\n",
      "Generating train examples...: 1 examples [00:01,  1.69s/ examples]\u001b[A\n",
      "Generating train examples...: 287 examples [00:01, 223.01 examples/s]\u001b[A\n",
      "Generating train examples...: 580 examples [00:01, 493.23 examples/s]\u001b[A\n",
      "Generating train examples...: 871 examples [00:01, 795.08 examples/s]\u001b[A\n",
      "Generating train examples...: 1167 examples [00:02, 1121.18 examples/s]\u001b[A\n",
      "Generating train examples...: 1460 examples [00:02, 1442.45 examples/s]\u001b[A\n",
      "Generating train examples...: 1758 examples [00:02, 1750.08 examples/s]\u001b[A\n",
      "Generating train examples...: 2053 examples [00:02, 2016.06 examples/s]\u001b[A\n",
      "Generating train examples...: 2349 examples [00:02, 2239.18 examples/s]\u001b[A\n",
      "Generating train examples...: 2646 examples [00:02, 2420.45 examples/s]\u001b[A\n"
     ]
    },
    {
     "name": "stderr",
     "output_type": "stream",
     "text": [
      "Generating train examples...: 2942 examples [00:02, 2560.21 examples/s]\u001b[A\n",
      "Generating train examples...: 3237 examples [00:02, 2660.82 examples/s]\u001b[A\n",
      "Generating train examples...: 3533 examples [00:02, 2737.59 examples/s]\u001b[A\n",
      "Generating train examples...: 3851 examples [00:03, 2802.18 examples/s]\u001b[A\n",
      "Generating train examples...: 4145 examples [00:03, 2838.76 examples/s]\u001b[A\n",
      "Generating train examples...: 4460 examples [00:03, 2870.32 examples/s]\u001b[A\n",
      "Generating train examples...: 4755 examples [00:03, 2887.22 examples/s]\u001b[A\n",
      "Generating train examples...: 5050 examples [00:03, 2898.82 examples/s]\u001b[A\n",
      "Generating train examples...: 5344 examples [00:03, 2910.91 examples/s]\u001b[A\n",
      "Generating train examples...: 5640 examples [00:03, 2916.79 examples/s]\u001b[A\n",
      "Generating train examples...: 5943 examples [00:03, 2920.29 examples/s]\u001b[A\n",
      "Generating train examples...: 6255 examples [00:03, 2919.96 examples/s]\u001b[A\n",
      "Generating train examples...: 6555 examples [00:03, 2936.95 examples/s]\u001b[A\n",
      "Generating train examples...: 6850 examples [00:04, 2932.15 examples/s]\u001b[A\n",
      "Generating train examples...: 7145 examples [00:04, 2932.18 examples/s]\u001b[A\n",
      "Generating train examples...: 7439 examples [00:04, 2934.25 examples/s]\u001b[A\n",
      "Generating train examples...: 7733 examples [00:04, 2935.96 examples/s]\u001b[A\n",
      "Generating train examples...: 8027 examples [00:04, 2935.72 examples/s]\u001b[A\n",
      "Generating train examples...: 8323 examples [00:04, 2934.23 examples/s]\u001b[A\n",
      "Generating train examples...: 8619 examples [00:04, 2939.08 examples/s]\u001b[A\n",
      "Generating train examples...: 8943 examples [00:04, 2947.21 examples/s]\u001b[A\n",
      "Generating train examples...: 9263 examples [00:04, 2951.86 examples/s]\u001b[A\n",
      "Generating train examples...: 9586 examples [00:04, 2956.02 examples/s]\u001b[A\n",
      "Generating train examples...: 9901 examples [00:05, 2957.38 examples/s]\u001b[A\n",
      "Generating train examples...: 10198 examples [00:05, 2959.07 examples/s]\u001b[A\n",
      "Generating train examples...: 10524 examples [00:05, 2963.21 examples/s]\u001b[A\n",
      "Generating train examples...: 10837 examples [00:05, 2947.75 examples/s]\u001b[A\n",
      "Generating train examples...: 11132 examples [00:05, 2947.16 examples/s]\u001b[A\n",
      "Generating train examples...: 11428 examples [00:05, 2950.88 examples/s]\u001b[A\n",
      "Generating train examples...: 11725 examples [00:05, 2953.80 examples/s]\u001b[A\n",
      "Generating train examples...: 12022 examples [00:05, 2949.91 examples/s]\u001b[A\n",
      "Generating train examples...: 12346 examples [00:05, 2956.29 examples/s]\u001b[A\n",
      "Generating train examples...: 12643 examples [00:05, 2953.60 examples/s]\u001b[A\n",
      "Generating train examples...: 12940 examples [00:06, 2958.37 examples/s]\u001b[A\n",
      "Generating train examples...: 13246 examples [00:06, 2961.95 examples/s]\u001b[A\n",
      "Generating train examples...: 13548 examples [00:06, 2960.40 examples/s]\u001b[A\n",
      "Generating train examples...: 13848 examples [00:06, 2963.58 examples/s]\u001b[A\n",
      "Generating train examples...: 14145 examples [00:06, 2956.73 examples/s]\u001b[A\n",
      "Generating train examples...: 14442 examples [00:06, 2960.66 examples/s]\u001b[A\n",
      "Generating train examples...: 14740 examples [00:06, 2957.87 examples/s]\u001b[A\n",
      "Generating train examples...: 15036 examples [00:06, 2958.25 examples/s]\u001b[A\n",
      "Generating train examples...: 15339 examples [00:06, 2952.03 examples/s]\u001b[A\n",
      "Generating train examples...: 15654 examples [00:07, 2951.87 examples/s]\u001b[A\n",
      "Generating train examples...: 15950 examples [00:07, 2953.10 examples/s]\u001b[A\n",
      "Generating train examples...: 16246 examples [00:07, 2946.45 examples/s]\u001b[A\n",
      "Generating train examples...: 16542 examples [00:07, 2950.46 examples/s]\u001b[A\n",
      "Generating train examples...: 16845 examples [00:07, 2955.19 examples/s]\u001b[A\n",
      "Generating train examples...: 17144 examples [00:07, 2960.88 examples/s]\u001b[A\n",
      "Generating train examples...: 17441 examples [00:07, 2963.56 examples/s]\u001b[A\n",
      "Generating train examples...: 17738 examples [00:07, 2956.72 examples/s]\u001b[A\n",
      "Generating train examples...: 18037 examples [00:07, 2950.74 examples/s]\u001b[A\n",
      "Generating train examples...: 18353 examples [00:07, 2953.60 examples/s]\u001b[A\n",
      "Generating train examples...: 18655 examples [00:08, 2965.96 examples/s]\u001b[A\n",
      "Generating train examples...: 18955 examples [00:08, 2967.18 examples/s]\u001b[A\n",
      "Generating train examples...: 19254 examples [00:08, 2965.22 examples/s]\u001b[A\n",
      "Generating train examples...: 19552 examples [00:08, 2960.84 examples/s]\u001b[A\n",
      "Generating train examples...: 19851 examples [00:08, 2960.94 examples/s]\u001b[A\n",
      "Generating train examples...: 20157 examples [00:08, 2962.70 examples/s]\u001b[A\n",
      "Generating train examples...: 20467 examples [00:08, 2957.36 examples/s]\u001b[A\n",
      "Generating train examples...: 20765 examples [00:08, 2953.31 examples/s]\u001b[A\n",
      "Generating train examples...: 21090 examples [00:08, 2958.65 examples/s]\u001b[A\n",
      "Generating train examples...: 21392 examples [00:08, 2962.50 examples/s]\u001b[A\n",
      "Generating train examples...: 21690 examples [00:09, 2963.63 examples/s]\u001b[A\n",
      "Generating train examples...: 21987 examples [00:09, 2959.36 examples/s]\u001b[A\n",
      "Generating train examples...: 22283 examples [00:09, 2770.63 examples/s]\u001b[A\n",
      "Generating train examples...: 22563 examples [00:09, 2777.83 examples/s]\u001b[A\n",
      "Generating train examples...: 22858 examples [00:09, 2821.40 examples/s]\u001b[A\n",
      "Generating train examples...: 23183 examples [00:09, 2869.03 examples/s]\u001b[A\n",
      "Generating train examples...: 23477 examples [00:09, 2885.73 examples/s]\u001b[A\n",
      "Generating train examples...: 23800 examples [00:09, 2904.71 examples/s]\u001b[A\n",
      "Generating train examples...: 24116 examples [00:09, 2922.66 examples/s]\u001b[A\n",
      "Generating train examples...: 24421 examples [00:10, 2931.09 examples/s]\u001b[A\n",
      "Generating train examples...: 24738 examples [00:10, 2943.31 examples/s]\u001b[A\n",
      "                                                                        \u001b[A\n",
      "Shuffling C:\\Users\\18617\\tensorflow_datasets\\imdb_reviews\\plain_text\\1.0.0.incompleteLTY9F6\\imdb_reviews-train.tfrecord\u001b[A\n",
      "Shuffling C:\\Users\\18617\\tensorflow_datasets\\imdb_reviews\\plain_text\\1.0.0.incompleteLTY9F6\\imdb_reviews-train.tfrecord\u001b[A\n",
      "Shuffling C:\\Users\\18617\\tensorflow_datasets\\imdb_reviews\\plain_text\\1.0.0.incompleteLTY9F6\\imdb_reviews-train.tfrecord\u001b[A\n",
      "Shuffling C:\\Users\\18617\\tensorflow_datasets\\imdb_reviews\\plain_text\\1.0.0.incompleteLTY9F6\\imdb_reviews-train.tfrecord\u001b[A\n",
      "Shuffling C:\\Users\\18617\\tensorflow_datasets\\imdb_reviews\\plain_text\\1.0.0.incompleteLTY9F6\\imdb_reviews-train.tfrecord\u001b[A\n",
      "Generating splits...:  33%|███████████████████                                      | 1/3 [00:13<00:27, 13.56s/ splits]\u001b[A\n",
      "Generating test examples...: 0 examples [00:00, ? examples/s]\u001b[A\n",
      "Generating test examples...: 1 examples [00:00,  2.84 examples/s]\u001b[A\n",
      "Generating test examples...: 306 examples [00:00, 871.85 examples/s]\u001b[A\n",
      "Generating test examples...: 612 examples [00:00, 1489.21 examples/s]\u001b[A\n",
      "Generating test examples...: 920 examples [00:00, 1931.05 examples/s]\u001b[A\n",
      "Generating test examples...: 1227 examples [00:00, 2239.52 examples/s]\u001b[A\n",
      "Generating test examples...: 1521 examples [00:00, 2443.26 examples/s]\u001b[A\n",
      "Generating test examples...: 1843 examples [00:00, 2607.40 examples/s]\u001b[A\n",
      "Generating test examples...: 2149 examples [00:01, 2709.70 examples/s]\u001b[A\n",
      "Generating test examples...: 2453 examples [00:01, 2772.92 examples/s]\u001b[A\n",
      "Generating test examples...: 2752 examples [00:01, 2830.81 examples/s]\u001b[A\n",
      "Generating test examples...: 3044 examples [00:01, 2852.33 examples/s]\u001b[A\n",
      "Generating test examples...: 3336 examples [00:01, 2860.63 examples/s]\u001b[A\n",
      "Generating test examples...: 3627 examples [00:01, 2707.16 examples/s]\u001b[A\n",
      "Generating test examples...: 3916 examples [00:01, 2758.93 examples/s]\u001b[A\n",
      "Generating test examples...: 4210 examples [00:01, 2810.83 examples/s]\u001b[A\n",
      "Generating test examples...: 4505 examples [00:01, 2845.77 examples/s]\u001b[A\n",
      "Generating test examples...: 4798 examples [00:02, 2867.34 examples/s]\u001b[A\n",
      "Generating test examples...: 5093 examples [00:02, 2883.68 examples/s]\u001b[A\n",
      "Generating test examples...: 5388 examples [00:02, 2900.67 examples/s]\u001b[A\n",
      "Generating test examples...: 5713 examples [00:02, 2917.62 examples/s]\u001b[A\n",
      "Generating test examples...: 6006 examples [00:02, 2915.49 examples/s]\u001b[A\n",
      "Generating test examples...: 6303 examples [00:02, 2922.92 examples/s]\u001b[A\n",
      "Generating test examples...: 6596 examples [00:02, 2916.66 examples/s]\u001b[A\n",
      "Generating test examples...: 6891 examples [00:02, 2920.72 examples/s]\u001b[A\n"
     ]
    },
    {
     "name": "stderr",
     "output_type": "stream",
     "text": [
      "Generating test examples...: 7199 examples [00:02, 2939.26 examples/s]\u001b[A\n",
      "Generating test examples...: 7511 examples [00:02, 2930.68 examples/s]\u001b[A\n",
      "Generating test examples...: 7815 examples [00:03, 2933.81 examples/s]\u001b[A\n",
      "Generating test examples...: 8120 examples [00:03, 2932.36 examples/s]\u001b[A\n",
      "Generating test examples...: 8426 examples [00:03, 2931.41 examples/s]\u001b[A\n",
      "Generating test examples...: 8732 examples [00:03, 2931.90 examples/s]\u001b[A\n",
      "Generating test examples...: 9034 examples [00:03, 2928.77 examples/s]\u001b[A\n",
      "Generating test examples...: 9346 examples [00:03, 2935.27 examples/s]\u001b[A\n",
      "Generating test examples...: 9650 examples [00:03, 2941.48 examples/s]\u001b[A\n",
      "Generating test examples...: 9962 examples [00:03, 2948.48 examples/s]\u001b[A\n",
      "Generating test examples...: 10265 examples [00:03, 2945.70 examples/s]\u001b[A\n",
      "Generating test examples...: 10589 examples [00:03, 2952.91 examples/s]\u001b[A\n",
      "Generating test examples...: 10896 examples [00:04, 2947.88 examples/s]\u001b[A\n",
      "Generating test examples...: 11201 examples [00:04, 2947.38 examples/s]\u001b[A\n",
      "Generating test examples...: 11511 examples [00:04, 2953.30 examples/s]\u001b[A\n",
      "Generating test examples...: 11810 examples [00:04, 2939.76 examples/s]\u001b[A\n",
      "Generating test examples...: 12118 examples [00:04, 2951.02 examples/s]\u001b[A\n",
      "Generating test examples...: 12423 examples [00:04, 2950.13 examples/s]\u001b[A\n",
      "Generating test examples...: 12729 examples [00:04, 2957.93 examples/s]\u001b[A\n",
      "Generating test examples...: 13031 examples [00:04, 2948.18 examples/s]\u001b[A\n",
      "Generating test examples...: 13348 examples [00:04, 2944.41 examples/s]\u001b[A\n",
      "Generating test examples...: 13655 examples [00:05, 2943.51 examples/s]\u001b[A\n",
      "Generating test examples...: 13958 examples [00:05, 2941.60 examples/s]\u001b[A\n",
      "Generating test examples...: 14276 examples [00:05, 2936.62 examples/s]\u001b[A\n",
      "Generating test examples...: 14590 examples [00:05, 2938.72 examples/s]\u001b[A\n",
      "Generating test examples...: 14894 examples [00:05, 2943.83 examples/s]\u001b[A\n",
      "Generating test examples...: 15215 examples [00:05, 2936.11 examples/s]\u001b[A\n",
      "Generating test examples...: 15517 examples [00:05, 2922.40 examples/s]\u001b[A\n",
      "Generating test examples...: 15839 examples [00:05, 2936.13 examples/s]\u001b[A\n",
      "Generating test examples...: 16139 examples [00:05, 2946.14 examples/s]\u001b[A\n",
      "Generating test examples...: 16442 examples [00:05, 2942.11 examples/s]\u001b[A\n",
      "Generating test examples...: 16744 examples [00:06, 2938.16 examples/s]\u001b[A\n",
      "Generating test examples...: 17038 examples [00:06, 2928.63 examples/s]\u001b[A\n",
      "Generating test examples...: 17340 examples [00:06, 2930.18 examples/s]\u001b[A\n",
      "Generating test examples...: 17645 examples [00:06, 2936.32 examples/s]\u001b[A\n",
      "Generating test examples...: 17952 examples [00:06, 2929.99 examples/s]\u001b[A\n",
      "Generating test examples...: 18258 examples [00:06, 2939.51 examples/s]\u001b[A\n",
      "Generating test examples...: 18562 examples [00:06, 2941.22 examples/s]\u001b[A\n",
      "Generating test examples...: 18867 examples [00:06, 2945.71 examples/s]\u001b[A\n",
      "Generating test examples...: 19175 examples [00:06, 2944.17 examples/s]\u001b[A\n",
      "Generating test examples...: 19472 examples [00:06, 2943.75 examples/s]\u001b[A\n",
      "Generating test examples...: 19776 examples [00:07, 2947.72 examples/s]\u001b[A\n",
      "Generating test examples...: 20082 examples [00:07, 2953.03 examples/s]\u001b[A\n",
      "Generating test examples...: 20390 examples [00:07, 2954.18 examples/s]\u001b[A\n",
      "Generating test examples...: 20701 examples [00:07, 2953.25 examples/s]\u001b[A\n",
      "Generating test examples...: 21007 examples [00:07, 2953.67 examples/s]\u001b[A\n",
      "Generating test examples...: 21311 examples [00:07, 2947.59 examples/s]\u001b[A\n",
      "Generating test examples...: 21619 examples [00:07, 2946.58 examples/s]\u001b[A\n",
      "Generating test examples...: 21924 examples [00:07, 2951.40 examples/s]\u001b[A\n",
      "Generating test examples...: 22229 examples [00:07, 2950.09 examples/s]\u001b[A\n",
      "Generating test examples...: 22532 examples [00:08, 2944.21 examples/s]\u001b[A\n",
      "Generating test examples...: 22839 examples [00:08, 2945.69 examples/s]\u001b[A\n",
      "Generating test examples...: 23144 examples [00:08, 2947.15 examples/s]\u001b[A\n",
      "Generating test examples...: 23455 examples [00:08, 2959.90 examples/s]\u001b[A\n",
      "Generating test examples...: 23764 examples [00:08, 2967.59 examples/s]\u001b[A\n",
      "Generating test examples...: 24073 examples [00:08, 2972.68 examples/s]\u001b[A\n",
      "Generating test examples...: 24376 examples [00:08, 2958.49 examples/s]\u001b[A\n",
      "Generating test examples...: 24688 examples [00:08, 2953.19 examples/s]\u001b[A\n",
      "Generating test examples...: 24994 examples [00:08, 2954.06 examples/s]\u001b[A\n",
      "                                                                       \u001b[A\n",
      "Shuffling C:\\Users\\18617\\tensorflow_datasets\\imdb_reviews\\plain_text\\1.0.0.incompleteLTY9F6\\imdb_reviews-test.tfrecord*\u001b[A\n",
      "Shuffling C:\\Users\\18617\\tensorflow_datasets\\imdb_reviews\\plain_text\\1.0.0.incompleteLTY9F6\\imdb_reviews-test.tfrecord*\u001b[A\n",
      "Shuffling C:\\Users\\18617\\tensorflow_datasets\\imdb_reviews\\plain_text\\1.0.0.incompleteLTY9F6\\imdb_reviews-test.tfrecord*\u001b[A\n",
      "Shuffling C:\\Users\\18617\\tensorflow_datasets\\imdb_reviews\\plain_text\\1.0.0.incompleteLTY9F6\\imdb_reviews-test.tfrecord*\u001b[A\n",
      "Shuffling C:\\Users\\18617\\tensorflow_datasets\\imdb_reviews\\plain_text\\1.0.0.incompleteLTY9F6\\imdb_reviews-test.tfrecord*\u001b[A\n",
      "Generating splits...:  67%|██████████████████████████████████████                   | 2/3 [00:26<00:13, 13.46s/ splits]\u001b[A\n",
      "Generating unsupervised examples...: 0 examples [00:00, ? examples/s]\u001b[A\n",
      "Generating unsupervised examples...: 1 examples [00:03,  3.13s/ examples]\u001b[A\n",
      "Generating unsupervised examples...: 293 examples [00:03, 127.75 examples/s]\u001b[A\n",
      "Generating unsupervised examples...: 595 examples [00:03, 297.29 examples/s]\u001b[A\n",
      "Generating unsupervised examples...: 893 examples [00:03, 504.32 examples/s]\u001b[A\n",
      "Generating unsupervised examples...: 1188 examples [00:03, 747.38 examples/s]\u001b[A\n",
      "Generating unsupervised examples...: 1484 examples [00:03, 1021.21 examples/s]\u001b[A\n",
      "Generating unsupervised examples...: 1776 examples [00:03, 1307.00 examples/s]\u001b[A\n",
      "Generating unsupervised examples...: 2076 examples [00:03, 1602.48 examples/s]\u001b[A\n",
      "Generating unsupervised examples...: 2383 examples [00:03, 1878.74 examples/s]\u001b[A\n",
      "Generating unsupervised examples...: 2701 examples [00:04, 2128.59 examples/s]\u001b[A\n",
      "Generating unsupervised examples...: 3020 examples [00:04, 2333.96 examples/s]\u001b[A\n",
      "Generating unsupervised examples...: 3337 examples [00:04, 2497.08 examples/s]\u001b[A\n",
      "Generating unsupervised examples...: 3637 examples [00:04, 2618.65 examples/s]\u001b[A\n",
      "Generating unsupervised examples...: 3934 examples [00:04, 2712.08 examples/s]\u001b[A\n",
      "Generating unsupervised examples...: 4230 examples [00:04, 2770.74 examples/s]\u001b[A\n",
      "Generating unsupervised examples...: 4525 examples [00:04, 2819.85 examples/s]\u001b[A\n",
      "Generating unsupervised examples...: 4821 examples [00:04, 2853.90 examples/s]\u001b[A\n",
      "Generating unsupervised examples...: 5144 examples [00:04, 2887.62 examples/s]\u001b[A\n",
      "Generating unsupervised examples...: 5441 examples [00:04, 2909.17 examples/s]\u001b[A\n",
      "Generating unsupervised examples...: 5738 examples [00:05, 2920.33 examples/s]\u001b[A\n",
      "Generating unsupervised examples...: 6034 examples [00:05, 2928.89 examples/s]\u001b[A\n",
      "Generating unsupervised examples...: 6329 examples [00:05, 2935.11 examples/s]\u001b[A\n",
      "Generating unsupervised examples...: 6626 examples [00:05, 2936.76 examples/s]\u001b[A\n",
      "Generating unsupervised examples...: 6921 examples [00:05, 2940.69 examples/s]\u001b[A\n",
      "Generating unsupervised examples...: 7218 examples [00:05, 2944.57 examples/s]\u001b[A\n",
      "Generating unsupervised examples...: 7514 examples [00:05, 2940.41 examples/s]\u001b[A\n",
      "Generating unsupervised examples...: 7825 examples [00:05, 2938.07 examples/s]\u001b[A\n",
      "Generating unsupervised examples...: 8123 examples [00:05, 2944.73 examples/s]\u001b[A\n",
      "Generating unsupervised examples...: 8422 examples [00:05, 2949.66 examples/s]\u001b[A\n",
      "Generating unsupervised examples...: 8734 examples [00:06, 2955.78 examples/s]\u001b[A\n",
      "Generating unsupervised examples...: 9030 examples [00:06, 2926.28 examples/s]\u001b[A\n",
      "Generating unsupervised examples...: 9323 examples [00:06, 2927.14 examples/s]\u001b[A\n",
      "Generating unsupervised examples...: 9647 examples [00:06, 2935.13 examples/s]\u001b[A\n",
      "Generating unsupervised examples...: 9945 examples [00:06, 2940.15 examples/s]\u001b[A\n",
      "Generating unsupervised examples...: 10241 examples [00:06, 2945.96 examples/s]\u001b[A\n"
     ]
    },
    {
     "name": "stderr",
     "output_type": "stream",
     "text": [
      "Generating unsupervised examples...: 10538 examples [00:06, 2944.37 examples/s]\u001b[A\n",
      "Generating unsupervised examples...: 10833 examples [00:06, 2946.03 examples/s]\u001b[A\n",
      "Generating unsupervised examples...: 11132 examples [00:06, 2950.35 examples/s]\u001b[A\n",
      "Generating unsupervised examples...: 11444 examples [00:07, 2952.75 examples/s]\u001b[A\n",
      "Generating unsupervised examples...: 11740 examples [00:07, 2954.85 examples/s]\u001b[A\n",
      "Generating unsupervised examples...: 12037 examples [00:07, 2953.83 examples/s]\u001b[A\n",
      "Generating unsupervised examples...: 12335 examples [00:07, 2952.83 examples/s]\u001b[A\n",
      "Generating unsupervised examples...: 12645 examples [00:07, 2951.72 examples/s]\u001b[A\n",
      "Generating unsupervised examples...: 12941 examples [00:07, 2952.33 examples/s]\u001b[A\n",
      "Generating unsupervised examples...: 13238 examples [00:07, 2948.83 examples/s]\u001b[A\n",
      "Generating unsupervised examples...: 13535 examples [00:07, 2946.36 examples/s]\u001b[A\n",
      "Generating unsupervised examples...: 13831 examples [00:07, 2947.32 examples/s]\u001b[A\n",
      "Generating unsupervised examples...: 14130 examples [00:07, 2951.27 examples/s]\u001b[A\n",
      "Generating unsupervised examples...: 14426 examples [00:08, 2945.10 examples/s]\u001b[A\n",
      "Generating unsupervised examples...: 14741 examples [00:08, 2944.80 examples/s]\u001b[A\n",
      "Generating unsupervised examples...: 15046 examples [00:08, 2946.98 examples/s]\u001b[A\n",
      "Generating unsupervised examples...: 15343 examples [00:08, 2948.58 examples/s]\u001b[A\n",
      "Generating unsupervised examples...: 15640 examples [00:08, 2950.56 examples/s]\u001b[A\n",
      "Generating unsupervised examples...: 15954 examples [00:08, 2944.20 examples/s]\u001b[A\n",
      "Generating unsupervised examples...: 16249 examples [00:08, 2945.63 examples/s]\u001b[A\n",
      "Generating unsupervised examples...: 16548 examples [00:08, 2940.51 examples/s]\u001b[A\n",
      "Generating unsupervised examples...: 16851 examples [00:08, 2941.53 examples/s]\u001b[A\n",
      "Generating unsupervised examples...: 17171 examples [00:08, 2948.68 examples/s]\u001b[A\n",
      "Generating unsupervised examples...: 17466 examples [00:09, 2914.95 examples/s]\u001b[A\n",
      "Generating unsupervised examples...: 17760 examples [00:09, 2913.77 examples/s]\u001b[A\n",
      "Generating unsupervised examples...: 18063 examples [00:09, 2927.34 examples/s]\u001b[A\n",
      "Generating unsupervised examples...: 18361 examples [00:09, 2942.72 examples/s]\u001b[A\n",
      "Generating unsupervised examples...: 18670 examples [00:09, 2945.83 examples/s]\u001b[A\n",
      "Generating unsupervised examples...: 18965 examples [00:09, 2946.94 examples/s]\u001b[A\n",
      "Generating unsupervised examples...: 19260 examples [00:09, 2942.69 examples/s]\u001b[A\n",
      "Generating unsupervised examples...: 19577 examples [00:09, 2937.67 examples/s]\u001b[A\n",
      "Generating unsupervised examples...: 19871 examples [00:09, 2938.05 examples/s]\u001b[A\n",
      "Generating unsupervised examples...: 20190 examples [00:09, 2945.31 examples/s]\u001b[A\n",
      "Generating unsupervised examples...: 20487 examples [00:10, 2949.58 examples/s]\u001b[A\n",
      "Generating unsupervised examples...: 20782 examples [00:10, 2944.09 examples/s]\u001b[A\n",
      "Generating unsupervised examples...: 21078 examples [00:10, 2948.53 examples/s]\u001b[A\n",
      "Generating unsupervised examples...: 21374 examples [00:10, 2950.48 examples/s]\u001b[A\n",
      "Generating unsupervised examples...: 21670 examples [00:10, 2953.02 examples/s]\u001b[A\n",
      "Generating unsupervised examples...: 21966 examples [00:10, 2948.61 examples/s]\u001b[A\n",
      "Generating unsupervised examples...: 22261 examples [00:10, 2940.21 examples/s]\u001b[A\n",
      "Generating unsupervised examples...: 22556 examples [00:10, 2925.98 examples/s]\u001b[A\n",
      "Generating unsupervised examples...: 22853 examples [00:10, 2936.52 examples/s]\u001b[A\n",
      "Generating unsupervised examples...: 23152 examples [00:10, 2945.39 examples/s]\u001b[A\n",
      "Generating unsupervised examples...: 23447 examples [00:11, 2946.76 examples/s]\u001b[A\n",
      "Generating unsupervised examples...: 23745 examples [00:11, 2947.88 examples/s]\u001b[A\n",
      "Generating unsupervised examples...: 24043 examples [00:11, 2948.92 examples/s]\u001b[A\n",
      "Generating unsupervised examples...: 24338 examples [00:11, 2949.00 examples/s]\u001b[A\n",
      "Generating unsupervised examples...: 24633 examples [00:11, 2949.29 examples/s]\u001b[A\n",
      "Generating unsupervised examples...: 24929 examples [00:11, 2943.68 examples/s]\u001b[A\n",
      "Generating unsupervised examples...: 25231 examples [00:11, 2947.61 examples/s]\u001b[A\n",
      "Generating unsupervised examples...: 25528 examples [00:11, 2951.37 examples/s]\u001b[A\n",
      "Generating unsupervised examples...: 25824 examples [00:11, 2953.94 examples/s]\u001b[A\n",
      "Generating unsupervised examples...: 26120 examples [00:11, 2951.55 examples/s]\u001b[A\n",
      "Generating unsupervised examples...: 26436 examples [00:12, 2943.69 examples/s]\u001b[A\n",
      "Generating unsupervised examples...: 26733 examples [00:12, 2942.85 examples/s]\u001b[A\n",
      "Generating unsupervised examples...: 27028 examples [00:12, 2944.93 examples/s]\u001b[A\n",
      "Generating unsupervised examples...: 27327 examples [00:12, 2949.58 examples/s]\u001b[A\n",
      "Generating unsupervised examples...: 27628 examples [00:12, 2949.03 examples/s]\u001b[A\n",
      "Generating unsupervised examples...: 27936 examples [00:12, 2958.77 examples/s]\u001b[A\n",
      "Generating unsupervised examples...: 28232 examples [00:12, 2954.85 examples/s]\u001b[A\n",
      "Generating unsupervised examples...: 28528 examples [00:12, 2956.12 examples/s]\u001b[A\n",
      "Generating unsupervised examples...: 28825 examples [00:12, 2951.48 examples/s]\u001b[A\n",
      "Generating unsupervised examples...: 29133 examples [00:13, 2950.53 examples/s]\u001b[A\n",
      "Generating unsupervised examples...: 29429 examples [00:13, 2947.34 examples/s]\u001b[A\n",
      "Generating unsupervised examples...: 29724 examples [00:13, 2934.93 examples/s]\u001b[A\n",
      "Generating unsupervised examples...: 30018 examples [00:13, 2936.43 examples/s]\u001b[A\n",
      "Generating unsupervised examples...: 30330 examples [00:13, 2923.75 examples/s]\u001b[A\n",
      "Generating unsupervised examples...: 30623 examples [00:13, 2924.37 examples/s]\u001b[A\n",
      "Generating unsupervised examples...: 30916 examples [00:13, 2917.42 examples/s]\u001b[A\n",
      "Generating unsupervised examples...: 31208 examples [00:13, 2909.56 examples/s]\u001b[A\n",
      "Generating unsupervised examples...: 31515 examples [00:13, 2913.44 examples/s]\u001b[A\n",
      "Generating unsupervised examples...: 31825 examples [00:13, 2915.46 examples/s]\u001b[A\n",
      "Generating unsupervised examples...: 32117 examples [00:14, 2911.90 examples/s]\u001b[A\n",
      "Generating unsupervised examples...: 32409 examples [00:14, 2914.28 examples/s]\u001b[A\n",
      "Generating unsupervised examples...: 32701 examples [00:14, 2915.97 examples/s]\u001b[A\n",
      "Generating unsupervised examples...: 32994 examples [00:14, 2911.49 examples/s]\u001b[A\n",
      "Generating unsupervised examples...: 33315 examples [00:14, 2921.56 examples/s]\u001b[A\n",
      "Generating unsupervised examples...: 33610 examples [00:14, 2921.64 examples/s]\u001b[A\n",
      "Generating unsupervised examples...: 33903 examples [00:14, 2924.09 examples/s]\u001b[A\n",
      "Generating unsupervised examples...: 34196 examples [00:14, 2917.21 examples/s]\u001b[A\n",
      "Generating unsupervised examples...: 34504 examples [00:14, 2921.67 examples/s]\u001b[A\n",
      "Generating unsupervised examples...: 34804 examples [00:14, 2925.18 examples/s]\u001b[A\n",
      "Generating unsupervised examples...: 35097 examples [00:15, 2921.04 examples/s]\u001b[A\n",
      "Generating unsupervised examples...: 35391 examples [00:15, 2918.02 examples/s]\u001b[A\n",
      "Generating unsupervised examples...: 35685 examples [00:15, 2915.91 examples/s]\u001b[A\n",
      "Generating unsupervised examples...: 35992 examples [00:15, 2917.82 examples/s]\u001b[A\n",
      "Generating unsupervised examples...: 36286 examples [00:15, 2918.70 examples/s]\u001b[A\n",
      "Generating unsupervised examples...: 36581 examples [00:15, 2919.33 examples/s]\u001b[A\n",
      "Generating unsupervised examples...: 36873 examples [00:15, 2919.52 examples/s]\u001b[A\n",
      "Generating unsupervised examples...: 37165 examples [00:15, 2911.00 examples/s]\u001b[A\n",
      "Generating unsupervised examples...: 37459 examples [00:15, 2910.97 examples/s]\u001b[A\n",
      "Generating unsupervised examples...: 37751 examples [00:15, 2913.65 examples/s]\u001b[A\n",
      "Generating unsupervised examples...: 38046 examples [00:16, 2906.64 examples/s]\u001b[A\n",
      "Generating unsupervised examples...: 38341 examples [00:16, 2912.79 examples/s]\u001b[A\n",
      "Generating unsupervised examples...: 38633 examples [00:16, 2914.94 examples/s]\u001b[A\n",
      "Generating unsupervised examples...: 38926 examples [00:16, 2918.92 examples/s]\u001b[A\n",
      "Generating unsupervised examples...: 39218 examples [00:16, 2918.05 examples/s]\u001b[A\n",
      "Generating unsupervised examples...: 39511 examples [00:16, 2921.38 examples/s]\u001b[A\n"
     ]
    },
    {
     "name": "stderr",
     "output_type": "stream",
     "text": [
      "Generating unsupervised examples...: 39810 examples [00:16, 2921.55 examples/s]\u001b[A\n",
      "Generating unsupervised examples...: 40103 examples [00:16, 2912.61 examples/s]\u001b[A\n",
      "Generating unsupervised examples...: 40395 examples [00:16, 2906.39 examples/s]\u001b[A\n",
      "Generating unsupervised examples...: 40708 examples [00:16, 2906.45 examples/s]\u001b[A\n",
      "Generating unsupervised examples...: 41002 examples [00:17, 2907.89 examples/s]\u001b[A\n",
      "Generating unsupervised examples...: 41296 examples [00:17, 2912.05 examples/s]\u001b[A\n",
      "Generating unsupervised examples...: 41606 examples [00:17, 2915.40 examples/s]\u001b[A\n",
      "Generating unsupervised examples...: 41898 examples [00:17, 2908.10 examples/s]\u001b[A\n",
      "Generating unsupervised examples...: 42192 examples [00:17, 2908.93 examples/s]\u001b[A\n",
      "Generating unsupervised examples...: 42487 examples [00:17, 2911.94 examples/s]\u001b[A\n",
      "Generating unsupervised examples...: 42779 examples [00:17, 2913.29 examples/s]\u001b[A\n",
      "Generating unsupervised examples...: 43072 examples [00:17, 2909.61 examples/s]\u001b[A\n",
      "Generating unsupervised examples...: 43363 examples [00:17, 2909.72 examples/s]\u001b[A\n",
      "Generating unsupervised examples...: 43656 examples [00:18, 2907.12 examples/s]\u001b[A\n",
      "Generating unsupervised examples...: 43947 examples [00:18, 2907.96 examples/s]\u001b[A\n",
      "Generating unsupervised examples...: 44238 examples [00:18, 2908.57 examples/s]\u001b[A\n",
      "Generating unsupervised examples...: 44532 examples [00:18, 2910.88 examples/s]\u001b[A\n",
      "Generating unsupervised examples...: 44827 examples [00:18, 2913.87 examples/s]\u001b[A\n",
      "Generating unsupervised examples...: 45119 examples [00:18, 2907.00 examples/s]\u001b[A\n",
      "Generating unsupervised examples...: 45433 examples [00:18, 2910.14 examples/s]\u001b[A\n",
      "Generating unsupervised examples...: 45726 examples [00:18, 2907.64 examples/s]\u001b[A\n",
      "Generating unsupervised examples...: 46017 examples [00:18, 2908.34 examples/s]\u001b[A\n",
      "Generating unsupervised examples...: 46308 examples [00:18, 2891.67 examples/s]\u001b[A\n",
      "Generating unsupervised examples...: 46598 examples [00:19, 2885.61 examples/s]\u001b[A\n",
      "Generating unsupervised examples...: 46888 examples [00:19, 2882.70 examples/s]\u001b[A\n",
      "Generating unsupervised examples...: 47182 examples [00:19, 2891.16 examples/s]\u001b[A\n",
      "Generating unsupervised examples...: 47475 examples [00:19, 2900.48 examples/s]\u001b[A\n",
      "Generating unsupervised examples...: 47772 examples [00:19, 2912.52 examples/s]\u001b[A\n",
      "Generating unsupervised examples...: 48064 examples [00:19, 2911.49 examples/s]\u001b[A\n",
      "Generating unsupervised examples...: 48360 examples [00:19, 2917.26 examples/s]\u001b[A\n",
      "Generating unsupervised examples...: 48652 examples [00:19, 2918.08 examples/s]\u001b[A\n",
      "Generating unsupervised examples...: 48945 examples [00:19, 2912.94 examples/s]\u001b[A\n",
      "Generating unsupervised examples...: 49239 examples [00:19, 2912.32 examples/s]\u001b[A\n",
      "Generating unsupervised examples...: 49531 examples [00:20, 2897.34 examples/s]\u001b[A\n",
      "Generating unsupervised examples...: 49822 examples [00:20, 2901.09 examples/s]\u001b[A\n",
      "                                                                               \u001b[A\n",
      "Shuffling C:\\Users\\18617\\tensorflow_datasets\\imdb_reviews\\plain_text\\1.0.0.incompleteLTY9F6\\imdb_reviews-unsupervised.t\u001b[A\n",
      "Shuffling C:\\Users\\18617\\tensorflow_datasets\\imdb_reviews\\plain_text\\1.0.0.incompleteLTY9F6\\imdb_reviews-unsupervised.t\u001b[A\n",
      "Shuffling C:\\Users\\18617\\tensorflow_datasets\\imdb_reviews\\plain_text\\1.0.0.incompleteLTY9F6\\imdb_reviews-unsupervised.t\u001b[A\n",
      "Shuffling C:\\Users\\18617\\tensorflow_datasets\\imdb_reviews\\plain_text\\1.0.0.incompleteLTY9F6\\imdb_reviews-unsupervised.t\u001b[A\n",
      "Shuffling C:\\Users\\18617\\tensorflow_datasets\\imdb_reviews\\plain_text\\1.0.0.incompleteLTY9F6\\imdb_reviews-unsupervised.t\u001b[A\n",
      "Shuffling C:\\Users\\18617\\tensorflow_datasets\\imdb_reviews\\plain_text\\1.0.0.incompleteLTY9F6\\imdb_reviews-unsupervised.t\u001b[A\n",
      "Shuffling C:\\Users\\18617\\tensorflow_datasets\\imdb_reviews\\plain_text\\1.0.0.incompleteLTY9F6\\imdb_reviews-unsupervised.t\u001b[A\n",
      "Shuffling C:\\Users\\18617\\tensorflow_datasets\\imdb_reviews\\plain_text\\1.0.0.incompleteLTY9F6\\imdb_reviews-unsupervised.t\u001b[A\n",
      "Shuffling C:\\Users\\18617\\tensorflow_datasets\\imdb_reviews\\plain_text\\1.0.0.incompleteLTY9F6\\imdb_reviews-unsupervised.t\u001b[A\n",
      "                                                                                                                       \u001b[A\r"
     ]
    },
    {
     "name": "stdout",
     "output_type": "stream",
     "text": [
      "\u001b[1mDataset imdb_reviews downloaded and prepared to C:\\Users\\18617\\tensorflow_datasets\\imdb_reviews\\plain_text\\1.0.0. Subsequent calls will reuse this data.\u001b[0m\n"
     ]
    }
   ],
   "source": [
    "# Split the training set into 60% and 40% to end up with 15,000 examples\n",
    "# for training, 10,000 examples for validation and 25,000 examples for testing.\n",
    "train_data, validation_data, test_data = tfds.load(name=\"imdb_reviews\",\n",
    "                                                   split=('train[:60%]', 'train[60%:]', 'test'),\n",
    "                                                   as_supervised=True)\n",
    "\n",
    "# Dataset imdb_reviews downloaded and prepared to C:\\Users\\18617\\tensorflow_datasets\\imdb_reviews\\plain_text\\1.0.0. \n",
    "# Subsequent calls will reuse this data."
   ]
  },
  {
   "cell_type": "markdown",
   "metadata": {},
   "source": [
    "<br>\n",
    "<br>\n",
    "<br>"
   ]
  },
  {
   "cell_type": "markdown",
   "metadata": {},
   "source": [
    "## Explore the data \n",
    "\n",
    "Let's take a moment to understand the format of the data. Each example is a sentence representing the movie review and a corresponding label. The sentence is not preprocessed in any way. The label is an integer value of either 0 or 1, where 0 is a negative review, and 1 is a positive review.\n",
    "\n",
    "Let's print first 10 examples."
   ]
  },
  {
   "cell_type": "code",
   "execution_count": 4,
   "metadata": {
    "scrolled": true
   },
   "outputs": [
    {
     "data": {
      "text/plain": [
       "<tf.Tensor: shape=(10,), dtype=string, numpy=\n",
       "array([b\"This was an absolutely terrible movie. Don't be lured in by Christopher Walken or Michael Ironside. Both are great actors, but this must simply be their worst role in history. Even their great acting could not redeem this movie's ridiculous storyline. This movie is an early nineties US propaganda piece. The most pathetic scenes were those when the Columbian rebels were making their cases for revolutions. Maria Conchita Alonso appeared phony, and her pseudo-love affair with Walken was nothing but a pathetic emotional plug in a movie that was devoid of any real meaning. I am disappointed that there are movies like this, ruining actor's like Christopher Walken's good name. I could barely sit through it.\",\n",
       "       b'I have been known to fall asleep during films, but this is usually due to a combination of things including, really tired, being warm and comfortable on the sette and having just eaten a lot. However on this occasion I fell asleep because the film was rubbish. The plot development was constant. Constantly slow and boring. Things seemed to happen, but with no explanation of what was causing them or why. I admit, I may have missed part of the film, but i watched the majority of it and everything just seemed to happen of its own accord without any real concern for anything else. I cant recommend this film at all.',\n",
       "       b'Mann photographs the Alberta Rocky Mountains in a superb fashion, and Jimmy Stewart and Walter Brennan give enjoyable performances as they always seem to do. <br /><br />But come on Hollywood - a Mountie telling the people of Dawson City, Yukon to elect themselves a marshal (yes a marshal!) and to enforce the law themselves, then gunfighters battling it out on the streets for control of the town? <br /><br />Nothing even remotely resembling that happened on the Canadian side of the border during the Klondike gold rush. Mr. Mann and company appear to have mistaken Dawson City for Deadwood, the Canadian North for the American Wild West.<br /><br />Canadian viewers be prepared for a Reefer Madness type of enjoyable howl with this ludicrous plot, or, to shake your head in disgust.',\n",
       "       b'This is the kind of film for a snowy Sunday afternoon when the rest of the world can go ahead with its own business as you descend into a big arm-chair and mellow for a couple of hours. Wonderful performances from Cher and Nicolas Cage (as always) gently row the plot along. There are no rapids to cross, no dangerous waters, just a warm and witty paddle through New York life at its best. A family film in every sense and one that deserves the praise it received.',\n",
       "       b'As others have mentioned, all the women that go nude in this film are mostly absolutely gorgeous. The plot very ably shows the hypocrisy of the female libido. When men are around they want to be pursued, but when no \"men\" are around, they become the pursuers of a 14 year old boy. And the boy becomes a man really fast (we should all be so lucky at this age!). He then gets up the courage to pursue his true love.',\n",
       "       b\"This is a film which should be seen by anybody interested in, effected by, or suffering from an eating disorder. It is an amazingly accurate and sensitive portrayal of bulimia in a teenage girl, its causes and its symptoms. The girl is played by one of the most brilliant young actresses working in cinema today, Alison Lohman, who was later so spectacular in 'Where the Truth Lies'. I would recommend that this film be shown in all schools, as you will never see a better on this subject. Alison Lohman is absolutely outstanding, and one marvels at her ability to convey the anguish of a girl suffering from this compulsive disorder. If barometers tell us the air pressure, Alison Lohman tells us the emotional pressure with the same degree of accuracy. Her emotional range is so precise, each scene could be measured microscopically for its gradations of trauma, on a scale of rising hysteria and desperation which reaches unbearable intensity. Mare Winningham is the perfect choice to play her mother, and does so with immense sympathy and a range of emotions just as finely tuned as Lohman's. Together, they make a pair of sensitive emotional oscillators vibrating in resonance with one another. This film is really an astonishing achievement, and director Katt Shea should be proud of it. The only reason for not seeing it is if you are not interested in people. But even if you like nature films best, this is after all animal behaviour at the sharp edge. Bulimia is an extreme version of how a tormented soul can destroy her own body in a frenzy of despair. And if we don't sympathise with people suffering from the depths of despair, then we are dead inside.\",\n",
       "       b'Okay, you have:<br /><br />Penelope Keith as Miss Herringbone-Tweed, B.B.E. (Backbone of England.) She\\'s killed off in the first scene - that\\'s right, folks; this show has no backbone!<br /><br />Peter O\\'Toole as Ol\\' Colonel Cricket from The First War and now the emblazered Lord of the Manor.<br /><br />Joanna Lumley as the ensweatered Lady of the Manor, 20 years younger than the colonel and 20 years past her own prime but still glamourous (Brit spelling, not mine) enough to have a toy-boy on the side. It\\'s alright, they have Col. Cricket\\'s full knowledge and consent (they guy even comes \\'round for Christmas!) Still, she\\'s considerate of the colonel enough to have said toy-boy her own age (what a gal!)<br /><br />David McCallum as said toy-boy, equally as pointlessly glamourous as his squeeze. Pilcher couldn\\'t come up with any cover for him within the story, so she gave him a hush-hush job at the Circus.<br /><br />and finally:<br /><br />Susan Hampshire as Miss Polonia Teacups, Venerable Headmistress of the Venerable Girls\\' Boarding-School, serving tea in her office with a dash of deep, poignant advice for life in the outside world just before graduation. Her best bit of advice: \"I\\'ve only been to Nancherrow (the local Stately Home of England) once. I thought it was very beautiful but, somehow, not part of the real world.\" Well, we can\\'t say they didn\\'t warn us.<br /><br />Ah, Susan - time was, your character would have been running the whole show. They don\\'t write \\'em like that any more. Our loss, not yours.<br /><br />So - with a cast and setting like this, you have the re-makings of \"Brideshead Revisited,\" right?<br /><br />Wrong! They took these 1-dimensional supporting roles because they paid so well. After all, acting is one of the oldest temp-jobs there is (YOU name another!)<br /><br />First warning sign: lots and lots of backlighting. They get around it by shooting outdoors - \"hey, it\\'s just the sunlight!\"<br /><br />Second warning sign: Leading Lady cries a lot. When not crying, her eyes are moist. That\\'s the law of romance novels: Leading Lady is \"dewy-eyed.\"<br /><br />Henceforth, Leading Lady shall be known as L.L.<br /><br />Third warning sign: L.L. actually has stars in her eyes when she\\'s in love. Still, I\\'ll give Emily Mortimer an award just for having to act with that spotlight in her eyes (I wonder . did they use contacts?)<br /><br />And lastly, fourth warning sign: no on-screen female character is \"Mrs.\" She\\'s either \"Miss\" or \"Lady.\"<br /><br />When all was said and done, I still couldn\\'t tell you who was pursuing whom and why. I couldn\\'t even tell you what was said and done.<br /><br />To sum up: they all live through World War II without anything happening to them at all.<br /><br />OK, at the end, L.L. finds she\\'s lost her parents to the Japanese prison camps and baby sis comes home catatonic. Meanwhile (there\\'s always a \"meanwhile,\") some young guy L.L. had a crush on (when, I don\\'t know) comes home from some wartime tough spot and is found living on the street by Lady of the Manor (must be some street if SHE\\'s going to find him there.) Both war casualties are whisked away to recover at Nancherrow (SOMEBODY has to be \"whisked away\" SOMEWHERE in these romance stories!)<br /><br />Great drama.',\n",
       "       b'The film is based on a genuine 1950s novel.<br /><br />Journalist Colin McInnes wrote a set of three \"London novels\": \"Absolute Beginners\", \"City of Spades\" and \"Mr Love and Justice\". I have read all three. The first two are excellent. The last, perhaps an experiment that did not come off. But McInnes\\'s work is highly acclaimed; and rightly so. This musical is the novelist\\'s ultimate nightmare - to see the fruits of one\\'s mind being turned into a glitzy, badly-acted, soporific one-dimensional apology of a film that says it captures the spirit of 1950s London, and does nothing of the sort.<br /><br />Thank goodness Colin McInnes wasn\\'t alive to witness it.',\n",
       "       b'I really love the sexy action and sci-fi films of the sixties and its because of the actress\\'s that appeared in them. They found the sexiest women to be in these films and it didn\\'t matter if they could act (Remember \"Candy\"?). The reason I was disappointed by this film was because it wasn\\'t nostalgic enough. The story here has a European sci-fi film called \"Dragonfly\" being made and the director is fired. So the producers decide to let a young aspiring filmmaker (Jeremy Davies) to complete the picture. They\\'re is one real beautiful woman in the film who plays Dragonfly but she\\'s barely in it. Film is written and directed by Roman Coppola who uses some of his fathers exploits from his early days and puts it into the script. I wish the film could have been an homage to those early films. They could have lots of cameos by actors who appeared in them. There is one actor in this film who was popular from the sixties and its John Phillip Law (Barbarella). Gerard Depardieu, Giancarlo Giannini and Dean Stockwell appear as well. I guess I\\'m going to have to continue waiting for a director to make a good homage to the films of the sixties. If any are reading this, \"Make it as sexy as you can\"! I\\'ll be waiting!',\n",
       "       b'Sure, this one isn\\'t really a blockbuster, nor does it target such a position. \"Dieter\" is the first name of a quite popular German musician, who is either loved or hated for his kind of acting and thats exactly what this movie is about. It is based on the autobiography \"Dieter Bohlen\" wrote a few years ago but isn\\'t meant to be accurate on that. The movie is filled with some sexual offensive content (at least for American standard) which is either amusing (not for the other \"actors\" of course) or dumb - it depends on your individual kind of humor or on you being a \"Bohlen\"-Fan or not. Technically speaking there isn\\'t much to criticize. Speaking of me I find this movie to be an OK-movie.'],\n",
       "      dtype=object)>"
      ]
     },
     "execution_count": 4,
     "metadata": {},
     "output_type": "execute_result"
    }
   ],
   "source": [
    "train_examples_batch, train_labels_batch = next(iter(train_data.batch(10)))\n",
    "train_examples_batch"
   ]
  },
  {
   "cell_type": "markdown",
   "metadata": {},
   "source": [
    "<br>"
   ]
  },
  {
   "cell_type": "markdown",
   "metadata": {},
   "source": [
    "Let's also print the first 10 labels."
   ]
  },
  {
   "cell_type": "code",
   "execution_count": 5,
   "metadata": {},
   "outputs": [
    {
     "data": {
      "text/plain": [
       "<tf.Tensor: shape=(10,), dtype=int64, numpy=array([0, 0, 0, 1, 1, 1, 0, 0, 0, 0], dtype=int64)>"
      ]
     },
     "execution_count": 5,
     "metadata": {},
     "output_type": "execute_result"
    }
   ],
   "source": [
    "train_labels_batch"
   ]
  },
  {
   "cell_type": "markdown",
   "metadata": {},
   "source": [
    "<br>\n",
    "<br>\n",
    "<br>"
   ]
  },
  {
   "cell_type": "markdown",
   "metadata": {},
   "source": [
    "## Build the model\n",
    "\n",
    "The neural network is created by stacking layers—this requires three main architectural decisions:\n",
    "\n",
    "* How to represent the text?\n",
    "* How many layers to use in the model?\n",
    "* How many *hidden units* to use for each layer?\n",
    "\n",
    "In this example, the input data consists of sentences. The labels to predict are either 0 or 1.\n",
    "\n",
    "One way to represent the text is to convert sentences into embeddings vectors. Use a pre-trained text embedding as the first layer, which will have three advantages:\n",
    "\n",
    "*   You don't have to worry about text preprocessing,\n",
    "*   Benefit from transfer learning,\n",
    "*   the embedding has a fixed size, so it's simpler to process.\n",
    "\n",
    "For this example you use a **pre-trained text embedding model** from [TensorFlow Hub](https://tfhub.dev) called [google/nnlm-en-dim50/2](https://tfhub.dev/google/nnlm-en-dim50/2).\n",
    "\n",
    "There are many other pre-trained text embeddings from TFHub that can be used in this tutorial:\n",
    "\n",
    "* [google/nnlm-en-dim128/2](https://tfhub.dev/google/nnlm-en-dim128/2) - trained with the same NNLM architecture on the same data as [google/nnlm-en-dim50/2](https://tfhub.dev/google/nnlm-en-dim50/2), but with a larger embedding dimension. Larger dimensional embeddings can improve on your task but it may take longer to train your model.\n",
    "* [google/nnlm-en-dim128-with-normalization/2](https://tfhub.dev/google/nnlm-en-dim128-with-normalization/2) - the same as [google/nnlm-en-dim128/2](https://tfhub.dev/google/nnlm-en-dim128/2), but with additional text normalization such as removing punctuation. This can help if the text in your task contains additional characters or punctuation.\n",
    "* [google/universal-sentence-encoder/4](https://tfhub.dev/google/universal-sentence-encoder/4) - a much larger model yielding 512 dimensional embeddings trained with a deep averaging network (DAN) encoder.\n",
    "\n",
    "And many more! Find more [text embedding models](https://tfhub.dev/s?module-type=text-embedding) on TFHub."
   ]
  },
  {
   "cell_type": "markdown",
   "metadata": {},
   "source": [
    "<br>"
   ]
  },
  {
   "cell_type": "code",
   "execution_count": 6,
   "metadata": {},
   "outputs": [
    {
     "data": {
      "text/plain": [
       "<tf.Tensor: shape=(3, 50), dtype=float32, numpy=\n",
       "array([[ 0.5423195 , -0.0119017 ,  0.06337538,  0.06862972, -0.16776837,\n",
       "        -0.10581174,  0.16865303, -0.04998824, -0.31148055,  0.07910346,\n",
       "         0.15442263,  0.01488662,  0.03930153,  0.19772711, -0.12215476,\n",
       "        -0.04120981, -0.2704109 , -0.21922152,  0.26517662, -0.80739075,\n",
       "         0.25833532, -0.3100421 ,  0.28683215,  0.1943387 , -0.29036492,\n",
       "         0.03862849, -0.7844411 , -0.0479324 ,  0.4110299 , -0.36388892,\n",
       "        -0.58034706,  0.30269456,  0.3630897 , -0.15227164, -0.44391504,\n",
       "         0.19462997,  0.19528408,  0.05666234,  0.2890704 , -0.28468323,\n",
       "        -0.00531206,  0.0571938 , -0.3201318 , -0.04418665, -0.08550783,\n",
       "        -0.55847436, -0.23336391, -0.20782952, -0.03543064, -0.17533456],\n",
       "       [ 0.56338924, -0.12339553, -0.10862679,  0.7753425 , -0.07667089,\n",
       "        -0.15752277,  0.01872335, -0.08169781, -0.3521876 ,  0.4637341 ,\n",
       "        -0.08492756,  0.07166859, -0.00670817,  0.12686075, -0.19326553,\n",
       "        -0.52626437, -0.3295823 ,  0.14394785,  0.09043556, -0.5417555 ,\n",
       "         0.02468163, -0.15456742,  0.68333143,  0.09068331, -0.45327246,\n",
       "         0.23180096, -0.8615696 ,  0.34480393,  0.12838456, -0.58759046,\n",
       "        -0.4071231 ,  0.23061076,  0.48426893, -0.27128142, -0.5380916 ,\n",
       "         0.47016326,  0.22572741, -0.00830663,  0.2846242 , -0.304985  ,\n",
       "         0.04400365,  0.25025874,  0.14867121,  0.40717036, -0.15422426,\n",
       "        -0.06878027, -0.40825695, -0.3149215 ,  0.09283665, -0.20183425],\n",
       "       [ 0.7456154 ,  0.21256861,  0.14400336,  0.5233862 ,  0.11032254,\n",
       "         0.00902788, -0.3667802 , -0.08938274, -0.24165542,  0.33384594,\n",
       "        -0.11194605, -0.01460047, -0.0071645 ,  0.19562712,  0.00685216,\n",
       "        -0.24886718, -0.42796347,  0.18620004, -0.05241098, -0.66462487,\n",
       "         0.13449019, -0.22205497,  0.08633006,  0.43685386,  0.2972681 ,\n",
       "         0.36140734, -0.7196889 ,  0.05291241, -0.14316116, -0.1573394 ,\n",
       "        -0.15056328, -0.05988009, -0.08178931, -0.15569411, -0.09303783,\n",
       "        -0.18971172,  0.07620788, -0.02541647, -0.27134508, -0.3392682 ,\n",
       "        -0.10296468, -0.27275252, -0.34078008,  0.20083304, -0.26644835,\n",
       "         0.00655449, -0.05141488, -0.04261917, -0.45413622,  0.20023568]],\n",
       "      dtype=float32)>"
      ]
     },
     "execution_count": 6,
     "metadata": {},
     "output_type": "execute_result"
    }
   ],
   "source": [
    "embedding = \"https://tfhub.dev/google/nnlm-en-dim50/2\"\n",
    "hub_layer = hub.KerasLayer(embedding,\n",
    "                           input_shape=[],\n",
    "                           dtype=tf.string,\n",
    "                           trainable=True)\n",
    "\n",
    "\n",
    "hub_layer(train_examples_batch[:3])"
   ]
  },
  {
   "cell_type": "markdown",
   "metadata": {},
   "source": [
    "<br>"
   ]
  },
  {
   "cell_type": "markdown",
   "metadata": {},
   "source": [
    "Let's now build the full model:"
   ]
  },
  {
   "cell_type": "code",
   "execution_count": 7,
   "metadata": {},
   "outputs": [
    {
     "name": "stdout",
     "output_type": "stream",
     "text": [
      "Model: \"sequential\"\n",
      "_________________________________________________________________\n",
      "Layer (type)                 Output Shape              Param #   \n",
      "=================================================================\n",
      "keras_layer (KerasLayer)     (None, 50)                48190600  \n",
      "_________________________________________________________________\n",
      "dense (Dense)                (None, 16)                816       \n",
      "_________________________________________________________________\n",
      "dense_1 (Dense)              (None, 1)                 17        \n",
      "=================================================================\n",
      "Total params: 48,191,433\n",
      "Trainable params: 48,191,433\n",
      "Non-trainable params: 0\n",
      "_________________________________________________________________\n"
     ]
    }
   ],
   "source": [
    "model = tf.keras.Sequential()\n",
    "model.add(hub_layer)\n",
    "model.add(tf.keras.layers.Dense(16, activation='relu'))\n",
    "model.add(tf.keras.layers.Dense(1))\n",
    "\n",
    "model.summary()"
   ]
  },
  {
   "cell_type": "markdown",
   "metadata": {},
   "source": [
    "<br>"
   ]
  },
  {
   "cell_type": "markdown",
   "metadata": {},
   "source": [
    "The layers are stacked sequentially to build the classifier:\n",
    "\n",
    "1. The first layer is a TensorFlow Hub layer. This layer uses a pre-trained Saved Model to map a sentence into its embedding vector. The pre-trained text embedding model that you are using ([google/nnlm-en-dim50/2](https://tfhub.dev/google/nnlm-en-dim50/2)) splits the sentence into tokens, embeds each token and then combines the embedding. The resulting dimensions are: `(num_examples, embedding_dimension)`. For this NNLM model, the `embedding_dimension` is 50.\n",
    "2. This fixed-length output vector is piped through a fully-connected (`Dense`) layer with 16 hidden units.\n",
    "3. The last layer is densely connected with a single output node.\n",
    "\n",
    "Let's compile the model."
   ]
  },
  {
   "cell_type": "code",
   "execution_count": 8,
   "metadata": {},
   "outputs": [],
   "source": [
    "model.compile(loss=tf.keras.losses.BinaryCrossentropy(from_logits=True),\n",
    "              optimizer='adam',\n",
    "              metrics=['accuracy'])"
   ]
  },
  {
   "cell_type": "markdown",
   "metadata": {},
   "source": [
    "<br>\n",
    "<br>\n",
    "<br>"
   ]
  },
  {
   "cell_type": "markdown",
   "metadata": {},
   "source": [
    "## Train the model\n",
    "\n",
    "Train the model for 10 epochs in mini-batches of 512 samples. This is 10 iterations over all samples in the `x_train` and `y_train` tensors. While training, monitor the model's loss and accuracy on the 10,000 samples from the validation set:"
   ]
  },
  {
   "cell_type": "code",
   "execution_count": 10,
   "metadata": {},
   "outputs": [
    {
     "name": "stdout",
     "output_type": "stream",
     "text": [
      "Epoch 1/10\n",
      "30/30 [==============================] - 3s 56ms/step - loss: 0.6442 - accuracy: 0.5690 - val_loss: 0.5849 - val_accuracy: 0.6374\n",
      "Epoch 2/10\n",
      "30/30 [==============================] - 2s 55ms/step - loss: 0.5115 - accuracy: 0.7283 - val_loss: 0.4747 - val_accuracy: 0.7841\n",
      "Epoch 3/10\n",
      "30/30 [==============================] - 2s 51ms/step - loss: 0.3828 - accuracy: 0.8369 - val_loss: 0.3884 - val_accuracy: 0.8225\n",
      "Epoch 4/10\n",
      "30/30 [==============================] - 1s 49ms/step - loss: 0.2826 - accuracy: 0.8913 - val_loss: 0.3413 - val_accuracy: 0.8507\n",
      "Epoch 5/10\n",
      "30/30 [==============================] - 2s 50ms/step - loss: 0.2110 - accuracy: 0.9249 - val_loss: 0.3176 - val_accuracy: 0.8590\n",
      "Epoch 6/10\n",
      "30/30 [==============================] - 2s 53ms/step - loss: 0.1580 - accuracy: 0.9507 - val_loss: 0.3078 - val_accuracy: 0.8671\n",
      "Epoch 7/10\n",
      "30/30 [==============================] - 1s 49ms/step - loss: 0.1172 - accuracy: 0.9667 - val_loss: 0.3059 - val_accuracy: 0.8680\n",
      "Epoch 8/10\n",
      "30/30 [==============================] - 1s 49ms/step - loss: 0.0863 - accuracy: 0.9785 - val_loss: 0.3104 - val_accuracy: 0.8664\n",
      "Epoch 9/10\n",
      "30/30 [==============================] - 1s 48ms/step - loss: 0.0634 - accuracy: 0.9881 - val_loss: 0.3192 - val_accuracy: 0.8695\n",
      "Epoch 10/10\n",
      "30/30 [==============================] - 1s 49ms/step - loss: 0.0466 - accuracy: 0.9925 - val_loss: 0.3316 - val_accuracy: 0.8706\n"
     ]
    }
   ],
   "source": [
    "history = model.fit(train_data.shuffle(10000).batch(512),\n",
    "                    epochs=10,\n",
    "                    validation_data=validation_data.batch(512),\n",
    "                    verbose=1)"
   ]
  },
  {
   "cell_type": "markdown",
   "metadata": {},
   "source": [
    "<br>\n",
    "<br>\n",
    "<br>"
   ]
  },
  {
   "cell_type": "markdown",
   "metadata": {},
   "source": [
    "## Evaluate the model\n",
    "\n",
    "And let's see how the model performs. Two values will be returned. Loss (a number which represents our error, lower values are better), and accuracy."
   ]
  },
  {
   "cell_type": "code",
   "execution_count": 11,
   "metadata": {},
   "outputs": [
    {
     "name": "stdout",
     "output_type": "stream",
     "text": [
      "49/49 - 1s - loss: 0.3545 - accuracy: 0.8560\n",
      "loss: 0.355\n",
      "accuracy: 0.856\n"
     ]
    }
   ],
   "source": [
    "results = model.evaluate(test_data.batch(512), verbose=2)\n",
    "\n",
    "for name, value in zip(model.metrics_names, results):\n",
    "    print(\"%s: %.3f\" % (name, value))"
   ]
  },
  {
   "cell_type": "markdown",
   "metadata": {},
   "source": [
    "<br>"
   ]
  },
  {
   "cell_type": "markdown",
   "metadata": {},
   "source": [
    "This fairly naive approach achieves an accuracy of about 87%. With more advanced approaches, the model should get closer to 95%."
   ]
  },
  {
   "cell_type": "markdown",
   "metadata": {},
   "source": [
    "<br>\n",
    "<br>\n",
    "<br>"
   ]
  },
  {
   "cell_type": "markdown",
   "metadata": {},
   "source": [
    "## Further reading\n",
    "\n",
    "* For a more general way to work with string inputs and for a more detailed analysis of the progress of accuracy and loss during training, see the [Text classification with preprocessed text](./text_classification.ipynb) tutorial.\n",
    "* Try out more [text-related tutorials](https://www.tensorflow.org/hub/tutorials#text-related-tutorials) using trained models from TFHub."
   ]
  },
  {
   "cell_type": "markdown",
   "metadata": {},
   "source": [
    "<br>\n",
    "<br>\n",
    "<br>"
   ]
  },
  {
   "cell_type": "markdown",
   "metadata": {},
   "source": [
    "```python\n",
    "# MIT License\n",
    "#\n",
    "# Copyright (c) 2017 François Chollet\n",
    "#\n",
    "# Permission is hereby granted, free of charge, to any person obtaining a\n",
    "# copy of this software and associated documentation files (the \"Software\"),\n",
    "# to deal in the Software without restriction, including without limitation\n",
    "# the rights to use, copy, modify, merge, publish, distribute, sublicense,\n",
    "# and/or sell copies of the Software, and to permit persons to whom the\n",
    "# Software is furnished to do so, subject to the following conditions:\n",
    "#\n",
    "# The above copyright notice and this permission notice shall be included in\n",
    "# all copies or substantial portions of the Software.\n",
    "#\n",
    "# THE SOFTWARE IS PROVIDED \"AS IS\", WITHOUT WARRANTY OF ANY KIND, EXPRESS OR\n",
    "# IMPLIED, INCLUDING BUT NOT LIMITED TO THE WARRANTIES OF MERCHANTABILITY,\n",
    "# FITNESS FOR A PARTICULAR PURPOSE AND NONINFRINGEMENT. IN NO EVENT SHALL\n",
    "# THE AUTHORS OR COPYRIGHT HOLDERS BE LIABLE FOR ANY CLAIM, DAMAGES OR OTHER\n",
    "# LIABILITY, WHETHER IN AN ACTION OF CONTRACT, TORT OR OTHERWISE, ARISING\n",
    "# FROM, OUT OF OR IN CONNECTION WITH THE SOFTWARE OR THE USE OR OTHER\n",
    "# DEALINGS IN THE SOFTWARE.\n",
    "```"
   ]
  },
  {
   "cell_type": "markdown",
   "metadata": {},
   "source": [
    "<br>\n",
    "<br>\n",
    "<br>"
   ]
  }
 ],
 "metadata": {
  "kernelspec": {
   "display_name": "Python [conda env:tfg]",
   "language": "python",
   "name": "conda-env-tfg-py"
  },
  "language_info": {
   "codemirror_mode": {
    "name": "ipython",
    "version": 3
   },
   "file_extension": ".py",
   "mimetype": "text/x-python",
   "name": "python",
   "nbconvert_exporter": "python",
   "pygments_lexer": "ipython3",
   "version": "3.9.7"
  },
  "toc": {
   "base_numbering": 1,
   "nav_menu": {},
   "number_sections": true,
   "sideBar": true,
   "skip_h1_title": false,
   "title_cell": "Table of Contents",
   "title_sidebar": "Contents",
   "toc_cell": false,
   "toc_position": {},
   "toc_section_display": true,
   "toc_window_display": false
  },
  "varInspector": {
   "cols": {
    "lenName": 16,
    "lenType": 16,
    "lenVar": 40
   },
   "kernels_config": {
    "python": {
     "delete_cmd_postfix": "",
     "delete_cmd_prefix": "del ",
     "library": "var_list.py",
     "varRefreshCmd": "print(var_dic_list())"
    },
    "r": {
     "delete_cmd_postfix": ") ",
     "delete_cmd_prefix": "rm(",
     "library": "var_list.r",
     "varRefreshCmd": "cat(var_dic_list()) "
    }
   },
   "types_to_exclude": [
    "module",
    "function",
    "builtin_function_or_method",
    "instance",
    "_Feature"
   ],
   "window_display": false
  }
 },
 "nbformat": 4,
 "nbformat_minor": 4
}
