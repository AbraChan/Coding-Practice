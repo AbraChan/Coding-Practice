{
 "cells": [
  {
   "cell_type": "markdown",
   "metadata": {},
   "source": [
    "<br>"
   ]
  },
  {
   "cell_type": "markdown",
   "metadata": {},
   "source": [
    "<div align=center><font color=maroon size=6><b>Better performance with tf.function</b></font></div>"
   ]
  },
  {
   "cell_type": "markdown",
   "metadata": {},
   "source": [
    "<br>"
   ]
  },
  {
   "cell_type": "markdown",
   "metadata": {},
   "source": [
    "<font size=4><b>References:</b></font>\n",
    "1. TF2 Core: <a href=\"https://www.tensorflow.org/guide\" style=\"text-decoration:none;\">TensorFlow Guide</a> \n",
    "    * `TensorFlow > Learn > TensorFlow Core > `Guide > <a href=\"https://www.tensorflow.org/guide/function\" style=\"text-decoration:none;\">Better performance with tf.function</a>\n",
    "        * Run in <a href=\"https://colab.research.google.com/github/tensorflow/docs/blob/master/site/en/guide/function.ipynb\" style=\"text-decoration:none;\">Google Colab</a>"
   ]
  },
  {
   "cell_type": "markdown",
   "metadata": {},
   "source": [
    "<br>\n",
    "<br>\n",
    "<br>"
   ]
  },
  {
   "cell_type": "markdown",
   "metadata": {},
   "source": [
    "In TensorFlow 2, [eager execution](https://colab.research.google.com/github/tensorflow/docs/blob/master/site/en/guide/eager.ipynb) is turned on by default. The user interface is intuitive and flexible (running one-off operations is much easier and faster), but this can come <font style=\"color:maroon;font-size:110%\">at the expense of performance and deployability.</font>\n",
    "\n",
    "<font style=\"color:maroon;font-size:110%\">You can use `tf.function` to make graphs out of your programs. It is a transformation tool that creates Python-independent dataflow graphs out of your Python code. This will help you create **performant and portable models, and it is required to use `SavedModel`**.</font>\n",
    "\n",
    "This guide will help you conceptualize how `tf.function` works under the hood, so you can use it effectively."
   ]
  },
  {
   "cell_type": "markdown",
   "metadata": {},
   "source": [
    "<font style=\"color:maroon;font-size:130%;line-height:25px\">The main takeaways and recommendations are:\n",
    "\n",
    "- Debug in eager mode, then decorate with `@tf.function`.\n",
    "- Don't rely on **Python side effects** like **object mutation** or **list appends**.\n",
    "- `tf.function` works best with **TensorFlow ops**; NumPy and Python calls are converted to **constants**.\n",
    "</font>"
   ]
  },
  {
   "cell_type": "code",
   "execution_count": 1,
   "metadata": {},
   "outputs": [],
   "source": [
    "import tensorflow as tf"
   ]
  },
  {
   "cell_type": "code",
   "execution_count": 2,
   "metadata": {},
   "outputs": [
    {
     "name": "stdout",
     "output_type": "stream",
     "text": [
      "2.8.0\n"
     ]
    }
   ],
   "source": [
    "print(tf.__version__)"
   ]
  },
  {
   "cell_type": "markdown",
   "metadata": {},
   "source": [
    "<br>"
   ]
  },
  {
   "cell_type": "markdown",
   "metadata": {},
   "source": [
    "Define a helper function to demonstrate the kinds of errors you might encounter:"
   ]
  },
  {
   "cell_type": "code",
   "execution_count": 3,
   "metadata": {},
   "outputs": [],
   "source": [
    "import traceback\n",
    "import contextlib\n",
    "\n",
    "# Some helper code to demonstrate the kinds of errors you might encounter.\n",
    "@contextlib.contextmanager\n",
    "def assert_raises(error_class):\n",
    "    try:\n",
    "        yield\n",
    "    except error_class as e:\n",
    "        print('Caught expected exception \\n  {}:'.format(error_class))\n",
    "        traceback.print_exc(limit=2)\n",
    "    except Exception as e:\n",
    "        raise e\n",
    "    else:\n",
    "        raise Exception('Expected {} to be raised but no error was raised!'.format(error_class))"
   ]
  },
  {
   "cell_type": "markdown",
   "metadata": {},
   "source": [
    "<br>\n",
    "<br>\n",
    "<br>"
   ]
  },
  {
   "cell_type": "markdown",
   "metadata": {},
   "source": [
    "## Basics"
   ]
  },
  {
   "cell_type": "markdown",
   "metadata": {},
   "source": [
    "### Usage\n",
    "\n",
    "<font style=\"color:maroon;font-size:110%\">A **`Function`** you define (for example by applying the `@tf.function` decorator) is **just like a core TensorFlow operation**: You can execute it eagerly; you can compute gradients; and so on.</font>"
   ]
  },
  {
   "cell_type": "markdown",
   "metadata": {},
   "source": [
    "<br>"
   ]
  },
  {
   "cell_type": "code",
   "execution_count": 4,
   "metadata": {},
   "outputs": [
    {
     "data": {
      "text/plain": [
       "<tf.Tensor: shape=(2, 2), dtype=float32, numpy=\n",
       "array([[2., 2.],\n",
       "       [2., 2.]], dtype=float32)>"
      ]
     },
     "execution_count": 4,
     "metadata": {},
     "output_type": "execute_result"
    }
   ],
   "source": [
    "@tf.function  # The decorator converts `add` into a `Function`.\n",
    "def add(a, b):\n",
    "    return a + b\n",
    "\n",
    "add(tf.ones([2, 2]), tf.ones([2, 2]))  #  [[2., 2.], [2., 2.]]"
   ]
  },
  {
   "cell_type": "code",
   "execution_count": 5,
   "metadata": {},
   "outputs": [
    {
     "data": {
      "text/plain": [
       "<tf.Tensor: shape=(), dtype=float32, numpy=1.0>"
      ]
     },
     "execution_count": 5,
     "metadata": {},
     "output_type": "execute_result"
    }
   ],
   "source": [
    "v = tf.Variable(1.0)\n",
    "with tf.GradientTape() as tape:\n",
    "    result = add(v, 1.0)\n",
    "\n",
    "tape.gradient(result, v)"
   ]
  },
  {
   "cell_type": "markdown",
   "metadata": {},
   "source": [
    "<br>"
   ]
  },
  {
   "cell_type": "markdown",
   "metadata": {},
   "source": [
    "<font style=\"color:maroon;font-size:110%\">You can use `Function`s inside other `Function`s.</font>"
   ]
  },
  {
   "cell_type": "code",
   "execution_count": 6,
   "metadata": {},
   "outputs": [
    {
     "data": {
      "text/plain": [
       "<tf.Tensor: shape=(3, 2), dtype=float32, numpy=\n",
       "array([[3., 3.],\n",
       "       [3., 3.],\n",
       "       [3., 3.]], dtype=float32)>"
      ]
     },
     "execution_count": 6,
     "metadata": {},
     "output_type": "execute_result"
    }
   ],
   "source": [
    "@tf.function\n",
    "def dense_layer(x, w, b):\n",
    "    return add(tf.matmul(x, w), b)\n",
    "\n",
    "dense_layer(tf.ones([3, 2]), tf.ones([2, 2]), tf.ones([2]))"
   ]
  },
  {
   "cell_type": "markdown",
   "metadata": {},
   "source": [
    "<br>"
   ]
  },
  {
   "cell_type": "markdown",
   "metadata": {},
   "source": [
    "<font style=\"color:maroon;font-size:110%\">`Function`s can be faster than eager code, especially for graphs with many small ops. But for graphs with a few expensive ops (like convolutions), you may not see much speedup.</font>\n"
   ]
  },
  {
   "cell_type": "code",
   "execution_count": 7,
   "metadata": {},
   "outputs": [
    {
     "name": "stdout",
     "output_type": "stream",
     "text": [
      "Eager conv: 0.0030562000000013967\n",
      "Function conv: 0.003987099999999799\n",
      "Note how there's not much difference in performance for convolutions\n"
     ]
    }
   ],
   "source": [
    "import timeit\n",
    "conv_layer = tf.keras.layers.Conv2D(100, 3)\n",
    "\n",
    "@tf.function\n",
    "def conv_fn(image):\n",
    "    return conv_layer(image)\n",
    "\n",
    "image = tf.zeros([1, 200, 200, 100])\n",
    "\n",
    "# Warm up\n",
    "conv_layer(image)   # Eager mode\n",
    "conv_fn(image)      # Graph mode (/Function)\n",
    "print(\"Eager conv:\", timeit.timeit(lambda: conv_layer(image), number=10))\n",
    "\n",
    "print(\"Function conv:\", timeit.timeit(lambda: conv_fn(image), number=10))\n",
    "\n",
    "print(\"Note how there's not much difference in performance for convolutions\")\n"
   ]
  },
  {
   "cell_type": "markdown",
   "metadata": {},
   "source": [
    "<br>\n",
    "<br>"
   ]
  },
  {
   "cell_type": "markdown",
   "metadata": {},
   "source": [
    "### Tracing\n",
    "\n",
    "This section exposes how `Function` works under the hood, including implementation details *which may change in the future*. However, <font style=\"color:maroon;font-size:110%\">once you understand why and when tracing happens, it's much easier to use `tf.function` effectively!</font>"
   ]
  },
  {
   "cell_type": "markdown",
   "metadata": {},
   "source": [
    "<br>"
   ]
  },
  {
   "cell_type": "markdown",
   "metadata": {},
   "source": [
    "#### What is \"tracing\"?\n",
    "\n",
    "<font style=\"color:maroon;font-size:120%\">A `Function` runs your program in a [TensorFlow Graph](https://www.tensorflow.org/guide/intro_to_graphs#what_are_graphs). However, a `tf.Graph` cannot represent all the things that you'd write in an eager TensorFlow program. For instance,</font> \n",
    "* **Python supports polymorphism, but `tf.Graph` requires its inputs to have a specified data type and dimension**. \n",
    "* Or you may perform side tasks like reading command-line arguments, raising an error, or working with a more complex Python object; none of these things can run in a `tf.Graph`."
   ]
  },
  {
   "cell_type": "markdown",
   "metadata": {},
   "source": [
    "<font style=\"color:maroon;font-size:110%\">`Function` bridges this gap by separating your code in two stages:\n",
    "\n",
    "  **1)**  In the first stage, referred to as \"**tracing**\", `Function` creates a new `tf.Graph`. <ins>Python code runs normally</ins>, but all TensorFlow operations (like adding two Tensors) are ***deferred***: they are captured by the `tf.Graph` and not run.\n",
    "\n",
    "  **2)** In the second stage, a `tf.Graph` which contains everything that was deferred in the first stage is run. This stage is much faster than the tracing stage.\n",
    "\n",
    "Depending on its inputs, `Function` will not always run the first stage when it is called.  See [\"Rules of tracing\"](#rules_of_tracing) below to get a better sense of how it makes that determination. **Skipping the first stage and only executing the second stage is what gives you TensorFlow's high performance**.</font>\n",
    "\n",
    "When `Function` does decide to trace, the tracing stage is immediately followed by the second stage, so calling the `Function` both creates and runs the `tf.Graph`. Later you will see how you can run only the tracing stage with [`get_concrete_function`](#obtaining_concrete_functions)."
   ]
  },
  {
   "cell_type": "code",
   "execution_count": 8,
   "metadata": {},
   "outputs": [
    {
     "name": "stdout",
     "output_type": "stream",
     "text": [
      "Tracing with Tensor(\"a:0\", shape=(), dtype=int32)\n",
      "tf.Tensor(2, shape=(), dtype=int32)\n",
      "\n",
      "Tracing with Tensor(\"a:0\", shape=(), dtype=float32)\n",
      "tf.Tensor(2.2, shape=(), dtype=float32)\n",
      "\n",
      "Tracing with Tensor(\"a:0\", shape=(), dtype=string)\n",
      "tf.Tensor(b'aa', shape=(), dtype=string)\n",
      "\n"
     ]
    }
   ],
   "source": [
    "@tf.function\n",
    "def double(a):\n",
    "    print(\"Tracing with\", a)\n",
    "    return a + a\n",
    "\n",
    "print(double(tf.constant(1)))\n",
    "print()\n",
    "\n",
    "print(double(tf.constant(1.1)))\n",
    "print()\n",
    "\n",
    "print(double(tf.constant(\"a\")))\n",
    "print()"
   ]
  },
  {
   "cell_type": "markdown",
   "metadata": {},
   "source": [
    "<br>"
   ]
  },
  {
   "cell_type": "markdown",
   "metadata": {},
   "source": [
    "<font style=\"color:maroon;font-size:110%\">**Note that**</font> if you repeatedly call a `Function` with the same argument type, TensorFlow will skip the tracing stage and reuse a previously traced graph, as the generated graph would be identical."
   ]
  },
  {
   "cell_type": "code",
   "execution_count": 9,
   "metadata": {},
   "outputs": [
    {
     "name": "stdout",
     "output_type": "stream",
     "text": [
      "tf.Tensor(b'bb', shape=(), dtype=string)\n"
     ]
    }
   ],
   "source": [
    "# This doesn't print 'Tracing with ...'\n",
    "print(double(tf.constant(\"b\")))"
   ]
  },
  {
   "cell_type": "markdown",
   "metadata": {},
   "source": [
    "<br>"
   ]
  },
  {
   "cell_type": "markdown",
   "metadata": {},
   "source": [
    "<font style=\"color:maroon;font-size:110%\">You can use `pretty_printed_concrete_signatures()` to see all of the available traces:</font>"
   ]
  },
  {
   "cell_type": "code",
   "execution_count": 10,
   "metadata": {},
   "outputs": [
    {
     "name": "stdout",
     "output_type": "stream",
     "text": [
      "double(a)\n",
      "  Args:\n",
      "    a: int32 Tensor, shape=()\n",
      "  Returns:\n",
      "    int32 Tensor, shape=()\n",
      "\n",
      "double(a)\n",
      "  Args:\n",
      "    a: float32 Tensor, shape=()\n",
      "  Returns:\n",
      "    float32 Tensor, shape=()\n",
      "\n",
      "double(a)\n",
      "  Args:\n",
      "    a: string Tensor, shape=()\n",
      "  Returns:\n",
      "    string Tensor, shape=()\n"
     ]
    }
   ],
   "source": [
    "print(double.pretty_printed_concrete_signatures())"
   ]
  },
  {
   "cell_type": "markdown",
   "metadata": {},
   "source": [
    "<br>"
   ]
  },
  {
   "cell_type": "markdown",
   "metadata": {},
   "source": [
    "##### <font style=\"color:maroon;font-size:110%\">Terminology</font>"
   ]
  },
  {
   "cell_type": "markdown",
   "metadata": {},
   "source": [
    "So far, you've seen that `tf.function` creates a cached, dynamic dispatch layer over TensorFlow's graph tracing logic. To be more specific about the terminology:\n",
    "<font style=\"color:maroon;font-size:115%\">\n",
    "\n",
    "- A `tf.Graph` is the raw, language-agnostic `(语言无关的)`, portable representation of a TensorFlow computation.\n",
    "- A `ConcreteFunction` wraps a `tf.Graph`.\n",
    "- A `Function` manages a cache of `ConcreteFunction`s and picks the right one for your inputs.\n",
    "- `tf.function` wraps a Python function, returning a `Function` object.\n",
    "- **Tracing** creates a `tf.Graph` and wraps it in a `ConcreteFunction`, also known as a **trace.**\n",
    "</font>"
   ]
  },
  {
   "cell_type": "markdown",
   "metadata": {},
   "source": [
    "<br>"
   ]
  },
  {
   "cell_type": "markdown",
   "metadata": {},
   "source": [
    "#### <font style=\"color:maroon;font-size:120%\">Rules of tracing</font>\n",
    "\n",
    "When called, a `Function` matches the call arguments to existing `ConcreteFunction`s using `tf.types.experimental.TraceType` of each argument. <font style=\"color:maroon;font-size:110%\">If a matching `ConcreteFunction` is found, the call is dispatched to it. If no match is found, a new `ConcreteFunction` is traced.\n",
    "\n",
    "If multiple matches are found, the most specific signature is chosen. Matching is done by [subtyping](https://en.wikipedia.org/wiki/Subtyping)</font>, much like normal function calls in C++ or Java, for instance. For example, `TensorShape([1, 2])` is a subtype of `TensorShape([None, None])` and so a call to the tf.function with `TensorShape([1, 2])` can be dispatched to the `ConcreteFunction` produced with `TensorShape([None, None])` but if a `ConcreteFunction` with `TensorShape([1, None])` also exists then it will prioritized since it is more specific."
   ]
  },
  {
   "cell_type": "markdown",
   "metadata": {},
   "source": [
    "<br>"
   ]
  },
  {
   "cell_type": "markdown",
   "metadata": {},
   "source": [
    "<font style=\"color:maroon;font-size:125%\">The `TraceType` is determined from input arguments as follows:</font>\n",
    "* For `Tensor`, the type is parameterized by the `Tensor`'s `dtype` and `shape`; ranked shapes are a subtype of unranked shapes; fixed dimensions are a subtype of unknown dimensions\n",
    "* For `Variable`, the type is similar to `Tensor`, but also includes a unique resource ID of the variable, necessary to correctly wire control dependencies\n",
    "* For Python primitive values, the type corresponds to the **value** itself. For example, the `TraceType` of the value `3` is `LiteralTraceType<3>`, not `int`.\n",
    "* For Python ordered containers such as `list` and `tuple`, etc., the type is parameterized by the types of their elements; for example, the type of `[1, 2]` is `ListTraceType<LiteralTraceType<1>, LiteralTraceType<2>>` and the type for   `[2, 1]` is `ListTraceType<LiteralTraceType<2>, LiteralTraceType<1>>` which is different.\n",
    "* For Python mappings such as `dict`, the type is also a mapping from the same keys but to the types of values instead the actual values. For example, the type of `{1: 2, 3: 4}`, is `MappingTraceType<<KeyValue<1, LiteralTraceType<2>>>, <KeyValue<3, LiteralTraceType<4>>>>`. However, unlike ordered containers, `{1: 2, 3: 4}` and `{3: 4, 1: 2}` have equivalent types.\n",
    "* For Python objects which implement the `__tf_tracing_type__` method, the type is whatever that method returns\n",
    "* For any other Python objects, the type is a generic `TraceType` which uses the object's Python equality and hashing for matching. (Note: It relies on [weakref](https://docs.python.org/3/library/weakref.html) to the object and hence only works as long as the object is in scope/not deleted.)\n"
   ]
  },
  {
   "cell_type": "markdown",
   "metadata": {},
   "source": [
    "<font style=\"color:maroon;font-size:110%\">**Note**: `TraceType` is based on the `Function` input parameters so changes to global and [free variables](https://docs.python.org/3/reference/executionmodel.html#binding-of-names) alone will not create a new trace. See [this section](#depending_on_python_global_and_free_variables) for recommended practices when dealing with Python global and free variables.</font>"
   ]
  },
  {
   "cell_type": "markdown",
   "metadata": {},
   "source": [
    "<br>\n",
    "<br>"
   ]
  },
  {
   "cell_type": "markdown",
   "metadata": {},
   "source": [
    "### Controlling retracing\n",
    "\n",
    "Retracing, which is when your `Function` creates more than one trace, helps ensures that TensorFlow generates correct graphs for each set of inputs. <font style=\"color:maroon;font-size:110%\">However, **tracing is an expensive operation!** If your `Function` retraces a new graph for every call, you'll find that your code executes more slowly than if you didn't use `tf.function`.</font>"
   ]
  },
  {
   "cell_type": "markdown",
   "metadata": {},
   "source": [
    "<font style=\"color:maroon;font-size:110%\">To control the tracing behavior, you can use the following techniques:</font>"
   ]
  },
  {
   "cell_type": "markdown",
   "metadata": {},
   "source": [
    "#### Pass a fixed <font color=maroon>**input_signature**</font> to <font color=maroon>**tf.function**</font>"
   ]
  },
  {
   "cell_type": "code",
   "execution_count": 11,
   "metadata": {},
   "outputs": [
    {
     "name": "stdout",
     "output_type": "stream",
     "text": [
      "Tracing with Tensor(\"x:0\", shape=(None,), dtype=int32)\n",
      "tf.Tensor([4 1], shape=(2,), dtype=int32)\n",
      "Caught expected exception \n",
      "  <class 'ValueError'>:\n",
      "Caught expected exception \n",
      "  <class 'ValueError'>:\n"
     ]
    },
    {
     "name": "stderr",
     "output_type": "stream",
     "text": [
      "Traceback (most recent call last):\n",
      "  File \"C:\\Users\\18617\\AppData\\Local\\Temp/ipykernel_12952/1818809857.py\", line 8, in assert_raises\n",
      "    yield\n",
      "  File \"C:\\Users\\18617\\AppData\\Local\\Temp/ipykernel_12952/1833497163.py\", line 10, in <module>\n",
      "    next_collatz(tf.constant([[1, 2], [3, 4]]))   # 2-D\n",
      "ValueError: Python inputs incompatible with input_signature:\n",
      "  inputs: (\n",
      "    tf.Tensor(\n",
      "[[1 2]\n",
      " [3 4]], shape=(2, 2), dtype=int32))\n",
      "  input_signature: (\n",
      "    TensorSpec(shape=(None,), dtype=tf.int32, name=None)).\n",
      "Traceback (most recent call last):\n",
      "  File \"C:\\Users\\18617\\AppData\\Local\\Temp/ipykernel_12952/1818809857.py\", line 8, in assert_raises\n",
      "    yield\n",
      "  File \"C:\\Users\\18617\\AppData\\Local\\Temp/ipykernel_12952/1833497163.py\", line 14, in <module>\n",
      "    next_collatz(tf.constant([1.0, 2.0]))         # float32\n",
      "ValueError: Python inputs incompatible with input_signature:\n",
      "  inputs: (\n",
      "    tf.Tensor([1. 2.], shape=(2,), dtype=float32))\n",
      "  input_signature: (\n",
      "    TensorSpec(shape=(None,), dtype=tf.int32, name=None)).\n"
     ]
    }
   ],
   "source": [
    "@tf.function(input_signature=(tf.TensorSpec(shape=[None], dtype=tf.int32),))\n",
    "def next_collatz(x):\n",
    "    print(\"Tracing with\", x)\n",
    "    return tf.where(x % 2 == 0,  x // 2,  3 * x + 1)\n",
    "\n",
    "print(next_collatz(tf.constant([1, 2])))\n",
    "\n",
    "# You specified a 1-D tensor in the input signature, so this should fail.\n",
    "with assert_raises(ValueError):\n",
    "    next_collatz(tf.constant([[1, 2], [3, 4]]))   # 2-D\n",
    "\n",
    "# You specified an int32 dtype in the input signature, so this should fail.\n",
    "with assert_raises(ValueError):\n",
    "    next_collatz(tf.constant([1.0, 2.0]))         # float32\n"
   ]
  },
  {
   "cell_type": "markdown",
   "metadata": {},
   "source": [
    "<br>\n",
    "<br>"
   ]
  },
  {
   "cell_type": "markdown",
   "metadata": {},
   "source": [
    "#### Use unknown dimensions for flexibility\n",
    "\n",
    "<font style=\"color:maroon;font-size:110%\">Since TensorFlow matches tensors based on their shape, using a `None` dimension as a wildcard will allow `Function`s to reuse traces for variably-sized input.</font> \n",
    "\n",
    "**Variably-sized input** can occur if you have sequences of different length, or images of different sizes for each batch (See the [Transformer](https://colab.research.google.com/github/tensorflow/docs/blob/master/site/en/tutorials/text/transformer.ipynb) and [Deep Dream](https://colab.research.google.com/github/tensorflow/docs/blob/master/site/en/tutorials/generative/deepdream.ipynb) tutorials for example)."
   ]
  },
  {
   "cell_type": "code",
   "execution_count": 12,
   "metadata": {},
   "outputs": [
    {
     "name": "stdout",
     "output_type": "stream",
     "text": [
      "Tracing with Tensor(\"x:0\", shape=(None,), dtype=int32)\n",
      "tf.Tensor([1 2 3], shape=(3,), dtype=int32)\n",
      "tf.Tensor([1 2 3 4 5], shape=(5,), dtype=int32)\n"
     ]
    }
   ],
   "source": [
    "@tf.function(input_signature=(tf.TensorSpec(shape=[None], dtype=tf.int32),))\n",
    "def g(x):\n",
    "    print('Tracing with', x)\n",
    "    return x\n",
    "\n",
    "# No retrace!\n",
    "print(g(tf.constant([1, 2, 3])))\n",
    "print(g(tf.constant([1, 2, 3, 4, 5])))"
   ]
  },
  {
   "cell_type": "markdown",
   "metadata": {},
   "source": [
    "<br>\n",
    "<br>"
   ]
  },
  {
   "cell_type": "markdown",
   "metadata": {},
   "source": [
    "#### **Pass tensors instead of python literals**\n",
    "\n",
    "<font style=\"color:maroon;font-size:110%\">**Often, Python arguments are used to control hyperparameters and graph constructions** - for example, `num_layers=10` or `training=True` or `nonlinearity='relu'`. So, if the Python argument changes, it makes sense that you'd have to retrace the graph.\n",
    "\n",
    "**However, it's possible that a Python argument is not being used to control graph construction**. In these cases, a change in the Python value can trigger needless retracing.</font> Take, for example, this training loop, which AutoGraph will dynamically unroll. Despite the multiple traces, the generated graph is actually identical, so retracing is unnecessary."
   ]
  },
  {
   "cell_type": "code",
   "execution_count": 13,
   "metadata": {},
   "outputs": [
    {
     "name": "stdout",
     "output_type": "stream",
     "text": [
      "Retracing occurs for different Python arguments.\n",
      "Tracing with num_steps =  10\n",
      "Executing with num_steps =  10\n",
      "\n",
      "Tracing with num_steps =  20\n",
      "Executing with num_steps =  20\n",
      "\n",
      "Traces are reused for Tensor arguments.\n",
      "Tracing with num_steps =  Tensor(\"num_steps:0\", shape=(), dtype=int32)\n",
      "Executing with num_steps =  10\n",
      "Executing with num_steps =  20\n"
     ]
    }
   ],
   "source": [
    "def train_one_step():\n",
    "    pass\n",
    "\n",
    "@tf.function\n",
    "def train(num_steps):\n",
    "    print(\"Tracing with num_steps = \", num_steps)\n",
    "    \n",
    "    tf.print(\"Executing with num_steps = \", num_steps)\n",
    "    for _ in tf.range(num_steps):\n",
    "        train_one_step()\n",
    "\n",
    "print(\"Retracing occurs for different Python arguments.\")\n",
    "train(num_steps=10)\n",
    "print()\n",
    "train(num_steps=20)\n",
    "\n",
    "print()\n",
    "print(\"Traces are reused for Tensor arguments.\")\n",
    "train(num_steps=tf.constant(10))\n",
    "train(num_steps=tf.constant(20))"
   ]
  },
  {
   "cell_type": "markdown",
   "metadata": {},
   "source": [
    "<br>"
   ]
  },
  {
   "cell_type": "markdown",
   "metadata": {},
   "source": [
    "<font style=\"color:maroon;font-size:110%\">If you need to force retracing, create a new `Function`. Separate `Function` objects are guaranteed not to share traces.</font>"
   ]
  },
  {
   "cell_type": "code",
   "execution_count": 14,
   "metadata": {},
   "outputs": [
    {
     "name": "stdout",
     "output_type": "stream",
     "text": [
      "Tracing!\n",
      "Executing\n",
      "\n",
      "Tracing!\n",
      "Executing\n"
     ]
    }
   ],
   "source": [
    "def f():\n",
    "    print('Tracing!')\n",
    "    tf.print('Executing')\n",
    "\n",
    "tf.function(f)()\n",
    "print()\n",
    "tf.function(f)()"
   ]
  },
  {
   "cell_type": "markdown",
   "metadata": {},
   "source": [
    "<br>\n",
    "<br>"
   ]
  },
  {
   "cell_type": "markdown",
   "metadata": {},
   "source": [
    "#### Use the tracing protocol\n",
    "\n",
    "<font style=\"color:maroon;font-size:110%\">Where possible, you should prefer converting the Python type into a [`tf.experimental.ExtensionType`](www.tensorflow.org/api_docs/python/tf/experimental/ExtensionType) instead. Moreover, the `TraceType` of an `ExtensionType` is the `tf.TypeSpec` associated with it. Therefore, if needed, you can simply [override](https://www.tensorflow.org/guide/extension_type#customizing_the_extensiontypes_typespec) the default `tf.TypeSpec` to take control of an `ExtensionType`'s `Tracing Protocol`.\n",
    "\n",
    "Otherwise, for direct control over when `Function` should retrace in regards to a particular Python type, you can implement the `Tracing Protocol` for it yourself.</font>"
   ]
  },
  {
   "cell_type": "code",
   "execution_count": 15,
   "metadata": {},
   "outputs": [
    {
     "ename": "AttributeError",
     "evalue": "module 'tensorflow._api.v2.types.experimental' has no attribute 'TraceType'",
     "output_type": "error",
     "traceback": [
      "\u001b[1;31m---------------------------------------------------------------------------\u001b[0m",
      "\u001b[1;31mAttributeError\u001b[0m                            Traceback (most recent call last)",
      "\u001b[1;32m~\\AppData\\Local\\Temp/ipykernel_12952/294920289.py\u001b[0m in \u001b[0;36m<module>\u001b[1;34m\u001b[0m\n\u001b[0;32m     24\u001b[0m \u001b[1;31m# functions can have significant performance benefits.\u001b[0m\u001b[1;33m\u001b[0m\u001b[1;33m\u001b[0m\u001b[0m\n\u001b[0;32m     25\u001b[0m \u001b[1;33m\u001b[0m\u001b[0m\n\u001b[1;32m---> 26\u001b[1;33m \u001b[1;32mclass\u001b[0m \u001b[0mFruitTraceType\u001b[0m\u001b[1;33m(\u001b[0m\u001b[0mtf\u001b[0m\u001b[1;33m.\u001b[0m\u001b[0mtypes\u001b[0m\u001b[1;33m.\u001b[0m\u001b[0mexperimental\u001b[0m\u001b[1;33m.\u001b[0m\u001b[0mTraceType\u001b[0m\u001b[1;33m)\u001b[0m\u001b[1;33m:\u001b[0m\u001b[1;33m\u001b[0m\u001b[1;33m\u001b[0m\u001b[0m\n\u001b[0m\u001b[0;32m     27\u001b[0m \u001b[1;31m# AttributeError: module 'tensorflow._api.v2.types.experimental' has no attribute 'TraceType'\u001b[0m\u001b[1;33m\u001b[0m\u001b[1;33m\u001b[0m\u001b[0m\n\u001b[0;32m     28\u001b[0m \u001b[1;31m# 因为 tf.types.experimental.TraceType 来自 TensorFlow Core v2.9.0\u001b[0m\u001b[1;33m\u001b[0m\u001b[1;33m\u001b[0m\u001b[0m\n",
      "\u001b[1;31mAttributeError\u001b[0m: module 'tensorflow._api.v2.types.experimental' has no attribute 'TraceType'"
     ]
    }
   ],
   "source": [
    "@tf.function\n",
    "def get_mixed_flavor(fruit_a, fruit_b):\n",
    "    return fruit_a.flavor + fruit_b.flavor\n",
    "\n",
    "class Fruit:\n",
    "    flavor = tf.constant([0, 0])\n",
    "\n",
    "class Apple(Fruit):\n",
    "    flavor = tf.constant([1, 2])\n",
    "\n",
    "class Mango(Fruit):\n",
    "    flavor = tf.constant([3, 4])\n",
    "\n",
    "# As described in the above rules, a generic TraceType for `Apple` and `Mango`\n",
    "# is generated (and a corresponding ConcreteFunction is traced) but it fails to \n",
    "# match the second function call since the first pair of Apple() and Mango() \n",
    "# have gone out out of scope by then and deleted.\n",
    "get_mixed_flavor(Apple(), Mango()) # Traces a new concrete function\n",
    "get_mixed_flavor(Apple(), Mango()) # Traces a new concrete function again\n",
    "\n",
    "# However, we, as the designers of the `Fruit` class, know that each subclass\n",
    "# has a fixed flavor and we can reuse an existing traced concrete function if\n",
    "# it was the same subclass. Avoiding such unnecessary tracing of concrete\n",
    "# functions can have significant performance benefits.\n",
    "\n",
    "class FruitTraceType(tf.types.experimental.TraceType):\n",
    "# AttributeError: module 'tensorflow._api.v2.types.experimental' has no attribute 'TraceType'\n",
    "# 因为 tf.types.experimental.TraceType 来自 TensorFlow Core v2.9.0\n",
    "\n",
    "    def __init__(self, fruit_type):\n",
    "        self.fruit_type = fruit_type\n",
    "\n",
    "    def is_subtype_of(self, other):\n",
    "        return (type(other) is FruitTraceType and self.fruit_type is other.fruit_type)\n",
    "\n",
    "    def most_specific_common_supertype(self, others):\n",
    "        return self if all(self == other for other in others) else None\n",
    "\n",
    "    def __eq__(self, other):\n",
    "        return type(other) is FruitTraceType and self.fruit_type == other.fruit_type\n",
    "  \n",
    "    def __hash__(self):\n",
    "        return hash(self.fruit_type)\n",
    "\n",
    "\n",
    "\n",
    "class FruitWithTraceType:\n",
    "\n",
    "    def __tf_tracing_type__(self, context):\n",
    "        return FruitTraceType(type(self))\n",
    "\n",
    "class AppleWithTraceType(FruitWithTraceType):\n",
    "    flavor = tf.constant([1, 2])\n",
    "\n",
    "class MangoWithTraceType(FruitWithTraceType):\n",
    "    flavor = tf.constant([3, 4])\n",
    "\n",
    "# Now if we try calling it again:\n",
    "get_mixed_flavor(AppleWithTraceType(), MangoWithTraceType()) # Traces a new concrete function\n",
    "get_mixed_flavor(AppleWithTraceType(), MangoWithTraceType()) # Re-uses the traced concrete function"
   ]
  },
  {
   "cell_type": "markdown",
   "metadata": {},
   "source": [
    "<br>\n",
    "<br>"
   ]
  },
  {
   "cell_type": "markdown",
   "metadata": {},
   "source": [
    "### Obtaining concrete functions\n",
    "\n",
    "<font style=\"color:maroon;font-size:120%\">Every time a function is traced, a new concrete function is created. You can directly obtain a concrete function, by using `get_concrete_function`.</font>"
   ]
  },
  {
   "cell_type": "code",
   "execution_count": 16,
   "metadata": {},
   "outputs": [
    {
     "name": "stdout",
     "output_type": "stream",
     "text": [
      "Obtaining concrete trace\n",
      "Executing traced function\n",
      "tf.Tensor(b'aa', shape=(), dtype=string)\n",
      "tf.Tensor(b'bb', shape=(), dtype=string)\n"
     ]
    }
   ],
   "source": [
    "print(\"Obtaining concrete trace\")\n",
    "double_strings = double.get_concrete_function(tf.constant(\"a\"))\n",
    "\n",
    "print(\"Executing traced function\")\n",
    "print(double_strings(tf.constant(\"a\")))\n",
    "print(double_strings(a=tf.constant(\"b\")))"
   ]
  },
  {
   "cell_type": "code",
   "execution_count": 17,
   "metadata": {},
   "outputs": [
    {
     "name": "stdout",
     "output_type": "stream",
     "text": [
      "tf.Tensor(b'cc', shape=(), dtype=string)\n"
     ]
    }
   ],
   "source": [
    "# You can also call get_concrete_function on an InputSpec\n",
    "double_strings_from_inputspec = double.get_concrete_function(tf.TensorSpec(shape=[], \n",
    "                                                                           dtype=tf.string))\n",
    "print(double_strings_from_inputspec(tf.constant(\"c\")))"
   ]
  },
  {
   "cell_type": "markdown",
   "metadata": {},
   "source": [
    "<br>"
   ]
  },
  {
   "cell_type": "markdown",
   "metadata": {},
   "source": [
    "<font style=\"color:maroon;font-size:110%\">Printing a `ConcreteFunction` displays a summary of its input arguments (with types) and its output type.</font>"
   ]
  },
  {
   "cell_type": "code",
   "execution_count": 18,
   "metadata": {},
   "outputs": [
    {
     "name": "stdout",
     "output_type": "stream",
     "text": [
      "ConcreteFunction double(a)\n",
      "  Args:\n",
      "    a: string Tensor, shape=()\n",
      "  Returns:\n",
      "    string Tensor, shape=()\n"
     ]
    }
   ],
   "source": [
    "print(double_strings)"
   ]
  },
  {
   "cell_type": "markdown",
   "metadata": {},
   "source": [
    "<br>"
   ]
  },
  {
   "cell_type": "markdown",
   "metadata": {},
   "source": [
    "You can also directly retrieve a concrete function's signature."
   ]
  },
  {
   "cell_type": "code",
   "execution_count": 19,
   "metadata": {},
   "outputs": [
    {
     "name": "stdout",
     "output_type": "stream",
     "text": [
      "((TensorSpec(shape=(), dtype=tf.string, name='a'),), {})\n",
      "Tensor(\"Identity:0\", shape=(), dtype=string)\n"
     ]
    }
   ],
   "source": [
    "print(double_strings.structured_input_signature)\n",
    "print(double_strings.structured_outputs)"
   ]
  },
  {
   "cell_type": "markdown",
   "metadata": {},
   "source": [
    "<br>"
   ]
  },
  {
   "cell_type": "markdown",
   "metadata": {},
   "source": [
    "Using a concrete trace with incompatible types will throw an error"
   ]
  },
  {
   "cell_type": "code",
   "execution_count": 20,
   "metadata": {},
   "outputs": [
    {
     "name": "stdout",
     "output_type": "stream",
     "text": [
      "Caught expected exception \n",
      "  <class 'tensorflow.python.framework.errors_impl.InvalidArgumentError'>:\n"
     ]
    },
    {
     "name": "stderr",
     "output_type": "stream",
     "text": [
      "Traceback (most recent call last):\n",
      "  File \"C:\\Users\\18617\\AppData\\Local\\Temp/ipykernel_12952/1818809857.py\", line 8, in assert_raises\n",
      "    yield\n",
      "  File \"C:\\Users\\18617\\AppData\\Local\\Temp/ipykernel_12952/411856298.py\", line 2, in <module>\n",
      "    double_strings(tf.constant(1))\n",
      "tensorflow.python.framework.errors_impl.InvalidArgumentError: cannot compute __inference_double_162 as input #0(zero-based) was expected to be a string tensor but is a int32 tensor [Op:__inference_double_162]\n"
     ]
    }
   ],
   "source": [
    "with assert_raises(tf.errors.InvalidArgumentError):\n",
    "    double_strings(tf.constant(1))"
   ]
  },
  {
   "cell_type": "markdown",
   "metadata": {},
   "source": [
    "<br>"
   ]
  },
  {
   "cell_type": "markdown",
   "metadata": {},
   "source": [
    "<font style=\"color:maroon;font-size:110%\">You may notice that Python arguments are given special treatment in a concrete function's input signature.</font> Prior to TensorFlow 2.3, Python arguments were simply removed from the concrete function's signature. <font style=\"color:maroon;font-size:110%\">Starting with TensorFlow 2.3, Python arguments remain in the signature, but are constrained to take the value set during tracing.</font>"
   ]
  },
  {
   "cell_type": "code",
   "execution_count": 21,
   "metadata": {},
   "outputs": [
    {
     "name": "stdout",
     "output_type": "stream",
     "text": [
      "ConcreteFunction pow(a, b=2)\n",
      "  Args:\n",
      "    a: float32 Tensor, shape=<unknown>\n",
      "  Returns:\n",
      "    float32 Tensor, shape=<unknown>\n"
     ]
    }
   ],
   "source": [
    "@tf.function\n",
    "def pow(a, b):\n",
    "    return a ** b\n",
    "\n",
    "square = pow.get_concrete_function(a=tf.TensorSpec(None, tf.float32), b=2)\n",
    "print(square)"
   ]
  },
  {
   "cell_type": "code",
   "execution_count": 22,
   "metadata": {},
   "outputs": [
    {
     "name": "stdout",
     "output_type": "stream",
     "text": [
      "Caught expected exception \n",
      "  <class 'TypeError'>:\n"
     ]
    },
    {
     "name": "stderr",
     "output_type": "stream",
     "text": [
      "Traceback (most recent call last):\n",
      "  File \"D:\\Programs\\Anaconda3\\envs\\tfg\\lib\\site-packages\\tensorflow\\python\\eager\\function.py\", line 1614, in _call_impl\n",
      "    return self._call_with_flat_signature(args, kwargs,\n",
      "  File \"D:\\Programs\\Anaconda3\\envs\\tfg\\lib\\site-packages\\tensorflow\\python\\eager\\function.py\", line 1659, in _call_with_flat_signature\n",
      "    raise TypeError(f\"{self._flat_signature_summary()} got unexpected \"\n",
      "TypeError: pow(a) got unexpected keyword arguments: b.\n",
      "\n",
      "During handling of the above exception, another exception occurred:\n",
      "\n",
      "Traceback (most recent call last):\n",
      "  File \"C:\\Users\\18617\\AppData\\Local\\Temp/ipykernel_12952/1818809857.py\", line 8, in assert_raises\n",
      "    yield\n",
      "  File \"C:\\Users\\18617\\AppData\\Local\\Temp/ipykernel_12952/1293241696.py\", line 4, in <module>\n",
      "    square(tf.constant(10.0), b=3)\n",
      "TypeError: ConcreteFunction pow(a, b) was constructed with int value 2 in b, but was called with int value 3.\n"
     ]
    }
   ],
   "source": [
    "assert square(tf.constant(10.0)) == 100\n",
    "\n",
    "with assert_raises(TypeError):\n",
    "    square(tf.constant(10.0), b=3)"
   ]
  },
  {
   "cell_type": "markdown",
   "metadata": {},
   "source": [
    "<br>\n",
    "<br>"
   ]
  },
  {
   "cell_type": "markdown",
   "metadata": {},
   "source": [
    "### Obtaining graphs\n",
    "\n",
    "Each concrete function is a callable wrapper around a `tf.Graph`. Although retrieving the actual `tf.Graph` object is not something you'll normally need to do, you can obtain it easily from any concrete function."
   ]
  },
  {
   "cell_type": "code",
   "execution_count": 23,
   "metadata": {},
   "outputs": [
    {
     "name": "stdout",
     "output_type": "stream",
     "text": [
      "[] -> a\n",
      "['a', 'a'] -> add\n",
      "['add'] -> Identity\n"
     ]
    }
   ],
   "source": [
    "graph = double_strings.graph\n",
    "for node in graph.as_graph_def().node:\n",
    "    print(f'{node.input} -> {node.name}')\n"
   ]
  },
  {
   "cell_type": "markdown",
   "metadata": {},
   "source": [
    "<br>\n",
    "<br>"
   ]
  },
  {
   "cell_type": "markdown",
   "metadata": {},
   "source": [
    "### **Debugging**\n",
    "\n",
    "<font style=\"color:maroon;font-size:110%\">**In general, debugging code is easier in eager mode than inside `tf.function`**. You should ensure that your code executes error-free in eager mode before decorating with `tf.function`. To assist in the debugging process, you can call `tf.config.run_functions_eagerly(True)` to globally disable and reenable `tf.function`.</font>"
   ]
  },
  {
   "cell_type": "markdown",
   "metadata": {},
   "source": [
    "<br>"
   ]
  },
  {
   "cell_type": "markdown",
   "metadata": {},
   "source": [
    "<font style=\"color:maroon;font-size:115%\">When tracking down issues that only appear within `tf.function`, here are some tips:</font>\n",
    "- Plain old Python `print` calls only execute during tracing, helping you track down when your function gets (re)traced.\n",
    "- `tf.print` calls will execute every time, and can help you track down intermediate values during execution.\n",
    "- `tf.debugging.enable_check_numerics` is an easy way to track down where NaNs and Inf are created.\n",
    "- `pdb` (the [Python debugger](https://docs.python.org/3/library/pdb.html)) can help you understand what's going on during tracing. (Caveat: `pdb` will drop you into AutoGraph-transformed source code.)"
   ]
  },
  {
   "cell_type": "markdown",
   "metadata": {},
   "source": [
    "<br>\n",
    "<br>\n",
    "<br>\n",
    "<br>"
   ]
  },
  {
   "cell_type": "markdown",
   "metadata": {},
   "source": [
    "## **AutoGraph transformations**\n",
    "\n",
    "<font style=\"color:maroon;font-size:110%\">AutoGraph is a library that is on by default in `tf.function`, and transforms a subset of Python eager code into graph-compatible TensorFlow ops. This includes control flow like `if`, `for`, `while`.\n",
    "\n",
    "TensorFlow ops like `tf.cond` and `tf.while_loop` continue to work, but control flow is often easier to write and understand when written in Python.</font>"
   ]
  },
  {
   "cell_type": "code",
   "execution_count": 24,
   "metadata": {},
   "outputs": [
    {
     "name": "stdout",
     "output_type": "stream",
     "text": [
      "[0.632292867 0.942353725 0.0461101532 0.224100947 0.324224234]\n",
      "[0.559629 0.736301839 0.0460774973 0.220423281 0.313321471]\n",
      "[0.507702112 0.62690562 0.0460449122 0.216921449 0.30345574]\n",
      "[0.468152851 0.555917859 0.0460123979 0.213581875 0.29447186]\n",
      "[0.436705619 0.504942358 0.0459799431 0.210392356 0.286245465]\n",
      "[0.410909981 0.465995133 0.0459475629 0.207342014 0.278675467]\n",
      "[0.389245063 0.434957772 0.0459152497 0.204420939 0.271678746]\n",
      "[0.370709181 0.409456253 0.0458830073 0.201620296 0.265186191]\n",
      "[0.354611874 0.388010919 0.0458508283 0.198931992 0.259139895]\n",
      "[0.340459198 0.369644165 0.04581872 0.196348682 0.253490835]\n",
      "[0.327887267 0.353680432 0.0457866788 0.193863705 0.248197258]\n",
      "[0.316621065 0.339635491 0.0457547 0.191470981 0.243223295]\n",
      "[0.30644846 0.327151924 0.0457227938 0.189164937 0.238537937]\n",
      "[0.297202677 0.315959334 0.0456909537 0.186940446 0.234114304]\n",
      "[0.288750589 0.305848777 0.0456591807 0.184792802 0.229928792]\n",
      "[0.280984461 0.296655864 0.0456274711 0.182717681 0.225960776]\n",
      "[0.27381596 0.288249254 0.0455958284 0.180711076 0.222191975]\n"
     ]
    },
    {
     "data": {
      "text/plain": [
       "<tf.Tensor: shape=(5,), dtype=float32, numpy=\n",
       "array([0.267172  , 0.2805226 , 0.04556425, 0.1787693 , 0.21860625],\n",
       "      dtype=float32)>"
      ]
     },
     "execution_count": 24,
     "metadata": {},
     "output_type": "execute_result"
    }
   ],
   "source": [
    "# A simple loop\n",
    "\n",
    "@tf.function\n",
    "def f(x):\n",
    "    while tf.reduce_sum(x) > 1:\n",
    "        tf.print(x)\n",
    "        x = tf.tanh(x)\n",
    "    return x\n",
    "\n",
    "f(tf.random.uniform([5]))"
   ]
  },
  {
   "cell_type": "markdown",
   "metadata": {},
   "source": [
    "<br>"
   ]
  },
  {
   "cell_type": "markdown",
   "metadata": {},
   "source": [
    "If you're curious you can inspect the code autograph generates."
   ]
  },
  {
   "cell_type": "code",
   "execution_count": 25,
   "metadata": {},
   "outputs": [
    {
     "name": "stdout",
     "output_type": "stream",
     "text": [
      "def tf__f(x):\n",
      "    with ag__.FunctionScope('f', 'fscope', ag__.ConversionOptions(recursive=True, user_requested=True, optional_features=(), internal_convert_user_code=True)) as fscope:\n",
      "        do_return = False\n",
      "        retval_ = ag__.UndefinedReturnValue()\n",
      "\n",
      "        def get_state():\n",
      "            return (x,)\n",
      "\n",
      "        def set_state(vars_):\n",
      "            nonlocal x\n",
      "            (x,) = vars_\n",
      "\n",
      "        def loop_body():\n",
      "            nonlocal x\n",
      "            ag__.converted_call(ag__.ld(tf).print, (ag__.ld(x),), None, fscope)\n",
      "            x = ag__.converted_call(ag__.ld(tf).tanh, (ag__.ld(x),), None, fscope)\n",
      "\n",
      "        def loop_test():\n",
      "            return ag__.converted_call(ag__.ld(tf).reduce_sum, (ag__.ld(x),), None, fscope) > 1\n",
      "        ag__.while_stmt(loop_test, loop_body, get_state, set_state, ('x',), {})\n",
      "        try:\n",
      "            do_return = True\n",
      "            retval_ = ag__.ld(x)\n",
      "        except:\n",
      "            do_return = False\n",
      "            raise\n",
      "        return fscope.ret(retval_, do_return)\n",
      "\n"
     ]
    }
   ],
   "source": [
    "print(tf.autograph.to_code(f.python_function))"
   ]
  },
  {
   "cell_type": "markdown",
   "metadata": {},
   "source": [
    "<br>\n",
    "<br>"
   ]
  },
  {
   "cell_type": "markdown",
   "metadata": {},
   "source": [
    "### Conditionals\n",
    "\n",
    "AutoGraph will convert some `if <condition>` statements into the equivalent `tf.cond` calls. This substitution is made if `<condition>` is a Tensor. Otherwise, the `if` statement is executed as a Python conditional.\n",
    "\n",
    "A **Python conditional** executes during tracing, so **exactly one branch of the conditional** will be added to the graph. <font style=\"color:maroon;font-size:110%\">Without AutoGraph, this traced graph would be unable to take the alternate branch if there is data-dependent control flow.</font>\n",
    "\n",
    "`tf.cond` traces and adds both branches of the conditional to the graph, dynamically selecting a branch at execution time. Tracing can have unintended side effects; check out [AutoGraph tracing effects](https://github.com/tensorflow/tensorflow/blob/master/tensorflow/python/autograph/g3doc/reference/control_flow.md#effects-of-the-tracing-process) for more information."
   ]
  },
  {
   "cell_type": "code",
   "execution_count": 26,
   "metadata": {},
   "outputs": [
    {
     "name": "stdout",
     "output_type": "stream",
     "text": [
      "Tracing for loop\n",
      "Tracing fizzbuzz branch\n",
      "Tracing fizz branch\n",
      "Tracing buzz branch\n",
      "Tracing default branch\n",
      "1\n",
      "2\n",
      "fizz\n",
      "4\n",
      "buzz\n",
      "\n",
      "\n",
      "\n",
      "1\n",
      "2\n",
      "fizz\n",
      "4\n",
      "buzz\n",
      "fizz\n",
      "7\n",
      "8\n",
      "fizz\n",
      "buzz\n",
      "11\n",
      "fizz\n",
      "13\n",
      "14\n",
      "fizzbuzz\n",
      "16\n",
      "17\n",
      "fizz\n",
      "19\n",
      "buzz\n"
     ]
    }
   ],
   "source": [
    "@tf.function\n",
    "def fizzbuzz(n):\n",
    "    for i in tf.range(1, n + 1):\n",
    "        print('Tracing for loop')\n",
    "        if i % 15 == 0:\n",
    "            print('Tracing fizzbuzz branch')\n",
    "            tf.print('fizzbuzz')\n",
    "        elif i % 3 == 0:\n",
    "            print('Tracing fizz branch')\n",
    "            tf.print('fizz')\n",
    "        elif i % 5 == 0:\n",
    "            print('Tracing buzz branch')\n",
    "            tf.print('buzz')\n",
    "        else:\n",
    "            print('Tracing default branch')\n",
    "            tf.print(i)\n",
    "\n",
    "fizzbuzz(tf.constant(5))\n",
    "print('\\n\\n')\n",
    "fizzbuzz(tf.constant(20))"
   ]
  },
  {
   "cell_type": "markdown",
   "metadata": {},
   "source": [
    "<br>"
   ]
  },
  {
   "cell_type": "markdown",
   "metadata": {},
   "source": [
    "See the [reference documentation](https://github.com/tensorflow/tensorflow/blob/master/tensorflow/python/autograph/g3doc/reference/control_flow.md#if-statements) for additional restrictions on AutoGraph-converted if statements."
   ]
  },
  {
   "cell_type": "markdown",
   "metadata": {},
   "source": [
    "<br>\n",
    "<br>"
   ]
  },
  {
   "cell_type": "markdown",
   "metadata": {},
   "source": [
    "### Loops\n",
    "\n",
    "AutoGraph will convert some `for` and `while` statements into the equivalent **TensorFlow looping ops**, like `tf.while_loop`. If not converted, the `for` or `while` loop is executed as a **Python loop**.\n",
    "\n",
    "This substitution is made in the following situations:\n",
    "\n",
    "- `for x in y`: if `y` is a Tensor, convert to `tf.while_loop`. In the special case where `y` is a `tf.data.Dataset`, a combination of `tf.data.Dataset` ops are generated.\n",
    "- `while <condition>`: if `<condition>` is a Tensor, convert to `tf.while_loop`.\n",
    "\n",
    "<font style=\"color:maroon;font-size:110%\">A **Python loop** executes during tracing, adding additional ops to the `tf.Graph` for every iteration of the loop.\n",
    "\n",
    "A **TensorFlow loop** traces the body of the loop, and dynamically selects how many iterations to run at execution time.  The loop body only appears once in the generated `tf.Graph`.</font>\n",
    "\n",
    "See the [reference documentation](https://github.com/tensorflow/tensorflow/blob/master/tensorflow/python/autograph/g3doc/reference/control_flow.md#while-statements) for additional restrictions on AutoGraph-converted `for` and `while` statements."
   ]
  },
  {
   "cell_type": "markdown",
   "metadata": {},
   "source": [
    "<br>"
   ]
  },
  {
   "cell_type": "markdown",
   "metadata": {},
   "source": [
    "#### Looping over Python data\n",
    "\n",
    "<font style=\"color:maroon;font-size:110%\">A common pitfall is to loop over Python/NumPy data within a `tf.function`. This loop will execute during the tracing process, adding a copy of your model to the `tf.Graph` for each iteration of the loop.\n",
    "\n",
    "If you want to wrap the entire training loop in `tf.function`, the safest way to do this is to wrap your data as a `tf.data.Dataset` so that AutoGraph will dynamically unroll the training loop.</font>"
   ]
  },
  {
   "cell_type": "code",
   "execution_count": 27,
   "metadata": {},
   "outputs": [
    {
     "name": "stdout",
     "output_type": "stream",
     "text": [
      "train([(1, 1), (1, 1), (1, 1)]) contains 11 nodes in its graph\n",
      "\n",
      "train([(1, 1), (1, 1), (1, 1), (1, 1), (1, 1), (1, 1), (1, 1), (1, 1), (1, 1), (1, 1)]) contains 32 nodes in its graph\n",
      "\n",
      "train(<FlatMapDataset element_spec=(TensorSpec(shape=<unknown>, dtype=tf.int32, name=None), TensorSpec(shape=<unknown>, dtype=tf.int32, name=None))>) contains 6 nodes in its graph\n",
      "\n",
      "train(<FlatMapDataset element_spec=(TensorSpec(shape=<unknown>, dtype=tf.int32, name=None), TensorSpec(shape=<unknown>, dtype=tf.int32, name=None))>) contains 6 nodes in its graph\n"
     ]
    }
   ],
   "source": [
    "def measure_graph_size(f, *args):\n",
    "    g = f.get_concrete_function(*args).graph\n",
    "    print(\"{}({}) contains {} nodes in its graph\".format(f.__name__, \n",
    "                                                         ', '.join(map(str, args)), \n",
    "                                                         len(g.as_graph_def().node)))\n",
    "\n",
    "@tf.function\n",
    "def train(dataset):\n",
    "    loss = tf.constant(0)\n",
    "    for x, y in dataset:\n",
    "        loss += tf.abs(y - x) # Some dummy computation.\n",
    "    return loss\n",
    "\n",
    "small_data = [(1, 1)] * 3\n",
    "big_data = [(1, 1)] * 10\n",
    "measure_graph_size(train, small_data)\n",
    "print()\n",
    "measure_graph_size(train, big_data)\n",
    "print()\n",
    "\n",
    "measure_graph_size(train, tf.data.Dataset.from_generator(\n",
    "    lambda: small_data, (tf.int32, tf.int32)))\n",
    "print()\n",
    "\n",
    "measure_graph_size(train, tf.data.Dataset.from_generator(\n",
    "    lambda: big_data, (tf.int32, tf.int32)))"
   ]
  },
  {
   "cell_type": "markdown",
   "metadata": {},
   "source": [
    "<br>"
   ]
  },
  {
   "cell_type": "markdown",
   "metadata": {},
   "source": [
    "<font style=\"color:maroon;font-size:110%\">When wrapping Python/NumPy data in a Dataset, be mindful of `tf.data.Dataset.from_generator` versus ` tf.data.Dataset.from_tensors`. \n",
    "* The former will keep the data in Python and fetch it via `tf.py_function` which can have **performance implications** `(性能可能会比较差)`, \n",
    "* whereas the latter will bundle a copy of the data as one large `tf.constant()` node in the graph, which can have **memory implications** `(内存占用可能会比较大)`.\n",
    "<br>\n",
    "<br>\n",
    "\n",
    "Reading data from files via `TFRecordDataset`, `CsvDataset`, etc. is the most effective way to consume data, as then TensorFlow itself can manage the asynchronous loading and prefetching of data, without having to involve Python. To learn more, see the [`tf.data`: Build TensorFlow input pipelines](https://github.com/tensorflow/docs/blob/master/site/guide/data) guide.</font>"
   ]
  },
  {
   "cell_type": "markdown",
   "metadata": {},
   "source": [
    "<br>\n",
    "<br>"
   ]
  },
  {
   "cell_type": "markdown",
   "metadata": {},
   "source": [
    "#### Accumulating values in a loop\n",
    "\n",
    "<font style=\"color:maroon;font-size:110%\">A common pattern is to accumulate intermediate values from a loop. Normally, this is accomplished by appending to a Python list or adding entries to a Python dictionary. **However, as these are Python side effects, they will not work as expected in a dynamically unrolled loop**. **Use `tf.TensorArray` to accumulate results from a dynamically unrolled loop**.</font>"
   ]
  },
  {
   "cell_type": "code",
   "execution_count": 28,
   "metadata": {},
   "outputs": [
    {
     "data": {
      "text/plain": [
       "<tf.Tensor: shape=(2, 3, 4), dtype=float32, numpy=\n",
       "array([[[0.43029308, 0.5712124 , 0.60114074, 0.75877225],\n",
       "        [1.3319141 , 1.4822532 , 1.2005941 , 1.0545665 ],\n",
       "        [1.957657  , 2.3078313 , 1.9735879 , 1.5388166 ]],\n",
       "\n",
       "       [[0.47058594, 0.5875126 , 0.25433707, 0.20146513],\n",
       "        [1.1806917 , 1.2655056 , 0.47434974, 0.67644346],\n",
       "        [1.1937488 , 2.1285586 , 1.2009484 , 1.2030194 ]]], dtype=float32)>"
      ]
     },
     "execution_count": 28,
     "metadata": {},
     "output_type": "execute_result"
    }
   ],
   "source": [
    "batch_size = 2\n",
    "seq_len = 3\n",
    "feature_size = 4\n",
    "\n",
    "def rnn_step(inp, state):\n",
    "    return inp + state\n",
    "\n",
    "\n",
    "\n",
    "@tf.function\n",
    "def dynamic_rnn(rnn_step, input_data, initial_state):\n",
    "    # [batch, time, features] -> [time, batch, features]\n",
    "    input_data = tf.transpose(input_data, [1, 0, 2])\n",
    "    max_seq_len = input_data.shape[0]\n",
    "\n",
    "    states = tf.TensorArray(tf.float32, size=max_seq_len)\n",
    "    state = initial_state\n",
    "    for i in tf.range(max_seq_len):\n",
    "        state = rnn_step(input_data[i], state)\n",
    "        states = states.write(i, state)\n",
    "    return tf.transpose(states.stack(), [1, 0, 2])\n",
    "\n",
    "dynamic_rnn(rnn_step,\n",
    "            tf.random.uniform([batch_size, seq_len, feature_size]),\n",
    "            tf.zeros([batch_size, feature_size]))"
   ]
  },
  {
   "cell_type": "markdown",
   "metadata": {},
   "source": [
    "<br>\n",
    "<br>\n",
    "<br>"
   ]
  },
  {
   "cell_type": "markdown",
   "metadata": {},
   "source": [
    "## <font color=maroon>**Limitations**</font>\n",
    "\n",
    "TensorFlow `Function` has a few limitations by design that you should be aware of when converting a Python function to a `Function`."
   ]
  },
  {
   "cell_type": "markdown",
   "metadata": {},
   "source": [
    "<br>"
   ]
  },
  {
   "cell_type": "markdown",
   "metadata": {},
   "source": [
    "### **Executing Python side effects**\n",
    "\n",
    "<font style=\"color:maroon;font-size:110%\"><ins>Side effects</ins>, like **printing**, **appending to lists**, and **mutating globals**, can behave unexpectedly inside a `Function`, sometimes executing twice or not all.</font> They only happen the first time you call a `Function` with a set of inputs.  Afterwards, the traced `tf.Graph` is reexecuted, without executing the Python code.\n",
    "\n",
    "The general rule of thumb is to avoid relying on Python side effects in your logic and only use them to debug your traces. Otherwise, TensorFlow APIs like `tf.data`, `tf.print`, `tf.summary`, `tf.Variable.assign`, and `tf.TensorArray` are the best way to ensure your code will be executed by the TensorFlow runtime with each call."
   ]
  },
  {
   "cell_type": "code",
   "execution_count": 29,
   "metadata": {},
   "outputs": [
    {
     "name": "stdout",
     "output_type": "stream",
     "text": [
      "Traced with 1\n",
      "Executed with 1\n",
      "\n",
      "Executed with 1\n",
      "\n",
      "Traced with 2\n",
      "Executed with 2\n"
     ]
    }
   ],
   "source": [
    "@tf.function\n",
    "def f(x):\n",
    "    print(\"Traced with\", x)\n",
    "    tf.print(\"Executed with\", x)\n",
    "\n",
    "f(1)\n",
    "print()\n",
    "\n",
    "f(1)\n",
    "print()\n",
    "\n",
    "f(2)"
   ]
  },
  {
   "cell_type": "markdown",
   "metadata": {},
   "source": [
    "<font style=\"color:maroon;font-size:110%\">If you would like to execute Python code during each invocation of a `Function`, **`tf.py_function` is an exit hatch**. The **drawback** of `tf.py_function` is that it's not portable or particularly performant, cannot be saved with SavedModel, and does not work well in distributed (multi-GPU, TPU) setups. Also, since `tf.py_function` has to be wired into the graph, it casts all inputs/outputs to tensors.</font>"
   ]
  },
  {
   "cell_type": "markdown",
   "metadata": {},
   "source": [
    "<br>\n",
    "<br>"
   ]
  },
  {
   "cell_type": "markdown",
   "metadata": {},
   "source": [
    "#### Changing Python global and free variables\n",
    "\n",
    "<font style=\"color:maroon;font-size:110%\">Changing Python global and [free variables](https://docs.python.org/3/reference/executionmodel.html#binding-of-names) counts as a Python side effect, so it only happens during tracing.</font>\n"
   ]
  },
  {
   "cell_type": "code",
   "execution_count": 30,
   "metadata": {},
   "outputs": [
    {
     "name": "stdout",
     "output_type": "stream",
     "text": [
      "Python side effect\n",
      "\n",
      "\n"
     ]
    }
   ],
   "source": [
    "external_list = []\n",
    "\n",
    "@tf.function\n",
    "def side_effect(x):\n",
    "    print('Python side effect')\n",
    "    external_list.append(x)\n",
    "\n",
    "side_effect(1)\n",
    "print()\n",
    "\n",
    "side_effect(1)\n",
    "print()\n",
    "\n",
    "side_effect(1)\n",
    "\n",
    "# The list append only happened once!\n",
    "assert len(external_list) == 1"
   ]
  },
  {
   "cell_type": "code",
   "execution_count": 31,
   "metadata": {},
   "outputs": [
    {
     "ename": "AssertionError",
     "evalue": "",
     "output_type": "error",
     "traceback": [
      "\u001b[1;31m---------------------------------------------------------------------------\u001b[0m",
      "\u001b[1;31mAssertionError\u001b[0m                            Traceback (most recent call last)",
      "\u001b[1;32m~\\AppData\\Local\\Temp/ipykernel_12952/1021133786.py\u001b[0m in \u001b[0;36m<module>\u001b[1;34m\u001b[0m\n\u001b[1;32m----> 1\u001b[1;33m \u001b[1;32massert\u001b[0m \u001b[0mlen\u001b[0m\u001b[1;33m(\u001b[0m\u001b[0mexternal_list\u001b[0m\u001b[1;33m)\u001b[0m \u001b[1;33m==\u001b[0m \u001b[1;36m2\u001b[0m\u001b[1;33m\u001b[0m\u001b[1;33m\u001b[0m\u001b[0m\n\u001b[0m",
      "\u001b[1;31mAssertionError\u001b[0m: "
     ]
    }
   ],
   "source": [
    "assert len(external_list) == 2"
   ]
  },
  {
   "cell_type": "markdown",
   "metadata": {},
   "source": [
    "<br>"
   ]
  },
  {
   "cell_type": "markdown",
   "metadata": {},
   "source": [
    "Sometimes unexpected behaviors are very hard to notice. In the example below, the `counter` is intended to safeguard the increment of a variable. However because it is a python integer and not a TensorFlow object, it's value is captured during the first trace. When the `tf.function` is used, the `assign_add` will be recorded unconditionally in the underlying graph. Therefore `v` will increase by 1, every time the `tf.function` is called. \n",
    "\n",
    "<font style=\"color:maroon;font-size:110%\">This issue is common among users that try to migrate their Grpah-mode Tensorflow code to Tensorflow 2 using `tf.function` decorators, when python side-effects (the `counter` in the example) are used to determine what ops to run (`assign_add` in the example).</font> Usually, users realize this only after seeing suspicious numerical results, or significantly lower performance than expected (e.g. if the guarded operation is very costly)."
   ]
  },
  {
   "cell_type": "code",
   "execution_count": 32,
   "metadata": {},
   "outputs": [
    {
     "name": "stdout",
     "output_type": "stream",
     "text": [
      "1\n",
      "2\n",
      "3\n"
     ]
    }
   ],
   "source": [
    "class Model(tf.Module):\n",
    "    def __init__(self):\n",
    "        self.v = tf.Variable(0)\n",
    "        self.counter = 0\n",
    "\n",
    "    @tf.function\n",
    "    def __call__(self):\n",
    "        if self.counter == 0:\n",
    "            # A python side-effect\n",
    "            self.counter += 1\n",
    "            self.v.assign_add(1)\n",
    "\n",
    "        return self.v\n",
    "\n",
    "m = Model()\n",
    "for n in range(3):\n",
    "    print(m().numpy()) # prints 1, 2, 3"
   ]
  },
  {
   "cell_type": "code",
   "execution_count": 33,
   "metadata": {},
   "outputs": [
    {
     "name": "stdout",
     "output_type": "stream",
     "text": [
      "1 1\n",
      "1 2\n",
      "1 3\n"
     ]
    }
   ],
   "source": [
    "class Model(tf.Module):\n",
    "    def __init__(self):\n",
    "        self.v = tf.Variable(0)\n",
    "        self.counter = 0\n",
    "\n",
    "    @tf.function\n",
    "    def __call__(self):\n",
    "        if self.counter == 0:\n",
    "            # A python side-effect\n",
    "            self.counter += 1\n",
    "            self.v.assign_add(1)\n",
    "\n",
    "        return self.counter, self.v\n",
    "\n",
    "m = Model()\n",
    "for n in range(3):\n",
    "    c,v = m()\n",
    "    print(c.numpy(), v.numpy())"
   ]
  },
  {
   "cell_type": "markdown",
   "metadata": {},
   "source": [
    "<br>"
   ]
  },
  {
   "cell_type": "markdown",
   "metadata": {},
   "source": [
    "<font style=\"color:maroon;font-size:110%\">A workaround to achieve the expected behavior is **using [`tf.init_scope`](https://www.tensorflow.org/api_docs/python/tf/init_scope) to lift the operations outside of the function graph**. This ensures that the variable increment is only done once during tracing time. It should be noted `init_scope` has other side effects including cleared control flow and gradient tape. Sometimes the usage of `init_scope` can become too complex to manage realistically.</font>"
   ]
  },
  {
   "cell_type": "code",
   "execution_count": 34,
   "metadata": {},
   "outputs": [
    {
     "name": "stdout",
     "output_type": "stream",
     "text": [
      "1\n",
      "1\n",
      "1\n"
     ]
    }
   ],
   "source": [
    "class Model(tf.Module):\n",
    "    def __init__(self):\n",
    "        self.v = tf.Variable(0)\n",
    "        self.counter = 0\n",
    "\n",
    "    @tf.function\n",
    "    def __call__(self):\n",
    "        if self.counter == 0:\n",
    "            # Lifts ops out of function-building graphs\n",
    "            with tf.init_scope():\n",
    "                self.counter += 1\n",
    "                self.v.assign_add(1)\n",
    "\n",
    "        return self.v\n",
    "\n",
    "m = Model()\n",
    "for n in range(3):\n",
    "    print(m().numpy()) # prints 1, 1, 1"
   ]
  },
  {
   "cell_type": "markdown",
   "metadata": {},
   "source": [
    "<br>"
   ]
  },
  {
   "cell_type": "markdown",
   "metadata": {},
   "source": [
    "<font style=\"color:maroon;font-size:120%\"><ins>In summary</ins>, as a rule of thumb, you should avoid mutating python objects such as integers or containers like lists that live outside the `Function`. **Instead, use arguments and TF objects**. For example, the section [\"Accumulating values in a loop\"](#accumulating_values_in_a_loop) has one example of how list-like operations can be implemented.\n",
    "\n",
    "You can, in some cases, capture and manipulate state if it is a [`tf.Variable`](https://www.tensorflow.org/guide/variable). This is how the weights of Keras models are updated with repeated calls to the same `ConcreteFunction`.</font>"
   ]
  },
  {
   "cell_type": "markdown",
   "metadata": {},
   "source": [
    "<br>\n",
    "<br>"
   ]
  },
  {
   "cell_type": "markdown",
   "metadata": {},
   "source": [
    "#### Using Python iterators and generators"
   ]
  },
  {
   "cell_type": "markdown",
   "metadata": {},
   "source": [
    "Many Python features, such as generators and iterators, rely on the Python runtime to keep track of state. In general, while these constructs work as expected in eager mode, they are examples of Python side effects and therefore only happen during tracing."
   ]
  },
  {
   "cell_type": "code",
   "execution_count": 35,
   "metadata": {},
   "outputs": [
    {
     "name": "stdout",
     "output_type": "stream",
     "text": [
      "Value: 1\n",
      "\n",
      "Value: 1\n",
      "\n",
      "Value: 1\n"
     ]
    }
   ],
   "source": [
    "@tf.function\n",
    "def buggy_consume_next(iterator):\n",
    "    tf.print(\"Value:\", next(iterator))\n",
    "\n",
    "iterator = iter([1, 2, 3])\n",
    "buggy_consume_next(iterator)\n",
    "print()\n",
    "\n",
    "# This reuses the first value from the iterator, rather than consuming the next value.\n",
    "buggy_consume_next(iterator)\n",
    "print()\n",
    "\n",
    "buggy_consume_next(iterator)\n"
   ]
  },
  {
   "cell_type": "markdown",
   "metadata": {},
   "source": [
    "<br>"
   ]
  },
  {
   "cell_type": "markdown",
   "metadata": {},
   "source": [
    "<font style=\"color:maroon;font-size:120%\">Just like how TensorFlow has a specialized `tf.TensorArray` for list constructs, it has a specialized `tf.data.Iterator` for iteration constructs.<br>\n",
    "See the section on [AutoGraph transformations](#autograph_transformations) for an overview. Also, the [`tf.data`](https://www.tensorflow.org/guide/data) API can help implement generator patterns:</font>"
   ]
  },
  {
   "cell_type": "code",
   "execution_count": 36,
   "metadata": {},
   "outputs": [
    {
     "name": "stdout",
     "output_type": "stream",
     "text": [
      "Value: 1\n",
      "Value: 2\n",
      "Value: 3\n"
     ]
    }
   ],
   "source": [
    "@tf.function\n",
    "def good_consume_next(iterator):\n",
    "  # This is ok, iterator is a tf.data.Iterator\n",
    "  tf.print(\"Value:\", next(iterator))\n",
    "\n",
    "ds = tf.data.Dataset.from_tensor_slices([1, 2, 3])\n",
    "iterator = iter(ds)\n",
    "\n",
    "good_consume_next(iterator)\n",
    "good_consume_next(iterator)\n",
    "good_consume_next(iterator)"
   ]
  },
  {
   "cell_type": "markdown",
   "metadata": {},
   "source": [
    "<br>\n",
    "<br>"
   ]
  },
  {
   "cell_type": "markdown",
   "metadata": {},
   "source": [
    "### All outputs of a tf.function must be return values"
   ]
  },
  {
   "cell_type": "markdown",
   "metadata": {},
   "source": [
    "<font style=\"color:maroon;font-size:120%\">With the exception of `tf.Variable`s, a tf.function must return all its outputs. **Attempting to directly access any tensors from a function without going through return values causes \"leaks\"**.</font>\n",
    "\n",
    "<font style=\"font-size:120%\">For example, the function below \"leaks\" the tensor `a` through the Python global `x`:</font>"
   ]
  },
  {
   "cell_type": "code",
   "execution_count": 37,
   "metadata": {},
   "outputs": [
    {
     "name": "stdout",
     "output_type": "stream",
     "text": [
      "type(x):  <class 'NoneType'> \n",
      "\n",
      "3\n",
      "\n",
      "type(x):  <class 'tensorflow.python.framework.ops.Tensor'> \n",
      "\n",
      "'Tensor' object has no attribute 'numpy'\n"
     ]
    }
   ],
   "source": [
    "x = None\n",
    "print('type(x): ', type(x), '\\n')        # 陈锐平添加\n",
    "\n",
    "@tf.function\n",
    "def leaky_function(a):\n",
    "    global x\n",
    "    x = a + 1             # Bad - leaks local tensor\n",
    "                          # 因为下面的 x.numpy() 是在使用 x，但是 x 并不是 tf.function leaky_function() 的返回值。\n",
    "    return a + 2\n",
    "\n",
    "correct_a = leaky_function(tf.constant(1))\n",
    "\n",
    "print(correct_a.numpy())  # Good - value obtained from function's returns\n",
    "print()\n",
    "\n",
    "try:\n",
    "    print('type(x): ', type(x), '\\n')    # 陈锐平添加\n",
    "    x.numpy()             # Bad - tensor leaked from inside the function, cannot be used here\n",
    "except AttributeError as expected:\n",
    "    print(expected)"
   ]
  },
  {
   "cell_type": "markdown",
   "metadata": {},
   "source": [
    "<br>"
   ]
  },
  {
   "cell_type": "markdown",
   "metadata": {},
   "source": [
    "<font style=\"color:maroon;font-size:150%\">This is true even if the leaked value is also returned:</font>"
   ]
  },
  {
   "cell_type": "code",
   "execution_count": 38,
   "metadata": {},
   "outputs": [
    {
     "name": "stdout",
     "output_type": "stream",
     "text": [
      "2\n",
      "\n",
      "'Tensor' object has no attribute 'numpy'\n",
      "\n",
      "Caught expected exception \n",
      "  <class 'TypeError'>:\n"
     ]
    },
    {
     "name": "stderr",
     "output_type": "stream",
     "text": [
      "Traceback (most recent call last):\n",
      "  File \"C:\\Users\\18617\\AppData\\Local\\Temp/ipykernel_12952/1818809857.py\", line 8, in assert_raises\n",
      "    yield\n",
      "  File \"C:\\Users\\18617\\AppData\\Local\\Temp/ipykernel_12952/3689345937.py\", line 27, in <module>\n",
      "    captures_leaked_tensor(tf.constant(2))\n",
      "TypeError: <tf.Tensor 'add:0' shape=() dtype=int32> is out of scope and cannot be used here. Use return values, explicit Python locals or TensorFlow collections to access it.\n",
      "Please see https://www.tensorflow.org/guide/function#all_outputs_of_a_tffunction_must_be_return_values for more information.\n",
      "\n",
      "<tf.Tensor 'add:0' shape=() dtype=int32> was defined here:\n",
      "    File \"D:\\Programs\\Anaconda3\\envs\\tfg\\lib\\runpy.py\", line 197, in _run_module_as_main\n",
      "      return _run_code(code, main_globals, None,\n",
      "    File \"D:\\Programs\\Anaconda3\\envs\\tfg\\lib\\runpy.py\", line 87, in _run_code\n",
      "      exec(code, run_globals)\n",
      "    File \"D:\\Programs\\Anaconda3\\envs\\tfg\\lib\\site-packages\\ipykernel_launcher.py\", line 16, in <module>\n",
      "      app.launch_new_instance()\n",
      "    File \"D:\\Programs\\Anaconda3\\envs\\tfg\\lib\\site-packages\\traitlets\\config\\application.py\", line 846, in launch_instance\n",
      "      app.start()\n",
      "    File \"D:\\Programs\\Anaconda3\\envs\\tfg\\lib\\site-packages\\ipykernel\\kernelapp.py\", line 677, in start\n",
      "      self.io_loop.start()\n",
      "    File \"D:\\Programs\\Anaconda3\\envs\\tfg\\lib\\site-packages\\tornado\\platform\\asyncio.py\", line 199, in start\n",
      "      self.asyncio_loop.run_forever()\n",
      "    File \"D:\\Programs\\Anaconda3\\envs\\tfg\\lib\\asyncio\\base_events.py\", line 596, in run_forever\n",
      "      self._run_once()\n",
      "    File \"D:\\Programs\\Anaconda3\\envs\\tfg\\lib\\asyncio\\base_events.py\", line 1890, in _run_once\n",
      "      handle._run()\n",
      "    File \"D:\\Programs\\Anaconda3\\envs\\tfg\\lib\\asyncio\\events.py\", line 80, in _run\n",
      "      self._context.run(self._callback, *self._args)\n",
      "    File \"D:\\Programs\\Anaconda3\\envs\\tfg\\lib\\site-packages\\ipykernel\\kernelbase.py\", line 457, in dispatch_queue\n",
      "      await self.process_one()\n",
      "    File \"D:\\Programs\\Anaconda3\\envs\\tfg\\lib\\site-packages\\ipykernel\\kernelbase.py\", line 446, in process_one\n",
      "      await dispatch(*args)\n",
      "    File \"D:\\Programs\\Anaconda3\\envs\\tfg\\lib\\site-packages\\ipykernel\\kernelbase.py\", line 353, in dispatch_shell\n",
      "      await result\n",
      "    File \"D:\\Programs\\Anaconda3\\envs\\tfg\\lib\\site-packages\\ipykernel\\kernelbase.py\", line 648, in execute_request\n",
      "      reply_content = await reply_content\n",
      "    File \"D:\\Programs\\Anaconda3\\envs\\tfg\\lib\\site-packages\\ipykernel\\ipkernel.py\", line 353, in do_execute\n",
      "      res = shell.run_cell(code, store_history=store_history, silent=silent)\n",
      "    File \"D:\\Programs\\Anaconda3\\envs\\tfg\\lib\\site-packages\\ipykernel\\zmqshell.py\", line 533, in run_cell\n",
      "      return super(ZMQInteractiveShell, self).run_cell(*args, **kwargs)\n",
      "    File \"D:\\Programs\\Anaconda3\\envs\\tfg\\lib\\site-packages\\IPython\\core\\interactiveshell.py\", line 2914, in run_cell\n",
      "      result = self._run_cell(\n",
      "    File \"D:\\Programs\\Anaconda3\\envs\\tfg\\lib\\site-packages\\IPython\\core\\interactiveshell.py\", line 2960, in _run_cell\n",
      "      return runner(coro)\n",
      "    File \"D:\\Programs\\Anaconda3\\envs\\tfg\\lib\\site-packages\\IPython\\core\\async_helpers.py\", line 78, in _pseudo_sync_runner\n",
      "      coro.send(None)\n",
      "    File \"D:\\Programs\\Anaconda3\\envs\\tfg\\lib\\site-packages\\IPython\\core\\interactiveshell.py\", line 3185, in run_cell_async\n",
      "      has_raised = await self.run_ast_nodes(code_ast.body, cell_name,\n",
      "    File \"D:\\Programs\\Anaconda3\\envs\\tfg\\lib\\site-packages\\IPython\\core\\interactiveshell.py\", line 3377, in run_ast_nodes\n",
      "      if (await self.run_code(code, result,  async_=asy)):\n",
      "    File \"D:\\Programs\\Anaconda3\\envs\\tfg\\lib\\site-packages\\IPython\\core\\interactiveshell.py\", line 3457, in run_code\n",
      "      exec(code_obj, self.user_global_ns, self.user_ns)\n",
      "    File \"C:\\Users\\18617\\AppData\\Local\\Temp/ipykernel_12952/3689345937.py\", line 8, in <module>\n",
      "      correct_a = leaky_function(tf.constant(1))\n",
      "    File \"D:\\Programs\\Anaconda3\\envs\\tfg\\lib\\site-packages\\tensorflow\\python\\util\\traceback_utils.py\", line 150, in error_handler\n",
      "      return fn(*args, **kwargs)\n",
      "    File \"D:\\Programs\\Anaconda3\\envs\\tfg\\lib\\site-packages\\tensorflow\\python\\eager\\def_function.py\", line 915, in __call__\n",
      "      result = self._call(*args, **kwds)\n",
      "    File \"D:\\Programs\\Anaconda3\\envs\\tfg\\lib\\site-packages\\tensorflow\\python\\eager\\def_function.py\", line 963, in _call\n",
      "      self._initialize(args, kwds, add_initializers_to=initializers)\n",
      "    File \"D:\\Programs\\Anaconda3\\envs\\tfg\\lib\\site-packages\\tensorflow\\python\\eager\\def_function.py\", line 785, in _initialize\n",
      "      self._stateful_fn._get_concrete_function_internal_garbage_collected(  # pylint: disable=protected-access\n",
      "    File \"D:\\Programs\\Anaconda3\\envs\\tfg\\lib\\site-packages\\tensorflow\\python\\eager\\function.py\", line 2983, in _get_concrete_function_internal_garbage_collected\n",
      "      graph_function, _ = self._maybe_define_function(args, kwargs)\n",
      "    File \"D:\\Programs\\Anaconda3\\envs\\tfg\\lib\\site-packages\\tensorflow\\python\\eager\\function.py\", line 3292, in _maybe_define_function\n",
      "      graph_function = self._create_graph_function(args, kwargs)\n",
      "    File \"D:\\Programs\\Anaconda3\\envs\\tfg\\lib\\site-packages\\tensorflow\\python\\eager\\function.py\", line 3130, in _create_graph_function\n",
      "      func_graph_module.func_graph_from_py_func(\n",
      "    File \"D:\\Programs\\Anaconda3\\envs\\tfg\\lib\\site-packages\\tensorflow\\python\\framework\\func_graph.py\", line 1161, in func_graph_from_py_func\n",
      "      func_outputs = python_func(*func_args, **func_kwargs)\n",
      "    File \"D:\\Programs\\Anaconda3\\envs\\tfg\\lib\\site-packages\\tensorflow\\python\\eager\\def_function.py\", line 677, in wrapped_fn\n",
      "      out = weak_wrapped_fn().__wrapped__(*args, **kwds)\n",
      "    File \"D:\\Programs\\Anaconda3\\envs\\tfg\\lib\\site-packages\\tensorflow\\python\\framework\\func_graph.py\", line 1136, in autograph_handler\n",
      "      return autograph.converted_call(\n",
      "    File \"C:\\Users\\18617\\AppData\\Local\\Temp/ipykernel_12952/3689345937.py\", line 4, in leaky_function\n",
      "      x = a + 1  # Bad - leaks local tensor，\n",
      "    File \"D:\\Programs\\Anaconda3\\envs\\tfg\\lib\\site-packages\\tensorflow\\python\\util\\traceback_utils.py\", line 150, in error_handler\n",
      "      return fn(*args, **kwargs)\n",
      "    File \"D:\\Programs\\Anaconda3\\envs\\tfg\\lib\\site-packages\\tensorflow\\python\\ops\\math_ops.py\", line 1406, in binary_op_wrapper\n",
      "      return func(x, y, name=name)\n",
      "    File \"D:\\Programs\\Anaconda3\\envs\\tfg\\lib\\site-packages\\tensorflow\\python\\util\\traceback_utils.py\", line 150, in error_handler\n",
      "      return fn(*args, **kwargs)\n",
      "    File \"D:\\Programs\\Anaconda3\\envs\\tfg\\lib\\site-packages\\tensorflow\\python\\util\\dispatch.py\", line 1082, in op_dispatch_handler\n",
      "      return dispatch_target(*args, **kwargs)\n",
      "    File \"D:\\Programs\\Anaconda3\\envs\\tfg\\lib\\site-packages\\tensorflow\\python\\ops\\math_ops.py\", line 1756, in _add_dispatch\n",
      "      return gen_math_ops.add_v2(x, y, name=name)\n",
      "    File \"D:\\Programs\\Anaconda3\\envs\\tfg\\lib\\site-packages\\tensorflow\\python\\ops\\gen_math_ops.py\", line 474, in add_v2\n",
      "      _, _, _op, _outputs = _op_def_library._apply_op_helper(\n",
      "    File \"D:\\Programs\\Anaconda3\\envs\\tfg\\lib\\site-packages\\tensorflow\\python\\framework\\op_def_library.py\", line 740, in _apply_op_helper\n",
      "      op = g._create_op_internal(op_type_name, inputs, dtypes=None,\n",
      "    File \"D:\\Programs\\Anaconda3\\envs\\tfg\\lib\\site-packages\\tensorflow\\python\\framework\\func_graph.py\", line 693, in _create_op_internal\n",
      "      return super(FuncGraph, self)._create_op_internal(  # pylint: disable=protected-access\n",
      "    File \"D:\\Programs\\Anaconda3\\envs\\tfg\\lib\\site-packages\\tensorflow\\python\\framework\\ops.py\", line 3776, in _create_op_internal\n",
      "      ret = Operation(\n",
      "    File \"D:\\Programs\\Anaconda3\\envs\\tfg\\lib\\site-packages\\tensorflow\\python\\framework\\ops.py\", line 2175, in __init__\n",
      "      self._traceback = tf_stack.extract_stack_for_node(self._c_op)\n",
      "\n",
      "The tensor <tf.Tensor 'add:0' shape=() dtype=int32> cannot be accessed from here, because it was defined in FuncGraph(name=leaky_function, id=2286228744752), which is out of scope.\n"
     ]
    }
   ],
   "source": [
    "@tf.function\n",
    "def leaky_function(a):\n",
    "    global x\n",
    "    x = a + 1  # Bad - leaks local tensor，\n",
    "               # 因为下面的 x.numpy() 是直接使用 x，而不是通过 tf.function leaky_function() 的返回值的形式。\n",
    "    return x   # Good - uses local tensor\n",
    "\n",
    "correct_a = leaky_function(tf.constant(1))\n",
    "\n",
    "print(correct_a.numpy())  # Good - value obtained from function's returns\n",
    "print()\n",
    "\n",
    "try:\n",
    "    x.numpy()             # Bad - tensor leaked from inside the function, cannot be used here\n",
    "except AttributeError as expected:\n",
    "    print(expected)\n",
    "\n",
    "print()\n",
    "\n",
    "@tf.function\n",
    "def captures_leaked_tensor(b):\n",
    "    b += x               # Bad - `x` is leaked from `leaky_function`\n",
    "                         # 因为这里直接引用了 x，而不是通过 tf.function leaky_function() 的返回值的形式。\n",
    "    return b\n",
    "\n",
    "with assert_raises(TypeError):\n",
    "    captures_leaked_tensor(tf.constant(2))"
   ]
  },
  {
   "cell_type": "markdown",
   "metadata": {},
   "source": [
    "<br>"
   ]
  },
  {
   "cell_type": "markdown",
   "metadata": {},
   "source": [
    "<font style=\"color:maroon;font-size:120%\">Usually, leaks such as these occur when you use Python statements or data structures.\n",
    "In addition to leaking inaccessible tensors, such statements are also likely wrong because they count as Python side effects, and are not guaranteed to execute at every function call.\n",
    "\n",
    "Common ways to leak local tensors also include mutating an external Python collection, or an object:</font>"
   ]
  },
  {
   "cell_type": "code",
   "execution_count": 39,
   "metadata": {},
   "outputs": [],
   "source": [
    "class MyClass:\n",
    "\n",
    "    def __init__(self):\n",
    "        self.field = None\n",
    "\n",
    "external_list = []\n",
    "\n",
    "external_object = MyClass()\n",
    "\n",
    "\n",
    "def leaky_function():\n",
    "    a = tf.constant(1)\n",
    "    external_list.append(a)    # Bad - leaks tensor\n",
    "    external_object.field = a  # Bad - leaks tensor"
   ]
  },
  {
   "cell_type": "markdown",
   "metadata": {},
   "source": [
    "<br>\n",
    "<br>"
   ]
  },
  {
   "cell_type": "markdown",
   "metadata": {},
   "source": [
    "### Recursive tf.functions are not supported\n",
    "\n",
    "Recursive `Function`s are not supported and could cause infinite loops. For example,"
   ]
  },
  {
   "cell_type": "code",
   "execution_count": null,
   "metadata": {},
   "outputs": [],
   "source": [
    "@tf.function\n",
    "def recursive_fn(n):\n",
    "    if n > 0:\n",
    "        return recursive_fn(n - 1)\n",
    "    else:\n",
    "        return 1\n",
    "\n",
    "with assert_raises(Exception):\n",
    "    recursive_fn(tf.constant(5))  # Bad - maximum recursion error.\n",
    "\n",
    "# 运行这个 cell 的结果：\n",
    "# The kernel appears to have died. It will restart automatically."
   ]
  },
  {
   "cell_type": "markdown",
   "metadata": {},
   "source": [
    "<br>"
   ]
  },
  {
   "cell_type": "markdown",
   "metadata": {},
   "source": [
    "<font style=\"color:maroon;font-size:120%\">Even if a recursive `Function` seems to work, the python function will be traced multiple times and could have performance implication.</font> For example,"
   ]
  },
  {
   "cell_type": "code",
   "execution_count": 40,
   "metadata": {},
   "outputs": [
    {
     "name": "stdout",
     "output_type": "stream",
     "text": [
      "tracing\n",
      "tracing\n",
      "tracing\n",
      "tracing\n",
      "tracing\n"
     ]
    },
    {
     "data": {
      "text/plain": [
       "<tf.Tensor: shape=(), dtype=int32, numpy=1>"
      ]
     },
     "execution_count": 40,
     "metadata": {},
     "output_type": "execute_result"
    }
   ],
   "source": [
    "@tf.function\n",
    "def recursive_fn(n):\n",
    "    if n > 0:\n",
    "        print('tracing')\n",
    "        return recursive_fn(n - 1)\n",
    "    else:\n",
    "        return 1\n",
    "\n",
    "recursive_fn(5)  # Warning - multiple tracings"
   ]
  },
  {
   "cell_type": "markdown",
   "metadata": {},
   "source": [
    "<br>\n",
    "<br>\n",
    "<br>"
   ]
  },
  {
   "cell_type": "markdown",
   "metadata": {},
   "source": [
    "## <font color=maroon>**Known Issues**</font>\n",
    "\n",
    "If your `Function` is not evaluating correctly, the error may be explained by these known issues which are planned to be fixed in the future."
   ]
  },
  {
   "cell_type": "markdown",
   "metadata": {},
   "source": [
    "<br>"
   ]
  },
  {
   "cell_type": "markdown",
   "metadata": {},
   "source": [
    "### Depending on Python global and free variables\n",
    "\n",
    "<font style=\"color:maroon;font-size:120%\">**`Function` creates a new `ConcreteFunction` when called with a new value of a Python argument. However, it does not do that for the Python closure, globals, or nonlocals of that `Function`**. If their value changes in between calls to the `Function`, the `Function` will still use the values they had when it was traced. This is different from how regular Python functions work.\n",
    "\n",
    "For that reason, you should follow a functional programming style that uses arguments instead of closing over outer names.</font>"
   ]
  },
  {
   "cell_type": "code",
   "execution_count": 41,
   "metadata": {},
   "outputs": [
    {
     "name": "stdout",
     "output_type": "stream",
     "text": [
      "Buggy: tf.Tensor(2, shape=(), dtype=int32)\n",
      "\n",
      "Correct: tf.Tensor(2, shape=(), dtype=int32)\n"
     ]
    }
   ],
   "source": [
    "@tf.function\n",
    "def buggy_add():             # foo 变量不是 buggy_add() 函数的形参（不是局部变量）\n",
    "    return 1 + foo\n",
    "\n",
    "@tf.function\n",
    "def recommended_add(foo):    # foo 变量是 recommended_add() 函数的形参\n",
    "    return 1 + foo\n",
    "\n",
    "foo = 1\n",
    "print(\"Buggy:\", buggy_add())\n",
    "print()\n",
    "\n",
    "print(\"Correct:\", recommended_add(foo))"
   ]
  },
  {
   "cell_type": "code",
   "execution_count": 42,
   "metadata": {},
   "outputs": [
    {
     "name": "stdout",
     "output_type": "stream",
     "text": [
      "Updating the value of `foo` to 100!\n",
      "Buggy: tf.Tensor(2, shape=(), dtype=int32)\n",
      "\n",
      "Correct: tf.Tensor(101, shape=(), dtype=int32)\n"
     ]
    }
   ],
   "source": [
    "print(\"Updating the value of `foo` to 100!\")\n",
    "foo = 100\n",
    "print(\"Buggy:\", buggy_add())  # Did not change!\n",
    "print()\n",
    "\n",
    "print(\"Correct:\", recommended_add(foo))"
   ]
  },
  {
   "cell_type": "markdown",
   "metadata": {},
   "source": [
    "<br>"
   ]
  },
  {
   "cell_type": "markdown",
   "metadata": {},
   "source": [
    "<font style=\"color:maroon;font-size:120%\">Another way to update a global value, is to make it a `tf.Variable` and use the `Variable.assign` method instead.</font>"
   ]
  },
  {
   "cell_type": "code",
   "execution_count": 43,
   "metadata": {},
   "outputs": [
    {
     "name": "stdout",
     "output_type": "stream",
     "text": [
      "Variable: tf.Tensor(2, shape=(), dtype=int32)\n"
     ]
    }
   ],
   "source": [
    "@tf.function\n",
    "def variable_add():\n",
    "    return 1 + foo\n",
    "\n",
    "foo = tf.Variable(1)\n",
    "print(\"Variable:\", variable_add())"
   ]
  },
  {
   "cell_type": "code",
   "execution_count": 44,
   "metadata": {},
   "outputs": [
    {
     "name": "stdout",
     "output_type": "stream",
     "text": [
      "Updating the value of `foo` to 100!\n",
      "Variable: tf.Tensor(101, shape=(), dtype=int32)\n"
     ]
    }
   ],
   "source": [
    "print(\"Updating the value of `foo` to 100!\")\n",
    "foo.assign(100)\n",
    "print(\"Variable:\", variable_add())"
   ]
  },
  {
   "cell_type": "markdown",
   "metadata": {},
   "source": [
    "<br>"
   ]
  },
  {
   "cell_type": "markdown",
   "metadata": {},
   "source": [
    "#### Depending on Python objects"
   ]
  },
  {
   "cell_type": "markdown",
   "metadata": {},
   "source": [
    "<font style=\"color:maroon;font-size:120%\">The recommendation to pass Python objects as arguments into `tf.function` has a number of known issues, that are expected to be fixed in the future. \n",
    "\n",
    "In general, you can rely on consistent tracing if you use a Python primitive or `tf.nest`-compatible structure as an argument or pass in a *different* instance of an object into a `Function`. However, `Function` will *not* create a new trace when you pass **the same object and only change its attributes**.</font>"
   ]
  },
  {
   "cell_type": "code",
   "execution_count": 45,
   "metadata": {},
   "outputs": [
    {
     "name": "stdout",
     "output_type": "stream",
     "text": [
      "tf.Tensor(20.0, shape=(), dtype=float32)\n"
     ]
    }
   ],
   "source": [
    "class SimpleModel(tf.Module):\n",
    "    def __init__(self):\n",
    "        # These values are *not* tf.Variables.\n",
    "        self.bias = 0.\n",
    "        self.weight = 2.\n",
    "\n",
    "@tf.function\n",
    "def evaluate(model, x):\n",
    "    return model.weight * x + model.bias\n",
    "\n",
    "\n",
    "simple_model = SimpleModel()\n",
    "x = tf.constant(10.)\n",
    "print(evaluate(simple_model, x))"
   ]
  },
  {
   "cell_type": "code",
   "execution_count": 46,
   "metadata": {},
   "outputs": [
    {
     "name": "stdout",
     "output_type": "stream",
     "text": [
      "Adding bias!\n",
      "tf.Tensor(20.0, shape=(), dtype=float32)\n"
     ]
    }
   ],
   "source": [
    "print(\"Adding bias!\")\n",
    "simple_model.bias += 5.0\n",
    "print(evaluate(simple_model, x))  # Didn't change :("
   ]
  },
  {
   "cell_type": "markdown",
   "metadata": {},
   "source": [
    "<br>"
   ]
  },
  {
   "cell_type": "markdown",
   "metadata": {},
   "source": [
    "<font style=\"color:maroon;font-size:120%\">Using the same `Function` to evaluate the updated instance of the model will be buggy since the updated model has the [same cache key](#rules_of_tracing) as the original model.\n",
    "\n",
    "For that reason, **you're recommended to write your `Function` to avoid depending on mutable object attributes or create new objects**.\n",
    "\n",
    "**If that is not possible, one workaround is to make new `Function`s each time you modify your object to force retracing**:</font>"
   ]
  },
  {
   "cell_type": "code",
   "execution_count": 47,
   "metadata": {},
   "outputs": [
    {
     "name": "stdout",
     "output_type": "stream",
     "text": [
      "tf.Tensor(20.0, shape=(), dtype=float32)\n"
     ]
    }
   ],
   "source": [
    "def evaluate(model, x):\n",
    "    return model.weight * x + model.bias\n",
    "\n",
    "new_model = SimpleModel()\n",
    "evaluate_no_bias = tf.function(evaluate).get_concrete_function(new_model, x)\n",
    "\n",
    "# Don't pass in `new_model`, `Function` already captured its state during tracing.\n",
    "print(evaluate_no_bias(x))  "
   ]
  },
  {
   "cell_type": "code",
   "execution_count": 48,
   "metadata": {},
   "outputs": [
    {
     "name": "stdout",
     "output_type": "stream",
     "text": [
      "Adding bias!\n",
      "tf.Tensor(25.0, shape=(), dtype=float32)\n"
     ]
    }
   ],
   "source": [
    "print(\"Adding bias!\")\n",
    "new_model.bias += 5.0\n",
    "\n",
    "# Create new Function and ConcreteFunction since you modified new_model.\n",
    "evaluate_with_bias = tf.function(evaluate).get_concrete_function(new_model, x)\n",
    "print(evaluate_with_bias(x)) # Don't pass in `new_model`."
   ]
  },
  {
   "cell_type": "markdown",
   "metadata": {},
   "source": [
    "<br>"
   ]
  },
  {
   "cell_type": "markdown",
   "metadata": {},
   "source": [
    "<font style=\"color:maroon;font-size:120%\">As [retracing can be expensive](https://www.tensorflow.org/guide/intro_to_graphs#tracing_and_performance), you can use `tf.Variable`s as object attributes, which can be mutated (but not changed, careful!) for a similar effect without needing a retrace.</font>"
   ]
  },
  {
   "cell_type": "code",
   "execution_count": 49,
   "metadata": {},
   "outputs": [
    {
     "name": "stdout",
     "output_type": "stream",
     "text": [
      "tf.Tensor(20.0, shape=(), dtype=float32)\n"
     ]
    }
   ],
   "source": [
    "class BetterModel:\n",
    "\n",
    "    def __init__(self):\n",
    "        self.bias = tf.Variable(0.)\n",
    "        self.weight = tf.Variable(2.)\n",
    "\n",
    "@tf.function\n",
    "def evaluate(model, x):\n",
    "    return model.weight * x + model.bias\n",
    "\n",
    "better_model = BetterModel()\n",
    "print(evaluate(better_model, x))"
   ]
  },
  {
   "cell_type": "code",
   "execution_count": 50,
   "metadata": {},
   "outputs": [
    {
     "name": "stdout",
     "output_type": "stream",
     "text": [
      "Adding bias!\n",
      "tf.Tensor(25.0, shape=(), dtype=float32)\n"
     ]
    }
   ],
   "source": [
    "print(\"Adding bias!\")\n",
    "better_model.bias.assign_add(5.0)  # Note: instead of better_model.bias += 5\n",
    "print(evaluate(better_model, x))   # This works!"
   ]
  },
  {
   "cell_type": "markdown",
   "metadata": {},
   "source": [
    "<br>\n",
    "<br>"
   ]
  },
  {
   "cell_type": "markdown",
   "metadata": {},
   "source": [
    "### Creating tf.Variables\n",
    "\n",
    "<font style=\"color:maroon;font-size:120%\">`Function` only supports singleton `tf.Variable`s created once on the first call, and reused across subsequent function calls. The code snippet below would create a new `tf.Variable` in every function call, which results in a `ValueError` exception.</font>\n",
    "\n",
    "Example:"
   ]
  },
  {
   "cell_type": "code",
   "execution_count": 51,
   "metadata": {},
   "outputs": [
    {
     "name": "stdout",
     "output_type": "stream",
     "text": [
      "Caught expected exception \n",
      "  <class 'ValueError'>:\n"
     ]
    },
    {
     "name": "stderr",
     "output_type": "stream",
     "text": [
      "Traceback (most recent call last):\n",
      "  File \"C:\\Users\\18617\\AppData\\Local\\Temp/ipykernel_12952/1818809857.py\", line 8, in assert_raises\n",
      "    yield\n",
      "  File \"C:\\Users\\18617\\AppData\\Local\\Temp/ipykernel_12952/847243905.py\", line 7, in <module>\n",
      "    f(1.0)\n",
      "ValueError: in user code:\n",
      "\n",
      "    File \"C:\\Users\\18617\\AppData\\Local\\Temp/ipykernel_12952/847243905.py\", line 3, in f  *\n",
      "        v = tf.Variable(1.0)\n",
      "\n",
      "    ValueError: tf.function only supports singleton tf.Variables created on the first call. Make sure the tf.Variable is only created once or created outside tf.function. See https://www.tensorflow.org/guide/function#creating_tfvariables for more information.\n",
      "\n"
     ]
    }
   ],
   "source": [
    "@tf.function\n",
    "def f(x):\n",
    "    v = tf.Variable(1.0)\n",
    "    return v\n",
    "\n",
    "with assert_raises(ValueError):\n",
    "    f(1.0)"
   ]
  },
  {
   "cell_type": "markdown",
   "metadata": {},
   "source": [
    "<br>"
   ]
  },
  {
   "cell_type": "markdown",
   "metadata": {},
   "source": [
    "<font style=\"color:maroon;font-size:120%\">A common pattern used to work around this limitation is to start with a Python None value, then conditionally create the `tf.Variable` if the value is None:</font>"
   ]
  },
  {
   "cell_type": "code",
   "execution_count": 52,
   "metadata": {},
   "outputs": [
    {
     "name": "stdout",
     "output_type": "stream",
     "text": [
      "tf.Tensor(1, shape=(), dtype=int32)\n",
      "\n",
      "tf.Tensor(2, shape=(), dtype=int32)\n"
     ]
    }
   ],
   "source": [
    "class Count(tf.Module):\n",
    "    def __init__(self):\n",
    "        self.count = None\n",
    "\n",
    "    @tf.function\n",
    "    def __call__(self):\n",
    "        if self.count is None:\n",
    "            self.count = tf.Variable(0)\n",
    "        return self.count.assign_add(1)\n",
    "\n",
    "c = Count()\n",
    "print(c())\n",
    "\n",
    "print()\n",
    "print(c())"
   ]
  },
  {
   "cell_type": "markdown",
   "metadata": {},
   "source": [
    "<br>\n",
    "<br>"
   ]
  },
  {
   "cell_type": "markdown",
   "metadata": {},
   "source": [
    "#### Using with multiple Keras optimizers\n",
    "<font style=\"color:maroon;font-size:120%\">You may encounter `ValueError: tf.function only supports singleton tf.Variables created on the first call.` when using more than one Keras optimizer with a `tf.function`. \n",
    "\n",
    "This error occurs because **optimizers internally create `tf.Variables` when they apply gradients for the first time**.</font>"
   ]
  },
  {
   "cell_type": "code",
   "execution_count": 53,
   "metadata": {},
   "outputs": [
    {
     "name": "stdout",
     "output_type": "stream",
     "text": [
      "Calling `train_step` with different optimizer...\n",
      "\n",
      "Caught expected exception \n",
      "  <class 'ValueError'>:\n"
     ]
    },
    {
     "name": "stderr",
     "output_type": "stream",
     "text": [
      "Traceback (most recent call last):\n",
      "  File \"C:\\Users\\18617\\AppData\\Local\\Temp/ipykernel_12952/1818809857.py\", line 8, in assert_raises\n",
      "    yield\n",
      "  File \"C:\\Users\\18617\\AppData\\Local\\Temp/ipykernel_12952/2313663715.py\", line 20, in <module>\n",
      "    train_step(w, x, y, opt2)\n",
      "ValueError: in user code:\n",
      "\n",
      "    File \"C:\\Users\\18617\\AppData\\Local\\Temp/ipykernel_12952/2313663715.py\", line 9, in train_step  *\n",
      "        optimizer.apply_gradients(zip(gradients, [w]))\n",
      "    File \"D:\\Programs\\Anaconda3\\envs\\tfg\\lib\\site-packages\\keras\\optimizer_v2\\optimizer_v2.py\", line 639, in apply_gradients  **\n",
      "        self._create_all_weights(var_list)\n",
      "    File \"D:\\Programs\\Anaconda3\\envs\\tfg\\lib\\site-packages\\keras\\optimizer_v2\\optimizer_v2.py\", line 823, in _create_all_weights\n",
      "        _ = self.iterations\n",
      "    File \"D:\\Programs\\Anaconda3\\envs\\tfg\\lib\\site-packages\\keras\\optimizer_v2\\optimizer_v2.py\", line 830, in __getattribute__\n",
      "        return super(OptimizerV2, self).__getattribute__(name)\n",
      "    File \"D:\\Programs\\Anaconda3\\envs\\tfg\\lib\\site-packages\\keras\\optimizer_v2\\optimizer_v2.py\", line 985, in iterations\n",
      "        self._iterations = self.add_weight(\n",
      "    File \"D:\\Programs\\Anaconda3\\envs\\tfg\\lib\\site-packages\\keras\\optimizer_v2\\optimizer_v2.py\", line 1187, in add_weight\n",
      "        variable = self._add_variable_with_custom_getter(\n",
      "    File \"D:\\Programs\\Anaconda3\\envs\\tfg\\lib\\site-packages\\keras\\engine\\base_layer_utils.py\", line 117, in make_variable\n",
      "        return tf.compat.v1.Variable(\n",
      "\n",
      "    ValueError: tf.function only supports singleton tf.Variables created on the first call. Make sure the tf.Variable is only created once or created outside tf.function. See https://www.tensorflow.org/guide/function#creating_tfvariables for more information.\n",
      "\n"
     ]
    }
   ],
   "source": [
    "opt1 = tf.keras.optimizers.Adam(learning_rate = 1e-2)\n",
    "opt2 = tf.keras.optimizers.Adam(learning_rate = 1e-3)\n",
    " \n",
    "@tf.function\n",
    "def train_step(w, x, y, optimizer):\n",
    "    with tf.GradientTape() as tape:\n",
    "        L = tf.reduce_sum(tf.square(w*x - y))\n",
    "    gradients = tape.gradient(L, [w])\n",
    "    optimizer.apply_gradients(zip(gradients, [w]))\n",
    "\n",
    "w = tf.Variable(2.)\n",
    "x = tf.constant([-1.])\n",
    "y = tf.constant([2.])\n",
    "\n",
    "train_step(w, x, y, opt1)\n",
    "print(\"Calling `train_step` with different optimizer...\")\n",
    "print()\n",
    "\n",
    "with assert_raises(ValueError):\n",
    "    train_step(w, x, y, opt2)"
   ]
  },
  {
   "cell_type": "markdown",
   "metadata": {},
   "source": [
    "<br>"
   ]
  },
  {
   "cell_type": "markdown",
   "metadata": {},
   "source": [
    "<font style=\"color:maroon;font-size:120%\">If you need to change the optimizer during training, a workaround is to create a new `Function` for each optimizer, calling the [`ConcreteFunction`](#obtaining_concrete_functions) directly.</font>"
   ]
  },
  {
   "cell_type": "code",
   "execution_count": 54,
   "metadata": {},
   "outputs": [],
   "source": [
    "opt1 = tf.keras.optimizers.Adam(learning_rate = 1e-2)\n",
    "opt2 = tf.keras.optimizers.Adam(learning_rate = 1e-3)\n",
    "\n",
    "# Not a tf.function.\n",
    "def train_step(w, x, y, optimizer):\n",
    "    with tf.GradientTape() as tape:\n",
    "        L = tf.reduce_sum(tf.square(w*x - y))\n",
    "    gradients = tape.gradient(L, [w])\n",
    "    optimizer.apply_gradients(zip(gradients, [w]))\n",
    "\n",
    "w = tf.Variable(2.)\n",
    "x = tf.constant([-1.])\n",
    "y = tf.constant([2.])\n",
    "\n",
    "# Make a new Function and ConcreteFunction for each optimizer.\n",
    "train_step_1 = tf.function(train_step).get_concrete_function(w, x, y, opt1)\n",
    "train_step_2 = tf.function(train_step).get_concrete_function(w, x, y, opt2)\n",
    "for i in range(10):\n",
    "    if i % 2 == 0:\n",
    "        train_step_1(w, x, y) # `opt1` is not used as a parameter. \n",
    "    else:\n",
    "        train_step_2(w, x, y) # `opt2` is not used as a parameter."
   ]
  },
  {
   "cell_type": "markdown",
   "metadata": {},
   "source": [
    "<br>\n",
    "<br>"
   ]
  },
  {
   "cell_type": "markdown",
   "metadata": {},
   "source": [
    "#### Using with multiple Keras models\n",
    "\n",
    "<font style=\"color:maroon;font-size:120%\">You may also encounter `ValueError: tf.function only supports singleton tf.Variables created on the first call.` when passing different model instances to the same `Function`.\n",
    "\n",
    "This error occurs because **Keras models** (which [do not have their input shape defined](https://www.tensorflow.org/guide/keras/custom_layers_and_models#best_practice_deferring_weight_creation_until_the_shape_of_the_inputs_is_known)) **and Keras layers create `tf.Variables`s when they are first called**. You may be attempting to initialize those variables inside a `Function`, which has already been called. **To avoid this error, try calling `model.build(input_shape)` to initialize all the weights before training the model**.</font>"
   ]
  },
  {
   "cell_type": "markdown",
   "metadata": {},
   "source": [
    "<br>\n",
    "<br>\n",
    "<br>"
   ]
  },
  {
   "cell_type": "markdown",
   "metadata": {},
   "source": [
    "## Further reading\n",
    "\n",
    "To learn about how to export and load a `Function`, see the [SavedModel guide](https://github.com/tensorflow/docs/blob/master/site/guide/saved_model). \n",
    "\n",
    "To learn more about graph optimizations that are performed after tracing, see the [Grappler guide](https://github.com/tensorflow/docs/blob/master/site/guide/graph_optimization). \n",
    "\n",
    "To learn how to optimize your data pipeline and profile your model, see the [Profiler guide](https://github.com/tensorflow/docs/blob/master/site/guide/profiler.md)."
   ]
  },
  {
   "cell_type": "markdown",
   "metadata": {},
   "source": [
    "<br>\n",
    "<br>\n",
    "<br>"
   ]
  },
  {
   "cell_type": "markdown",
   "metadata": {},
   "source": [
    "**Copyright 2020 The TensorFlow Authors.**"
   ]
  },
  {
   "cell_type": "markdown",
   "metadata": {},
   "source": [
    "```python\n",
    "#@title Licensed under the Apache License, Version 2.0 (the \"License\");\n",
    "# you may not use this file except in compliance with the License.\n",
    "# You may obtain a copy of the License at\n",
    "#\n",
    "# https://www.apache.org/licenses/LICENSE-2.0\n",
    "#\n",
    "# Unless required by applicable law or agreed to in writing, software\n",
    "# distributed under the License is distributed on an \"AS IS\" BASIS,\n",
    "# WITHOUT WARRANTIES OR CONDITIONS OF ANY KIND, either express or implied.\n",
    "# See the License for the specific language governing permissions and\n",
    "# limitations under the License.\n",
    "```"
   ]
  },
  {
   "cell_type": "markdown",
   "metadata": {},
   "source": [
    "<br>\n",
    "<br>\n",
    "<br>"
   ]
  }
 ],
 "metadata": {
  "kernelspec": {
   "display_name": "Python [conda env:tfg]",
   "language": "python",
   "name": "conda-env-tfg-py"
  },
  "language_info": {
   "codemirror_mode": {
    "name": "ipython",
    "version": 3
   },
   "file_extension": ".py",
   "mimetype": "text/x-python",
   "name": "python",
   "nbconvert_exporter": "python",
   "pygments_lexer": "ipython3",
   "version": "3.9.7"
  },
  "toc": {
   "base_numbering": 1,
   "nav_menu": {},
   "number_sections": true,
   "sideBar": true,
   "skip_h1_title": false,
   "title_cell": "Table of Contents",
   "title_sidebar": "Contents",
   "toc_cell": false,
   "toc_position": {
    "height": "calc(100% - 180px)",
    "left": "10px",
    "top": "150px",
    "width": "432px"
   },
   "toc_section_display": true,
   "toc_window_display": false
  },
  "varInspector": {
   "cols": {
    "lenName": 16,
    "lenType": 16,
    "lenVar": 40
   },
   "kernels_config": {
    "python": {
     "delete_cmd_postfix": "",
     "delete_cmd_prefix": "del ",
     "library": "var_list.py",
     "varRefreshCmd": "print(var_dic_list())"
    },
    "r": {
     "delete_cmd_postfix": ") ",
     "delete_cmd_prefix": "rm(",
     "library": "var_list.r",
     "varRefreshCmd": "cat(var_dic_list()) "
    }
   },
   "types_to_exclude": [
    "module",
    "function",
    "builtin_function_or_method",
    "instance",
    "_Feature"
   ],
   "window_display": false
  }
 },
 "nbformat": 4,
 "nbformat_minor": 4
}
