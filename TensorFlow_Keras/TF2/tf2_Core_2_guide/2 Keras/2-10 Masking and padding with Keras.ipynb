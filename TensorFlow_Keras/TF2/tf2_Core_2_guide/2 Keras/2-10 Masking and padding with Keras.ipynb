{
 "cells": [
  {
   "cell_type": "markdown",
   "metadata": {},
   "source": [
    "<br>"
   ]
  },
  {
   "cell_type": "markdown",
   "metadata": {},
   "source": [
    "<div align=center><font color=maroon size=6 style=\"line-height:40px;\"><b>Masking and padding with Keras</b></font></div>"
   ]
  },
  {
   "cell_type": "markdown",
   "metadata": {},
   "source": [
    "<br>"
   ]
  },
  {
   "cell_type": "markdown",
   "metadata": {},
   "source": [
    "<font size=4><b>References:</b></font>\n",
    "1. TF2 Core: <a href=\"https://www.tensorflow.org/guide\" style=\"text-decoration:none;\">TensorFlow Guide</a> \n",
    "    * `TensorFlow > Learn > TensorFlow Core > `Guide > <a href=\"https://www.tensorflow.org/guide/keras/masking_and_padding\" style=\"text-decoration:none;\">Masking and padding with Keras</a>\n",
    "        * Run in <a href=\"https://colab.research.google.com/github/tensorflow/docs/blob/snapshot-keras/site/en/guide/keras/masking_and_padding.ipynb\" style=\"text-decoration:none;\">Google Colab</a>"
   ]
  },
  {
   "cell_type": "markdown",
   "metadata": {},
   "source": [
    "<br>\n",
    "<br>\n",
    "<br>"
   ]
  },
  {
   "cell_type": "code",
   "execution_count": 1,
   "metadata": {},
   "outputs": [],
   "source": [
    "import tensorflow as tf\n",
    "from tensorflow import keras\n",
    "from tensorflow.keras import layers\n",
    "\n",
    "import numpy as np"
   ]
  },
  {
   "cell_type": "code",
   "execution_count": 5,
   "metadata": {},
   "outputs": [
    {
     "name": "stdout",
     "output_type": "stream",
     "text": [
      "2.8.0\n"
     ]
    }
   ],
   "source": [
    "print(tf.__version__)"
   ]
  },
  {
   "cell_type": "markdown",
   "metadata": {},
   "source": [
    "<br>\n",
    "<br>\n",
    "<br>"
   ]
  },
  {
   "cell_type": "markdown",
   "metadata": {},
   "source": [
    "## Introduction\n",
    "<br>\n",
    "<br>\n",
    "\n",
    "<font style=\"color:maroon;font-size:115%\"><font size=4 color=blue>**Masking**</font> is a way to tell sequence-processing layers that certain timesteps in an input are missing, and thus should be skipped when processing the data.\n",
    "\n",
    "<br>\n",
    "<br>\n",
    "    \n",
    "<font size=4 color=blue>**Padding**</font> is a special form of masking where the masked steps are at the start or the end of a sequence. Padding comes from the need to encode sequence data into contiguous batches: in order to make all sequences in a batch fit a given standard length, it is necessary to pad or truncate some sequences.</font>\n",
    "\n",
    "<br>\n",
    "<br>\n",
    "\n",
    "Let's take a close look."
   ]
  },
  {
   "cell_type": "markdown",
   "metadata": {},
   "source": [
    "<br>\n",
    "<br>\n",
    "<br>"
   ]
  },
  {
   "cell_type": "markdown",
   "metadata": {},
   "source": [
    "## Padding sequence data\n",
    "\n",
    "<font style=\"color:maroon;font-size:115%\">When processing sequence data, it is very common for individual samples to have different lengths.</font> Consider the following example (text tokenized as words):\n",
    "\n",
    "```\n",
    "[\n",
    "  [\"Hello\", \"world\", \"!\"],\n",
    "  [\"How\", \"are\", \"you\", \"doing\", \"today\"],\n",
    "  [\"The\", \"weather\", \"will\", \"be\", \"nice\", \"tomorrow\"],\n",
    "]\n",
    "```\n",
    "\n",
    "After vocabulary lookup, the data might be vectorized as integers, e.g.:\n",
    "\n",
    "```\n",
    "[\n",
    "  [71, 1331, 4231]\n",
    "  [73, 8, 3215, 55, 927],\n",
    "  [83, 91, 1, 645, 1253, 927],\n",
    "]\n",
    "```\n",
    "\n",
    "<font style=\"color:maroon;font-size:115%\">The data is a nested list where individual samples have length 3, 5, and 6, respectively. Since the input data for a deep learning model must be a single tensor (of shape e.g. `(batch_size, 6, vocab_size)` in this case), samples that are shorter than the longest item need to be padded with some placeholder value (alternatively, one might also truncate long samples before padding short samples).\n",
    "\n",
    "Keras provides a utility function to truncate and pad Python lists to a common length:\n",
    "`tf.keras.preprocessing.sequence.pad_sequences`.</font>"
   ]
  },
  {
   "cell_type": "code",
   "execution_count": 6,
   "metadata": {},
   "outputs": [
    {
     "name": "stdout",
     "output_type": "stream",
     "text": [
      "[[ 711  632   71    0    0    0]\n",
      " [  73    8 3215   55  927    0]\n",
      " [  83   91    1  645 1253  927]]\n"
     ]
    }
   ],
   "source": [
    "raw_inputs = [[711, 632, 71],\n",
    "              [73, 8, 3215, 55, 927],\n",
    "              [83, 91, 1, 645, 1253, 927],\n",
    "             ]\n",
    "\n",
    "# By default, this will pad using 0s; it is configurable via the \"value\" parameter.\n",
    "# Note that you could \"pre\" padding (at the beginning) or\n",
    "# \"post\" padding (at the end).\n",
    "# We recommend using \"post\" padding when working with RNN layers\n",
    "# (in order to be able to use the CuDNN implementation of the layers).\n",
    "padded_inputs = tf.keras.preprocessing.sequence.pad_sequences(raw_inputs, padding='post')\n",
    "\n",
    "print(padded_inputs)"
   ]
  },
  {
   "cell_type": "markdown",
   "metadata": {},
   "source": [
    "<br>\n",
    "<br>\n",
    "<br>"
   ]
  },
  {
   "cell_type": "markdown",
   "metadata": {},
   "source": [
    "## Masking\n",
    "\n",
    "<font style=\"color:maroon;font-size:115%\">Now that all samples have a uniform length, the model must be informed that some part of the data is actually padding and should be ignored. That mechanism is **masking**.\n",
    "<br>\n",
    "<br>\n",
    "\n",
    "There are three ways to introduce input masks in Keras models:\n",
    "<br>\n",
    "<br>\n",
    "\n",
    "- Add a `keras.layers.Masking` layer.\n",
    "- Configure a `keras.layers.Embedding` layer with `mask_zero=True`.\n",
    "- Pass a `mask` argument manually when calling layers that support this argument (e.g. RNN layers).</font>"
   ]
  },
  {
   "cell_type": "markdown",
   "metadata": {},
   "source": [
    "<br>\n",
    "<br>\n",
    "<br>"
   ]
  },
  {
   "cell_type": "markdown",
   "metadata": {},
   "source": [
    "## Mask-generating layers: `Embedding` and `Masking`\n",
    "\n",
    "<font style=\"color:maroon;font-size:115%\">Under the hood, these layers will create a mask tensor (2D tensor with shape `(batch, sequence_length)`), and attach it to the tensor output returned by the `Masking` or `Embedding` layer.</font>"
   ]
  },
  {
   "cell_type": "code",
   "execution_count": 7,
   "metadata": {
    "scrolled": true
   },
   "outputs": [
    {
     "name": "stdout",
     "output_type": "stream",
     "text": [
      "tf.Tensor(\n",
      "[[[ 0.04934898 -0.00727705  0.04687849  0.02233603  0.0474999\n",
      "    0.02578664  0.00086989 -0.03996573 -0.00222905  0.03605564\n",
      "    0.03060159  0.0157987   0.0052067   0.00235007 -0.00049876\n",
      "   -0.04674941]\n",
      "  [-0.04159208 -0.01111356  0.00392533  0.03859278 -0.00052519\n",
      "   -0.03035796  0.02197576  0.0316926  -0.04414199 -0.01145703\n",
      "   -0.02403643 -0.02590689 -0.00720479 -0.01609793 -0.01718944\n",
      "   -0.03617406]\n",
      "  [ 0.00433616  0.03567216  0.02141794 -0.0279493  -0.04524023\n",
      "    0.00083884  0.00235515  0.00165167  0.03530927 -0.0388347\n",
      "   -0.02749263  0.01181088 -0.01845618  0.02812867 -0.04005617\n",
      "   -0.00173692]\n",
      "  [ 0.04659328  0.02081953  0.03239347  0.04181651  0.00366927\n",
      "   -0.02950674  0.00084295 -0.01304064  0.00669845  0.00811959\n",
      "   -0.04965048 -0.00882796 -0.04379677  0.02121356 -0.04558191\n",
      "   -0.01714968]\n",
      "  [ 0.04659328  0.02081953  0.03239347  0.04181651  0.00366927\n",
      "   -0.02950674  0.00084295 -0.01304064  0.00669845  0.00811959\n",
      "   -0.04965048 -0.00882796 -0.04379677  0.02121356 -0.04558191\n",
      "   -0.01714968]\n",
      "  [ 0.04659328  0.02081953  0.03239347  0.04181651  0.00366927\n",
      "   -0.02950674  0.00084295 -0.01304064  0.00669845  0.00811959\n",
      "   -0.04965048 -0.00882796 -0.04379677  0.02121356 -0.04558191\n",
      "   -0.01714968]]\n",
      "\n",
      " [[ 0.0412893   0.04510992 -0.02845806 -0.04503443 -0.00910386\n",
      "   -0.00617893  0.01866654 -0.03834786 -0.0147431  -0.04162367\n",
      "   -0.03992705 -0.03162609 -0.04337506  0.01709053 -0.00967705\n",
      "   -0.01866814]\n",
      "  [ 0.0306132   0.02264179  0.00232399  0.03059437 -0.01439872\n",
      "   -0.03906511 -0.002255   -0.01995412  0.02712715  0.00550284\n",
      "   -0.03561164  0.04542    -0.02042049 -0.01126904  0.03021565\n",
      "    0.01673542]\n",
      "  [-0.0443506  -0.02364569  0.04732085  0.04808856 -0.02087694\n",
      "    0.02871375  0.03939248 -0.03041872  0.00622759  0.03678969\n",
      "   -0.041268   -0.02839118  0.03059948 -0.00766657 -0.04352932\n",
      "   -0.01364028]\n",
      "  [ 0.03594026 -0.00402098  0.02190511 -0.04288031 -0.03236042\n",
      "    0.0087625  -0.02806423  0.01909894 -0.022965   -0.0149953\n",
      "   -0.02885283  0.00446586  0.01233127 -0.00488908  0.00203796\n",
      "   -0.02336772]\n",
      "  [ 0.02470024 -0.03693676  0.02869567  0.03673892 -0.04529002\n",
      "   -0.00710267 -0.02517122 -0.00903394 -0.01418688 -0.01637489\n",
      "    0.02062613  0.02409032 -0.02014722 -0.00354696  0.02132857\n",
      "    0.04003214]\n",
      "  [ 0.04659328  0.02081953  0.03239347  0.04181651  0.00366927\n",
      "   -0.02950674  0.00084295 -0.01304064  0.00669845  0.00811959\n",
      "   -0.04965048 -0.00882796 -0.04379677  0.02121356 -0.04558191\n",
      "   -0.01714968]]\n",
      "\n",
      " [[ 0.00750719 -0.00585764  0.01181789  0.00904914 -0.02775171\n",
      "   -0.03785004 -0.03593966  0.00541823  0.02400384 -0.01764315\n",
      "    0.0075788  -0.03350314  0.0140859   0.0486362   0.0196884\n",
      "   -0.04093514]\n",
      "  [ 0.0404877  -0.01432369 -0.04860229 -0.00292047  0.02014923\n",
      "   -0.0305733   0.02275065  0.04424757 -0.01178471 -0.04060085\n",
      "   -0.00227658 -0.01944038 -0.01111013 -0.02432199 -0.0270828\n",
      "   -0.01617767]\n",
      "  [-0.03613651 -0.02576408 -0.0070138  -0.00130119 -0.00953001\n",
      "    0.01810876  0.04073726 -0.04649446  0.02400262 -0.04257821\n",
      "   -0.01161418  0.03307624 -0.02402462 -0.01930236  0.00274038\n",
      "    0.0462605 ]\n",
      "  [-0.01056157 -0.0256488   0.02119892  0.02426355  0.00515053\n",
      "    0.04772338  0.04584521  0.04975357  0.00075352  0.00350088\n",
      "   -0.01274352 -0.04152536 -0.04499345  0.04667142 -0.04009283\n",
      "    0.04919472]\n",
      "  [ 0.04832609  0.04809923  0.02189921 -0.04225464 -0.03655341\n",
      "    0.00669114  0.04978024  0.03979823 -0.01967628 -0.02687752\n",
      "   -0.00588503  0.04035202  0.03299097 -0.00636097  0.00747349\n",
      "   -0.00693948]\n",
      "  [ 0.02470024 -0.03693676  0.02869567  0.03673892 -0.04529002\n",
      "   -0.00710267 -0.02517122 -0.00903394 -0.01418688 -0.01637489\n",
      "    0.02062613  0.02409032 -0.02014722 -0.00354696  0.02132857\n",
      "    0.04003214]]], shape=(3, 6, 16), dtype=float32)\n"
     ]
    }
   ],
   "source": [
    "embedding = layers.Embedding(input_dim=5000, output_dim=16, mask_zero=True)\n",
    "masked_output = embedding(padded_inputs)\n",
    "\n",
    "print(masked_output)"
   ]
  },
  {
   "cell_type": "markdown",
   "metadata": {},
   "source": [
    "<br>"
   ]
  },
  {
   "cell_type": "code",
   "execution_count": 10,
   "metadata": {},
   "outputs": [
    {
     "name": "stdout",
     "output_type": "stream",
     "text": [
      "tf.Tensor(\n",
      "[[ True  True  True False False False]\n",
      " [ True  True  True  True  True False]\n",
      " [ True  True  True  True  True  True]], shape=(3, 6), dtype=bool)\n"
     ]
    }
   ],
   "source": [
    "print(masked_output._keras_mask)"
   ]
  },
  {
   "cell_type": "markdown",
   "metadata": {},
   "source": [
    "<br>"
   ]
  },
  {
   "cell_type": "code",
   "execution_count": 8,
   "metadata": {
    "scrolled": true
   },
   "outputs": [
    {
     "name": "stdout",
     "output_type": "stream",
     "text": [
      "tf.Tensor(\n",
      "[[[7.110e+02 7.110e+02 7.110e+02 7.110e+02 7.110e+02 7.110e+02 7.110e+02\n",
      "   7.110e+02 7.110e+02 7.110e+02]\n",
      "  [6.320e+02 6.320e+02 6.320e+02 6.320e+02 6.320e+02 6.320e+02 6.320e+02\n",
      "   6.320e+02 6.320e+02 6.320e+02]\n",
      "  [7.100e+01 7.100e+01 7.100e+01 7.100e+01 7.100e+01 7.100e+01 7.100e+01\n",
      "   7.100e+01 7.100e+01 7.100e+01]\n",
      "  [0.000e+00 0.000e+00 0.000e+00 0.000e+00 0.000e+00 0.000e+00 0.000e+00\n",
      "   0.000e+00 0.000e+00 0.000e+00]\n",
      "  [0.000e+00 0.000e+00 0.000e+00 0.000e+00 0.000e+00 0.000e+00 0.000e+00\n",
      "   0.000e+00 0.000e+00 0.000e+00]\n",
      "  [0.000e+00 0.000e+00 0.000e+00 0.000e+00 0.000e+00 0.000e+00 0.000e+00\n",
      "   0.000e+00 0.000e+00 0.000e+00]]\n",
      "\n",
      " [[7.300e+01 7.300e+01 7.300e+01 7.300e+01 7.300e+01 7.300e+01 7.300e+01\n",
      "   7.300e+01 7.300e+01 7.300e+01]\n",
      "  [8.000e+00 8.000e+00 8.000e+00 8.000e+00 8.000e+00 8.000e+00 8.000e+00\n",
      "   8.000e+00 8.000e+00 8.000e+00]\n",
      "  [3.215e+03 3.215e+03 3.215e+03 3.215e+03 3.215e+03 3.215e+03 3.215e+03\n",
      "   3.215e+03 3.215e+03 3.215e+03]\n",
      "  [5.500e+01 5.500e+01 5.500e+01 5.500e+01 5.500e+01 5.500e+01 5.500e+01\n",
      "   5.500e+01 5.500e+01 5.500e+01]\n",
      "  [9.270e+02 9.270e+02 9.270e+02 9.270e+02 9.270e+02 9.270e+02 9.270e+02\n",
      "   9.270e+02 9.270e+02 9.270e+02]\n",
      "  [0.000e+00 0.000e+00 0.000e+00 0.000e+00 0.000e+00 0.000e+00 0.000e+00\n",
      "   0.000e+00 0.000e+00 0.000e+00]]\n",
      "\n",
      " [[8.300e+01 8.300e+01 8.300e+01 8.300e+01 8.300e+01 8.300e+01 8.300e+01\n",
      "   8.300e+01 8.300e+01 8.300e+01]\n",
      "  [9.100e+01 9.100e+01 9.100e+01 9.100e+01 9.100e+01 9.100e+01 9.100e+01\n",
      "   9.100e+01 9.100e+01 9.100e+01]\n",
      "  [1.000e+00 1.000e+00 1.000e+00 1.000e+00 1.000e+00 1.000e+00 1.000e+00\n",
      "   1.000e+00 1.000e+00 1.000e+00]\n",
      "  [6.450e+02 6.450e+02 6.450e+02 6.450e+02 6.450e+02 6.450e+02 6.450e+02\n",
      "   6.450e+02 6.450e+02 6.450e+02]\n",
      "  [1.253e+03 1.253e+03 1.253e+03 1.253e+03 1.253e+03 1.253e+03 1.253e+03\n",
      "   1.253e+03 1.253e+03 1.253e+03]\n",
      "  [9.270e+02 9.270e+02 9.270e+02 9.270e+02 9.270e+02 9.270e+02 9.270e+02\n",
      "   9.270e+02 9.270e+02 9.270e+02]]], shape=(3, 6, 10), dtype=float32)\n"
     ]
    }
   ],
   "source": [
    "masking_layer = layers.Masking()\n",
    "# Simulate the embedding lookup by expanding the 2D input to 3D, with embedding dimension of 10.\n",
    "\n",
    "unmasked_embedding = tf.cast(tf.tile(tf.expand_dims(padded_inputs, axis=-1),\n",
    "                                     [1, 1, 10]),\n",
    "                             tf.float32)\n",
    "\n",
    "masked_embedding = masking_layer(unmasked_embedding)\n",
    "print(masked_embedding)"
   ]
  },
  {
   "cell_type": "markdown",
   "metadata": {},
   "source": [
    "<br>"
   ]
  },
  {
   "cell_type": "code",
   "execution_count": 9,
   "metadata": {},
   "outputs": [
    {
     "name": "stdout",
     "output_type": "stream",
     "text": [
      "tf.Tensor(\n",
      "[[ True  True  True False False False]\n",
      " [ True  True  True  True  True False]\n",
      " [ True  True  True  True  True  True]], shape=(3, 6), dtype=bool)\n"
     ]
    }
   ],
   "source": [
    "print(masked_embedding._keras_mask)"
   ]
  },
  {
   "cell_type": "markdown",
   "metadata": {},
   "source": [
    "<br>"
   ]
  },
  {
   "cell_type": "markdown",
   "metadata": {},
   "source": [
    "<font style=\"color:maroon;font-size:115%\">As you can see from the printed result, the mask is a 2D boolean tensor with shape `(batch_size, sequence_length)`, **where each individual `False` entry indicates that the corresponding timestep should be ignored during processing**.</font>"
   ]
  },
  {
   "cell_type": "markdown",
   "metadata": {},
   "source": [
    "<br>\n",
    "<br>\n",
    "<br>"
   ]
  },
  {
   "cell_type": "markdown",
   "metadata": {},
   "source": [
    "## Mask propagation in the Functional API and Sequential API\n",
    "\n",
    "<font style=\"color:maroon;font-size:115%\">When using the **Functional API** or the **Sequential API**, a mask generated by an `Embedding` or `Masking` layer will be propagated through the network for any layer that is capable of using them (for example, RNN layers). Keras will automatically fetch the mask corresponding to an input and pass it to any layer that knows how to use it.</font>\n",
    "\n",
    "For instance, in the following Sequential model, the `LSTM` layer will automatically receive a mask, which means it will ignore padded values:"
   ]
  },
  {
   "cell_type": "code",
   "execution_count": 11,
   "metadata": {},
   "outputs": [],
   "source": [
    "model = keras.Sequential([layers.Embedding(input_dim=5000, output_dim=16, mask_zero=True),\n",
    "                          layers.LSTM(32),])"
   ]
  },
  {
   "cell_type": "markdown",
   "metadata": {},
   "source": [
    "<br>"
   ]
  },
  {
   "cell_type": "markdown",
   "metadata": {},
   "source": [
    "This is also the case for the following Functional API model:"
   ]
  },
  {
   "cell_type": "code",
   "execution_count": 12,
   "metadata": {},
   "outputs": [],
   "source": [
    "inputs = keras.Input(shape=(None, ), dtype='int32')\n",
    "\n",
    "x = layers.Embedding(input_dim=5000, output_dim=16, mask_zero=True)(inputs)\n",
    "outputs = layers.LSTM(32)(x)\n",
    "\n",
    "model = keras.Model(inputs, outputs)"
   ]
  },
  {
   "cell_type": "markdown",
   "metadata": {},
   "source": [
    "<br>\n",
    "<br>\n",
    "<br>"
   ]
  },
  {
   "cell_type": "markdown",
   "metadata": {},
   "source": [
    "## Passing mask tensors directly to layers"
   ]
  },
  {
   "cell_type": "markdown",
   "metadata": {},
   "source": [
    "<font style=\"color:maroon;font-size:115%\">Layers that can handle masks (such as the `LSTM` layer) have a `mask` argument in their `__call__` method.\n",
    "\n",
    "Meanwhile, layers that produce a mask (e.g. `Embedding`) expose a `compute_mask(input, previous_mask)` method which you can call.\n",
    "\n",
    "Thus, you can pass the output of the `compute_mask()` method of a mask-producing layer to the `__call__` method of a mask-consuming layer, like this:</font>"
   ]
  },
  {
   "cell_type": "code",
   "execution_count": 14,
   "metadata": {},
   "outputs": [
    {
     "data": {
      "text/plain": [
       "<tf.Tensor: shape=(32, 32), dtype=float32, numpy=\n",
       "array([[-0.00547996, -0.0054173 ,  0.00050939, ...,  0.00948612,\n",
       "         0.00590012, -0.00375227],\n",
       "       [ 0.00246026,  0.00042996, -0.00257897, ..., -0.00265325,\n",
       "         0.00255879,  0.00134919],\n",
       "       [ 0.0010486 , -0.00403494, -0.00099709, ..., -0.005806  ,\n",
       "         0.00291907,  0.00738447],\n",
       "       ...,\n",
       "       [ 0.00238941,  0.00486492, -0.00209149, ...,  0.00288839,\n",
       "         0.00978902,  0.00257493],\n",
       "       [ 0.00204352, -0.00793534,  0.00110439, ..., -0.00617585,\n",
       "         0.00553788,  0.00692509],\n",
       "       [ 0.00603078, -0.00147527,  0.00333826, ..., -0.00777231,\n",
       "         0.00315196, -0.00450323]], dtype=float32)>"
      ]
     },
     "execution_count": 14,
     "metadata": {},
     "output_type": "execute_result"
    }
   ],
   "source": [
    "class MyLayer(layers.Layer):\n",
    "    def __init__(self, **kwargs):\n",
    "        super(MyLayer, self).__init__(**kwargs)\n",
    "        self.embedding = layers.Embedding(input_dim=5000, output_dim=16, mask_zero=True)\n",
    "        self.lstm = layers.LSTM(32)\n",
    "    \n",
    "    \n",
    "    def call(self, inputs):\n",
    "        x = self.embedding(inputs)\n",
    "        \n",
    "        # Note that you could also prepare a `mask` tensor manually.\n",
    "        # It only needs to be a boolean tensor with the right shape, i.e. (batch_size, timesteps).\n",
    "        mask = self.embedding.compute_mask(inputs)\n",
    "        \n",
    "        output = self.lstm(x, mask=mask)    # The layer will ignore the masked values\n",
    "        \n",
    "        return output\n",
    "\n",
    "\n",
    "layer = MyLayer()\n",
    "x = np.random.random((32, 10)) * 100\n",
    "x = x.astype(\"int32\")\n",
    "layer(x)"
   ]
  },
  {
   "cell_type": "markdown",
   "metadata": {},
   "source": [
    "<br>\n",
    "<br>\n",
    "<br>"
   ]
  },
  {
   "cell_type": "markdown",
   "metadata": {},
   "source": [
    "## Supporting masking in your custom layers"
   ]
  },
  {
   "cell_type": "markdown",
   "metadata": {},
   "source": [
    "<font style=\"color:maroon;font-size:115%\">Sometimes, you may need to write layers that generate a mask (like `Embedding`), or layers that need to modify the current mask.</font>\n",
    "\n",
    "For instance, any layer that produces a tensor with a different time dimension than its input, such as a `Concatenate` layer that concatenates on the time dimension, will need to modify the current mask so that downstream layers will be able to properly take masked timesteps into account.\n",
    "\n",
    "<font style=\"color:maroon;font-size:115%\">To do this, your layer should implement the `layer.compute_mask()` method, which produces a new mask given the input and the current mask.</font>\n",
    "\n",
    "Here is an example of a `TemporalSplit` layer that needs to modify the current mask."
   ]
  },
  {
   "cell_type": "code",
   "execution_count": 15,
   "metadata": {},
   "outputs": [
    {
     "name": "stdout",
     "output_type": "stream",
     "text": [
      "tf.Tensor(\n",
      "[[ True  True  True]\n",
      " [ True  True  True]\n",
      " [ True  True  True]], shape=(3, 3), dtype=bool)\n",
      "tf.Tensor(\n",
      "[[False False False]\n",
      " [ True  True False]\n",
      " [ True  True  True]], shape=(3, 3), dtype=bool)\n"
     ]
    }
   ],
   "source": [
    "class TemporalSplit(keras.layers.Layer):\n",
    "    \"\"\"Split the input tensor into 2 tensors along the time dimension.\"\"\"\n",
    "    \n",
    "    def call(self, inputs):\n",
    "        # Expect the input to be 3D and mask to be 2D, split the input tensor into 2\n",
    "        # subtensors along the time axis (axis 1).\n",
    "        return tf.split(inputs, 2, axis=1)\n",
    "    \n",
    "    \n",
    "    def compute_mask(self, inputs, mask=None):\n",
    "        # Also split the mask into 2 if it presents.\n",
    "        if mask is None:\n",
    "            return None\n",
    "        return tf.split(mask, 2, axis=1)\n",
    "\n",
    "\n",
    "first_half, second_half = TemporalSplit()(masked_embedding)\n",
    "print(first_half._keras_mask)\n",
    "print(second_half._keras_mask)"
   ]
  },
  {
   "cell_type": "markdown",
   "metadata": {},
   "source": [
    "<br>"
   ]
  },
  {
   "cell_type": "markdown",
   "metadata": {},
   "source": [
    "Here is another example of a `CustomEmbedding` layer that is capable of generating a mask from input values:"
   ]
  },
  {
   "cell_type": "code",
   "execution_count": 17,
   "metadata": {},
   "outputs": [
    {
     "name": "stdout",
     "output_type": "stream",
     "text": [
      "[[4 3 1 8 7 4 8 8 6 3]\n",
      " [2 3 6 1 0 4 4 3 2 2]\n",
      " [4 8 5 0 3 3 7 0 1 1]]\n",
      "\n",
      "\n",
      "\n",
      "tf.Tensor(\n",
      "[[ True  True  True  True  True  True  True  True  True  True]\n",
      " [ True  True  True  True False  True  True  True  True  True]\n",
      " [ True  True  True False  True  True  True False  True  True]], shape=(3, 10), dtype=bool)\n"
     ]
    }
   ],
   "source": [
    "class CustomEmbedding(layers.Layer):\n",
    "    def __init__(self, input_dim, output_dim, mask_zero=False, **kwargs):\n",
    "        super(CustomEmbedding, self).__init__(**kwargs)\n",
    "        self.input_dim = input_dim\n",
    "        self.output_dim = output_dim\n",
    "        self.mask_zero = mask_zero\n",
    "    \n",
    "    \n",
    "    def build(self, input_shape):\n",
    "        self.embeddings = self.add_weight(shape=(self.input_dim, self.output_dim),\n",
    "                                          initializer='random_normal',\n",
    "                                          dtype='float32',)\n",
    "    \n",
    "    \n",
    "    def call(self, inputs):\n",
    "        return tf.nn.embedding_lookup(self.embeddings, inputs)\n",
    "    \n",
    "    \n",
    "    def compute_mask(self, inputs, mask=None):\n",
    "        if not self.mask_zero:\n",
    "            return None\n",
    "        return tf.not_equal(inputs, 0)   # inputs 中元素 不等于0 的就为 True\n",
    "\n",
    "\n",
    "\n",
    "layer = CustomEmbedding(10, 32, mask_zero=True)\n",
    "x = np.random.random((3, 10)) * 9\n",
    "x = x.astype('int32')\n",
    "\n",
    "y = layer(x)\n",
    "mask = layer.compute_mask(x)\n",
    "\n",
    "print(x)\n",
    "print('\\n\\n')\n",
    "print(mask)"
   ]
  },
  {
   "cell_type": "markdown",
   "metadata": {},
   "source": [
    "<br>\n",
    "<br>\n",
    "<br>"
   ]
  },
  {
   "cell_type": "markdown",
   "metadata": {},
   "source": [
    "## Opting-in to mask propagation on compatible layers\n",
    "\n",
    "Most layers don't modify the time dimension, so don't need to modify the current mask.\n",
    "However, they may still want to be able to **propagate** the current mask, unchanged, to the next layer. <font style=\"color:maroon;font-size:115%\">**This is an opt-in behavior.** By default, a custom layer will destroy the current mask (since the framework has no way to tell whether propagating the mask is safe to do).\n",
    "\n",
    "If you have a custom layer that does not modify the time dimension, and if you want it to be able to propagate the current input mask, you should set `self.supports_masking = True` in the layer constructor. In this case, the default behavior of `compute_mask()` is to just pass the current mask through.</font>\n",
    "\n",
    "Here's an example of a layer that is whitelisted for mask propagation:"
   ]
  },
  {
   "cell_type": "code",
   "execution_count": 19,
   "metadata": {},
   "outputs": [],
   "source": [
    "class MyActivation(layers.Layer):\n",
    "    def __init__(self, **kwargs):\n",
    "        super(MyActivation, self).__init__(**kwargs)\n",
    "        \n",
    "        # Signal that the layer is safe for mask propagation\n",
    "        self.supports_masking = True\n",
    "    \n",
    "    \n",
    "    def call(self, inputs):\n",
    "        return tf.nn.relu(inputs)"
   ]
  },
  {
   "cell_type": "markdown",
   "metadata": {},
   "source": [
    "<br>"
   ]
  },
  {
   "cell_type": "markdown",
   "metadata": {},
   "source": [
    "<font style=\"color:maroon;font-size:115%\">You can now use this custom layer in-between a **mask-generating layer** (like `Embedding`) and a **mask-consuming layer** (like `LSTM`), and it will pass the mask along so that it reaches the mask-consuming layer.</font>"
   ]
  },
  {
   "cell_type": "code",
   "execution_count": 22,
   "metadata": {},
   "outputs": [
    {
     "name": "stdout",
     "output_type": "stream",
     "text": [
      "Mask found: KerasTensor(type_spec=TensorSpec(shape=(None, None), dtype=tf.bool, name=None), name='Placeholder_1:0')\n"
     ]
    }
   ],
   "source": [
    "inputs = keras.Input(shape=(None, ), dtype='int32')\n",
    "x = layers.Embedding(input_dim=5000, output_dim=16, mask_zero=True)(inputs)\n",
    "x = MyActivation()(x)             # Will pass the mask along\n",
    "print(\"Mask found:\", x._keras_mask)\n",
    "\n",
    "outputs = layers.LSTM(32)(x)    # Will receive the mask\n",
    "\n",
    "model = keras.Model(inputs, outputs)"
   ]
  },
  {
   "cell_type": "markdown",
   "metadata": {},
   "source": [
    "<br>\n",
    "<br>\n",
    "<br>"
   ]
  },
  {
   "cell_type": "markdown",
   "metadata": {},
   "source": [
    "## Writing layers that need mask information\n",
    "\n",
    "<font style=\"color:maroon;font-size:115%\">Some layers are mask *consumers*: they accept a `mask` argument in `call` and use it to determine whether to skip certain time steps.\n",
    "\n",
    "To write such a layer, you can simply add a `mask=None` argument in your `call` signature. The mask associated with the inputs will be passed to your layer whenever it is available.</font>\n",
    "\n",
    "Here's a simple example below: a layer that computes a softmax over the time dimension (axis 1) of an input sequence, while discarding masked timesteps."
   ]
  },
  {
   "cell_type": "code",
   "execution_count": 24,
   "metadata": {},
   "outputs": [],
   "source": [
    "class TemporalSoftmax(layers.Layer):\n",
    "    def call(self, inputs, mask=None):\n",
    "        broadcast_float_mask = tf.expand_dims(tf.cast(mask, 'float32'), -1)\n",
    "        inputs_exp = tf.exp(inputs) * broadcast_float_mask\n",
    "        inputs_sum = tf.reduce_sum(inputs_exp * broadcast_float_mask,\n",
    "                                   axis=-1,\n",
    "                                   keepdims=True)\n",
    "        \n",
    "        return inputs_exp / inputs_sum\n",
    "\n",
    "\n",
    "\n",
    "inputs = keras.Input(shape=(None, ), dtype='int32')\n",
    "x = layers.Embedding(input_dim=10, output_dim=32, mask_zero=True)(inputs)\n",
    "x = layers.Dense(1)(x)\n",
    "outputs = TemporalSoftmax()(x)\n",
    "\n",
    "model = keras.Model(inputs, outputs)\n",
    "y = model(np.random.randint(0, 10, size=(32, 100)),\n",
    "          np.random.random((32, 100, 1)))"
   ]
  },
  {
   "cell_type": "markdown",
   "metadata": {},
   "source": [
    "<br>\n",
    "<br>\n",
    "<br>"
   ]
  },
  {
   "cell_type": "markdown",
   "metadata": {},
   "source": [
    "## Summary\n",
    "\n",
    "<font style=\"color:maroon;font-size:115%\">That is all you need to know about padding & masking in Keras. To recap:\n",
    "\n",
    "- \"Masking\" is how layers are able to know when to skip / ignore certain timesteps in sequence inputs.\n",
    "<br>\n",
    "    \n",
    "- Some layers are mask-generators: `Embedding` can generate a mask from input values (if `mask_zero=True`), and so can the `Masking` layer.\n",
    "<br>\n",
    "    \n",
    "- Some layers are mask-consumers: they expose a `mask` argument in their `__call__` method. This is the case for RNN layers.\n",
    "<br>\n",
    "    \n",
    "- In the Functional API and Sequential API, mask information is propagated automatically.\n",
    "<br>\n",
    "    \n",
    "- When using layers in a standalone way, you can pass the `mask` arguments to layers manually.\n",
    "<br>\n",
    "    \n",
    "- You can easily write layers that modify the current mask, that generate a new mask, or that consume the mask associated with the inputs.</font>"
   ]
  },
  {
   "cell_type": "markdown",
   "metadata": {},
   "source": [
    "<br>\n",
    "<br>\n",
    "<br>"
   ]
  }
 ],
 "metadata": {
  "kernelspec": {
   "display_name": "Python [conda env:tfg]",
   "language": "python",
   "name": "conda-env-tfg-py"
  },
  "language_info": {
   "codemirror_mode": {
    "name": "ipython",
    "version": 3
   },
   "file_extension": ".py",
   "mimetype": "text/x-python",
   "name": "python",
   "nbconvert_exporter": "python",
   "pygments_lexer": "ipython3",
   "version": "3.9.7"
  },
  "toc": {
   "base_numbering": 1,
   "nav_menu": {},
   "number_sections": true,
   "sideBar": true,
   "skip_h1_title": false,
   "title_cell": "Table of Contents",
   "title_sidebar": "Contents",
   "toc_cell": false,
   "toc_position": {
    "height": "calc(100% - 180px)",
    "left": "10px",
    "top": "150px",
    "width": "271px"
   },
   "toc_section_display": true,
   "toc_window_display": false
  },
  "varInspector": {
   "cols": {
    "lenName": 16,
    "lenType": 16,
    "lenVar": 40
   },
   "kernels_config": {
    "python": {
     "delete_cmd_postfix": "",
     "delete_cmd_prefix": "del ",
     "library": "var_list.py",
     "varRefreshCmd": "print(var_dic_list())"
    },
    "r": {
     "delete_cmd_postfix": ") ",
     "delete_cmd_prefix": "rm(",
     "library": "var_list.r",
     "varRefreshCmd": "cat(var_dic_list()) "
    }
   },
   "types_to_exclude": [
    "module",
    "function",
    "builtin_function_or_method",
    "instance",
    "_Feature"
   ],
   "window_display": false
  }
 },
 "nbformat": 4,
 "nbformat_minor": 4
}
