{
 "cells": [
  {
   "cell_type": "markdown",
   "metadata": {},
   "source": [
    "<br>"
   ]
  },
  {
   "cell_type": "markdown",
   "metadata": {},
   "source": [
    "<div align=center><font color=maroon size=6><b>Working with preprocessing layers</b></font></div>"
   ]
  },
  {
   "cell_type": "markdown",
   "metadata": {},
   "source": [
    "<br>"
   ]
  },
  {
   "cell_type": "markdown",
   "metadata": {},
   "source": [
    "<font size=4><b>References:</b></font>\n",
    "1. TF2 Core: <a href=\"https://www.tensorflow.org/guide\" style=\"text-decoration:none;\">TensorFlow Guide</a> \n",
    "    * `TensorFlow > Learn > TensorFlow Core > `Guide > <a href=\"https://www.tensorflow.org/guide/keras/preprocessing_layers\" style=\"text-decoration:none;\">Working with preprocessing layers</a>\n",
    "        * Run in <a href=\"https://colab.research.google.com/github/tensorflow/docs/blob/snapshot-keras/site/en/guide/keras/preprocessing_layers.ipynb\" style=\"text-decoration:none;\">Google Colab</a>"
   ]
  },
  {
   "cell_type": "markdown",
   "metadata": {},
   "source": [
    "<br>\n",
    "<br>\n",
    "<br>"
   ]
  },
  {
   "cell_type": "code",
   "execution_count": 11,
   "metadata": {},
   "outputs": [],
   "source": [
    "import tensorflow as tf\n",
    "from tensorflow import keras\n",
    "from tensorflow.keras import layers\n",
    "\n",
    "import numpy as np"
   ]
  },
  {
   "cell_type": "code",
   "execution_count": 12,
   "metadata": {},
   "outputs": [
    {
     "name": "stdout",
     "output_type": "stream",
     "text": [
      "2.8.0\n"
     ]
    }
   ],
   "source": [
    "print(tf.__version__)"
   ]
  },
  {
   "cell_type": "markdown",
   "metadata": {},
   "source": [
    "<br>"
   ]
  },
  {
   "cell_type": "markdown",
   "metadata": {},
   "source": [
    "## Keras preprocessing\n",
    "\n",
    "The Keras preprocessing layers API allows developers to build Keras-native input processing pipelines. <font size=3 color=maroon>These input processing pipelines can be used as independent preprocessing code in non-Keras workflows, combined directly with Keras models, and exported as part of a Keras SavedModel.</font>\n",
    "\n",
    "With Keras preprocessing layers, you can build and export models that are truly end-to-end: models that accept raw images or raw structured data as input; models that handle feature normalization or feature value indexing on their own."
   ]
  },
  {
   "cell_type": "markdown",
   "metadata": {},
   "source": [
    "<br>\n",
    "<br>\n",
    "<br>"
   ]
  },
  {
   "cell_type": "markdown",
   "metadata": {},
   "source": [
    "## <font color=maroon>Available preprocessing</font>\n",
    "\n",
    "### Text preprocessing\n",
    "\n",
    "- `tf.keras.layers.TextVectorization`: turns raw strings into an encoded   representation that can be read by an `Embedding` layer or `Dense` layer.\n",
    "\n",
    "\n",
    "\n",
    "### Numerical features preprocessing\n",
    "\n",
    "- `tf.keras.layers.Normalization`: performs feature-wise normalize of input features.\n",
    "- `tf.keras.layers.Discretization`: turns continuous numerical features into integer categorical features.\n",
    "\n",
    "\n",
    "\n",
    "### Categorical features preprocessing\n",
    "\n",
    "- `tf.keras.layers.CategoryEncoding`: turns integer categorical features into one-hot, multi-hot, or count dense representations.\n",
    "- `tf.keras.layers.Hashing`: performs categorical feature hashing, also known as the \"hashing trick\".\n",
    "- `tf.keras.layers.StringLookup`: turns string categorical values an encoded representation that can be read by an `Embedding` layer or `Dense` layer.\n",
    "- `tf.keras.layers.IntegerLookup`: turns integer categorical values into an encoded representation that can be read by an `Embedding` layer or `Dense` layer.\n",
    "\n",
    "\n",
    "\n",
    "### Image preprocessing\n",
    "\n",
    "These layers are for standardizing the inputs of an image model.\n",
    "\n",
    "- `tf.keras.layers.Resizing`: resizes a batch of images to a target size.\n",
    "- `tf.keras.layers.Rescaling`: rescales and offsets the values of a batch of image (e.g. go from inputs in the `[0, 255]` range to inputs in the `[0, 1]` range.\n",
    "- `tf.keras.layers.CenterCrop`: returns a center crop of a batch of images.\n",
    "\n",
    "\n",
    "\n",
    "### Image data augmentation\n",
    "\n",
    "These layers apply random augmentation transforms to a batch of images. <font size=3 color=maroon>They are only active during training.</font>\n",
    "\n",
    "- `tf.keras.layers.RandomCrop`\n",
    "- `tf.keras.layers.RandomFlip`\n",
    "- `tf.keras.layers.RandomTranslation`\n",
    "- `tf.keras.layers.RandomRotation`\n",
    "- `tf.keras.layers.RandomZoom`\n",
    "- `tf.keras.layers.RandomHeight`\n",
    "- `tf.keras.layers.RandomWidth`\n",
    "- `tf.keras.layers.RandomContrast`"
   ]
  },
  {
   "cell_type": "markdown",
   "metadata": {},
   "source": [
    "<br>"
   ]
  },
  {
   "cell_type": "markdown",
   "metadata": {},
   "source": [
    "## The <font color=maroon>adapt()</font> method\n",
    "\n",
    "Some preprocessing layers have an internal state that can be computed based on a sample of the training data. The list of stateful preprocessing layers is:\n",
    "\n",
    "- `TextVectorization`: holds a mapping between string tokens and integer indices.\n",
    "- `StringLookup` and `IntegerLookup`: hold a mapping between input values and integer indices.\n",
    "- `Normalization`: holds the mean and standard deviation of the features.\n",
    "- `Discretization`: holds information about value bucket boundaries.\n",
    "\n",
    "<font size=3 color=maroon>Crucially, these layers are **non-trainable**. Their state is not set during training; it\n",
    "must be set **before training**, either by initializing them from a precomputed constant, or by \"adapting\" them on data.\n",
    "\n",
    "You set the state of a preprocessing layer by exposing it to training data, via the `adapt()` method:</font>"
   ]
  },
  {
   "cell_type": "code",
   "execution_count": 4,
   "metadata": {},
   "outputs": [
    {
     "name": "stdout",
     "output_type": "stream",
     "text": [
      "Features mean: -0.00\n",
      "Features std: 1.00\n"
     ]
    }
   ],
   "source": [
    "data = np.array([[0.1, 0.2, 0.3], [0.8, 0.9, 1.0], [1.5, 1.6, 1.7],])\n",
    "layer = layers.Normalization()\n",
    "layer.adapt(data)\n",
    "normalized_data = layer(data)\n",
    "\n",
    "print(\"Features mean: %.2f\" % (normalized_data.numpy().mean()))\n",
    "print(\"Features std: %.2f\" % (normalized_data.numpy().std()))"
   ]
  },
  {
   "cell_type": "code",
   "execution_count": 5,
   "metadata": {},
   "outputs": [
    {
     "data": {
      "text/plain": [
       "<tf.Tensor: shape=(3, 3), dtype=float32, numpy=\n",
       "array([[-1.2247449e+00, -1.2247449e+00, -1.2247448e+00],\n",
       "       [ 0.0000000e+00, -1.0428640e-07,  0.0000000e+00],\n",
       "       [ 1.2247449e+00,  1.2247448e+00,  1.2247449e+00]], dtype=float32)>"
      ]
     },
     "execution_count": 5,
     "metadata": {},
     "output_type": "execute_result"
    }
   ],
   "source": [
    "normalized_data"
   ]
  },
  {
   "cell_type": "code",
   "execution_count": 7,
   "metadata": {},
   "outputs": [],
   "source": [
    "# help(layers.Normalization)"
   ]
  },
  {
   "cell_type": "markdown",
   "metadata": {},
   "source": [
    "<br>"
   ]
  },
  {
   "cell_type": "markdown",
   "metadata": {},
   "source": [
    "<font size=3 color=maroon>The `adapt()` method takes either a Numpy array or a `tf.data.Dataset` object. In the case of `StringLookup` and `TextVectorization`, you can also pass a list of strings:</font>"
   ]
  },
  {
   "cell_type": "code",
   "execution_count": 8,
   "metadata": {},
   "outputs": [
    {
     "name": "stdout",
     "output_type": "stream",
     "text": [
      "tf.Tensor(\n",
      "[[37 12 25  5  9 20 21  0  0]\n",
      " [51 34 27 33 29 18  0  0  0]\n",
      " [49 52 30 31 19 46 10  0  0]\n",
      " [ 7  5 50 43 28  7 47 17  0]\n",
      " [24 35 39 40  3  6 32 16  0]\n",
      " [ 4  2 15 14 22 23  0  0  0]\n",
      " [36 48  6 38 42  3 45  0  0]\n",
      " [ 4  2 13 41 53  8 44 26 11]], shape=(8, 9), dtype=int64)\n"
     ]
    }
   ],
   "source": [
    "data = [\n",
    "    \"ξεῖν᾽, ἦ τοι μὲν ὄνειροι ἀμήχανοι ἀκριτόμυθοι\",\n",
    "    \"γίγνοντ᾽, οὐδέ τι πάντα τελείεται ἀνθρώποισι.\",\n",
    "    \"δοιαὶ γάρ τε πύλαι ἀμενηνῶν εἰσὶν ὀνείρων:\",\n",
    "    \"αἱ μὲν γὰρ κεράεσσι τετεύχαται, αἱ δ᾽ ἐλέφαντι:\",\n",
    "    \"τῶν οἳ μέν κ᾽ ἔλθωσι διὰ πριστοῦ ἐλέφαντος,\",\n",
    "    \"οἵ ῥ᾽ ἐλεφαίρονται, ἔπε᾽ ἀκράαντα φέροντες:\",\n",
    "    \"οἱ δὲ διὰ ξεστῶν κεράων ἔλθωσι θύραζε,\",\n",
    "    \"οἵ ῥ᾽ ἔτυμα κραίνουσι, βροτῶν ὅτε κέν τις ἴδηται.\",\n",
    "]  # 8个元素\n",
    "\n",
    "layer = layers.TextVectorization()\n",
    "layer.adapt(data)\n",
    "vectorized_text = layer(data)\n",
    "print(vectorized_text)"
   ]
  },
  {
   "cell_type": "markdown",
   "metadata": {},
   "source": [
    "<br>"
   ]
  },
  {
   "cell_type": "markdown",
   "metadata": {},
   "source": [
    "<font size=3 color=maroon>In addition, adaptable layers always expose an option to directly set state via constructor arguments or weight assignment. If the intended state values are known at layer construction time, or are calculated outside of the `adapt()` call, they can be set without relying on the layer's internal computation.</font> `(也就是下面这种在实例化 StringLookup() 时传入 vocabulary，但是不用 .adapt() 的方式)`\n",
    "\n",
    "For instance, if external vocabulary files for the `TextVectorization`, `StringLookup`, or `IntegerLookup` layers already exist, those can be loaded directly into the lookup tables by passing a path to the\n",
    "vocabulary file in the layer's constructor arguments.\n",
    "\n",
    "Here's an example where we instantiate a `StringLookup` layer with precomputed vocabulary:"
   ]
  },
  {
   "cell_type": "code",
   "execution_count": 9,
   "metadata": {},
   "outputs": [
    {
     "name": "stdout",
     "output_type": "stream",
     "text": [
      "tf.Tensor(\n",
      "[[1 3 4]\n",
      " [4 0 2]], shape=(2, 3), dtype=int64)\n"
     ]
    }
   ],
   "source": [
    "vocab = [\"a\", \"b\", \"c\", \"d\"]\n",
    "data = tf.constant([[\"a\", \"c\", \"d\"], [\"d\", \"z\", \"b\"]]) # 未在 vocab 中出现的 'z' 赋予\n",
    "layer = layers.StringLookup(vocabulary=vocab) # 实例化时传入 vocabulary，下面不用 .adapt()\n",
    "vectorized_data = layer(data)\n",
    "print(vectorized_data)"
   ]
  },
  {
   "cell_type": "markdown",
   "metadata": {},
   "source": [
    "<br>\n",
    "<br>\n",
    "<br>"
   ]
  },
  {
   "cell_type": "markdown",
   "metadata": {},
   "source": [
    "## Preprocessing data before the model or inside the model\n",
    "\n",
    "There are two ways you could be using preprocessing layers:\n",
    "\n",
    "<br>\n",
    "<br>\n",
    "\n",
    "**Option 1:** **Make them part of the model**, like this:\n",
    "\n",
    "```python\n",
    "inputs = keras.Input(shape=input_shape)\n",
    "x = preprocessing_layer(inputs)\n",
    "outputs = rest_of_the_model(x)\n",
    "model = keras.Model(inputs, outputs)\n",
    "```\n",
    "\n",
    "With this option, preprocessing <font size=3 color=maroon>will happen on device, synchronously with the rest of the model execution, meaning that it will benefit from **GPU acceleration**.\n",
    "If you're training on GPU, this is the best option for the `Normalization` layer, and for all image preprocessing and data augmentation layers.</font>\n",
    "\n",
    "<br>\n",
    "<br>\n",
    "<br>\n",
    "\n",
    "**Option 2:** **apply it to your `tf.data.Dataset`**, so as to obtain a dataset that yields batches of preprocessed data, like this:\n",
    "\n",
    "```python\n",
    "dataset = dataset.map(lambda x, y: (preprocessing_layer(x), y))\n",
    "```\n",
    "\n",
    "<font size=3 color=maroon>With this option, your preprocessing will happen on **CPU**, asynchronously, and will be buffered before going into the model. In addition, if you call `dataset.prefetch(tf.data.AUTOTUNE)` on your dataset, the preprocessing will happen efficiently in parallel with training:</font>\n",
    "\n",
    "```python\n",
    "dataset = dataset.map(lambda x, y: (preprocessing_layer(x), y))\n",
    "dataset = dataset.prefetch(tf.data.AUTOTUNE)\n",
    "model.fit(dataset, ...)\n",
    "```\n",
    "\n",
    "<font size=3 color=maroon>This is the best option for `TextVectorization`, and all structured data preprocessing layers. It can also be a good option if you're training on CPU and you use image preprocessing layers.</font>\n",
    "\n",
    "<br>\n",
    "<br>\n",
    "<br>\n",
    "\n",
    "<font size=3 color=maroon>**When running on TPU, you should always place preprocessing layers in the `tf.data` pipeline**\n",
    "(with the exception of `Normalization` and `Rescaling`, which run fine on TPU and are commonly\n",
    "used as the first layer is an image model).</font>"
   ]
  },
  {
   "cell_type": "markdown",
   "metadata": {},
   "source": [
    "<br>\n",
    "<br>\n",
    "<br>"
   ]
  },
  {
   "cell_type": "markdown",
   "metadata": {},
   "source": [
    "## Benefits of doing preprocessing inside the model at inference time\n",
    "\n",
    "Even if you go with option 2, you may later want to export an inference-only end-to-end model that will include the preprocessing layers. The key benefit to doing this is that <font color=maroon size=3>**it makes your model portable** and it **helps reduce the [training/serving skew](https://developers.google.com/machine-learning/guides/rules-of-ml#training-serving_skew)**.</font>\n",
    "\n",
    "<br>\n",
    "\n",
    "When all data preprocessing is part of the model, other people can load and use your model without having to be aware of how each feature is expected to be encoded & normalized. Your inference model will be able to process raw images or raw structured data, and will not require users of the model to be aware of the details of e.g. the tokenization scheme used for text, the indexing scheme used for categorical features, <font size=3 color=maroon>whether image pixel values are normalized to `[-1, +1]` or to `[0, 1]`,</font> etc. <font size=3 color=maroon>This is especially powerful if you're exporting your model to another runtime, such as TensorFlow.js: you won't have to reimplement your preprocessing pipeline in JavaScript.</font>\n",
    "\n",
    "If you initially put your preprocessing layers in your `tf.data` pipeline, you can export an inference model that packages the preprocessing. Simply instantiate a new model that chains your preprocessing layers and your training model:\n",
    "\n",
    "```python\n",
    "inputs = keras.Input(shape=input_shape)\n",
    "x = preprocessing_layer(inputs)\n",
    "outputs = training_model(x)\n",
    "inference_model = keras.Model(inputs, outputs)\n",
    "```"
   ]
  },
  {
   "cell_type": "markdown",
   "metadata": {},
   "source": [
    "<br>\n",
    "<br>\n",
    "<br>"
   ]
  },
  {
   "cell_type": "markdown",
   "metadata": {},
   "source": [
    "## Quick recipes\n",
    "\n",
    "### Image data augmentation\n",
    "\n",
    "<font size=3 color=maroon>Note that image data augmentation layers are only active during training (similarly to the `Dropout` layer).</font>"
   ]
  },
  {
   "cell_type": "code",
   "execution_count": 13,
   "metadata": {},
   "outputs": [
    {
     "name": "stdout",
     "output_type": "stream",
     "text": [
      "(50000, 32, 32, 3)\n",
      "5/5 [==============================] - 13s 88ms/step - loss: 9.3784\n"
     ]
    },
    {
     "data": {
      "text/plain": [
       "<keras.callbacks.History at 0x19ce080e5e0>"
      ]
     },
     "execution_count": 13,
     "metadata": {},
     "output_type": "execute_result"
    }
   ],
   "source": [
    "# Create a data augmentation stage with horizontal flipping, rotations, zooms\n",
    "data_augmentation = keras.Sequential([layers.RandomFlip(\"horizontal\"),\n",
    "                                      layers.RandomRotation(0.1),\n",
    "                                      layers.RandomZoom(0.1),])\n",
    "\n",
    "# Load some data\n",
    "(x_train, y_train), _ = keras.datasets.cifar10.load_data()\n",
    "print(x_train.shape)\n",
    "input_shape = x_train.shape[1:]   # 因为 batch_size 是 x_train.shape[0]\n",
    "classes = 10\n",
    "\n",
    "# Create a tf.data pipeline of augmented images (and their labels)\n",
    "train_dataset = tf.data.Dataset.from_tensor_slices((x_train, y_train))\n",
    "train_dataset = train_dataset.batch(16).map(lambda x, y: (data_augmentation(x), y))\n",
    "\n",
    "\n",
    "# Create a model and train it on the augmented image data\n",
    "inputs = keras.Input(shape=input_shape)\n",
    "x = layers.Rescaling(1.0 / 255)(inputs)  # Rescale inputs\n",
    "outputs = keras.applications.ResNet50(weights=None, \n",
    "                                      input_shape=input_shape, \n",
    "                                      classes=classes)(x)\n",
    "model = keras.Model(inputs, outputs)\n",
    "model.compile(optimizer=\"rmsprop\", loss=\"sparse_categorical_crossentropy\")\n",
    "model.fit(train_dataset, steps_per_epoch=5)"
   ]
  },
  {
   "cell_type": "markdown",
   "metadata": {},
   "source": [
    "<br>"
   ]
  },
  {
   "cell_type": "markdown",
   "metadata": {},
   "source": [
    "You can see a similar setup in action in the example [image classification from scratch](https://keras.io/examples/vision/image_classification_from_scratch/)."
   ]
  },
  {
   "cell_type": "markdown",
   "metadata": {},
   "source": [
    "<br>\n",
    "<br>"
   ]
  },
  {
   "cell_type": "markdown",
   "metadata": {},
   "source": [
    "### Normalizing numerical features"
   ]
  },
  {
   "cell_type": "code",
   "execution_count": 14,
   "metadata": {},
   "outputs": [
    {
     "name": "stdout",
     "output_type": "stream",
     "text": [
      "1563/1563 [==============================] - 3s 1ms/step - loss: 2.1160\n"
     ]
    },
    {
     "data": {
      "text/plain": [
       "<keras.callbacks.History at 0x19cde9dfaf0>"
      ]
     },
     "execution_count": 14,
     "metadata": {},
     "output_type": "execute_result"
    }
   ],
   "source": [
    "# Load some data\n",
    "(x_train, y_train), _ = keras.datasets.cifar10.load_data()\n",
    "x_train = x_train.reshape((len(x_train), -1))\n",
    "input_shape = x_train.shape[1:]\n",
    "classes = 10\n",
    "\n",
    "# Create a Normalization layer and set its internal state using the training data\n",
    "normalizer = layers.Normalization()\n",
    "normalizer.adapt(x_train)\n",
    "\n",
    "# Create a model that include the normalization layer\n",
    "inputs = keras.Input(shape=input_shape)\n",
    "x = normalizer(inputs)\n",
    "outputs = layers.Dense(classes, activation=\"softmax\")(x)\n",
    "model = keras.Model(inputs, outputs)\n",
    "\n",
    "# Train the model\n",
    "model.compile(optimizer=\"adam\", loss=\"sparse_categorical_crossentropy\")\n",
    "model.fit(x_train, y_train)"
   ]
  },
  {
   "cell_type": "markdown",
   "metadata": {},
   "source": [
    "<br>\n",
    "<br>"
   ]
  },
  {
   "cell_type": "markdown",
   "metadata": {},
   "source": [
    "### Encoding string categorical features via one-hot encoding"
   ]
  },
  {
   "cell_type": "code",
   "execution_count": 15,
   "metadata": {},
   "outputs": [
    {
     "name": "stdout",
     "output_type": "stream",
     "text": [
      "tf.Tensor(\n",
      "[[0. 0. 0. 1.]\n",
      " [0. 0. 1. 0.]\n",
      " [0. 1. 0. 0.]\n",
      " [1. 0. 0. 0.]\n",
      " [1. 0. 0. 0.]\n",
      " [1. 0. 0. 0.]], shape=(6, 4), dtype=float32)\n"
     ]
    }
   ],
   "source": [
    "# Define some toy data\n",
    "data = tf.constant([[\"a\"], [\"b\"], [\"c\"], [\"b\"], [\"c\"], [\"a\"]])\n",
    "\n",
    "# Use StringLookup to build an index of the feature values and encode output.\n",
    "lookup = layers.StringLookup(output_mode=\"one_hot\")\n",
    "lookup.adapt(data)\n",
    "\n",
    "# Convert new test data (which includes unknown feature values)\n",
    "test_data = tf.constant([[\"a\"], [\"b\"], [\"c\"], [\"d\"], [\"e\"], [\"\"]]) # [\"d\"],[\"e\"],[\"\"] 是 out-of-vovabulary\n",
    "encoded_data = lookup(test_data)\n",
    "print(encoded_data)"
   ]
  },
  {
   "cell_type": "markdown",
   "metadata": {},
   "source": [
    "<font size=3 color=maroon>**Note that**, here, index 0 is reserved for out-of-vocabulary values (values that were not seen during `adapt()`).</font>\n",
    "\n",
    "You can see the `StringLookup` in action in the [Structured data classification from scratch](https://keras.io/examples/structured_data/structured_data_classification_from_scratch/) example."
   ]
  },
  {
   "cell_type": "markdown",
   "metadata": {},
   "source": [
    "回顾在 `3  The adapt() method` 中不采用 .adapt() 时的形式：\n",
    "\n",
    "```python\n",
    "vocab = [\"a\", \"b\", \"c\", \"d\"]\n",
    "data = tf.constant([[\"a\", \"c\", \"d\"], [\"d\", \"z\", \"b\"]]) # 未在 vocab 中出现的 'z' 赋予\n",
    "layer = layers.StringLookup(vocabulary=vocab) # 实例化时传入 vocabulary，下面不用 .adapt()\n",
    "vectorized_data = layer(data)\n",
    "print(vectorized_data)\n",
    "```"
   ]
  },
  {
   "cell_type": "markdown",
   "metadata": {},
   "source": [
    "<br>\n",
    "<br>"
   ]
  },
  {
   "cell_type": "markdown",
   "metadata": {},
   "source": [
    "### Encoding integer categorical features via one-hot encoding"
   ]
  },
  {
   "cell_type": "code",
   "execution_count": 16,
   "metadata": {},
   "outputs": [
    {
     "name": "stdout",
     "output_type": "stream",
     "text": [
      "tf.Tensor(\n",
      "[[0. 0. 1. 0. 0.]\n",
      " [0. 0. 1. 0. 0.]\n",
      " [0. 1. 0. 0. 0.]\n",
      " [1. 0. 0. 0. 0.]\n",
      " [1. 0. 0. 0. 0.]\n",
      " [0. 0. 0. 0. 1.]], shape=(6, 5), dtype=float32)\n"
     ]
    }
   ],
   "source": [
    "# Define some toy data\n",
    "data = tf.constant([[10], [20], [20], [10], [30], [0]])\n",
    "\n",
    "# Use IntegerLookup to build an index of the feature values and encode output.\n",
    "lookup = layers.IntegerLookup(output_mode=\"one_hot\")\n",
    "lookup.adapt(data)\n",
    "\n",
    "# 陈锐平的试验\n",
    "#lookup = layers.IntegerLookup(output_mode=\"one_hot\",\n",
    "#                              # mask_token=0,\n",
    "#                              # oov_token=[50,60]\n",
    "#                              )\n",
    "\n",
    "# Convert new test data (which includes unknown feature values)\n",
    "test_data = tf.constant([[10], [10], [20], [50], [60], [0]])\n",
    "encoded_data = lookup(test_data)\n",
    "print(encoded_data)"
   ]
  },
  {
   "cell_type": "code",
   "execution_count": 18,
   "metadata": {},
   "outputs": [],
   "source": [
    "# help(layers.IntegerLookup)"
   ]
  },
  {
   "cell_type": "markdown",
   "metadata": {},
   "source": [
    "<br>"
   ]
  },
  {
   "cell_type": "markdown",
   "metadata": {},
   "source": [
    "<font size=3 color=maroon>**Note that**</font> index 0 is reserved for missing values (which you should specify as the value 0), and index 1 is reserved for out-of-vocabulary values (values that were not seen during `adapt()`). You can configure this by using the `mask_token` and `oov_token` constructor arguments  of `IntegerLookup`.\n",
    "\n",
    "You can see the `IntegerLookup` in action in the example [structured data classification from scratch](https://keras.io/examples/structured_data/structured_data_classification_from_scratch/)."
   ]
  },
  {
   "cell_type": "markdown",
   "metadata": {},
   "source": [
    "<br>\n",
    "<br>"
   ]
  },
  {
   "cell_type": "markdown",
   "metadata": {},
   "source": [
    "### Applying the hashing trick to an integer categorical feature\n",
    "\n",
    "If you have <font size=3 color=maroon>a categorical feature that can take many different values (on the order of 10e3 or higher), where each value only appears a few times in the data, it becomes impractical and ineffective to index and one-hot encode the feature values</font>. Instead, it can be a good idea to apply the <font size=3 color=maroon>\"**hashing trick**\": hash the values to a vector of fixed size. This keeps the size of the feature space manageable, and removes the need for explicit indexing.</font>"
   ]
  },
  {
   "cell_type": "code",
   "execution_count": 24,
   "metadata": {},
   "outputs": [
    {
     "name": "stdout",
     "output_type": "stream",
     "text": [
      "(10000, 64)\n"
     ]
    }
   ],
   "source": [
    "# Sample data: 10,000 random integers with values between 0 and 100,000\n",
    "data = np.random.randint(0, 100000, size=(10000, 1))\n",
    "\n",
    "# Use the Hashing layer to hash the values to the range [0, 64]\n",
    "hasher = layers.Hashing(num_bins=64, salt=1337)\n",
    "\n",
    "# Use the CategoryEncoding layer to multi-hot encode the hashed values\n",
    "encoder = layers.CategoryEncoding(num_tokens=64, output_mode=\"multi_hot\")\n",
    "encoded_data = encoder(hasher(data))\n",
    "print(encoded_data.shape)"
   ]
  },
  {
   "cell_type": "markdown",
   "metadata": {},
   "source": [
    "<br>\n",
    "<br>"
   ]
  },
  {
   "cell_type": "markdown",
   "metadata": {},
   "source": [
    "### Encoding text as a sequence of token indices\n",
    "\n",
    "This is how you should preprocess text to be passed to an `Embedding` layer."
   ]
  },
  {
   "cell_type": "code",
   "execution_count": 25,
   "metadata": {},
   "outputs": [
    {
     "name": "stdout",
     "output_type": "stream",
     "text": [
      "Encoded text:\n",
      " [[ 2 19 14  1  9  2  1]]\n",
      "\n",
      "Training model...\n",
      "1/1 [==============================] - 2s 2s/step - loss: 0.4888\n",
      "\n",
      "Calling end-to-end model on test string...\n",
      "Model output: tf.Tensor([[0.02961727]], shape=(1, 1), dtype=float32)\n"
     ]
    }
   ],
   "source": [
    "# Define some text data to adapt the layer\n",
    "adapt_data = tf.constant(\n",
    "    [\n",
    "        \"The Brain is wider than the Sky\",\n",
    "        \"For put them side by side\",\n",
    "        \"The one the other will contain\",\n",
    "        \"With ease and You beside\",\n",
    "    ])\n",
    "\n",
    "# Create a TextVectorization layer\n",
    "text_vectorizer = layers.TextVectorization(output_mode=\"int\")\n",
    "# Index the vocabulary via `adapt()`\n",
    "text_vectorizer.adapt(adapt_data)\n",
    "\n",
    "# Try out the layer\n",
    "print(\"Encoded text:\\n\", text_vectorizer([\"The Brain is deeper than the sea\"]).numpy(),)\n",
    "\n",
    "# Create a simple model\n",
    "inputs = keras.Input(shape=(None,), dtype=\"int64\")\n",
    "x = layers.Embedding(input_dim=text_vectorizer.vocabulary_size(), output_dim=16)(inputs)\n",
    "x = layers.GRU(8)(x)\n",
    "outputs = layers.Dense(1)(x)\n",
    "model = keras.Model(inputs, outputs)\n",
    "\n",
    "# Create a labeled dataset (which includes unknown tokens)\n",
    "train_dataset = tf.data.Dataset.from_tensor_slices(([\"The Brain is deeper than the sea\", \n",
    "                                                     \"for if they are held Blue to Blue\"], \n",
    "                                                    [1, 0])\n",
    "                                                  )\n",
    "\n",
    "# Preprocess the string inputs, turning them into int sequences\n",
    "train_dataset = train_dataset.batch(2).map(lambda x, y: (text_vectorizer(x), y))\n",
    "# Train the model on the int sequences\n",
    "print(\"\\nTraining model...\")\n",
    "model.compile(optimizer=\"rmsprop\", loss=\"mse\")\n",
    "model.fit(train_dataset)\n",
    "\n",
    "# For inference, you can export a model that accepts strings as input\n",
    "inputs = keras.Input(shape=(1,), dtype=\"string\")\n",
    "x = text_vectorizer(inputs)\n",
    "outputs = model(x)\n",
    "end_to_end_model = keras.Model(inputs, outputs)\n",
    "\n",
    "# Call the end-to-end model on test data (which includes unknown tokens)\n",
    "print(\"\\nCalling end-to-end model on test string...\")\n",
    "test_data = tf.constant([\"The one the other will absorb\"])\n",
    "test_output = end_to_end_model(test_data)\n",
    "print(\"Model output:\", test_output)"
   ]
  },
  {
   "cell_type": "markdown",
   "metadata": {},
   "source": [
    "<br>"
   ]
  },
  {
   "cell_type": "markdown",
   "metadata": {},
   "source": [
    "You can see the `TextVectorization` layer in action, combined with an `Embedding` mode, in the example\n",
    "[text classification from scratch](https://keras.io/examples/nlp/text_classification_from_scratch/).\n",
    "\n",
    "<font size=3 color=maroon>Note that when training such a model, for best performance, you should always use the `TextVectorization` layer as part of the input pipeline.</font>"
   ]
  },
  {
   "cell_type": "markdown",
   "metadata": {},
   "source": [
    "<br>\n",
    "<br>"
   ]
  },
  {
   "cell_type": "markdown",
   "metadata": {},
   "source": [
    "### Encoding text as a dense matrix of ngrams with multi-hot encoding\n",
    "\n",
    "This is how you should preprocess text to be passed to a `Dense` layer."
   ]
  },
  {
   "cell_type": "code",
   "execution_count": 30,
   "metadata": {},
   "outputs": [
    {
     "name": "stdout",
     "output_type": "stream",
     "text": [
      "Encoded text:\n",
      " [[1. 1. 0. 0. 0. 0. 0. 0. 0. 0. 0. 0. 0. 0. 0. 0. 1. 1. 1. 0. 0. 0. 0. 0.\n",
      "  0. 0. 0. 0. 1. 0. 0. 0. 0. 0. 0. 0. 1. 1. 0. 0. 0.]]\n",
      "\n",
      "Training model...\n",
      "1/1 [==============================] - 0s 211ms/step - loss: 0.9192\n",
      "\n",
      "Calling end-to-end model on test string...\n",
      "Model output: tf.Tensor([[-0.12319081]], shape=(1, 1), dtype=float32)\n"
     ]
    }
   ],
   "source": [
    "# Define some text data to adapt the layer\n",
    "adapt_data = tf.constant(\n",
    "    [\n",
    "        \"The Brain is wider than the Sky\",\n",
    "        \"For put them side by side\",\n",
    "        \"The one the other will contain\",\n",
    "        \"With ease and You beside\",\n",
    "    ])\n",
    "\n",
    "# Instantiate TextVectorization with \"multi_hot\" output_mode\n",
    "# and ngrams=2 (index all bigrams)\n",
    "text_vectorizer = layers.TextVectorization(output_mode=\"multi_hot\", ngrams=2)\n",
    "# Index the bigrams via `adapt()`\n",
    "text_vectorizer.adapt(adapt_data)\n",
    "\n",
    "# Try out the layer\n",
    "print(\"Encoded text:\\n\", text_vectorizer([\"The Brain is deeper than the sea\"]).numpy(),)\n",
    "\n",
    "# Create a simple model\n",
    "inputs = keras.Input(shape=(text_vectorizer.vocabulary_size(),))\n",
    "outputs = layers.Dense(1)(inputs)\n",
    "model = keras.Model(inputs, outputs)\n",
    "\n",
    "# Create a labeled dataset (which includes unknown tokens)\n",
    "train_dataset = tf.data.Dataset.from_tensor_slices(([\"The Brain is deeper than the sea\", \n",
    "                                                     \"for if they are held Blue to Blue\"], \n",
    "                                                    [1, 0])\n",
    "                                                  )\n",
    "\n",
    "# Preprocess the string inputs, turning them into int sequences\n",
    "train_dataset = train_dataset.batch(2).map(lambda x, y: (text_vectorizer(x), y))\n",
    "# Train the model on the int sequences\n",
    "print(\"\\nTraining model...\")\n",
    "model.compile(optimizer=\"rmsprop\", loss=\"mse\")\n",
    "model.fit(train_dataset)\n",
    "\n",
    "# For inference, you can export a model that accepts strings as input\n",
    "inputs = keras.Input(shape=(1,), dtype=\"string\")\n",
    "x = text_vectorizer(inputs)\n",
    "outputs = model(x)\n",
    "end_to_end_model = keras.Model(inputs, outputs)\n",
    "\n",
    "# Call the end-to-end model on test data (which includes unknown tokens)\n",
    "print(\"\\nCalling end-to-end model on test string...\")\n",
    "test_data = tf.constant([\"The one the other will absorb\"])\n",
    "test_output = end_to_end_model(test_data)\n",
    "print(\"Model output:\", test_output)"
   ]
  },
  {
   "cell_type": "markdown",
   "metadata": {},
   "source": [
    "<br>"
   ]
  },
  {
   "cell_type": "code",
   "execution_count": 31,
   "metadata": {},
   "outputs": [
    {
     "data": {
      "text/plain": [
       "TensorShape([1, 41])"
      ]
     },
     "execution_count": 31,
     "metadata": {},
     "output_type": "execute_result"
    }
   ],
   "source": [
    "text_vectorizer([\"The Brain is deeper than the sea\"]).shape"
   ]
  },
  {
   "cell_type": "code",
   "execution_count": 35,
   "metadata": {},
   "outputs": [
    {
     "name": "stdout",
     "output_type": "stream",
     "text": [
      "(1, 7)\n"
     ]
    },
    {
     "data": {
      "text/plain": [
       "48"
      ]
     },
     "execution_count": 35,
     "metadata": {},
     "output_type": "execute_result"
    }
   ],
   "source": [
    "# 6.6 节的输出\n",
    "print(np.array([[ 2,19, 14, 1, 9, 2, 1]]).shape)\n",
    "np.array([[ 2,19, 14, 1, 9, 2, 1]]).sum()"
   ]
  },
  {
   "cell_type": "markdown",
   "metadata": {},
   "source": [
    "<br>"
   ]
  },
  {
   "cell_type": "markdown",
   "metadata": {},
   "source": [
    "### Encoding text as a dense matrix of ngrams with TF-IDF weighting\n",
    "\n",
    "This is an alternative way of preprocessing text before passing it to a `Dense` layer."
   ]
  },
  {
   "cell_type": "code",
   "execution_count": 36,
   "metadata": {},
   "outputs": [
    {
     "name": "stdout",
     "output_type": "stream",
     "text": [
      "Encoded text:\n",
      " [[5.461647  1.6945957 0.        0.        0.        0.        0.\n",
      "  0.        0.        0.        0.        0.        0.        0.\n",
      "  0.        0.        1.0986123 1.0986123 1.0986123 0.        0.\n",
      "  0.        0.        0.        0.        0.        0.        0.\n",
      "  1.0986123 0.        0.        0.        0.        0.        0.\n",
      "  0.        1.0986123 1.0986123 0.        0.        0.       ]]\n",
      "\n",
      "Training model...\n",
      "1/1 [==============================] - 0s 211ms/step - loss: 9.8066\n",
      "\n",
      "Calling end-to-end model on test string...\n",
      "Model output: tf.Tensor([[-0.01942347]], shape=(1, 1), dtype=float32)\n"
     ]
    }
   ],
   "source": [
    "# Define some text data to adapt the layer\n",
    "adapt_data = tf.constant(\n",
    "    [\n",
    "        \"The Brain is wider than the Sky\",\n",
    "        \"For put them side by side\",\n",
    "        \"The one the other will contain\",\n",
    "        \"With ease and You beside\",\n",
    "    ])\n",
    "\n",
    "# Instantiate TextVectorization with \"tf-idf\" output_mode\n",
    "# (multi-hot with TF-IDF weighting) and ngrams=2 (index all bigrams)\n",
    "text_vectorizer = layers.TextVectorization(output_mode=\"tf-idf\", ngrams=2)\n",
    "# Index the bigrams and learn the TF-IDF weights via `adapt()`\n",
    "\n",
    "with tf.device(\"CPU\"):\n",
    "    # A bug that prevents this from running on GPU for now.\n",
    "    text_vectorizer.adapt(adapt_data)\n",
    "\n",
    "# Try out the layer\n",
    "print(\"Encoded text:\\n\", text_vectorizer([\"The Brain is deeper than the sea\"]).numpy(),)\n",
    "\n",
    "# Create a simple model\n",
    "inputs = keras.Input(shape=(text_vectorizer.vocabulary_size(),))\n",
    "outputs = layers.Dense(1)(inputs)\n",
    "model = keras.Model(inputs, outputs)\n",
    "\n",
    "# Create a labeled dataset (which includes unknown tokens)\n",
    "train_dataset = tf.data.Dataset.from_tensor_slices(([\"The Brain is deeper than the sea\", \n",
    "                                                     \"for if they are held Blue to Blue\"], \n",
    "                                                    [1, 0]))\n",
    "\n",
    "# Preprocess the string inputs, turning them into int sequences\n",
    "train_dataset = train_dataset.batch(2).map(lambda x, y: (text_vectorizer(x), y))\n",
    "# Train the model on the int sequences\n",
    "print(\"\\nTraining model...\")\n",
    "model.compile(optimizer=\"rmsprop\", loss=\"mse\")\n",
    "model.fit(train_dataset)\n",
    "\n",
    "# For inference, you can export a model that accepts strings as input\n",
    "inputs = keras.Input(shape=(1,), dtype=\"string\")\n",
    "x = text_vectorizer(inputs)\n",
    "outputs = model(x)\n",
    "end_to_end_model = keras.Model(inputs, outputs)\n",
    "\n",
    "# Call the end-to-end model on test data (which includes unknown tokens)\n",
    "print(\"\\nCalling end-to-end model on test string...\")\n",
    "test_data = tf.constant([\"The one the other will absorb\"])\n",
    "test_output = end_to_end_model(test_data)\n",
    "print(\"Model output:\", test_output)"
   ]
  },
  {
   "cell_type": "code",
   "execution_count": 37,
   "metadata": {},
   "outputs": [
    {
     "data": {
      "text/plain": [
       "TensorShape([1, 41])"
      ]
     },
     "execution_count": 37,
     "metadata": {},
     "output_type": "execute_result"
    }
   ],
   "source": [
    "text_vectorizer([\"The Brain is deeper than the sea\"]).shape"
   ]
  },
  {
   "cell_type": "markdown",
   "metadata": {},
   "source": [
    "<br>\n",
    "<br>\n",
    "<br>"
   ]
  },
  {
   "cell_type": "markdown",
   "metadata": {},
   "source": [
    "## Important gotchas\n",
    "\n",
    "### Working with lookup layers with very large vocabularies\n",
    "\n",
    "You may find yourself working with a very large vocabulary in a `TextVectorization`, a `StringLookup` layer, or an `IntegerLookup` layer. <font size=3 color=maroon>Typically, a vocabulary larger than 500MB would be considered \"very large\".</font>\n",
    "\n",
    "<font size=3 color=maroon>In such case, for best performance, you should avoid using `adapt()`. Instead, pre-compute your vocabulary in advance (you could use **Apache Beam** or **TF Transform** for this) and store it in a file. Then load the vocabulary into the layer at construction time by passing the filepath as the `vocabulary` argument.</font>\n",
    "\n",
    "\n",
    "### Using lookup layers on a TPU pod or with <font color=maroon>ParameterServerStrategy</font>.\n",
    "\n",
    "There is an outstanding issue that causes performance to degrade when using a `TextVectorization`, `StringLookup`, or `IntegerLookup` layer while training on a TPU pod or on multiple machines via `ParameterServerStrategy`. This is slated to be fixed in TensorFlow 2.7."
   ]
  },
  {
   "cell_type": "markdown",
   "metadata": {},
   "source": [
    "<br>\n",
    "<br>\n",
    "<br>"
   ]
  }
 ],
 "metadata": {
  "kernelspec": {
   "display_name": "Python [conda env:tfg]",
   "language": "python",
   "name": "conda-env-tfg-py"
  },
  "language_info": {
   "codemirror_mode": {
    "name": "ipython",
    "version": 3
   },
   "file_extension": ".py",
   "mimetype": "text/x-python",
   "name": "python",
   "nbconvert_exporter": "python",
   "pygments_lexer": "ipython3",
   "version": "3.9.7"
  },
  "toc": {
   "base_numbering": 1,
   "nav_menu": {},
   "number_sections": true,
   "sideBar": true,
   "skip_h1_title": false,
   "title_cell": "Table of Contents",
   "title_sidebar": "Contents",
   "toc_cell": false,
   "toc_position": {
    "height": "calc(100% - 180px)",
    "left": "10px",
    "top": "150px",
    "width": "256px"
   },
   "toc_section_display": true,
   "toc_window_display": false
  },
  "varInspector": {
   "cols": {
    "lenName": 16,
    "lenType": 16,
    "lenVar": 40
   },
   "kernels_config": {
    "python": {
     "delete_cmd_postfix": "",
     "delete_cmd_prefix": "del ",
     "library": "var_list.py",
     "varRefreshCmd": "print(var_dic_list())"
    },
    "r": {
     "delete_cmd_postfix": ") ",
     "delete_cmd_prefix": "rm(",
     "library": "var_list.r",
     "varRefreshCmd": "cat(var_dic_list()) "
    }
   },
   "types_to_exclude": [
    "module",
    "function",
    "builtin_function_or_method",
    "instance",
    "_Feature"
   ],
   "window_display": false
  }
 },
 "nbformat": 4,
 "nbformat_minor": 4
}
