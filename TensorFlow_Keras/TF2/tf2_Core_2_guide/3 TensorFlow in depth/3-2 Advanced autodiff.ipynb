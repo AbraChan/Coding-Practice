{
 "cells": [
  {
   "cell_type": "markdown",
   "metadata": {},
   "source": [
    "<br>"
   ]
  },
  {
   "cell_type": "markdown",
   "metadata": {},
   "source": [
    "<div align=center><font color=maroon size=6 style=\"line-height:40px;\"><b>Advanced automatic differentiation</b></font></div>"
   ]
  },
  {
   "cell_type": "markdown",
   "metadata": {},
   "source": [
    "<br>"
   ]
  },
  {
   "cell_type": "markdown",
   "metadata": {},
   "source": [
    "<font size=4><b>References:</b></font>\n",
    "1. TF2 Core: <a href=\"https://www.tensorflow.org/guide\" style=\"text-decoration:none;\">TensorFlow Guide</a> \n",
    "    * `TensorFlow > Learn > TensorFlow Core > `Guide > <a href=\"https://www.tensorflow.org/guide/advanced_autodiff\" style=\"text-decoration:none;\">Advanced automatic differentiation</a>\n",
    "        * Run in <a href=\"https://colab.research.google.com/github/tensorflow/docs/blob/master/site/en/guide/advanced_autodiff.ipynb\" style=\"text-decoration:none;\">Google Colab</a>"
   ]
  },
  {
   "cell_type": "markdown",
   "metadata": {},
   "source": [
    "<br>\n",
    "<br>\n",
    "<br>"
   ]
  },
  {
   "cell_type": "markdown",
   "metadata": {},
   "source": [
    "The [Introduction to gradients and automatic differentiation](https://colab.research.google.com/github/tensorflow/docs/blob/master/site/en/guide/autodiff.ipynb) guide includes everything required to calculate gradients in TensorFlow. This guide focuses on deeper, less common features of the `tf.GradientTape` API."
   ]
  },
  {
   "cell_type": "markdown",
   "metadata": {},
   "source": [
    "<br>"
   ]
  },
  {
   "cell_type": "code",
   "execution_count": 1,
   "metadata": {},
   "outputs": [],
   "source": [
    "import tensorflow as tf\n",
    "\n",
    "import matplotlib as mpl\n",
    "import matplotlib.pyplot as plt\n",
    "\n",
    "mpl.rcParams['figure.figsize'] = (8, 6)"
   ]
  },
  {
   "cell_type": "code",
   "execution_count": 2,
   "metadata": {},
   "outputs": [
    {
     "name": "stdout",
     "output_type": "stream",
     "text": [
      "2.8.0\n"
     ]
    }
   ],
   "source": [
    "print(tf.__version__)"
   ]
  },
  {
   "cell_type": "markdown",
   "metadata": {},
   "source": [
    "<br>"
   ]
  },
  {
   "cell_type": "markdown",
   "metadata": {},
   "source": [
    "## Controlling gradient recording\n",
    "\n",
    "In the [automatic differentiation guide](https://colab.research.google.com/github/tensorflow/docs/blob/master/site/en/guide/autodiff.ipynb) you saw how to control which variables and tensors are watched by the tape while building the gradient calculation.\n",
    "\n",
    "The tape also has methods to manipulate the recording."
   ]
  },
  {
   "cell_type": "markdown",
   "metadata": {},
   "source": [
    "<br>"
   ]
  },
  {
   "cell_type": "markdown",
   "metadata": {},
   "source": [
    "### Stop recording\n",
    "\n",
    "<font style=\"color:maroon;font-size:115%\">If you wish to stop recording gradients, you can use `tf.GradientTape.stop_recording` to temporarily suspend recording.\n",
    "\n",
    "This may be useful to reduce overhead if you do not wish to differentiate a complicated operation in the middle of your model.  This could include calculating a metric or an intermediate result:</font>"
   ]
  },
  {
   "cell_type": "code",
   "execution_count": 3,
   "metadata": {},
   "outputs": [
    {
     "name": "stdout",
     "output_type": "stream",
     "text": [
      "dz/dx: tf.Tensor(4.0, shape=(), dtype=float32)\n",
      "dz/dy: None\n"
     ]
    }
   ],
   "source": [
    "x = tf.Variable(2.0)\n",
    "y = tf.Variable(3.0)\n",
    "\n",
    "with tf.GradientTape() as tape:\n",
    "    x_sq = x * x\n",
    "    with tape.stop_recording():\n",
    "        y_sq = y * y\n",
    "    z = x_sq + y_sq\n",
    "\n",
    "grad = tape.gradient(z, {'x': x, 'y': y})\n",
    "\n",
    "print('dz/dx:', grad['x'])  # 2*x => 4\n",
    "print('dz/dy:', grad['y'])"
   ]
  },
  {
   "cell_type": "markdown",
   "metadata": {},
   "source": [
    "<br>\n",
    "<br>"
   ]
  },
  {
   "cell_type": "markdown",
   "metadata": {},
   "source": [
    "### Reset/start recording from scratch\n",
    "\n",
    "<font style=\"color:maroon;font-size:115%\">If you wish to start over entirely, use `tf.GradientTape.reset`. Simply exiting the gradient tape block and restarting is usually easier to read, but you can use the `reset` method when exiting the tape block is difficult or impossible.</font>"
   ]
  },
  {
   "cell_type": "code",
   "execution_count": 5,
   "metadata": {},
   "outputs": [
    {
     "name": "stdout",
     "output_type": "stream",
     "text": [
      "dz/dx: tf.Tensor(4.0, shape=(), dtype=float32)\n",
      "dz/dy: None\n"
     ]
    }
   ],
   "source": [
    "x = tf.Variable(2.0)\n",
    "y = tf.Variable(3.0)\n",
    "\n",
    "reset = True\n",
    "\n",
    "with tf.GradientTape() as tape:\n",
    "    y_sq = y * y\n",
    "    if reset:\n",
    "        # Throw out all the tape recorded so far.\n",
    "        tape.reset()\n",
    "    \n",
    "    z = x * x + y_sq\n",
    "\n",
    "grad = tape.gradient(z, {'x': x, 'y': y})\n",
    "\n",
    "\n",
    "print('dz/dx:', grad['x'])  # 2*x => 4\n",
    "print('dz/dy:', grad['y'])  # 已记录的 dz/dy 被 reset 而 throw out。"
   ]
  },
  {
   "cell_type": "markdown",
   "metadata": {},
   "source": [
    "<br>\n",
    "<br>"
   ]
  },
  {
   "cell_type": "markdown",
   "metadata": {},
   "source": [
    "## Stop gradient flow with precision\n",
    "\n",
    "<font style=\"color:maroon;font-size:115%\">In contrast to the global tape controls above, the `tf.stop_gradient` function is much more precise. It can be used to stop gradients from flowing along a particular path, without needing access to the tape itself:</font>"
   ]
  },
  {
   "cell_type": "code",
   "execution_count": 6,
   "metadata": {},
   "outputs": [
    {
     "name": "stdout",
     "output_type": "stream",
     "text": [
      "dz/dx:  tf.Tensor(4.0, shape=(), dtype=float32)\n",
      "dz/dy:  None\n"
     ]
    }
   ],
   "source": [
    "x = tf.Variable(2.0)\n",
    "y = tf.Variable(3.0)\n",
    "\n",
    "with tf.GradientTape() as tape:\n",
    "    y_sq = y**2\n",
    "    z = x**2 + tf.stop_gradient(y_sq)\n",
    "\n",
    "grad = tape.gradient(z, {'x': x, 'y': y})\n",
    "\n",
    "print('dz/dx: ', grad['x'])    # 2*x => 4\n",
    "print('dz/dy: ', grad['y'])"
   ]
  },
  {
   "cell_type": "markdown",
   "metadata": {},
   "source": [
    "<br>\n",
    "<br>\n",
    "<br>"
   ]
  },
  {
   "cell_type": "markdown",
   "metadata": {},
   "source": [
    "## **Custom gradients**\n",
    "\n",
    "<font style=\"color:maroon;font-size:120%\">In some cases, you may want to control exactly how gradients are calculated rather than using the default. These situations include:\n",
    "\n",
    "1. There is no defined gradient for a new op you are writing.\n",
    "2. The default calculations are numerically unstable.\n",
    "3. You wish to cache an expensive computation from the forward pass.\n",
    "4. You want to modify  a value (for example, using `tf.clip_by_value` or `tf.math.round`) without modifying the gradient.\n",
    "\n",
    "<br>\n",
    "\n",
    "For the first case, to write a new op you can use `tf.RegisterGradient` to set up your own (refer to the API docs for details). (**Note that** the gradient registry is global, so change it with caution.)\n",
    "\n",
    "For the latter three cases, you can use `tf.custom_gradient`.</font>"
   ]
  },
  {
   "cell_type": "markdown",
   "metadata": {},
   "source": [
    "Here is an example that applies `tf.clip_by_norm` to the intermediate gradient:"
   ]
  },
  {
   "cell_type": "code",
   "execution_count": 8,
   "metadata": {},
   "outputs": [
    {
     "name": "stdout",
     "output_type": "stream",
     "text": [
      "tf.Tensor(2.0, shape=(), dtype=float32)\n"
     ]
    }
   ],
   "source": [
    "# Establish an identity operation, but clip during the gradient pass.\n",
    "@tf.custom_gradient\n",
    "def clip_gradient(y):\n",
    "    def backward(dy):\n",
    "        return tf.clip_by_norm(dy, 0.5)\n",
    "    return y, backward\n",
    "\n",
    "\n",
    "v = tf.Variable(2.0)\n",
    "with tf.GradientTape() as tape:\n",
    "    output = clip_gradient(v*v)\n",
    "\n",
    "print(tape.gradient(output, v))  # calls \"backward\", which clips 4 to 2"
   ]
  },
  {
   "cell_type": "markdown",
   "metadata": {},
   "source": [
    "<br>"
   ]
  },
  {
   "cell_type": "markdown",
   "metadata": {},
   "source": [
    "<font style=\"color:maroon;font-size:115%\">Refer to the `tf.custom_gradient` decorator API docs for more details.</font>"
   ]
  },
  {
   "cell_type": "markdown",
   "metadata": {},
   "source": [
    "<br>\n",
    "<br>"
   ]
  },
  {
   "cell_type": "markdown",
   "metadata": {},
   "source": [
    "### Custom gradients in SavedModel\n",
    "\n",
    "<font style=\"color:maroon;font-size:115%\">Note: This feature is available from TensorFlow 2.6.\n",
    "\n",
    "Custom gradients can be saved to SavedModel by using the option `tf.saved_model.SaveOptions(experimental_custom_gradients=True)`.\n",
    "\n",
    "To be saved into the SavedModel, the gradient function must be traceable (to learn more, check out the [Better performance with tf.function](https://colab.research.google.com/github/tensorflow/docs/blob/master/site/en/guide/function.ipynb) guide).</font>"
   ]
  },
  {
   "cell_type": "code",
   "execution_count": 9,
   "metadata": {},
   "outputs": [],
   "source": [
    "class MyModule(tf.Module):\n",
    "    \n",
    "    @tf.function(input_signature=[tf.TensorSpec(None)])\n",
    "    def call_custom_grad(self, x):\n",
    "        return clip_gradient(x)     # clip_gradient() 看上面定义\n",
    "\n",
    "\n",
    "model = MyModule()"
   ]
  },
  {
   "cell_type": "code",
   "execution_count": 11,
   "metadata": {},
   "outputs": [],
   "source": [
    "# help(tf.saved_model.save)"
   ]
  },
  {
   "cell_type": "code",
   "execution_count": 12,
   "metadata": {},
   "outputs": [
    {
     "name": "stdout",
     "output_type": "stream",
     "text": [
      "INFO:tensorflow:Assets written to: ./save_model/3-2\\assets\n",
      "tf.Tensor(2.0, shape=(), dtype=float32)\n"
     ]
    }
   ],
   "source": [
    "tf.saved_model.save(model,\n",
    "                    './save_model/3-2',\n",
    "                    options=tf.saved_model.SaveOptions(experimental_custom_gradients=True))\n",
    "\n",
    "# The loaded gradients will be the same as the above example.\n",
    "v = tf.Variable(2.0)\n",
    "\n",
    "loaded = tf.saved_model.load('./save_model/3-2')\n",
    "\n",
    "with tf.GradientTape() as tape:\n",
    "    output = loaded.call_custom_grad(v*v)\n",
    "\n",
    "print(tape.gradient(output, v))"
   ]
  },
  {
   "cell_type": "markdown",
   "metadata": {},
   "source": [
    "<br>"
   ]
  },
  {
   "cell_type": "markdown",
   "metadata": {},
   "source": [
    "<font style=\"color:maroon;font-size:115%\">A note about the above example:<br>\n",
    "If you try replacing the above code with `tf.saved_model.SaveOptions(experimental_custom_gradients=False)`, the gradient will still produce the same result on loading. **The reason is that** the gradient registry still contains the custom gradient used in the function `call_custom_op`.<br>\n",
    "However, if you restart the runtime after saving without custom gradients, running the loaded model under the `tf.GradientTape` will throw the error:<br>\n",
    "`LookupError: No gradient defined for operation 'IdentityN' (op type: IdentityN)`.</font>"
   ]
  },
  {
   "cell_type": "markdown",
   "metadata": {},
   "source": [
    "<br>\n",
    "<br>\n",
    "<br>"
   ]
  },
  {
   "cell_type": "markdown",
   "metadata": {},
   "source": [
    "## Multiple tapes\n",
    "\n",
    "Multiple tapes interact seamlessly.\n",
    "\n",
    "For example, here each tape watches a different set of tensors:"
   ]
  },
  {
   "cell_type": "code",
   "execution_count": 14,
   "metadata": {},
   "outputs": [],
   "source": [
    "x0 = tf.Variable(0.0)\n",
    "x1 = tf.Variable(0.0)\n",
    "\n",
    "with tf.GradientTape() as tape0, tf.GradientTape() as tape1:\n",
    "    tape0.watch(x0)\n",
    "    tape1.watch(x1)\n",
    "    \n",
    "    y0 = tf.math.sin(x0)\n",
    "    y1 = tf.nn.sigmoid(x1)\n",
    "    \n",
    "    y = y0 + y1\n",
    "    \n",
    "    ys = tf.reduce_sum(y)"
   ]
  },
  {
   "cell_type": "code",
   "execution_count": 15,
   "metadata": {},
   "outputs": [
    {
     "data": {
      "text/plain": [
       "1.0"
      ]
     },
     "execution_count": 15,
     "metadata": {},
     "output_type": "execute_result"
    }
   ],
   "source": [
    "tape0.gradient(ys, x0).numpy()   # cos(x) => 1.0"
   ]
  },
  {
   "cell_type": "code",
   "execution_count": 16,
   "metadata": {},
   "outputs": [
    {
     "data": {
      "text/plain": [
       "0.25"
      ]
     },
     "execution_count": 16,
     "metadata": {},
     "output_type": "execute_result"
    }
   ],
   "source": [
    "tape1.gradient(ys, x1).numpy()   # sigmoid(x1)*(1-sigmoid(x1)) => 0.25"
   ]
  },
  {
   "cell_type": "markdown",
   "metadata": {},
   "source": [
    "<br>\n",
    "<br>"
   ]
  },
  {
   "cell_type": "markdown",
   "metadata": {},
   "source": [
    "### Higher-order gradients\n",
    "\n",
    "<font style=\"color:maroon;font-size:115%\">Operations inside of the `tf.GradientTape` context manager are recorded for automatic differentiation. If gradients are computed in that context, then the gradient computation is recorded as well. As a result, **the exact same API works for higher-order gradients as well**.</font>\n",
    "\n",
    "For example:"
   ]
  },
  {
   "cell_type": "code",
   "execution_count": 17,
   "metadata": {},
   "outputs": [
    {
     "name": "stdout",
     "output_type": "stream",
     "text": [
      "dy_dx: 3.0\n",
      "d2y_dx2: 6.0\n"
     ]
    }
   ],
   "source": [
    "x = tf.Variable(1.0)    # Create a Tensorflow variable initialized to 1.0\n",
    "\n",
    "with tf.GradientTape() as tape2:\n",
    "    with tf.GradientTape() as tape1:\n",
    "        y = x * x * x\n",
    "\n",
    "    # Compute the gradient inside the outer `t2` context manager\n",
    "    # which means the gradient computation is differentiable as well.\n",
    "    dy_dx = tape1.gradient(y, x)\n",
    "d2y_dx2 = tape2.gradient(dy_dx, x)\n",
    "\n",
    "print('dy_dx:', dy_dx.numpy())  # 3 * x**2 => 3.0\n",
    "print('d2y_dx2:', d2y_dx2.numpy())  # 6 * x => 6.0"
   ]
  },
  {
   "cell_type": "markdown",
   "metadata": {},
   "source": [
    "<br>"
   ]
  },
  {
   "cell_type": "markdown",
   "metadata": {},
   "source": [
    "While that does give you the second derivative of a <font style=\"color:maroon;font-size:120%\">**_scalar_ function**, this pattern does not generalize to produce a Hessian matrix, since `tf.GradientTape.gradient` only computes the gradient of a scalar.</font> To construct a [Hessian matrix](https://en.wikipedia.org/wiki/Hessian_matrix), go to the [Hessian example](#hessian) under the [Jacobian section](#jacobians).\n",
    "\n",
    "\"Nested calls to `tf.GradientTape.gradient`\" is a good pattern when you are calculating a scalar from a gradient, and then the resulting scalar acts as a source for a second gradient calculation, as in the following example."
   ]
  },
  {
   "cell_type": "markdown",
   "metadata": {},
   "source": [
    "<br>\n",
    "<br>"
   ]
  },
  {
   "cell_type": "markdown",
   "metadata": {},
   "source": [
    "#### Example: Input gradient regularization\n",
    "\n",
    "<font style=\"color:maroon;font-size:115%\">Many models are susceptible to \"adversarial examples\".</font> This collection of techniques modifies the model's input to confuse the model's output. The simplest implementation—such as the [Adversarial example using the Fast Gradient Signed Method attack](https://www.tensorflow.org/tutorials/generative/adversarial_fgsm)—takes a single step along the gradient of the output with respect to the input; the \"input gradient\".\n",
    "\n",
    "<font style=\"color:maroon;font-size:115%\">One technique to increase robustness to adversarial examples is [input gradient regularization](https://arxiv.org/abs/1905.11468) (Finlay & Oberman, 2019), which attempts to minimize the magnitude of the input gradient. If the input gradient is small, then the change in the output should be small too.\n",
    "\n",
    "Below is a naive implementation of input gradient regularization. The implementation is:</font>\n",
    "\n",
    "1. Calculate the gradient of the output with respect to the input using an inner tape.\n",
    "2. Calculate the magnitude of that input gradient.\n",
    "3. Calculate the gradient of that magnitude with respect to the model."
   ]
  },
  {
   "cell_type": "code",
   "execution_count": 18,
   "metadata": {},
   "outputs": [],
   "source": [
    "x = tf.random.normal([7,5])\n",
    "\n",
    "layer = tf.keras.layers.Dense(10, activation=tf.nn.relu)"
   ]
  },
  {
   "cell_type": "code",
   "execution_count": 19,
   "metadata": {},
   "outputs": [],
   "source": [
    "with tf.GradientTape() as tape2:\n",
    "    # The inner tape only takes the gradient with respect to the input,\n",
    "    # not the variables.\n",
    "    with tf.GradientTape(watch_accessed_variables=False) as tape1:\n",
    "        tape1.watch(x)\n",
    "        y = layer(x)\n",
    "        out = tf.reduce_sum(layer(x)**2)\n",
    "    \n",
    "    # 1. Calculate the input gradient.\n",
    "    g1 = tape1.gradient(out, x)\n",
    "    \n",
    "    # 2. Calculate the magnitude of the input gradient.\n",
    "    g1_mag = tf.norm(g1)\n",
    "\n",
    "# 3. Calculate the gradient of the magnitude with respect to the model.\n",
    "d_g1_mag = tape2.gradient(g1_mag, layer.trainable_variables)"
   ]
  },
  {
   "cell_type": "code",
   "execution_count": 20,
   "metadata": {},
   "outputs": [
    {
     "data": {
      "text/plain": [
       "[TensorShape([5, 10]), TensorShape([10])]"
      ]
     },
     "execution_count": 20,
     "metadata": {},
     "output_type": "execute_result"
    }
   ],
   "source": [
    "[var.shape for var in d_g1_mag]"
   ]
  },
  {
   "cell_type": "markdown",
   "metadata": {},
   "source": [
    "<br>\n",
    "<br>\n",
    "<br>"
   ]
  },
  {
   "cell_type": "markdown",
   "metadata": {},
   "source": [
    "## Jacobians"
   ]
  },
  {
   "cell_type": "markdown",
   "metadata": {},
   "source": [
    "All the previous examples took the gradients of a scalar target with respect to some source tensor(s).\n",
    "\n",
    "<font style=\"color:maroon;font-size:115%\">The [Jacobian matrix](https://en.wikipedia.org/wiki/Jacobian_matrix_and_determinant) represents the gradients of a vector valued function. Each row contains the gradient of one of the vector's elements.\n",
    "\n",
    "The `tf.GradientTape.jacobian` method allows you to efficiently calculate a Jacobian matrix.</font>"
   ]
  },
  {
   "cell_type": "markdown",
   "metadata": {},
   "source": [
    "<font style=\"color:maroon;font-size:115%\">**Note** that:\n",
    "\n",
    "* Like `gradient`: The `sources` argument can be a tensor or a container of tensors.\n",
    "* Unlike `gradient`: The `target` tensor must be a single tensor.</font>"
   ]
  },
  {
   "cell_type": "markdown",
   "metadata": {},
   "source": [
    "<br>\n",
    "<br>"
   ]
  },
  {
   "cell_type": "markdown",
   "metadata": {},
   "source": [
    "### Scalar source"
   ]
  },
  {
   "cell_type": "markdown",
   "metadata": {},
   "source": [
    "As a first example, here is the Jacobian of a vector-target with respect to a scalar-source."
   ]
  },
  {
   "cell_type": "code",
   "execution_count": 21,
   "metadata": {},
   "outputs": [],
   "source": [
    "x = tf.linspace(-10.0, 10.0, 200+1)\n",
    "delta = tf.Variable(0.0)\n",
    "\n",
    "with tf.GradientTape() as tape:\n",
    "    y = tf.nn.sigmoid(x + delta)\n",
    "\n",
    "\n",
    "dy_dx = tape.jacobian(y, delta)"
   ]
  },
  {
   "cell_type": "markdown",
   "metadata": {},
   "source": [
    "<br>"
   ]
  },
  {
   "cell_type": "markdown",
   "metadata": {},
   "source": [
    "<font style=\"color:maroon;font-size:115%\">When you take the Jacobian with respect to a scalar <ins>the result has the shape of the **target**</ins>, and gives the gradient of the each element with respect to the source:</font>"
   ]
  },
  {
   "cell_type": "code",
   "execution_count": 22,
   "metadata": {},
   "outputs": [
    {
     "name": "stdout",
     "output_type": "stream",
     "text": [
      "(201,)\n",
      "(201,)\n"
     ]
    }
   ],
   "source": [
    "print(y.shape)\n",
    "print(dy_dx.shape)"
   ]
  },
  {
   "cell_type": "code",
   "execution_count": 23,
   "metadata": {},
   "outputs": [
    {
     "data": {
      "image/png": "[encoded data removed]",
      "text/plain": [
       "<Figure size 576x432 with 1 Axes>"
      ]
     },
     "metadata": {
      "needs_background": "light"
     },
     "output_type": "display_data"
    }
   ],
   "source": [
    "plt.plot(x.numpy(), y, label='y')\n",
    "plt.plot(x.numpy(), dy_dx, label='dy/dx')\n",
    "plt.legend()\n",
    "_ = plt.xlabel('x')"
   ]
  },
  {
   "cell_type": "markdown",
   "metadata": {},
   "source": [
    "<br>\n",
    "<br>\n",
    "<br>"
   ]
  },
  {
   "cell_type": "markdown",
   "metadata": {},
   "source": [
    "### Tensor source"
   ]
  },
  {
   "cell_type": "markdown",
   "metadata": {},
   "source": [
    "Whether the input is scalar or tensor, `tf.GradientTape.jacobian` efficiently calculates the gradient of each element of the source with respect to each element of the target(s).\n",
    "\n",
    "For example, the output of this layer has a shape of `(10, 7)`:"
   ]
  },
  {
   "cell_type": "code",
   "execution_count": 24,
   "metadata": {},
   "outputs": [
    {
     "data": {
      "text/plain": [
       "TensorShape([7, 10])"
      ]
     },
     "execution_count": 24,
     "metadata": {},
     "output_type": "execute_result"
    }
   ],
   "source": [
    "x = tf.random.normal([7, 5])\n",
    "layer = tf.keras.layers.Dense(10, activation=tf.nn.relu)\n",
    "\n",
    "with tf.GradientTape(persistent=True) as tape:\n",
    "    y = layer(x)\n",
    "\n",
    "y.shape"
   ]
  },
  {
   "cell_type": "markdown",
   "metadata": {},
   "source": [
    "<br>"
   ]
  },
  {
   "cell_type": "markdown",
   "metadata": {},
   "source": [
    "And the layer's kernel's shape is `(5, 10)`:"
   ]
  },
  {
   "cell_type": "code",
   "execution_count": 25,
   "metadata": {},
   "outputs": [
    {
     "data": {
      "text/plain": [
       "TensorShape([5, 10])"
      ]
     },
     "execution_count": 25,
     "metadata": {},
     "output_type": "execute_result"
    }
   ],
   "source": [
    "layer.kernel.shape"
   ]
  },
  {
   "cell_type": "markdown",
   "metadata": {},
   "source": [
    "<br>"
   ]
  },
  {
   "cell_type": "markdown",
   "metadata": {},
   "source": [
    "<font style=\"color:maroon;font-size:120%\">The shape of the Jacobian of the output with respect to the kernel is those two shapes concatenated together:</font>"
   ]
  },
  {
   "cell_type": "code",
   "execution_count": 26,
   "metadata": {},
   "outputs": [
    {
     "data": {
      "text/plain": [
       "TensorShape([7, 10, 5, 10])"
      ]
     },
     "execution_count": 26,
     "metadata": {},
     "output_type": "execute_result"
    }
   ],
   "source": [
    "j = tape.jacobian(y, layer.kernel)\n",
    "j.shape"
   ]
  },
  {
   "cell_type": "markdown",
   "metadata": {},
   "source": [
    "<br>"
   ]
  },
  {
   "cell_type": "markdown",
   "metadata": {},
   "source": [
    "<font style=\"color:maroon;font-size:115%\">If you sum over the target's dimensions, you're left with the gradient of the sum that would have been calculated by `tf.GradientTape.gradient`:</font>"
   ]
  },
  {
   "cell_type": "code",
   "execution_count": 27,
   "metadata": {},
   "outputs": [
    {
     "name": "stdout",
     "output_type": "stream",
     "text": [
      "g.shape: (5, 10)\n",
      "\n",
      "delta: 0.0\n"
     ]
    }
   ],
   "source": [
    "g = tape.gradient(y, layer.kernel)\n",
    "print('g.shape:', g.shape)\n",
    "print()\n",
    "\n",
    "j_sum = tf.reduce_sum(j, axis=[0, 1])\n",
    "delta = tf.reduce_max(abs(g - j_sum)).numpy()\n",
    "assert delta < 1e-3\n",
    "print('delta:', delta)"
   ]
  },
  {
   "cell_type": "markdown",
   "metadata": {},
   "source": [
    "<br>"
   ]
  },
  {
   "cell_type": "markdown",
   "metadata": {},
   "source": [
    "<a id=\"hessian\"> </hessian>\n",
    "\n",
    "#### Example: Hessian"
   ]
  },
  {
   "cell_type": "markdown",
   "metadata": {},
   "source": [
    "<font style=\"font-size:115%\"><font style=\"color:maroon\">While `tf.GradientTape` doesn't give an explicit method for constructing a [Hessian matrix](https://en.wikipedia.org/wiki/Hessian_matrix) it's possible to build one using the `tf.GradientTape.jacobian` method.\n",
    "\n",
    "**Note**: The Hessian matrix contains `N**2` parameters. For this and other reasons it is not practical for most models.</font> This example is included more as a demonstration of how to use the `tf.GradientTape.jacobian` method, and is not an endorsement of direct Hessian-based optimization. <font style=\"color:maroon\">**A Hessian-vector product can be [calculated efficiently with nested tapes](https://github.com/tensorflow/tensorflow/blob/master/tensorflow/python/eager/benchmarks/resnet50/hvp_test.py), and is a much more efficient approach to second-order optimization**.</font>"
   ]
  },
  {
   "cell_type": "code",
   "execution_count": 28,
   "metadata": {},
   "outputs": [],
   "source": [
    "x = tf.random.normal([7, 5])\n",
    "layer1 = tf.keras.layers.Dense(8, activation=tf.nn.relu)\n",
    "layer2 = tf.keras.layers.Dense(6, activation=tf.nn.relu)\n",
    "\n",
    "with tf.GradientTape() as tape2:\n",
    "    with tf.GradientTape() as tape1:\n",
    "        x = layer1(x)\n",
    "        x = layer2(x)\n",
    "        loss = tf.reduce_mean(x**2)\n",
    "\n",
    "    g = tape1.gradient(loss, layer1.kernel)\n",
    "\n",
    "h = tape2.jacobian(g, layer1.kernel)"
   ]
  },
  {
   "cell_type": "code",
   "execution_count": 29,
   "metadata": {},
   "outputs": [
    {
     "name": "stdout",
     "output_type": "stream",
     "text": [
      "layer.kernel.shape: (5, 8)\n",
      "h.shape: (5, 8, 5, 8)\n"
     ]
    }
   ],
   "source": [
    "print(f'layer.kernel.shape: {layer1.kernel.shape}')\n",
    "print(f'h.shape: {h.shape}')"
   ]
  },
  {
   "cell_type": "markdown",
   "metadata": {},
   "source": [
    "<br>"
   ]
  },
  {
   "cell_type": "markdown",
   "metadata": {},
   "source": [
    "<font style=\"color:maroon;font-size:120%\">To use this Hessian for a [Newton's method](https://en.wikipedia.org/wiki/Newton%27s_method_in_optimization) step, you would first flatten out its axes into a matrix, and flatten out the gradient into a vector:</font>"
   ]
  },
  {
   "cell_type": "code",
   "execution_count": 30,
   "metadata": {},
   "outputs": [],
   "source": [
    "n_params = tf.reduce_prod(layer1.kernel.shape)\n",
    "\n",
    "g_vec = tf.reshape(g, [n_params, 1])\n",
    "h_mat = tf.reshape(h, [n_params, n_params])"
   ]
  },
  {
   "cell_type": "markdown",
   "metadata": {},
   "source": [
    "<br>"
   ]
  },
  {
   "cell_type": "markdown",
   "metadata": {},
   "source": [
    "<font style=\"color:maroon;font-size:120%\">The Hessian matrix should be **symmetric**:</font>"
   ]
  },
  {
   "cell_type": "code",
   "execution_count": 31,
   "metadata": {},
   "outputs": [],
   "source": [
    "def imshow_zero_center(image, **kwargs):\n",
    "    lim = tf.reduce_max(abs(image))\n",
    "    plt.imshow(image, vmin=-lim, vmax=lim, cmap='seismic', **kwargs)\n",
    "    plt.colorbar()"
   ]
  },
  {
   "cell_type": "code",
   "execution_count": 32,
   "metadata": {},
   "outputs": [
    {
     "data": {
      "image/png": "[encoded data removed]",
      "text/plain": [
       "<Figure size 576x432 with 2 Axes>"
      ]
     },
     "metadata": {
      "needs_background": "light"
     },
     "output_type": "display_data"
    }
   ],
   "source": [
    "imshow_zero_center(h_mat)"
   ]
  },
  {
   "cell_type": "markdown",
   "metadata": {},
   "source": [
    "<br>"
   ]
  },
  {
   "cell_type": "markdown",
   "metadata": {},
   "source": [
    "The Newton's method update step is shown below:"
   ]
  },
  {
   "cell_type": "code",
   "execution_count": 33,
   "metadata": {},
   "outputs": [],
   "source": [
    "eps = 1e-3\n",
    "eye_eps = tf.eye(h_mat.shape[0])*eps"
   ]
  },
  {
   "cell_type": "code",
   "execution_count": 34,
   "metadata": {},
   "outputs": [
    {
     "data": {
      "text/plain": [
       "<tf.Tensor: shape=(40, 40), dtype=float32, numpy=\n",
       "array([[0.001, 0.   , 0.   , ..., 0.   , 0.   , 0.   ],\n",
       "       [0.   , 0.001, 0.   , ..., 0.   , 0.   , 0.   ],\n",
       "       [0.   , 0.   , 0.001, ..., 0.   , 0.   , 0.   ],\n",
       "       ...,\n",
       "       [0.   , 0.   , 0.   , ..., 0.001, 0.   , 0.   ],\n",
       "       [0.   , 0.   , 0.   , ..., 0.   , 0.001, 0.   ],\n",
       "       [0.   , 0.   , 0.   , ..., 0.   , 0.   , 0.001]], dtype=float32)>"
      ]
     },
     "execution_count": 34,
     "metadata": {},
     "output_type": "execute_result"
    }
   ],
   "source": [
    "eye_eps"
   ]
  },
  {
   "cell_type": "markdown",
   "metadata": {},
   "source": [
    "<br>"
   ]
  },
  {
   "cell_type": "markdown",
   "metadata": {},
   "source": [
    "<font style=\"color:maroon;font-size:120%\">**Note**: [Don't  actually invert the matrix](https://www.johndcook.com/blog/2010/01/19/dont-invert-that-matrix/).</font>"
   ]
  },
  {
   "cell_type": "markdown",
   "metadata": {},
   "source": [
    "<br>"
   ]
  },
  {
   "cell_type": "code",
   "execution_count": 35,
   "metadata": {},
   "outputs": [],
   "source": [
    "# X(k+1) = X(k) - (∇²f(X(k)))^-1 @ ∇f(X(k))\n",
    "# h_mat = ∇²f(X(k))\n",
    "# g_vec = ∇f(X(k))\n",
    "update = tf.linalg.solve(h_mat + eye_eps, g_vec)\n",
    "\n",
    "# Reshape the update and apply it to the variable.\n",
    "_ = layer1.kernel.assign_sub(tf.reshape(update, layer1.kernel.shape))"
   ]
  },
  {
   "cell_type": "markdown",
   "metadata": {},
   "source": [
    "<br>"
   ]
  },
  {
   "cell_type": "markdown",
   "metadata": {},
   "source": [
    "<font style=\"color:maroon;font-size:120%\">While this is relatively simple for a single `tf.Variable`, applying this to a non-trivial model would require careful concatenation and slicing to produce a full Hessian across multiple variables.</font>"
   ]
  },
  {
   "cell_type": "markdown",
   "metadata": {},
   "source": [
    "<br>\n",
    "<br>"
   ]
  },
  {
   "cell_type": "markdown",
   "metadata": {},
   "source": [
    "### Batch Jacobian"
   ]
  },
  {
   "cell_type": "markdown",
   "metadata": {},
   "source": [
    "In some cases, you want to take the Jacobian of each of a stack of targets with respect to a stack of sources, where the Jacobians for each **target-source pair** are independent.\n",
    "\n",
    "For example, here the input `x` is shaped `(batch, ins)` and the output `y` is shaped `(batch, outs)`:"
   ]
  },
  {
   "cell_type": "code",
   "execution_count": 36,
   "metadata": {},
   "outputs": [
    {
     "data": {
      "text/plain": [
       "TensorShape([7, 6])"
      ]
     },
     "execution_count": 36,
     "metadata": {},
     "output_type": "execute_result"
    }
   ],
   "source": [
    "x = tf.random.normal([7, 5])\n",
    "\n",
    "layer1 = tf.keras.layers.Dense(8, activation=tf.nn.elu)\n",
    "layer2 = tf.keras.layers.Dense(6, activation=tf.nn.elu)\n",
    "\n",
    "with tf.GradientTape(persistent=True, watch_accessed_variables=False) as tape:\n",
    "    tape.watch(x)\n",
    "    y = layer1(x)\n",
    "    y = layer2(y)\n",
    "\n",
    "y.shape"
   ]
  },
  {
   "cell_type": "markdown",
   "metadata": {},
   "source": [
    "<br>"
   ]
  },
  {
   "cell_type": "markdown",
   "metadata": {},
   "source": [
    "<font style=\"color:maroon;font-size:120%\">The full Jacobian of `y` with respect to `x` has a shape of `(batch, ins, batch, outs)`, even if you only want `(batch, ins, outs)`:</font>"
   ]
  },
  {
   "cell_type": "code",
   "execution_count": 37,
   "metadata": {},
   "outputs": [
    {
     "data": {
      "text/plain": [
       "TensorShape([7, 6, 7, 5])"
      ]
     },
     "execution_count": 37,
     "metadata": {},
     "output_type": "execute_result"
    }
   ],
   "source": [
    "j = tape.jacobian(y, x)\n",
    "j.shape"
   ]
  },
  {
   "cell_type": "markdown",
   "metadata": {},
   "source": [
    "<br>"
   ]
  },
  {
   "cell_type": "markdown",
   "metadata": {},
   "source": [
    "<font style=\"color:maroon;font-size:120%\">If the gradients of each item in the stack are independent, then every `(batch, batch)` slice of this tensor is a diagonal matrix:</font>"
   ]
  },
  {
   "cell_type": "code",
   "execution_count": 38,
   "metadata": {},
   "outputs": [
    {
     "data": {
      "image/png": "[encoded data removed]",
      "text/plain": [
       "<Figure size 576x432 with 2 Axes>"
      ]
     },
     "metadata": {
      "needs_background": "light"
     },
     "output_type": "display_data"
    }
   ],
   "source": [
    "imshow_zero_center(j[:, 0, :, 0])\n",
    "_ = plt.title('A (batch, batch) slice')"
   ]
  },
  {
   "cell_type": "markdown",
   "metadata": {},
   "source": [
    "<br>"
   ]
  },
  {
   "cell_type": "code",
   "execution_count": 39,
   "metadata": {},
   "outputs": [
    {
     "data": {
      "image/png": "[encoded data removed]",
      "text/plain": [
       "<Figure size 576x432 with 2 Axes>"
      ]
     },
     "metadata": {
      "needs_background": "light"
     },
     "output_type": "display_data"
    }
   ],
   "source": [
    "\n",
    "def plot_as_patches(j):\n",
    "    # Reorder axes so the diagonals will each form a contiguous patch.\n",
    "    j = tf.transpose(j, [1, 0, 3, 2])\n",
    "    # Pad in between each patch.\n",
    "    lim = tf.reduce_max(abs(j))\n",
    "    j = tf.pad(j, [[0, 0], [1, 1], [0, 0], [1, 1]],\n",
    "               constant_values=-lim)\n",
    "    # Reshape to form a single image.\n",
    "    s = j.shape\n",
    "    j = tf.reshape(j, [s[0]*s[1], s[2]*s[3]])\n",
    "    imshow_zero_center(j, extent=[-0.5, s[2]-0.5, s[0]-0.5, -0.5])\n",
    "\n",
    "plot_as_patches(j)\n",
    "_ = plt.title('All (batch, batch) slices are diagonal')"
   ]
  },
  {
   "cell_type": "markdown",
   "metadata": {},
   "source": [
    "<br>"
   ]
  },
  {
   "cell_type": "markdown",
   "metadata": {},
   "source": [
    "<font style=\"color:maroon;font-size:120%\">To get the desired result, you can sum over the duplicate `batch` dimension, or else select the diagonals using `tf.einsum`:</font>"
   ]
  },
  {
   "cell_type": "code",
   "execution_count": 40,
   "metadata": {},
   "outputs": [
    {
     "name": "stdout",
     "output_type": "stream",
     "text": [
      "(7, 6, 5)\n",
      "(7, 6, 5)\n"
     ]
    }
   ],
   "source": [
    "j_sum = tf.reduce_sum(j, axis=2)\n",
    "print(j_sum.shape)\n",
    "j_select = tf.einsum('bxby->bxy', j)\n",
    "print(j_select.shape)"
   ]
  },
  {
   "cell_type": "markdown",
   "metadata": {},
   "source": [
    "<br>"
   ]
  },
  {
   "cell_type": "markdown",
   "metadata": {},
   "source": [
    "<font style=\"color:maroon;font-size:120%\">It would be much more efficient to do the calculation without the extra dimension in the first place. The `tf.GradientTape.batch_jacobian` method does exactly that:</font>"
   ]
  },
  {
   "cell_type": "code",
   "execution_count": 41,
   "metadata": {},
   "outputs": [
    {
     "name": "stdout",
     "output_type": "stream",
     "text": [
      "WARNING:tensorflow:5 out of the last 5 calls to <function pfor.<locals>.f at 0x0000023CB5F34940> triggered tf.function retracing. Tracing is expensive and the excessive number of tracings could be due to (1) creating @tf.function repeatedly in a loop, (2) passing tensors with different shapes, (3) passing Python objects instead of tensors. For (1), please define your @tf.function outside of the loop. For (2), @tf.function has experimental_relax_shapes=True option that relaxes argument shapes that can avoid unnecessary retracing. For (3), please refer to https://www.tensorflow.org/guide/function#controlling_retracing and https://www.tensorflow.org/api_docs/python/tf/function for  more details.\n"
     ]
    },
    {
     "data": {
      "text/plain": [
       "TensorShape([7, 6, 5])"
      ]
     },
     "execution_count": 41,
     "metadata": {},
     "output_type": "execute_result"
    }
   ],
   "source": [
    "jb = tape.batch_jacobian(y, x)\n",
    "jb.shape"
   ]
  },
  {
   "cell_type": "markdown",
   "metadata": {},
   "source": [
    "<br>"
   ]
  },
  {
   "cell_type": "code",
   "execution_count": 42,
   "metadata": {},
   "outputs": [
    {
     "name": "stdout",
     "output_type": "stream",
     "text": [
      "0.0\n"
     ]
    }
   ],
   "source": [
    "error = tf.reduce_max(abs(jb - j_sum))\n",
    "assert error < 1e-3\n",
    "print(error.numpy())"
   ]
  },
  {
   "cell_type": "markdown",
   "metadata": {},
   "source": [
    "<br>"
   ]
  },
  {
   "cell_type": "markdown",
   "metadata": {},
   "source": [
    "<font style=\"color:maroon;font-size:120%\">**Caution**: `tf.GradientTape.batch_jacobian` only verifies that the first dimension of the source and target match. It doesn't check that the gradients are actually independent. It's up to you to make sure you only use `batch_jacobian` where it makes sense. For example, adding a `tf.keras.layers.BatchNormalization` destroys the independence, since it normalizes across the `batch` dimension:</font>"
   ]
  },
  {
   "cell_type": "code",
   "execution_count": 43,
   "metadata": {},
   "outputs": [
    {
     "name": "stdout",
     "output_type": "stream",
     "text": [
      "WARNING:tensorflow:6 out of the last 6 calls to <function pfor.<locals>.f at 0x0000023CB5F34940> triggered tf.function retracing. Tracing is expensive and the excessive number of tracings could be due to (1) creating @tf.function repeatedly in a loop, (2) passing tensors with different shapes, (3) passing Python objects instead of tensors. For (1), please define your @tf.function outside of the loop. For (2), @tf.function has experimental_relax_shapes=True option that relaxes argument shapes that can avoid unnecessary retracing. For (3), please refer to https://www.tensorflow.org/guide/function#controlling_retracing and https://www.tensorflow.org/api_docs/python/tf/function for  more details.\n",
      "j.shape: (7, 6, 7, 5)\n"
     ]
    }
   ],
   "source": [
    "x = tf.random.normal([7, 5])\n",
    "\n",
    "layer1 = tf.keras.layers.Dense(8, activation=tf.nn.elu)\n",
    "bn = tf.keras.layers.BatchNormalization()\n",
    "layer2 = tf.keras.layers.Dense(6, activation=tf.nn.elu)\n",
    "\n",
    "with tf.GradientTape(persistent=True, watch_accessed_variables=False) as tape:\n",
    "    tape.watch(x)\n",
    "    y = layer1(x)\n",
    "    y = bn(y, training=True)\n",
    "    y = layer2(y)\n",
    "\n",
    "j = tape.jacobian(y, x)\n",
    "print(f'j.shape: {j.shape}')"
   ]
  },
  {
   "cell_type": "markdown",
   "metadata": {},
   "source": [
    "<br>"
   ]
  },
  {
   "cell_type": "code",
   "execution_count": 44,
   "metadata": {},
   "outputs": [
    {
     "data": {
      "image/png": "[encoded data removed]",
      "text/plain": [
       "<Figure size 576x432 with 2 Axes>"
      ]
     },
     "metadata": {
      "needs_background": "light"
     },
     "output_type": "display_data"
    }
   ],
   "source": [
    "plot_as_patches(j)\n",
    "\n",
    "_ = plt.title('These slices are not diagonal')\n",
    "_ = plt.xlabel(\"Don't use `batch_jacobian`\")"
   ]
  },
  {
   "cell_type": "markdown",
   "metadata": {},
   "source": [
    "<br>"
   ]
  },
  {
   "cell_type": "markdown",
   "metadata": {},
   "source": [
    "<font style=\"color:maroon;font-size:120%\">In this case, `batch_jacobian` still runs and returns **_something_** with the expected shape, but it's contents have an unclear meaning:</font>"
   ]
  },
  {
   "cell_type": "code",
   "execution_count": 45,
   "metadata": {},
   "outputs": [
    {
     "name": "stdout",
     "output_type": "stream",
     "text": [
      "jb.shape: (7, 6, 5)\n"
     ]
    }
   ],
   "source": [
    "jb = tape.batch_jacobian(y, x)\n",
    "print(f'jb.shape: {jb.shape}')"
   ]
  },
  {
   "cell_type": "markdown",
   "metadata": {},
   "source": [
    "<br>\n",
    "<br>\n",
    "<br>"
   ]
  }
 ],
 "metadata": {
  "kernelspec": {
   "display_name": "Python [conda env:tfg]",
   "language": "python",
   "name": "conda-env-tfg-py"
  },
  "language_info": {
   "codemirror_mode": {
    "name": "ipython",
    "version": 3
   },
   "file_extension": ".py",
   "mimetype": "text/x-python",
   "name": "python",
   "nbconvert_exporter": "python",
   "pygments_lexer": "ipython3",
   "version": "3.9.7"
  },
  "toc": {
   "base_numbering": 1,
   "nav_menu": {},
   "number_sections": true,
   "sideBar": true,
   "skip_h1_title": false,
   "title_cell": "Table of Contents",
   "title_sidebar": "Contents",
   "toc_cell": false,
   "toc_position": {},
   "toc_section_display": true,
   "toc_window_display": false
  },
  "varInspector": {
   "cols": {
    "lenName": 16,
    "lenType": 16,
    "lenVar": 40
   },
   "kernels_config": {
    "python": {
     "delete_cmd_postfix": "",
     "delete_cmd_prefix": "del ",
     "library": "var_list.py",
     "varRefreshCmd": "print(var_dic_list())"
    },
    "r": {
     "delete_cmd_postfix": ") ",
     "delete_cmd_prefix": "rm(",
     "library": "var_list.r",
     "varRefreshCmd": "cat(var_dic_list()) "
    }
   },
   "types_to_exclude": [
    "module",
    "function",
    "builtin_function_or_method",
    "instance",
    "_Feature"
   ],
   "window_display": false
  }
 },
 "nbformat": 4,
 "nbformat_minor": 4
}
