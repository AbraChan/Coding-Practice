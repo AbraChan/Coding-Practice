{
 "cells": [
  {
   "cell_type": "markdown",
   "metadata": {},
   "source": [
    "<br>\n",
    "<br>\n",
    "<br>"
   ]
  },
  {
   "cell_type": "markdown",
   "metadata": {},
   "source": [
    "## ico 图片"
   ]
  },
  {
   "cell_type": "code",
   "execution_count": 11,
   "metadata": {},
   "outputs": [
    {
     "data": {
      "image/png": "[encoded data removed]",
      "text/plain": [
       "<PIL.PngImagePlugin.PngImageFile image mode=RGBA size=16x16 at 0x2135A7E8A90>"
      ]
     },
     "execution_count": 11,
     "metadata": {},
     "output_type": "execute_result"
    }
   ],
   "source": [
    "from PIL import Image\n",
    "\n",
    "# 打开 png 格式的图片，然后 save 为 bmp 格式\n",
    "zf_im = Image.open(\"./images/zf.png\")\n",
    "zf_im\n",
    "# zf_im.save()"
   ]
  },
  {
   "cell_type": "code",
   "execution_count": 12,
   "metadata": {},
   "outputs": [],
   "source": [
    "# zf_im.save(\"./images/zf.bmp\")\n",
    "zf_im.save(\"./images/zf.ico\")"
   ]
  },
  {
   "cell_type": "markdown",
   "metadata": {},
   "source": [
    "<br>\n",
    "<br>\n",
    "<br>"
   ]
  },
  {
   "cell_type": "markdown",
   "metadata": {},
   "source": [
    "## tkinter 程序"
   ]
  },
  {
   "cell_type": "code",
   "execution_count": 1,
   "metadata": {},
   "outputs": [],
   "source": [
    "import tkinter as tk\n",
    "from tkinter import ttk\n",
    "from tkinter import messagebox"
   ]
  },
  {
   "cell_type": "code",
   "execution_count": 2,
   "metadata": {},
   "outputs": [],
   "source": [
    "def save_as_csv():\n",
    "    print(\"导出 csv 格式文件成功！\")\n",
    "    messagebox.showinfo(title=\"提示\", message=\"导出 csv 格式文件成功！\")\n",
    "\n",
    "\n",
    "\n",
    "def import_csv():\n",
    "    # 先对导入的 csv 文件的结构进行判断是否符合导出的结构\n",
    "    pass\n",
    "\n",
    "\n",
    "\n",
    "def exit_ask():\n",
    "    result = messagebox.askquestion(title=\"警告\", message=\"不导出为 csv 格式文件就直接推出？\")\n",
    "    # print(type(result), result)    # 输出为：<class 'str'>  和  yes\n",
    "    \n",
    "    if result == 'yes':\n",
    "        # print(\"进入 yes\")\n",
    "        root_window.destroy()   # 不用 .quit()，而是用 .destroy()\n",
    "    else:\n",
    "        # print(\"暂不退出。\")\n",
    "        pass\n",
    "\n",
    "\n",
    "\n",
    "def manual():\n",
    "    pass"
   ]
  },
  {
   "cell_type": "code",
   "execution_count": 4,
   "metadata": {},
   "outputs": [],
   "source": [
    "###### 调用 Tk() 创建主窗口 ######\n",
    "root_window = tk.Tk()\n",
    "root_window.title(\"广州新华学院\")             # 给主窗口命名为 \"广州新华学院\"\n",
    "root_window.iconbitmap('../images/zf.ico')    # 更改左上角窗口的的 icon 图标，加载广州新华学院 logo\n",
    "\n",
    "# root_window.geometry('900x600')                      # 设置窗口大小:宽x高,注,此处不能为 \"*\",必须使用 \"x\"\n",
    "window_width = 1280\n",
    "window_height = 720\n",
    "\n",
    "# 窗口居中，获取屏幕尺寸以计算布局参数，使窗口居屏幕中央\n",
    "screen_width = root_window.winfo_screenwidth()\n",
    "screen_height = root_window.winfo_screenheight()\n",
    "size_geo = '%dx%d+%d+%d' % (window_width, window_height, \n",
    "                            int(screen_width / 2), int(screen_height / 2))\n",
    "root_window.geometry(size_geo)\n",
    "\n",
    "# print(\"电脑的分辨率是：%dx%d\"%(screen_width, screen_height))\n",
    "# 求窗口的大小，必须先刷新一下屏幕，不然返回结果将是 1x1\n",
    "# root_window.update()\n",
    "# print(\"窗口的分辨率是：%dx%d\"%(root_window.winfo_width(), root_window.winfo_height()))\n",
    "\n",
    "\n",
    "\n",
    "###### 创建菜单控件 ######\n",
    "main_menu = tk.Menu(root_window)      # 创建一个主菜单 (顶级菜单)\n",
    "\n",
    "# 在顶级菜单上新增 \"文件\" 子菜单，同时不添加分割线 (tearoff=False)，注意：分隔线会将此菜单项分离出来成为一个新的窗口\n",
    "file_menu = tk.Menu(main_menu, tearoff=False)\n",
    "#新增 \"文件\" 菜单的菜单项，并使用 accelerator 设置菜单项的快捷键\n",
    "# file_menu.add_command(label=\"新建\", accelerator=\"Ctrl+N\")\n",
    "# file_menu.add_command(label=\"打开\", accelerator=\"Ctrl+O\")\n",
    "# file_menu.add_command(label=\"保存\", command=save_as_csv, accelerator=\"Ctrl+S\")\n",
    "file_menu.add_command(label=\"导入 csv 文件\", command=import_csv, accelerator=\"Ctrl+I\")\n",
    "file_menu.add_command(label=\"保存 csv 文件\", command=save_as_csv, accelerator=\"Ctrl+S\")\n",
    "\n",
    "# 添加一条分割线，将下面的 \"退出\" 菜单项与前面的 \"新建\" 等三个菜单项区分开。\n",
    "file_menu.add_separator ()\n",
    "file_menu.add_command (label=\"退出\", command=exit_ask)\n",
    "\n",
    "# 在主目录菜单上新增 \"文件\" 选项，并通过 menu 参数与下拉菜单绑定\n",
    "main_menu.add_cascade(label=\"文件\", menu=file_menu)\n",
    "\n",
    "# main_menu.add_command(label=\"文件\")         # 新增命令菜单项，使用 add_command() 实现\n",
    "# main_menu.add_command(label=\"编辑\")   # add_command() 的另一个参数：command\n",
    "# main_menu.add_command(label=\"帮助\")\n",
    "main_menu.add_command(label=\"说明\", command=manual, accelerator=\"Ctrl+M\")\n",
    "# main_menu.pack()    # 报错：TclError: can't pack \".!menu\": it's a top-level window\n",
    "\n",
    "# 将主菜单设置在窗口上\n",
    "root_window.config(menu=main_menu)\n",
    "\n",
    "\n",
    "# 绑定键盘事件，按下键盘上的相应的键时都会触发执行函数\n",
    "# root_window.bind(\"<Control-n>\", menuCommand)    # 函数 menuCommand 需另行定义。\n",
    "# root_window.bind(\"<Control-N>\", menuCommand)\n",
    "# root_window.bind(\"<Control-o>\", menuCommand)\n",
    "# root_window.bind(\"<Control-O>\", menuCommand)\n",
    "# root_window.bind(\"<Control-s>\", menuCommand)\n",
    "# root_window.bind(\"<Control-S>\", menuCommand)\n",
    "root_window.bind(\"<Control-E>\", save_as_csv)\n",
    "\n",
    "\n",
    "\n",
    "###### 顶部标签 ######\n",
    "label_top = tk.Label(root_window,\n",
    "                     text = \"招生计划求解器\",\n",
    "                     font = (\"楷体\", 30),\n",
    "                     bg = \"LightSeaGreen\",\n",
    "                     width = 66, height = 1,\n",
    "                     )\n",
    "label_top.pack(side=\"top\")\n",
    "\n",
    "\n",
    "\n",
    "\n",
    "\n",
    "# 添加按钮，以及按钮的文本，并通过command 参数设置关闭窗口的功能\n",
    "# button=tk.Button(root_window, text=\"Close\", command=root_window.quit)\n",
    "# button.pack(side=\"bottom\")    # 将按钮放置在主窗口内\n",
    "\n",
    "# 开启主循环，让窗口处于显示状态\n",
    "root_window.mainloop()"
   ]
  },
  {
   "cell_type": "code",
   "execution_count": null,
   "metadata": {},
   "outputs": [],
   "source": []
  },
  {
   "cell_type": "markdown",
   "metadata": {},
   "source": [
    "<br>\n",
    "<br>\n",
    "<br>"
   ]
  },
  {
   "cell_type": "markdown",
   "metadata": {},
   "source": [
    "## 独立运行 tkinter 程序"
   ]
  },
  {
   "cell_type": "markdown",
   "metadata": {},
   "source": [
    "上述程序是在 IDLE 环境下运行的，但如果脱离了开发环境，怎么做才能让 Tkinter 程序独立运行呢？"
   ]
  },
  {
   "cell_type": "markdown",
   "metadata": {},
   "source": [
    "在 Windows 系统下，我们可以使用 Python 解释器来运行程序文件，首先将程序文件保存至桌面，然后启动 Python 解释器，执行程序，如下所示："
   ]
  },
  {
   "cell_type": "markdown",
   "metadata": {},
   "source": [
    "```cmd\n",
    "C:\\Users\\Administrator>python C:\\Users\\Administrator\\Desktop\\hello.py\n",
    "```"
   ]
  },
  {
   "cell_type": "markdown",
   "metadata": {},
   "source": [
    "<font color=maroon>上述方法需要依赖于 Python 解释器，当我们关闭解释器窗口时，GUI 程序也随之关闭。</font>"
   ]
  },
  {
   "cell_type": "markdown",
   "metadata": {},
   "source": [
    "<br>"
   ]
  },
  {
   "cell_type": "markdown",
   "metadata": {},
   "source": [
    "如果想让程序独立的运行在 Windows 环境下，而不受 Python 解释器的影响，就需要将程序代码存储为 <font color=maroon>.pyw</font> 文件，并使用 `Pythonw.exe` 来执行程序，如下所示："
   ]
  },
  {
   "cell_type": "markdown",
   "metadata": {},
   "source": [
    "```cmd\n",
    "C:\\Users\\Administrator>pythonw.exe C:\\Users\\Administrator\\Desktop\\hello.py\n",
    "```"
   ]
  },
  {
   "cell_type": "markdown",
   "metadata": {},
   "source": [
    "<font color=maroon>执行后，当我们关闭控制台窗口时（即执行程序的 CMD 界面），GUI 程序不会随之而关闭，而是独立地显示在桌面上。</font>"
   ]
  },
  {
   "cell_type": "markdown",
   "metadata": {},
   "source": [
    "<br>\n",
    "<br>\n",
    "<br>"
   ]
  },
  {
   "cell_type": "markdown",
   "metadata": {},
   "source": [
    "## 练习"
   ]
  },
  {
   "cell_type": "markdown",
   "metadata": {},
   "source": [
    "C 语言编程网教程：\n",
    "<a href=\"http://c.biancheng.net/tkinter/widget-and-attribute.html\" style=\"text-decoration:none;\">链接</a>"
   ]
  },
  {
   "cell_type": "markdown",
   "metadata": {},
   "source": [
    "### Label 标签控件\n",
    "\n",
    "`教程网址`：http://c.biancheng.net/tkinter/label.html"
   ]
  },
  {
   "cell_type": "markdown",
   "metadata": {},
   "source": [
    "Label（标签）控件，是 Tkinter 中最常使用的一种控件，主要用来显示窗口中的`文本`或者`图像`，并且不同的 Lable（标签）允许设置各自不同的背景图片。"
   ]
  },
  {
   "cell_type": "code",
   "execution_count": 9,
   "metadata": {},
   "outputs": [],
   "source": [
    "win = tk.Tk()\n",
    "win.title(\"广州新华学院招生计划求解器\")\n",
    "win.geometry('400x200')\n",
    "win.iconbitmap('./images/zf.ico')\n",
    "\n",
    "# # 若内容是文字则以字符为单位，图像则以像素为单位。\n",
    "label = tk.Label(win, \n",
    "                 text = \"网址：c.biancheng.net\",\n",
    "                 font = ('宋体', 20, 'bold italic'),\n",
    "                 bg = '#7CCD7C',\n",
    "                 width = 30, height = 5,              # 设置标签内容区大小\n",
    "                 padx = 10, pady = 15,                # 设置填充区距离\n",
    "                 borderwidth = 50, relief = \"sunken\"  # 设置边框宽度及其样式（凹陷式）\n",
    "                )\n",
    "\n",
    "label.pack()\n",
    "win.mainloop()"
   ]
  },
  {
   "cell_type": "markdown",
   "metadata": {},
   "source": [
    "<br>\n",
    "<br>"
   ]
  },
  {
   "cell_type": "markdown",
   "metadata": {},
   "source": [
    "### Button 按钮控件\n",
    "\n",
    "`教程网址`：http://c.biancheng.net/tkinter/button-widget.html"
   ]
  },
  {
   "cell_type": "markdown",
   "metadata": {},
   "source": [
    "Button 控件是 Tkinter 中常用的窗口部件之一，同时也是实现程序与用户交互的主要控件。通过用户点击按钮的行为来执行回调函数，是 Button 控件的主要功用。首先自定义一个函数或者方法，然后将函数与按钮关联起来，最后，当用户按下这个按钮时，Tkinter 就会自动调用相关函数。"
   ]
  },
  {
   "cell_type": "markdown",
   "metadata": {},
   "source": [
    "按钮控件使用起来非常简单，它同样可以包含文本、图像、位图，并通过command参数回调函数。当然按钮也并非一定要执行回调函数（callback function），它也只可以当一个“摆设”，不过这样的按钮是没有“灵魂的”"
   ]
  },
  {
   "cell_type": "markdown",
   "metadata": {},
   "source": [
    "<br>"
   ]
  },
  {
   "cell_type": "code",
   "execution_count": 18,
   "metadata": {},
   "outputs": [
    {
     "name": "stdout",
     "output_type": "stream",
     "text": [
      "Click Button!\n"
     ]
    }
   ],
   "source": [
    "from tkinter import messagebox\n",
    "\n",
    "\n",
    "win = tk.Tk()\n",
    "win.title(\"广州新华学院招生计划求解器\")\n",
    "win.geometry('400x300+300+200')\n",
    "win.iconbitmap('./images/zf.ico')\n",
    "\n",
    "# 设置回调函数\n",
    "def callback():\n",
    "    print(\"Click Button!\")\n",
    "    # 使用消息对话框控件\n",
    "    messagebox.showinfo(title=\"温馨提示\", message=\"欢迎来到广州新华学院招生办！\")\n",
    "\n",
    "# 使用 button 控件调用函数\n",
    "buttom = tk.Button(win, \n",
    "                   text = \"点击执行回调函数\", \n",
    "                   bg=\"maroon\",\n",
    "                   width=20,\n",
    "                   height=3,\n",
    "                   command=callback)\n",
    "buttom.pack()\n",
    "\n",
    "# win.mainloop()\n",
    "tk.mainloop()"
   ]
  },
  {
   "cell_type": "markdown",
   "metadata": {},
   "source": [
    "<br>"
   ]
  },
  {
   "cell_type": "markdown",
   "metadata": {},
   "source": [
    "按钮在主窗口中的布局，通常使用 grid() 函数来完成，该函数以网格状的形式（即行和列）来管理窗口的布局。`(详见小标题处的教程网址)`"
   ]
  },
  {
   "cell_type": "markdown",
   "metadata": {},
   "source": [
    "值得注意的是： grid() 布局方法不能与 pack() 混合在一起使用，相关知识在后续内容中还会做针对性讲解。"
   ]
  },
  {
   "cell_type": "code",
   "execution_count": 9,
   "metadata": {},
   "outputs": [
    {
     "name": "stdout",
     "output_type": "stream",
     "text": [
      "已创建输出口框 e1： <class 'tkinter.Entry'>     ==>     .!entry\n"
     ]
    }
   ],
   "source": [
    "from tkinter import messagebox\n",
    "\n",
    "\n",
    "win = tk.Tk()\n",
    "win.title(\"广州新华学院招生计划求解器\")\n",
    "win.geometry('400x300+300+200')\n",
    "win.iconbitmap('./images/zf.ico')\n",
    "win.resizable(0, 0)\n",
    "\n",
    "# 将两个标签分别放置在第一行、第二行\n",
    "tk.Label(win, text=\"账号：\").grid(row=0)\n",
    "tk.Label(win, text=\"密码：\").grid(row=1)\n",
    "\n",
    "# 创建输入框控件\n",
    "e1 = tk.Entry(win)\n",
    "e2 = tk.Entry(win, show='*')    # 以 * 的形式显示密码\n",
    "\n",
    "e1.grid(row=0, column=1, padx=10, pady=5)\n",
    "e2.grid(row=1, column=1, padx=10, pady=5)\n",
    "\n",
    "print(\"已创建输出口框 e1：\", type(e1), \"    ==>    \", e1)\n",
    "\n",
    "\n",
    "# 编写一个简单的回调函数\n",
    "def login():\n",
    "    messagebox.showinfo('Welcom!', message=\"欢迎来到广州新华学院招生办！\")\n",
    "    \n",
    "    \n",
    "# 使用 grid()的函数来布局，并控制按钮的显示位置\n",
    "tk.Button(win, text=\"Login\", width=10, command=login).grid(row=3, \n",
    "                                                           column=0, \n",
    "                                                           sticky='w',\n",
    "                                                           padx=10,\n",
    "                                                           pady=5)\n",
    "tk.Button(win, text=\"退出\", width=10, command=win.quit()).grid(row=3, \n",
    "                                                           column=1, \n",
    "                                                           sticky=\"e\", \n",
    "                                                           padx=10, \n",
    "                                                           pady=5)\n",
    "\n",
    "win.mainloop()"
   ]
  },
  {
   "cell_type": "markdown",
   "metadata": {},
   "source": [
    "<br>\n",
    "<br>"
   ]
  },
  {
   "cell_type": "markdown",
   "metadata": {},
   "source": [
    "### Entry 输入控件"
   ]
  },
  {
   "cell_type": "markdown",
   "metadata": {},
   "source": [
    "`教程网址`：http://c.biancheng.net/tkinter/entry-widget.html"
   ]
  },
  {
   "cell_type": "code",
   "execution_count": 12,
   "metadata": {},
   "outputs": [],
   "source": [
    "import time\n",
    "\n",
    "root = tk.Tk()\n",
    "root.title(\"广州新华学院招生计划求解器\")\n",
    "root.geometry('600x300+300+200')\n",
    "root.iconbitmap('./images/zf.ico')\n",
    "root.resizable(0, 0)\n",
    "root.title(\"时钟\")\n",
    "\n",
    "dstr = tk.StringVar()    # 创建成动态字符串\n",
    "\n",
    "def gettime():\n",
    "    dstr.set(time.strftime(\"%H:%M:%S\"))   # set()：设置输入框内的值\n",
    "    root.after(1000, gettime)             # 每隔 1s 调用一次 gettime()函数来获取时间\n",
    "\n",
    "# 利用 textvariable 来实现文本变化\n",
    "label = tk.Label(root, textvariable=dstr, fg='green', font=(\"微软雅黑\", 85))\n",
    "label.pack()\n",
    "\n",
    "\n",
    "# 调用生成时间的函数\n",
    "gettime()\n",
    "\n",
    "# 显示窗口\n",
    "root.mainloop()"
   ]
  },
  {
   "cell_type": "markdown",
   "metadata": {},
   "source": [
    "<br>\n",
    "<br>"
   ]
  },
  {
   "cell_type": "code",
   "execution_count": 15,
   "metadata": {},
   "outputs": [
    {
     "name": "stdout",
     "output_type": "stream",
     "text": [
      "输入框 entry_1 的输入的值： 广州新华学院招生办\n"
     ]
    }
   ],
   "source": [
    "win = tk.Tk()\n",
    "win.title(\"广州新华学院招生计划求解器\")\n",
    "win.geometry('400x300+300+200')\n",
    "win.iconbitmap('./images/zf.ico')\n",
    "win.resizable(0, 0)\n",
    "\n",
    "entry_1 = tk.Entry(win)          # 创建输入框控件\n",
    "entry_1.pack(padx=20, pady=20)   # 放置输入框，并设置位置\n",
    "\n",
    "entry_1.delete(0, \"end\")\n",
    "entry_1.insert(0, \"广州新华学院招生办\")   # 插入默认文本\n",
    "\n",
    "print(\"输入框 entry_1 的输入的值：\", entry_1.get())\n",
    "\n",
    "# 删除所有字符\n",
    "# entry_1.delete(0, tk.END)\n",
    "\n",
    "win.mainloop()"
   ]
  },
  {
   "cell_type": "markdown",
   "metadata": {},
   "source": [
    "<br>\n",
    "<br>"
   ]
  },
  {
   "cell_type": "markdown",
   "metadata": {},
   "source": [
    "#### Entry控件验证功能"
   ]
  },
  {
   "cell_type": "markdown",
   "metadata": {},
   "source": [
    "Entry 控件也提供了对输入内容的验证功能，比如要求输入英文字母，你却输入了数字，这就属于非法输入，Entry 控件通过以下参数实现对内容的校验：`(此处略，详见教程)`"
   ]
  },
  {
   "cell_type": "code",
   "execution_count": 6,
   "metadata": {},
   "outputs": [],
   "source": [
    "from tkinter import messagebox\n",
    "\n",
    "\n",
    "win = tk.Tk()\n",
    "win.title(\"广州新华学院招生计划求解器\")\n",
    "win.geometry('400x300+300+200')\n",
    "win.iconbitmap('./images/zf.ico')\n",
    "win.resizable(0, 0)\n",
    "\n",
    "\n",
    "# 创建验证函数\n",
    "def check():\n",
    "    if entry_1.get()  == \"广州新华学院招生办\":\n",
    "        messagebox.showinfo(\"验证结果\", message=\"输入正确\")\n",
    "        return True\n",
    "\n",
    "    else:\n",
    "        messagebox.showwarning(\"验证结果\", message=\"输入错误\")\n",
    "        entry_1.delete(0, tk.END)\n",
    "        return False\n",
    "\n",
    "label_1 = tk.Label(win, text=\"账号：\")\n",
    "label_1.grid(row=0)\n",
    "label_2 = tk.Label(win, text=\"密码：\")\n",
    "label_2.grid(row=1)\n",
    "\n",
    "dstr = tk.StringVar()    # 创建成动态字符串\n",
    "# 使用验证参数 validate, 参数值为 focusout 当失去焦点的时候，验证输入框内容是否正确\n",
    "entry_1 = tk.Entry(win, textvariable=dstr, validate='focusout', validatecommand=check)\n",
    "entry_2 = tk.Entry(win)\n",
    "# 对控件进行布局管理，放在文本标签的后面\n",
    "entry_1.grid(row=0, column=1)\n",
    "entry_2.grid(row=1, column=1)\n",
    "\n",
    "win.mainloop()"
   ]
  },
  {
   "cell_type": "markdown",
   "metadata": {},
   "source": [
    "<br>\n",
    "<br>"
   ]
  },
  {
   "cell_type": "markdown",
   "metadata": {},
   "source": [
    "#### register() 方法"
   ]
  },
  {
   "cell_type": "markdown",
   "metadata": {},
   "source": [
    "Tkinter 还为验证函数提供可一些额外的选项，不过想要使用这些额外选项，需要提前使用 register() 方法对验证函数进行注册。常用的选项如下所示：`（略，详见教程）`"
   ]
  },
  {
   "cell_type": "code",
   "execution_count": 12,
   "metadata": {},
   "outputs": [
    {
     "name": "stdout",
     "output_type": "stream",
     "text": [
      "输入错误： 广州 focusout .!entry\n"
     ]
    }
   ],
   "source": [
    "from tkinter import messagebox\n",
    "\n",
    "\n",
    "win = tk.Tk()\n",
    "win.title(\"广州新华学院招生计划求解器\")\n",
    "win.geometry('400x300+300+200')\n",
    "win.iconbitmap('./images/zf.ico')\n",
    "win.resizable(0, 0)\n",
    "\n",
    "label_1 = tk.Label(win, text=\"账号：\")\n",
    "label_1.grid(row=0)\n",
    "label_2 = tk.Label(win, text=\"密码：\")\n",
    "label_2.grid(row=1)\n",
    "\n",
    "dstr = tk.StringVar()    # 创建成动态字符串\n",
    "\n",
    "# 验证函数\n",
    "def check(strings, reason, id):\n",
    "    if entry_1.get() == \"广州新华学院招生办\":\n",
    "        messagebox.showinfo(\"验证结果\", message=\"输入正确！\")\n",
    "        print(\"输入正确：\", strings, reason, id)\n",
    "        return True\n",
    "    else:\n",
    "        messagebox.showwarning(\"验证结果\", message=\"输入错误！\")\n",
    "        print(\"输入错误：\", strings, reason, id)\n",
    "        return False\n",
    "\n",
    "# 对验证函数进行注册\n",
    "CheckTest = win.register(check)\n",
    "\n",
    "# 使用验证参数 validate, 参数值为 focusout 当失去焦点的时候，验证输入框内容是否正确。\n",
    "#     %P：该选项值指定了输入框内的文本内容，只有当输入框的值允许改变的时候，该选项值才会生效。\n",
    "#     %V：表示触发验证函数的原因，值为 focus、focusin 、focusout、all、key.. 中的一个。\n",
    "#     %W：该选项表示控件类型，即控件的名字（Entry）\n",
    "entry_1 = tk.Entry(win, \n",
    "                   textvariable=dstr, \n",
    "                   validate='focusout', \n",
    "                   validatecommand=(CheckTest,'%P','%V','%W'))\n",
    "entry_2 = tk.Entry(win)\n",
    "\n",
    "# 对控件进行布局管理，放在文本标签的后面\n",
    "entry_1.grid(row=0, column=1)\n",
    "entry_2.grid(row=1, column=1)\n",
    "\n",
    "win.mainloop()"
   ]
  },
  {
   "cell_type": "markdown",
   "metadata": {},
   "source": [
    "<br>\n",
    "<br>"
   ]
  },
  {
   "cell_type": "markdown",
   "metadata": {},
   "source": [
    "**实例：简单的计算器小程序**"
   ]
  },
  {
   "cell_type": "code",
   "execution_count": 17,
   "metadata": {},
   "outputs": [],
   "source": [
    "# from tkinter import *\n",
    "\n",
    "win = tk.Tk()\n",
    "win.title(\"广州新华学院招生计划求解器\")\n",
    "win.geometry('400x300+300+200')\n",
    "win.iconbitmap('./images/zf.ico')\n",
    "\n",
    "# 创建一个容器来包括其它控件\n",
    "frame = tk.Frame(win)\n",
    "\n",
    "# 创建一个计算器\n",
    "def calc():\n",
    "    # 用户输入的表达式，计算结果后转换为字符串\n",
    "    result = \"=\" + str(eval(expression.get()))\n",
    "    # 将计算的结果显示在 Label 控件上\n",
    "    label.config(text=result)\n",
    "\n",
    "\n",
    "label = tk.Label(frame)\n",
    "entry = tk.Entry(frame)\n",
    "\n",
    "expression = tk.StringVar()           # 读取用户输入的表达式\n",
    "entry[\"textvariable\"] = expression    # 将用户输入的表达式显示在 Entry 控件上\n",
    "entry.focus()                         # 设置 Entry 控件为焦点所在\n",
    "button_1 = tk.Button(frame, text=\"等 于\", command=calc)  # 当用户输入完毕后，单击此按钮即计算表达式的结果。\n",
    "\n",
    "frame.pack()\n",
    "\n",
    "entry.pack()                  # Entry 控件位于窗体的上方\n",
    "label.pack(side=\"left\")       # Label 控件位于窗体的左方\n",
    "button_1.pack(side=\"right\")   # Button 控件位于窗体的右方\n",
    "\n",
    "frame .mainloop()\n",
    "# win.mainloop()\n",
    "# tk.mainloop()"
   ]
  },
  {
   "cell_type": "markdown",
   "metadata": {},
   "source": [
    "<br>\n",
    "<br>"
   ]
  },
  {
   "cell_type": "markdown",
   "metadata": {},
   "source": [
    "#### Spinbox 高级输入框"
   ]
  },
  {
   "cell_type": "markdown",
   "metadata": {},
   "source": [
    "Spinbox 是 Entry 控件的升级版，它是 Tkinter 8.4 版本后新增的控件，该控件不仅允许用户直接输入内容，还支持用户使用微调选择器（即上下按钮调节器）来输入内容。在一般情况下，Spinbox 控件用于在固定的范围内选取一个值的时候使用。"
   ]
  },
  {
   "cell_type": "code",
   "execution_count": 22,
   "metadata": {},
   "outputs": [],
   "source": [
    "win = tk.Tk()\n",
    "win.title(\"广州新华学院招生计划求解器\")\n",
    "win.geometry('400x300+300+200')\n",
    "win.iconbitmap('./images/zf.ico')\n",
    "\n",
    "# 如果是数字使用 from_ 和 to 参数，范围 0-20,并且为 2 步长递增或递减\n",
    "w_num = tk.Spinbox(win, from_=0, to=20, increment=2, width = 15, bg='#9BCD9B')\n",
    "w_num.pack()\n",
    "\n",
    "# 若不是数字，而是字符串形式的选项值，则采用 values 参数以元组的形式进行传参\n",
    "w_strings = tk.Spinbox(win, values=('Python','java','C语言','PHP'))\n",
    "w_strings.pack()\n",
    "\n",
    "win.mainloop()"
   ]
  },
  {
   "cell_type": "markdown",
   "metadata": {},
   "source": [
    "<br>\n",
    "<br>\n",
    "<br>"
   ]
  },
  {
   "cell_type": "markdown",
   "metadata": {},
   "source": [
    "### Menu 菜单控件"
   ]
  },
  {
   "cell_type": "markdown",
   "metadata": {},
   "source": [
    "`教程网址`：http://c.biancheng.net/tkinter/menu-widget.html"
   ]
  },
  {
   "cell_type": "markdown",
   "metadata": {},
   "source": [
    "<br>\n",
    "<br>\n",
    "<br>"
   ]
  },
  {
   "cell_type": "markdown",
   "metadata": {},
   "source": [
    "### <font color=maroon>Event 事件处理</font>"
   ]
  },
  {
   "cell_type": "markdown",
   "metadata": {},
   "source": [
    "`教程网址`：http://c.biancheng.net/tkinter/event.html"
   ]
  },
  {
   "cell_type": "markdown",
   "metadata": {},
   "source": [
    "<br>\n",
    "<br>\n",
    "<br>"
   ]
  },
  {
   "cell_type": "markdown",
   "metadata": {},
   "source": [
    "### <font color=maroon>Tkinter 布局管**方法**</font>"
   ]
  },
  {
   "cell_type": "markdown",
   "metadata": {},
   "source": [
    "`教程网址`：http://c.biancheng.net/tkinter/layout-manager-method.html"
   ]
  },
  {
   "cell_type": "markdown",
   "metadata": {},
   "source": [
    "Tkinter 提供了三种常用的布局管理器，分别是 pack()、grid() 以及 place()，如下所示：\n",
    "\n",
    "* pack()：按照控件的添加顺序其进行排列，遗憾的是此方法灵活性较差。\n",
    "* grid()：以行和列（网格）形式对控件进行排列，此种方法使用起来较为灵活。\n",
    "* place()：可以指定组件大小以及摆放位置，三个方法中最为灵活的布局方法。\n",
    "\n",
    "如果说非要从三个布局管理器中选择一个使用的话，推荐大家使用 grid() 方法。"
   ]
  },
  {
   "cell_type": "markdown",
   "metadata": {},
   "source": [
    "<br>"
   ]
  },
  {
   "cell_type": "markdown",
   "metadata": {},
   "source": [
    "<font color=maroon>**特别注意**</font>：\n",
    "* 在一个程序中不能同时使用 pack() 和 grid() 方法，这两个方法只能二选一，否则程序会运行错误。\n",
    "* 在一个父组件中 place()方法可以与 grid() 方法混合使用，要与 pack() 进行区别。"
   ]
  },
  {
   "cell_type": "markdown",
   "metadata": {},
   "source": [
    "<br>"
   ]
  },
  {
   "cell_type": "markdown",
   "metadata": {},
   "source": [
    "当使用 grid 函数布局的时，其实就是为各个控件指定行号、列号的过程，我们不需要为每个单元格指定大小，因为 grid 会为每个单元格自动设置一个适合的尺寸。"
   ]
  },
  {
   "cell_type": "markdown",
   "metadata": {},
   "source": [
    "用 place() 方法进行布局管理要更加精细化，通过 place() 布局管理器可以直接指定控件在窗体内的绝对位置，或者相对于其他控件定位的相对位置。"
   ]
  },
  {
   "cell_type": "markdown",
   "metadata": {},
   "source": [
    "<br>\n",
    "<br>\n",
    "<br>"
   ]
  },
  {
   "cell_type": "markdown",
   "metadata": {},
   "source": [
    "### <font color=maroon>Tkinter 布局管理**控件**</font>"
   ]
  },
  {
   "cell_type": "markdown",
   "metadata": {},
   "source": [
    "Tkinter 还提供了几个常用的布局管理控件，比如 Frame 、LabelFrame 等，这些控件的主要作用是为其他控件提供载体，并将**主窗口界面**划分成多个区域，从而方便开发者对不同区域进行设计与管理。"
   ]
  },
  {
   "cell_type": "markdown",
   "metadata": {},
   "source": [
    "在前文讲解其他的 Tkinter 控件时，我们列举的大多数示例都是将控件直接放置在主窗口（即根窗口）内，这样做的目的是为了便于大家理解。<font color=maroon>但在实际的开发过程中，控件一般放置在容器中，比如 Frame 容器控件，如同 HTML 中的`<div>`标签一样，把容器看做成一个框架，其他控件则是这个框架中的 “元素”。</font>"
   ]
  },
  {
   "cell_type": "markdown",
   "metadata": {},
   "source": [
    "<br>"
   ]
  },
  {
   "cell_type": "markdown",
   "metadata": {},
   "source": [
    "本节介绍四种常用的容器控件以及它们的使用方法，分别是 Frame、LabelFrame、PanedWindow 以及 Toplevel。"
   ]
  },
  {
   "cell_type": "markdown",
   "metadata": {},
   "source": [
    "<br>"
   ]
  },
  {
   "cell_type": "markdown",
   "metadata": {},
   "source": [
    "#### Frame 控件"
   ]
  },
  {
   "cell_type": "markdown",
   "metadata": {},
   "source": [
    "Frame 本质上也是一个矩形窗体，同其他控件一样也需要位于主窗口内。我们可以在主窗口内放置多个 Frame 控件，并且每个 Frame 中还可以嵌套一个或者多个Frame，从而将主窗口界面划分成多个区域。"
   ]
  },
  {
   "cell_type": "markdown",
   "metadata": {},
   "source": [
    "<br>\n",
    "<br>"
   ]
  },
  {
   "cell_type": "markdown",
   "metadata": {},
   "source": [
    "#### LabelFrame 控件"
   ]
  },
  {
   "cell_type": "markdown",
   "metadata": {},
   "source": [
    "LabelFrame 控件也是一种容器类型的控件，它属于是 Frame 控件的变体，因此它们的属性选项大体相同。同 Frame 控件一样，LabelFrame 的主要作用也是对控件进行分组处理。"
   ]
  },
  {
   "cell_type": "markdown",
   "metadata": {},
   "source": [
    "在默认情况下，LabelFrame 会在其包裹的子组件周围绘制一个边框和一个标题。当我们想要将一些相关的组件分为一组时，就可以使用 LabelFrame 组件，比如把一系列 Radiobutton（单选按钮）放在一起来供用户选择。"
   ]
  },
  {
   "cell_type": "markdown",
   "metadata": {},
   "source": [
    "<br>\n",
    "<br>"
   ]
  },
  {
   "cell_type": "markdown",
   "metadata": {},
   "source": [
    "#### PanedWindow 控件"
   ]
  },
  {
   "cell_type": "markdown",
   "metadata": {},
   "source": [
    "PanedWindow（窗格界面）也可以理解成一个特殊的 Frame 控件，它是 Tkinter 8.4 版本后新增的空间管理组件，其主要目的是为其他组件提供一个容器或者框架，从而实现以分块的形式对图形界面进行布局。"
   ]
  },
  {
   "cell_type": "markdown",
   "metadata": {},
   "source": [
    "与 Frame 控件不同， PanedWindow 允许用户自主地调整界面划分以及每块区域的大小。因此，当您需要让用户自己调节每块区域的大小时，就可以采用 PanedWindow 作为组件载体来进行界面的布局。"
   ]
  },
  {
   "cell_type": "markdown",
   "metadata": {},
   "source": [
    "不仅如此 PanedWindow 组件还提供了“手柄” 功能（设置参数 showhandle=True 来启用），通过拖动“手柄”图标也可以改变每块区域的大小。PanedWindow 组件语法格式如下所示：\n",
    "\n",
    "<font size=5>\n",
    "    \n",
    "```python\n",
    "PanedWindow(master=None, **options) \n",
    "```\n",
    "\n",
    "</font>\n",
    "\n",
    "* <font size=2>其中 master 表示父组件，即包裹该组件的上层组件。</font>"
   ]
  },
  {
   "cell_type": "markdown",
   "metadata": {},
   "source": [
    "`(示例，略)`"
   ]
  },
  {
   "cell_type": "markdown",
   "metadata": {},
   "source": [
    "<font color=maroon>**注意**</font>：从上述示例中可以看出 PanedWindw 会为每一个 Label 控件创建一个独立的窗格， 当我们将鼠标悬停在两个控件接壤处的白色边框上时，就会出现可以上下或者左右拉伸的指示光标，用户按照可以按照自己的意愿来调整每块区域的大小。"
   ]
  },
  {
   "cell_type": "markdown",
   "metadata": {},
   "source": [
    "<br>\n",
    "<br>\n",
    "<br>"
   ]
  },
  {
   "cell_type": "markdown",
   "metadata": {},
   "source": [
    "#### Toplevel 控件"
   ]
  },
  {
   "cell_type": "markdown",
   "metadata": {},
   "source": [
    "Topleve 是一个顶级窗口控件（也被称为“子窗体”控件），同样类似于 Frame 控件， 不过该控件会脱离根窗口另行创建一个独立窗口，因此它的存在形式不同于上述其他容器。"
   ]
  },
  {
   "cell_type": "markdown",
   "metadata": {},
   "source": [
    "Toplevel 控件同样隶属于主窗口的子组件，只是存在形式特殊而已。Toplevel 是主窗口之外的弹出框窗口（通过事件来触发执行），在这个窗口内也可以包含其他组件。但需要注意，顶级窗口并不是必须位于窗口的顶部位置，之所以称其为顶级窗口，是因为相对于主窗口而言，Topleve 位于主窗口的上一层。"
   ]
  },
  {
   "cell_type": "markdown",
   "metadata": {},
   "source": [
    "<br>\n",
    "<br>\n",
    "<br>"
   ]
  },
  {
   "cell_type": "markdown",
   "metadata": {},
   "source": [
    "### Tkinter 对话框控件"
   ]
  },
  {
   "cell_type": "markdown",
   "metadata": {},
   "source": [
    "在前面的章节中，我们花费了大量的时间讲解了 Tkinter 中常用基本控件，通过对这些控件的学习，我们对  GUI 开发有了基本的认识与掌握，一个完整的 GUI 程序就是由这些组件以合理、美观的布局方式构成的。"
   ]
  },
  {
   "cell_type": "markdown",
   "metadata": {},
   "source": [
    "除了基本的控件之外，Tkinter 还提供了三种对话框控件：\n",
    "* 文件选择对话框：filedailog\n",
    "* 颜色选择对话框：colorchooser\n",
    "* 消息对话框：messagebox"
   ]
  },
  {
   "cell_type": "markdown",
   "metadata": {},
   "source": [
    "<br>"
   ]
  },
  {
   "cell_type": "markdown",
   "metadata": {},
   "source": [
    "#### 文件选择对话框"
   ]
  },
  {
   "cell_type": "markdown",
   "metadata": {},
   "source": [
    "文件对话框在 GUI 程序中经常的使用到，比如上传文档需要从本地选择一个文件，包括文件的打开和保存功能都需要一个文件对话框来实现。Tkinter 提供文件对话框被封装在 `tkinter.filedailog` 模块中，该模块提供了有关文件对话框的常用函数"
   ]
  },
  {
   "cell_type": "markdown",
   "metadata": {},
   "source": [
    "<br>\n",
    "<br>"
   ]
  },
  {
   "cell_type": "markdown",
   "metadata": {},
   "source": [
    "#### 颜色选择对话框"
   ]
  },
  {
   "cell_type": "markdown",
   "metadata": {},
   "source": [
    "颜色选择对话框（colorchooser），提供了一个非常友善的颜色面板，它允许用户选择自己所需要的颜色。 当用户在面板上选择一个颜色并按下“确定”按钮后，<font color=maroon>它会返回一个二元祖，其第 1 个元素是选择的 RGB 颜色值，第 2 个元素是对应的 16 进制颜色值。</font>"
   ]
  },
  {
   "cell_type": "markdown",
   "metadata": {},
   "source": [
    "颜色选择对话款主要应用在画笔、涂鸦等功能上，通过它可以绘制出五彩缤纷的颜色，该对话框的使用非常简单，主要有以下两个常用方法：`(略)`"
   ]
  },
  {
   "cell_type": "markdown",
   "metadata": {},
   "source": [
    "<br>\n",
    "<br>"
   ]
  },
  {
   "cell_type": "markdown",
   "metadata": {},
   "source": [
    "#### 消息对话框"
   ]
  },
  {
   "cell_type": "markdown",
   "metadata": {},
   "source": [
    "关于消息对话款（messagebox），在前面介绍其他控件时已经使用过，在本节仅对它做简单介绍。\n",
    "\n",
    "消息对话框主要起到信息提示、警告、说明、询问等作用，通常配合“事件函数”一起使用，比如执行某个操作出现了错误，然后弹出错误消息提示框。通过使用消息对话框可以提升用户的交互体验，也使得 GUI 程序更加人性化。消息对话框主要包含了以下常用方法：`（略）`"
   ]
  },
  {
   "cell_type": "markdown",
   "metadata": {},
   "source": [
    "<br>\n",
    "<br>\n",
    "<br>"
   ]
  },
  {
   "cell_type": "code",
   "execution_count": 6,
   "metadata": {},
   "outputs": [],
   "source": [
    "majors_dict = {\"chinese_linguistics\": (1, \"汉语言学\"),\n",
    "               \"english\": (2, \"英语\"),\n",
    "               \"business_english\": (3, \"商务英语\"),\n",
    "               \"spanish\": (4, \"西班牙语\"),\n",
    "               \"portuguese\": (5, \"葡萄牙语\"),\n",
    "               \"science_of_law\": (6, \"法学\"),\n",
    "               \"industry_business_management\": (7, \"工商管理\"),\n",
    "               \"e-commerce\": (8, \"电子商务\"),\n",
    "               \"marketing_sales\": (9, \"市场营销\"),\n",
    "               \"tourism_management\": (10, \"旅游管理\"),\n",
    "               \"fin_tech\": (11, \"金融科技\"),\n",
    "               \"logistics_management\": (12, \"物流管理\"),\n",
    "               \"mba_innovations\": (13, \"工商管理 (创新班)\"),\n",
    "               \"finance_management\": (14, \"财务管理\"),\n",
    "               \"accountancy\": (15, \"会计学\"),\n",
    "               \"accountancy_acca\": (16, \"会计学 (ACCA卓越班)\"),\n",
    "               \"accountancy_cima\": (17, \"会计学 (CIMA卓越班)\"),\n",
    "               \"auditing\": (18, \"审计学\"),\n",
    "               \"administration\": (19, \"行政管理\"),\n",
    "               \"public_relations\": (20, \"公共关系学\"),\n",
    "               \"human_resource_management\": (21, \"人力资源管理\"),\n",
    "               \"communication_studies\": (22, \"传播学\"),\n",
    "               \"social_work\": (23, \"社会工作\"),\n",
    "               \"international_economics_trade\": (24, \"国际经济与贸易\"),\n",
    "               \"economics\": (25, \"经济学\"),\n",
    "               \"economic_statistics\": (26, \"经济统计学\"),\n",
    "               \"taxation\": (27, \"税收学\"),\n",
    "               \"financial_engineering\": (28, \"金融工程\"),\n",
    "               \"investments\": (29, \"投资学\"),\n",
    "               \"internet_finance\": (30, \"互联网金融\"),\n",
    "               \"electronic_information_science_technology\": (31, \"电子信息科学与技术\"),\n",
    "               \"computer_science_technology\": (32, \"计算机科学与技术\"),\n",
    "               \"software_engineering\": (33, \"软件工程\"),\n",
    "               \"digital_media_technology\": (34, \"数字媒体技术\"),\n",
    "               \"electrical_engineering_automation\": (35, \"电气工程及其自动化\"),\n",
    "               \"intelligent_manufacturing_engineering\": (36, \"智能制造工程\"),\n",
    "               \"information_resource_management\": (37, \"信息资源管理\"),\n",
    "               \"health_services_management\": (38, \"健康服务与管理\"),\n",
    "               \"optometry\": (39, \"眼视光学\"),\n",
    "               \"physical_geography_resource_environment\": (40, \"自然地理与资源环境\"),\n",
    "               \"human_geography_urban_rural_planning\": (41, \"人文地理与城乡规划\"),\n",
    "               \"landscape_architecture\": (42, \"风景园林\"),\n",
    "               \"nursing_sciences\": (43, \"护理学\"),\n",
    "               \"biomedical_engineering\": (44, \"生物医学工程\"),\n",
    "               \"medical_imaging\": (45, \"医学影像技术\"),\n",
    "               \"rehabilitation_sciences\": (46, \"康复治疗学\"),\n",
    "               \"hearing_speech_rehabilitation\": (47, \"听力与言语康复学\"),\n",
    "               \"pharmacy\": (48, \"药学\"),\n",
    "               \"internet_new_media\": (49, \"网络与新媒体\"),\n",
    "               \"calligraphy\": (50, \"书法学\"),\n",
    "               \"clothing_and_clothing_design\": (51, \"服装与服饰设计\"),\n",
    "               \"musicology\": (52, \"音乐学\"),\n",
    "               \"Social_PE_guidance_management\": (53, \"社会体育指导与管理\"),}"
   ]
  },
  {
   "cell_type": "code",
   "execution_count": 16,
   "metadata": {
    "scrolled": true
   },
   "outputs": [
    {
     "data": {
      "text/plain": [
       "['社会体育指导与管理',\n",
       " '音乐学',\n",
       " '服装与服饰设计',\n",
       " '书法学',\n",
       " '网络与新媒体',\n",
       " '药学',\n",
       " '听力与言语康复学',\n",
       " '康复治疗学',\n",
       " '医学影像技术',\n",
       " '生物医学工程',\n",
       " '护理学',\n",
       " '风景园林',\n",
       " '人文地理与城乡规划',\n",
       " '自然地理与资源环境',\n",
       " '眼视光学',\n",
       " '健康服务与管理',\n",
       " '信息资源管理',\n",
       " '智能制造工程',\n",
       " '电气工程及其自动化',\n",
       " '数字媒体技术',\n",
       " '软件工程',\n",
       " '计算机科学与技术',\n",
       " '电子信息科学与技术',\n",
       " '互联网金融',\n",
       " '投资学',\n",
       " '金融工程',\n",
       " '税收学',\n",
       " '经济统计学',\n",
       " '经济学',\n",
       " '国际经济与贸易',\n",
       " '社会工作',\n",
       " '传播学',\n",
       " '人力资源管理',\n",
       " '公共关系学',\n",
       " '行政管理',\n",
       " '审计学',\n",
       " '会计学 (CIMA卓越班)',\n",
       " '会计学 (ACCA卓越班)',\n",
       " '会计学',\n",
       " '财务管理',\n",
       " '工商管理 (创新班)',\n",
       " '物流管理',\n",
       " '金融科技',\n",
       " '旅游管理',\n",
       " '市场营销',\n",
       " '电子商务',\n",
       " '工商管理',\n",
       " '法学',\n",
       " '葡萄牙语',\n",
       " '西班牙语',\n",
       " '商务英语',\n",
       " '英语',\n",
       " '汉语言学']"
      ]
     },
     "execution_count": 16,
     "metadata": {},
     "output_type": "execute_result"
    }
   ],
   "source": [
    "majors_list = sorted(majors_dict.values(), key=lambda d:d[0], reverse=True)\n",
    "list(map(lambda t:t[1], majors_list))"
   ]
  },
  {
   "cell_type": "markdown",
   "metadata": {},
   "source": [
    "<br>"
   ]
  },
  {
   "cell_type": "markdown",
   "metadata": {},
   "source": [
    "### <font color=maroon>treeview</font> 控件"
   ]
  },
  {
   "cell_type": "markdown",
   "metadata": {},
   "source": [
    "<br>"
   ]
  },
  {
   "cell_type": "markdown",
   "metadata": {},
   "source": [
    "#### 普通实现"
   ]
  },
  {
   "cell_type": "markdown",
   "metadata": {},
   "source": [
    "参考文献：https://blog.csdn.net/Newnotes/article/details/106421143"
   ]
  },
  {
   "cell_type": "code",
   "execution_count": 1,
   "metadata": {},
   "outputs": [],
   "source": [
    "import tkinter as tk\n",
    "from tkinter import ttk\n",
    "from tkinter import messagebox"
   ]
  },
  {
   "cell_type": "code",
   "execution_count": 2,
   "metadata": {},
   "outputs": [
    {
     "name": "stdout",
     "output_type": "stream",
     "text": [
      "idd1:  <class 'str'> I001\n",
      "idd2:  <class 'str'> I002\n",
      "idd3:  <class 'str'> I003\n"
     ]
    }
   ],
   "source": [
    "###### 调用 Tk() 创建主窗口 ######\n",
    "root_window = tk.Tk()\n",
    "root_window.title(\"广州新华学院\")             # 给主窗口命名为 \"广州新华学院\"\n",
    "root_window.iconbitmap('../images/zf.ico')    # 更改左上角窗口的的 icon 图标，加载广州新华学院 logo\n",
    "\n",
    "# root_window.geometry('900x600')                      # 设置窗口大小:宽x高,注,此处不能为 \"*\",必须使用 \"x\"\n",
    "window_width = 1280\n",
    "window_height = 720\n",
    "\n",
    "# 窗口居中，获取屏幕尺寸以计算布局参数，使窗口居屏幕中央\n",
    "screen_width = root_window.winfo_screenwidth()\n",
    "screen_height = root_window.winfo_screenheight()\n",
    "size_geo = '%dx%d+%d+%d' % (window_width, window_height, \n",
    "                            int(screen_width / 2), int(screen_height / 2))\n",
    "root_window.geometry(size_geo)\n",
    "\n",
    "\n",
    "# ********* Label 控件 *********\n",
    "label = tk.Label(root_window, \n",
    "                 text = \"招生计划求解器\",\n",
    "                 font = (\"楷体\", 30),\n",
    "                 bg = \"LightSeaGreen\",\n",
    "                 width = 66, height = 1,)\n",
    "# 使用 .pack() 后再使用 .grid() 会报错：\n",
    "# TclError: cannot use geometry manager grid inside . which already has slaves managed by pack.\n",
    "# 因此这里就不用 .place() 了。\n",
    "label.grid()    # 默认 row=0, column=0。\n",
    "\n",
    "\n",
    "\n",
    "# ********* Treeview 控件 *********\n",
    "root_window.columnconfigure(0, weight=1)   # column为0的列(第1列)，缩放权重为1\n",
    "\n",
    "tree = ttk.Treeview(root_window, height=10, show=\"headings\")\n",
    "# height 参数表示要显示几行数据（注意：这个部件的宽度是根据列的多少自动定义的），默认显示 10 行。\n",
    "#\n",
    "# show=\"headings\"：表格第一列不显示\n",
    "# show 参数值的意义：\n",
    "#     默认是 tree headings，显示所有列。\n",
    "#     headings：表示显示除一列的其他列（单列表模式），即表格第一列不显示。\n",
    "#     tree：表示仅显示第一列（单树模式）。\n",
    "#     注意，‘#0’（第一列）是永远存在的，只是显示不显示的问题。\n",
    "tree.grid(row=3, columnspan=1, sticky=\"w\")\n",
    "# sticky 参数值和 anchor 相同，该属性用来设置控件位于单元格哪个方位上，默认居中。这里设置为居 \"w\" (居西，也就是靠左)\n",
    "# 这里参数虽然 row=3，但是因为上一个 label.grid() 的 row=0, 所以 tree.grid(row=3)还是放置在第四行(row=3)，\n",
    "# 但是因为没有 .grid(row=1) 和 .grid(row=2) 的控件 (可以认为是预留了这两个控件的位置，但是高度为 0)，\n",
    "# 所以显示出来 tree.grid(row=3) 看上去是紧接着 label.grid() 之后来显示的。\n",
    "\n",
    "tree[\"columns\"] = (\"序号\", \"企业名称\", \"详细信息\",\"aa\")\n",
    "# 设置列 (列名和宽度)，不显示。\n",
    "tree.column(\"序号\", width=100)\n",
    "tree.column(\"企业名称\", width=100)\n",
    "tree.column(\"详细信息\", width=300)\n",
    "tree.column(\"aa\", width=300)\n",
    "# 显示表头\n",
    "tree.heading(\"序号\", text=\"序号\")\n",
    "tree.heading(\"企业名称\", text=\"企业名称\")\n",
    "tree.heading(\"详细信息\", text=\"详细信息\")\n",
    "tree.heading(\"aa\", text=\"aa\")\n",
    "\n",
    "i = 0  # 插入在表格的第 i 行，i=0 表示插入在表格的首行。\n",
    "ii = 0\n",
    "name = \"辽宁XX集团\"\n",
    "addurl = \"辽宁省沈阳市铁西区22号\"\n",
    "aa = \"..........................................................\"\n",
    "idd1 = tree.insert(\"\", i, text=\"第一行 insert 代码\", values=(i, name, addurl, aa))\n",
    "idd2 = tree.insert(\"\", i, text=\"第二行 insert 代码\", values=(ii, \"1\", addurl, aa))\n",
    "idd3 = tree.insert(\"\", i, text=\"第三行 insert 代码\", values=(ii, \"2\", addurl, aa))\n",
    "# 参数 text 的值显示在表格的 ‘#0’ 列（第一列）。该列是永远存在的，只是显不显示的问题，由 ttk.Treeview() 的参数 show 来决定。\n",
    "print(\"idd1: \", type(idd1), idd1)   # idd1:  <class 'str'> I001\n",
    "print(\"idd2: \", type(idd2), idd2)   # idd2:  <class 'str'> I002\n",
    "print(\"idd3: \", type(idd3), idd3)   # idd3:  <class 'str'> I003\n",
    "\n",
    "tree.insert(\"\", i, text=\"\", values=(ii, \"3\", addurl, aa))\n",
    "tree.insert(\"\", i, text=\"\", values=(ii, \"3\", addurl, aa))\n",
    "tree.insert(\"\", i, text=\"\", values=(ii, \"3\", addurl, aa))\n",
    "tree.insert(\"\", i, text=\"\", values=(ii, \"3\", addurl, aa))\n",
    "tree.insert(\"\", i, text=\"\", values=(ii, \"3\", addurl, aa))\n",
    "tree.insert(\"\", i, text=\"\", values=(ii, \"3\", addurl, aa))\n",
    "tree.insert(\"\", i, text=\"\", values=(ii, \"3\", addurl, aa))\n",
    "tree.insert(\"\", i, text=\"\", values=(ii, \"3\", addurl, aa))\n",
    "tree.insert(\"\", i, text=\"\", values=(ii, \"3\", addurl, aa))\n",
    "tree.insert(\"\", i, text=\"\", values=(ii, \"3\", addurl, aa))\n",
    "tree.insert(\"\", i, text=\"\", values=(ii, \"3\", addurl, aa))\n",
    "tree.insert(\"\", i, text=\"\", values=(ii, \"3\", addurl, aa))\n",
    "tree.insert(\"\", i, text=\"\", values=(ii, \"3\", addurl, aa))\n",
    "\n",
    "# ********* 定义滚动条控件 *********\n",
    "# orient 参数为滚动条的方向，vertical--纵向，horizontal--横向\n",
    "# command=tree.yview 将滚动条绑定到treeview控件的 Y 轴\n",
    "bar_v = ttk.Scrollbar(root_window, orient=tk.VERTICAL, command=tree.yview)\n",
    "tree.configure(yscrollcommand=bar_v.set)\n",
    "bar_v.grid(row=3, column=1, sticky=tk.NS)\n",
    "\n",
    "# root_window.rowconfigure(5, weight=1)   # row为5的行(第6行)，缩放权重为1\n",
    "bar_h = ttk.Scrollbar(root_window, orient=tk.HORIZONTAL, command=tree.xview)\n",
    "tree.configure(xscrollcommand=bar_h.set)\n",
    "bar_h.grid(row=5, column=0, sticky=tk.EW)\n",
    "# 参考文献：https://blog.csdn.net/weixin_44677806/article/details/100107889\n",
    "# 里面讲：绑定Scrollbar时，Scrollbar的放置用 pack 最好，用grid的话横向的Scrollbar会在初始的时候不能拖动（显示不全时）。\n",
    "# bar_h.place(relx=0, rely=0.5, relwidth=1)\n",
    "\n",
    "\n",
    "# 开启主循环，让窗口处于显示状态\n",
    "root_window.mainloop()"
   ]
  },
  {
   "cell_type": "markdown",
   "metadata": {},
   "source": [
    "<br>\n",
    "<br>"
   ]
  },
  {
   "cell_type": "markdown",
   "metadata": {},
   "source": [
    "#### 可编辑、新建单元格"
   ]
  },
  {
   "cell_type": "markdown",
   "metadata": {},
   "source": [
    "参考文献：\n",
    "* https://blog.csdn.net/weixin_42268054/article/details/82902296\n",
    "* https://blog.csdn.net/sinat_27382047/article/details/80161637 （参考文献1里引用的文献）"
   ]
  },
  {
   "cell_type": "code",
   "execution_count": 1,
   "metadata": {},
   "outputs": [],
   "source": [
    "import tkinter as tk\n",
    "from tkinter import ttk\n",
    "from tkinter import messagebox"
   ]
  },
  {
   "cell_type": "code",
   "execution_count": 23,
   "metadata": {},
   "outputs": [
    {
     "name": "stdout",
     "output_type": "stream",
     "text": [
      "set_cell_value() 函数里所选行的值 ('服务器', '10.25.61.186')\n",
      "set_cell_value() 函数里 column 变量的类型和值： <class 'str'> #1\n",
      "set_cell_value() 函数里 row 变量的类型和值： <class 'str'> I002\n",
      "set_cell_value() 函数里所选行的值 ('服务器', '10.25.61.186')\n",
      "set_cell_value() 函数里 column 变量的类型和值： <class 'str'> #2\n",
      "set_cell_value() 函数里 row 变量的类型和值： <class 'str'> I002\n"
     ]
    }
   ],
   "source": [
    "# ************************************************\n",
    "# 调用 Tk() 创建主窗口\n",
    "# ************************************************\n",
    "root_window = tk.Tk()\n",
    "root_window.title(\"广州新华学院\")             # 给主窗口命名为 \"广州新华学院\"\n",
    "root_window.iconbitmap('../images/zf.ico')    # 更改左上角窗口的的 icon 图标，加载广州新华学院 logo\n",
    "\n",
    "# root_window.geometry('900x600')                      # 设置窗口大小:宽x高,注,此处不能为 \"*\",必须使用 \"x\"\n",
    "window_width = 1280\n",
    "window_height = 720\n",
    "\n",
    "# 窗口居中，获取屏幕尺寸以计算布局参数，使窗口居屏幕中央\n",
    "screen_width = root_window.winfo_screenwidth()\n",
    "screen_height = root_window.winfo_screenheight()\n",
    "size_geo = '%dx%d+%d+%d' % (window_width, window_height, \n",
    "                            int(screen_width / 2), int(screen_height / 2))\n",
    "root_window.geometry(size_geo)\n",
    "\n",
    "\n",
    "\n",
    "# ************************************************\n",
    "# 使用 Treeview 创建表格界面\n",
    "# ************************************************\n",
    "columns = (\"姓名\", \"IP地址\")\n",
    "tree = ttk.Treeview(root_window, height=18, show=\"headings\", columns=columns)\n",
    "# 表示列，不显示\n",
    "tree.column(\"姓名\", width=100, anchor=\"center\")\n",
    "tree.column(\"IP地址\", width=300, anchor=\"center\")\n",
    "# 显示表头\n",
    "tree.heading(\"姓名\", text=\"姓名\")\n",
    "tree.heading(\"IP地址\", text=\"IP地址\")\n",
    "\n",
    "# tree.grid(row=1, sticky=\"w\")\n",
    "tree.pack(side=tk.LEFT, fill=tk.BOTH)\n",
    "\n",
    "name = [\"电脑1\", \"服务器\", \"笔记本\"]\n",
    "ipcode = [\"10.13.71.223\", \"10.25.61.186\", \"10.25.11.163\"]\n",
    "for i in range(min(len(name), len(ipcode))):\n",
    "    tree.insert('', i, values=(name[i], ipcode[i]))\n",
    "\n",
    "\n",
    "# ************************************************\n",
    "# 编写功能函数，并与鼠标事件绑定\n",
    "# ************************************************\n",
    "def treeview_sort_column(tv, col, reverse):\n",
    "    \"\"\"Treeview、列名、排列方式\"\"\"\n",
    "    l = [(tv.set(k, col), k) for k in tv.get_children('')]\n",
    "    l.sort(reverse=reverse)\n",
    "    \n",
    "    # rearrange items in sorted positions\n",
    "    for index, (val, k) in enumerate(l):\n",
    "        tv.move(k, '', index)  # 根据排序后索引移动\n",
    "    \n",
    "    # 重写标题，使之成为再点击之后倒序的标题。\n",
    "    tv.heading(col, command=lambda : treeview_sort_column(tv, col, not reverse))\n",
    "\n",
    "\n",
    "def set_cell_value(event):  # 双击进入编辑状态。\n",
    "    \"\"\"\n",
    "    编辑单元格函数。\n",
    "    在原单元格上方新建一个文本框 Text 和按钮 Button，用来编辑内容，\n",
    "    按下按钮将单元格内容存入单元格，并销毁文本框 Text 和按钮 Button。\n",
    "    \"\"\"\n",
    "    for item in tree.selection():\n",
    "        # 只有鼠标左键双击在表格 tree 的现有行里，才会执行这个 for 代码块。\n",
    "        # 当前设置下只能选中表格的一行，故 tree.selection() 里的元素只有一个（表示一行）。\n",
    "        item_text = tree.item(item, \"values\")\n",
    "        print(\"set_cell_value() 函数里所选行的值\", item_text[0:2])    # 输出所选行的值\n",
    "    \n",
    "    column = tree.identify_column(event.x)  # 辨识鼠标左键双击在表格 tree 的哪一列\n",
    "    row = tree.identify_row(event.y)        # 辨识鼠标左键双击在表格 tree 的哪一行\n",
    "    print(\"set_cell_value() 函数里 column 变量的类型和值：\", type(column), column)\n",
    "    print(\"set_cell_value() 函数里 row 变量的类型和值：\", type(row), row)\n",
    "    \n",
    "    # 鼠标左键双击在表格 tree 的区域里，则总会有某一列被选中。\n",
    "    # 但是若双击在表格 tree 区域里的空白处（未插入行的地方），则没有行可以被选中，\n",
    "    # 此时 row 的值为空字符。\n",
    "    if row == \"\":\n",
    "        print(\"set_cell_value() 函数里 row 变量为空字符\")\n",
    "        tk.messagebox.showinfo(\"提示\", message=\"请选择已存在的某一行，不要再空白区域双击。\")\n",
    "        \n",
    "    else:\n",
    "        cn = int(str(column).replace(\"#\", \"\"))  # 列编号\n",
    "        rn = int(str(row).replace(\"I\", \"\"))     # 行编号\n",
    "    \n",
    "        entry_edit = tk.Text(root_window, width=10+(cn-1)*16, height=1)\n",
    "        entry_edit.place(x=16+(cn-1)*130, y=6+rn*20)\n",
    "    \n",
    "        def save_edit():\n",
    "            tree.set(item, column=column, value=entry_edit.get(0.0, \"end\"))\n",
    "            # entry_edit.get(0.0, \"end\") 即返回从起始位置到末尾这个范围内的文字。\n",
    "            # tree.set 实现了将 item 这一行里 column 里面选中的列的值设置为 value 里对应的值。\n",
    "            entry_edit.destroy()\n",
    "            ok_button.destroy()\n",
    "        \n",
    "        ok_button = ttk.Button(root_window, text=\"OK\", width=4, command=save_edit)\n",
    "        ok_button.place(x=90+(cn-1)*242, y=2+rn*20)\n",
    "\n",
    "\n",
    "\n",
    "def new_row():   # \n",
    "    \"\"\"\n",
    "    调用 Treeview.insert 方法，并在表格下方设置 ‘新建’ 按钮 Button，用来关联函数，\n",
    "    按钮位置随表格行数实时更新。\n",
    "    \"\"\"\n",
    "    name.append(\"待命名\")\n",
    "    ipcode.append(\"IP\")\n",
    "    # 在当前表格末尾添加一行\n",
    "    tree.insert('', len(name)-1, values=(name[len(name) - 1], ipcode[len(name) - 1]))\n",
    "    tree.update()\n",
    "    \n",
    "    # 重新放置 new_button, 使之总是位于更新后的表格的最后一行之后。\n",
    "    new_button.place(x=120, y=(len(name) -1) * 20 + 45)\n",
    "    new_button.update()\n",
    "\n",
    "\n",
    "# ************************************************\n",
    "# \n",
    "# ************************************************\n",
    "tree.bind('<Double-1>', set_cell_value)\n",
    "# 双击鼠标左键进入编辑。\n",
    "# 因为 '<Double-1>' 是 bind 在表格 tree 上的，所以只有在表格的区域内双击鼠标左键，才会响应，调用 set_cell_value() 函数。\n",
    "# 在表格的区域外双击鼠标左键，并不会响应。\n",
    "new_button = ttk.Button(root_window, text=\"新建联系人\", width=20, command=new_row)\n",
    "new_button.place(x=120, y=(len(name) -1) * 20 + 45)\n",
    "\n",
    "for col in columns:    # 绑定函数，使表头可排序\n",
    "    tree.heading(col, text=col, command=lambda _col=col: treeview_sort_column(tree, _col, False))\n",
    "\n",
    "\n",
    "# 开启主循环，让窗口处于显示状态\n",
    "root_window.mainloop()"
   ]
  },
  {
   "cell_type": "markdown",
   "metadata": {},
   "source": [
    "<br>\n",
    "<br>\n",
    "<br>"
   ]
  },
  {
   "cell_type": "markdown",
   "metadata": {},
   "source": [
    "### tkintertable 控件建立 tkinter的表格——支持拖拽、编辑等功能。"
   ]
  },
  {
   "cell_type": "markdown",
   "metadata": {},
   "source": [
    "参考文献：\n",
    "* https://blog.csdn.net/weixin_41102672/article/details/105163787\n",
    "* dmnfarrell/tkintertable: https://github.com/dmnfarrell/tkintertable/wiki/Usage"
   ]
  },
  {
   "cell_type": "markdown",
   "metadata": {},
   "source": [
    "需要先安装 tkintertable 库。\n",
    "```cmd\n",
    "pip install tkintertable\n",
    "```"
   ]
  },
  {
   "cell_type": "markdown",
   "metadata": {},
   "source": [
    "#### 简单使用"
   ]
  },
  {
   "cell_type": "code",
   "execution_count": 6,
   "metadata": {},
   "outputs": [],
   "source": [
    "import tkinter as tk\n",
    "from tkintertable import TableCanvas, TableModel\n",
    "\n",
    "\n",
    "\n",
    "# ************************************************\n",
    "# 调用 Tk() 创建主窗口\n",
    "# ************************************************\n",
    "root_window = tk.Tk()\n",
    "root_window.title(\"广州新华学院\")             # 给主窗口命名为 \"广州新华学院\"\n",
    "root_window.iconbitmap('../images/zf.ico')    # 更改左上角窗口的的 icon 图标，加载广州新华学院 logo\n",
    "\n",
    "# root_window.geometry('900x600')                      # 设置窗口大小:宽x高,注,此处不能为 \"*\",必须使用 \"x\"\n",
    "window_width = 1280\n",
    "window_height = 720\n",
    "\n",
    "# 窗口居中，获取屏幕尺寸以计算布局参数，使窗口居屏幕中央\n",
    "screen_width = root_window.winfo_screenwidth()\n",
    "screen_height = root_window.winfo_screenheight()\n",
    "size_geo = '%dx%d+%d+%d' % (window_width, window_height, \n",
    "                            int(screen_width / 2), int(screen_height / 2))\n",
    "root_window.geometry(size_geo)\n",
    "\n",
    "frame_table = tk.Frame(root_window)\n",
    "frame_table.pack()\n",
    "\n",
    "# table = TableCanvas(frame_table)\n",
    "# table.show()\n",
    "\n",
    "\"\"\"\n",
    "model = TableModel()\n",
    "table = TableCanvas(frame_table, model=model)\n",
    "table.show()\n",
    "\"\"\"\n",
    "\n",
    "# \"\"\"\n",
    "# data = {\"first\": {'a': 0.61, 'b': 0.67, 'c': 0.57, 'd': 0.3, 'e': 0.11},\n",
    "#          \"second\": {'a': 0.1, 'b': 0.55, 'c': 0.94, 'd': 0.63, 'e': 0.37},\n",
    "#          \"third\": {'a': 0.66, 'b': 0.01, 'c': 0.7, 'd': 0.89, 'e': 0.01}}\n",
    "\n",
    "model = TableModel()\n",
    "table = TableCanvas(frame_table, model,\n",
    "                    # data=data,\n",
    "                    # showkeynamesinheader=True,\n",
    "                    cellwidth=60, cellbackgr='#e3f698',\n",
    "                    thefont=('Arial', 12),\n",
    "                    rowheight=18, rowheaderwidth=30,\n",
    "                    rowselectedcolor='yellow',\n",
    "                    editable=True)\n",
    "table.importCSV(\"./test.csv\", sep=\",\")\n",
    "table.show()\n",
    "# \"\"\"\n",
    "\n",
    "\n",
    "\n",
    "root_window.mainloop()"
   ]
  },
  {
   "cell_type": "markdown",
   "metadata": {},
   "source": [
    "<br>\n",
    "<br>"
   ]
  },
  {
   "cell_type": "markdown",
   "metadata": {},
   "source": [
    "#### 直接从 .csv 中读取数据"
   ]
  },
  {
   "cell_type": "code",
   "execution_count": 1,
   "metadata": {},
   "outputs": [
    {
     "data": {
      "text/plain": [
       "{0: {'a': 0.61, 'b': 0.67, 'c': 0.57, 'd': 0.3, 'e': 0.11},\n",
       " 1: {'a': 0.1, 'b': 0.55, 'c': 0.94, 'd': 0.63, 'e': 0.37},\n",
       " 2: {'a': 0.66, 'b': 0.01, 'c': 0.7, 'd': 0.89, 'e': 0.01},\n",
       " 3: {'a': 0.76, 'b': 0.41, 'c': 0.39, 'd': 0.56, 'e': 0.38},\n",
       " 4: {'a': 0.09, 'b': 0.35, 'c': 0.32, 'd': 0.43, 'e': 0.33},\n",
       " 5: {'a': 0.19, 'b': 0.84, 'c': 0.26, 'd': 0.85, 'e': 0.2},\n",
       " 6: {'a': 0.4, 'b': 0.61, 'c': 0.53, 'd': 0.94, 'e': 0.11},\n",
       " 7: {'a': 0.95, 'b': 0.29, 'c': 0.24, 'd': 0.77, 'e': 0.6},\n",
       " 8: {'a': 0.55, 'b': 0.3, 'c': 0.03, 'd': 0.92, 'e': 0.01},\n",
       " 9: {'a': 0.18, 'b': 0.86, 'c': 0.97, 'd': 0.93, 'e': 0.58}}"
      ]
     },
     "execution_count": 1,
     "metadata": {},
     "output_type": "execute_result"
    }
   ],
   "source": [
    "from tkintertable.Testing import sampledata\n",
    "data = sampledata()\n",
    "\n",
    "data"
   ]
  },
  {
   "cell_type": "markdown",
   "metadata": {},
   "source": [
    "<br>"
   ]
  },
  {
   "cell_type": "code",
   "execution_count": 8,
   "metadata": {},
   "outputs": [
    {
     "name": "stdout",
     "output_type": "stream",
     "text": [
      "列名： ['姓名', '选修', '学号', '精神状态', '']\n"
     ]
    }
   ],
   "source": [
    "import tkinter as tk\n",
    "from tkintertable import TableCanvas, TableModel\n",
    "\n",
    "class TestApp(tk.Frame):\n",
    "    \"\"\"Basic test frame for the table.\"\"\"\n",
    "    \n",
    "    def __init__(self, parent=None):\n",
    "        self.parent = parent\n",
    "        tk.Frame.__init__(self)\n",
    "        \n",
    "        self.main = self.master\n",
    "        self.main.geometry('800x500+200+100')\n",
    "        self.main.title('Test')\n",
    "        \n",
    "        f = tk.Frame(self.main)\n",
    "        f.pack(fill=tk.BOTH, expand=1)\n",
    "        table = TableCanvas(f)\n",
    "        # table.importCSV(\"../../0_dataset/heart.csv\", sep=\",\")\n",
    "        table.importCSV(\"./test.csv\", sep=\",\")\n",
    "        print(\"列名：\", table.model.columnNames)\n",
    "        \n",
    "        table.show()\n",
    "        \n",
    "        return \n",
    "\n",
    "\n",
    "app = TestApp()\n",
    "app.mainloop()"
   ]
  },
  {
   "cell_type": "markdown",
   "metadata": {},
   "source": [
    "<br>\n",
    "<br>"
   ]
  },
  {
   "cell_type": "markdown",
   "metadata": {},
   "source": [
    "#### 插入行、列"
   ]
  },
  {
   "cell_type": "code",
   "execution_count": 16,
   "metadata": {
    "scrolled": true
   },
   "outputs": [
    {
     "name": "stdout",
     "output_type": "stream",
     "text": [
      "① data:  {0: {}, 1: {}, 2: {}, 3: {}, 4: {}, 5: {}, 6: {}, 7: {}, 8: {}, 9: {}}\n",
      "\n",
      "cols:  ['1', '2', '3', '4', '5', 'add 0', 'add 1', 'add 2']\n",
      "rec_list:  [0, 1, 2, 3, 4, 5, 6, 7, 8, 9, 11, 12, 13, 14]\n",
      "\n",
      "table.model.getColumnLabel(0):  1\n",
      "table.model.getColumnName(0):  1\n",
      "\n",
      "table.model.getRecName(0):  0\n",
      "table.model.getRecColNames(0, 0):  (0, '1')\n",
      "\n",
      "② data:  {0: {}, 1: {}, 2: {}, 3: {}, 4: {}, 5: {}, 6: {}, 7: {}, 8: {}, 9: {}, 11: {}, 12: {}, 13: {}, 14: {}}\n"
     ]
    }
   ],
   "source": [
    "import tkinter as tk\n",
    "from tkintertable import TableCanvas, TableModel\n",
    "\n",
    "class TestApp(tk.Frame):\n",
    "    \"\"\"Basic test frame for the table.\"\"\"\n",
    "    \n",
    "    def __init__(self, parent=None):\n",
    "        self.parent = parent\n",
    "        tk.Frame.__init__(self)\n",
    "        \n",
    "        self.main = self.master\n",
    "        self.main.geometry('800x500+200+100')\n",
    "        self.main.title('Test')\n",
    "        \n",
    "        f = tk.Frame(self.main)\n",
    "        f.pack(fill=tk.BOTH, expand=1)\n",
    "        table = TableCanvas(f)\n",
    "        # table.importCSV(\"./test.csv\", sep=\",\")\n",
    "        # print(\"列名：\", table.model.columnNames)\n",
    "        \n",
    "        data = table.model.data\n",
    "        # 返回的 data 是一个 dict 类型，其每一个 key-value 是一行 (也叫 record)。\n",
    "        # key 为行的索引值\n",
    "        print(\"① data: \", data)\n",
    "        table.show()    # 注意：先 show() 完了之后再添加行和列，否则会报错。\n",
    "        \n",
    "        for i in range(3):\n",
    "            table.addColumn('add %d' % i)  # 再添加三列\n",
    "        for i in range(4):\n",
    "            table.addRow()                 # 再添加四行\n",
    "        \n",
    "        cols = table.model.columnNames     # 返回 list 类型\n",
    "        rec_list = table.model.reclist     # 返回 list 类型\n",
    "        print(\"\\ncols: \", cols)\n",
    "        print(\"rec_list: \", rec_list)\n",
    "        \n",
    "        print(\"\\ntable.model.getColumnLabel(0): \", table.model.getColumnLabel(0))\n",
    "        print(\"table.model.getColumnName(0): \", table.model.getColumnName(0))\n",
    "        \n",
    "        print(\"\\ntable.model.getRecName(0): \", table.model.getRecName(0))\n",
    "        print(\"table.model.getRecColNames(0, 0): \", table.model.getRecColNames(0, 0))\n",
    "        \n",
    "        \n",
    "        # Change data in individual cells\n",
    "        data = table.model.data\n",
    "        print(\"\\n② data: \", data)\n",
    "        \n",
    "        return \n",
    "\n",
    "\n",
    "app = TestApp()\n",
    "app.mainloop()"
   ]
  },
  {
   "cell_type": "markdown",
   "metadata": {},
   "source": [
    "<br>\n",
    "<br>\n",
    "<br>"
   ]
  },
  {
   "cell_type": "markdown",
   "metadata": {},
   "source": [
    "```python\n",
    "# ****** 各省份计划与剩余 ******\n",
    "frame_plan = tk.Frame(root_window)\n",
    "frame_plan.place(relx=0.0, rely=0.058, relwidth=1, relheight=0.3)  \n",
    "# 这些参数都是相对于父组件 (root_window) 的位置。\n",
    "\n",
    "frame_plan_category = tk.Frame(frame_plan)  # bg=\"pink\"\n",
    "frame_plan_category.place(relx=0.0, rely=0.0, relwidth=0.06, relheight=1)\n",
    "# 这些参数都是该组件相对于父组件 (frame_plan) 的位置。转化为相对于根组件 (root_window) 的位置为：\n",
    "# 位置公式：父组件在根组件中的起始位置 + 该组件在父组件中的起始位置\n",
    "# x     = 1 * 0.0  + 1 * 0.0 = 0.0\n",
    "# y     = 1 * 0.07 + 1 * 0.0 = 0.07\n",
    "# 尺寸公式：父组件在根组件中的相对大小 * 该组件在父组件中的相对大小\n",
    "# width  = (1 * 1)    * 0.06\n",
    "# height = (1 * 0.36) * 1\n",
    "```"
   ]
  },
  {
   "cell_type": "markdown",
   "metadata": {},
   "source": [
    "<br>\n",
    "<br>\n",
    "<br>"
   ]
  },
  {
   "cell_type": "markdown",
   "metadata": {},
   "source": [
    "```python\n",
    "def process_data(e):\n",
    "    print(\"进入 <Return> 事件处理函数：\", type(e), e)\n",
    "    # print(\"table.mode: \", table.mode)   # table.mode:  normal\n",
    "    data = table.model.getData()             # 或者：table.model.data\n",
    "    # cols = table.model.columnNames      # get the current columns\n",
    "    # data[row][col] = value  # use row and column names, not cell coordinates\n",
    "    # table.model.setValueAt(value, rowindex, colindex)  ##use cell coords\n",
    "    # table.redrawTable()\n",
    "\n",
    "    model = table.model\n",
    "    my_filter = [(\"广东 (文)\", 0, \"=\", \"OR\"), (\"广东 (文)\", 0, \">\", \"OR\")]\n",
    "    # print(type(model.getColumnData(columnName=\"广东 (文)\", filters = my_filter))） \n",
    "    # <class 'list'>       \n",
    "    # 或者使用参数 columnIndex=0。\n",
    "    print(type(model.getDict(colnames=[\"广东 (文)\"], filters=my_filter)),\n",
    "            model.getDict(colnames=[\"广东 (文)\"], filters=my_filter))      # <class 'dict'>\n",
    "    \n",
    "    print(type(model.getColumns(colnames=[\"广东 (文)\"], filters=my_filter)),\n",
    "            model.getColumns(colnames=[\"广东 (文)\"], filters=my_filter))   # <class 'list'>\n",
    "    \n",
    "    print(table.getSelectedRow())   # 返回的是一个数字，为 row 的索引值。\n",
    "    \n",
    "    table.getSelectedColumn()\n",
    "\n",
    "\n",
    "root_window.bind(\"<Return>\", process_data)\n",
    "root_window.bind(\"<Up>\", process_data)\n",
    "root_window.bind(\"<Down>\", process_data)\n",
    "root_window.bind(\"<Left>\", process_data)\n",
    "root_window.bind(\"<Right>\", process_data)\n",
    "```"
   ]
  },
  {
   "cell_type": "markdown",
   "metadata": {},
   "source": [
    "<br>\n",
    "<br>\n",
    "<br>"
   ]
  },
  {
   "cell_type": "markdown",
   "metadata": {},
   "source": [
    "```python\n",
    "def process_data(e):\n",
    "    print(\"进入 <Return> 事件处理函数：\", type(e), e)\n",
    "    model = table.model\n",
    "    my_filter = [(\"广东 (文)\", 0, \"=\", \"OR\"), (\"广东 (文)\", 0, \">\", \"OR\")]\n",
    "    col = table.getSelectedColumn()  # 返回的是一个数字，为 row 的索引值。\n",
    "    row = table.getSelectedRow()     # 返回的是一个数字，为 row 的索引值。\n",
    "    print(\"rows = %d, cols = %d\" % (row, col))\n",
    "    # print(model.getColumns(colnames=[\"广东 (文)\"], filters=my_filter))  #   嵌套的 <class 'list'>\n",
    "    # print(model.getColumnData(columnIndex=cols, filters=my_filter))      # 非嵌套的 <class 'list'>\n",
    "    # .getColumnData() 也有参数：columnName\n",
    "        \n",
    "        \n",
    "        \n",
    "    col_data = model.getColumnData(columnIndex=col, filters=my_filter)\n",
    "    # 注意，虽然这里返回的 col_data 是指定索引列元素值的 list 类型，\n",
    "    # 但是各个元素之间已经不是按照原来 row 的索引来排列了。\n",
    "    col_data = list(map(int, col_data))\n",
    "    # 因为从窗口里输入的数字都会默认被转化为 string 类型，所以通过 map() 来转化。\n",
    "    # 而且，如果没有 list() 函数来进一步转化的话，会报错：TypeError: 'map' object is not subscriptable\n",
    "    print(\"col_data\", col_data)\n",
    "    print(\"type(col_data[0]): \", type(col_data[0]))\n",
    "    print(\"model.getColumnType()\", model.getColumnType(columnIndex=col))\n",
    "    sum_col_subjects = sum(col_data[2:])\n",
    "    print(\"sum_col_subjects: \", sum_col_subjects)\n",
    "    # data = table.model.getData()       # 或者：table.model.data，但是返回的是 dict 类型。\n",
    "    # data[0][col] = sum_col_subjects    \n",
    "    # data 是 dict 类型，故 key 不是索引值，而是 row and column names, not cell coordinates\n",
    "    table.model.setValueAt(sum_col_subjects, 0, columnIndex=col)\n",
    "    # table.model.setFormulaAt()\n",
    "    table.redrawTable()\n",
    "\n",
    "\n",
    "    # print(\"table.mode: \", table.mode)   # table.mode:  normal\n",
    "\n",
    "    # cols = table.model.columnNames  # get the current columns\n",
    "    # data[row][col] = value  # use row and column names, not cell coordinates\n",
    "    # table.model.setValueAt(value, rowindex, colindex)  ##use cell coords\n",
    "    # table.redrawTable()\n",
    "\n",
    "    print(type(model.getColumns(colnames=[\"广东 (文)\"], filters=my_filter)),\n",
    "          model.getColumns(colnames=[\"广东 (文)\"], filters=my_filter))  # <class 'list'>\n",
    "```"
   ]
  },
  {
   "cell_type": "markdown",
   "metadata": {},
   "source": [
    "<br>\n",
    "<br>\n",
    "<br>"
   ]
  },
  {
   "cell_type": "markdown",
   "metadata": {},
   "source": [
    "```python\n",
    "print(\"entry1: \", entry1)\n",
    "# .!frame2.!frame2.!labelframe.!entry\n",
    "\n",
    "print(\"dir(entry1): \", dir(entry1))\n",
    "\n",
    "print(\"entry1.info: \", entry1.info)\n",
    "# <bound method Pack.pack_info of <tkinter.Entry object .!frame2.!frame2.!labelframe2.!entry6>>\n",
    "\n",
    "print(\"entry1.widgetName: \", entry1.widgetName)\n",
    "# entry\n",
    "\n",
    "print(\"e1.bindtags(): \", e1.bindtags())\n",
    "# ('.!frame2.!frame2.!labelframe2.!entry6', 'Entry', '.', 'all')\n",
    "```"
   ]
  },
  {
   "cell_type": "markdown",
   "metadata": {},
   "source": [
    "<br>\n",
    "<br>\n",
    "<br>"
   ]
  },
  {
   "cell_type": "markdown",
   "metadata": {},
   "source": [
    "```python\n",
    "if province == \"外省\":\n",
    "    value_label_waisheng = 0 if label_waisheng.cget(\"text\") == '' else int(label_waisheng.cget(\"text\"))\n",
    "    print('label_waisheng.cget(\"text\")', label_waisheng.cget(\"text\"))\n",
    "    label_waisheng.configure(textvariable=tk.StringVar(value=value_entry_waisheng-value_label_waisheng))\n",
    "```"
   ]
  },
  {
   "cell_type": "markdown",
   "metadata": {},
   "source": [
    "<br>"
   ]
  }
 ],
 "metadata": {
  "kernelspec": {
   "display_name": "Python 3",
   "language": "python",
   "name": "python3"
  },
  "language_info": {
   "codemirror_mode": {
    "name": "ipython",
    "version": 3
   },
   "file_extension": ".py",
   "mimetype": "text/x-python",
   "name": "python",
   "nbconvert_exporter": "python",
   "pygments_lexer": "ipython3",
   "version": "3.8.5"
  },
  "toc": {
   "base_numbering": 1,
   "nav_menu": {},
   "number_sections": true,
   "sideBar": true,
   "skip_h1_title": false,
   "title_cell": "Table of Contents",
   "title_sidebar": "Contents",
   "toc_cell": false,
   "toc_position": {},
   "toc_section_display": true,
   "toc_window_display": false
  },
  "varInspector": {
   "cols": {
    "lenName": 16,
    "lenType": 16,
    "lenVar": 40
   },
   "kernels_config": {
    "python": {
     "delete_cmd_postfix": "",
     "delete_cmd_prefix": "del ",
     "library": "var_list.py",
     "varRefreshCmd": "print(var_dic_list())"
    },
    "r": {
     "delete_cmd_postfix": ") ",
     "delete_cmd_prefix": "rm(",
     "library": "var_list.r",
     "varRefreshCmd": "cat(var_dic_list()) "
    }
   },
   "types_to_exclude": [
    "module",
    "function",
    "builtin_function_or_method",
    "instance",
    "_Feature"
   ],
   "window_display": false
  }
 },
 "nbformat": 4,
 "nbformat_minor": 4
}
