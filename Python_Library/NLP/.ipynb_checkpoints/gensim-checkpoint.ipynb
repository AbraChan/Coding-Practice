{
 "cells": [
  {
   "cell_type": "markdown",
   "metadata": {},
   "source": [
    "<br>\n",
    "<br>\n",
    "<br>"
   ]
  },
  {
   "cell_type": "markdown",
   "metadata": {},
   "source": [
    "**gensim Pypi:** <a href=\"\" style=\"text-decoration:none;font-size:120%\">https://pypi.org/project/gensim/</a>\n",
    "\n",
    "Gensim is a Python library for topic modelling, document indexing and similarity retrieval with large corpora. Target audience is the natural language processing (NLP) and information retrieval (IR) community."
   ]
  },
  {
   "cell_type": "markdown",
   "metadata": {},
   "source": [
    "gensim 主要是用来做主题建模，特别是和深度学习相关的。"
   ]
  },
  {
   "cell_type": "markdown",
   "metadata": {},
   "source": [
    "<br>"
   ]
  },
  {
   "cell_type": "markdown",
   "metadata": {},
   "source": [
    "词向量包括：`静态词向量`、`动态词向量`。\n",
    "* 静态词向量： word2vec，glove，fasttext\n",
    "* 动态词向量："
   ]
  },
  {
   "cell_type": "markdown",
   "metadata": {},
   "source": [
    "<br>\n",
    "<br>\n",
    "<br>"
   ]
  },
  {
   "cell_type": "markdown",
   "metadata": {},
   "source": [
    "## Word2Vec Model"
   ]
  },
  {
   "cell_type": "markdown",
   "metadata": {},
   "source": [
    "gensim documentation: <a href=\"https://radimrehurek.com/gensim/auto_examples/tutorials/run_word2vec.html\" style=\"text-decoration:none;font-size:100%\">Word2Vec Model</a>"
   ]
  },
  {
   "cell_type": "markdown",
   "metadata": {},
   "source": [
    "### <a href=\"https://radimrehurek.com/gensim/auto_examples/tutorials/run_word2vec.html#review-bag-of-words\" style=\"text-decoration:none;font-size:100%\">Review: Bag-of-words</a>"
   ]
  },
  {
   "cell_type": "markdown",
   "metadata": {},
   "source": [
    "`Bag-of-words models` are surprisingly effective, but have several weaknesses.\n",
    "* First, they lose all information about word order: “John likes Mary” and “Mary likes John” correspond to identical vectors. <br>There is a solution: <font color=maroon>bag of **n-grams** models</font> consider word phrases of length n to represent documents as fixed-length vectors to capture local word order but <font color=maroon>suffer from data sparsity and high dimensionality.</font>\n",
    "\n",
    "\n",
    "* Second, the model does not attempt to learn the meaning of the underlying words, and as a consequence, the distance between vectors doesn’t always reflect the difference in meaning. <br>The <font color=maroon>**Word2Vec** model</font> addresses this second problem."
   ]
  },
  {
   "cell_type": "markdown",
   "metadata": {},
   "source": [
    "### <a href=\"https://radimrehurek.com/gensim/auto_examples/tutorials/run_word2vec.html#introducing-the-word2vec-model\" style=\"text-decoration:none;font-size:100%\">Introducing: the Word2Vec Model</a>"
   ]
  },
  {
   "cell_type": "markdown",
   "metadata": {},
   "source": [
    "* **CBOW:** Continuous Bag of words. 即输入是上下文，输出是中间的词。\n",
    "* **Skipgram:** 输入是中间的词，输出是上下文。\n"
   ]
  },
  {
   "cell_type": "markdown",
   "metadata": {},
   "source": [
    "<br>"
   ]
  },
  {
   "cell_type": "code",
   "execution_count": 1,
   "metadata": {},
   "outputs": [],
   "source": [
    "from gensim.models.word2vec import Word2Vec\n",
    "from gensim.test.utils import common_texts"
   ]
  },
  {
   "cell_type": "markdown",
   "metadata": {},
   "source": [
    "<br>"
   ]
  },
  {
   "cell_type": "code",
   "execution_count": 2,
   "metadata": {},
   "outputs": [
    {
     "data": {
      "text/plain": [
       "[]"
      ]
     },
     "execution_count": 2,
     "metadata": {},
     "output_type": "execute_result"
    }
   ],
   "source": [
    "model_original = Word2Vec()\n",
    "\n",
    "model_original.wv.index_to_key"
   ]
  },
  {
   "cell_type": "markdown",
   "metadata": {},
   "source": [
    "<br>"
   ]
  },
  {
   "cell_type": "code",
   "execution_count": 3,
   "metadata": {},
   "outputs": [
    {
     "data": {
      "text/plain": [
       "[['human', 'interface', 'computer'],\n",
       " ['survey', 'user', 'computer', 'system', 'response', 'time'],\n",
       " ['eps', 'user', 'interface', 'system'],\n",
       " ['system', 'human', 'system', 'eps'],\n",
       " ['user', 'response', 'time'],\n",
       " ['trees'],\n",
       " ['graph', 'trees'],\n",
       " ['graph', 'minors', 'trees'],\n",
       " ['graph', 'minors', 'survey']]"
      ]
     },
     "execution_count": 3,
     "metadata": {},
     "output_type": "execute_result"
    }
   ],
   "source": [
    "common_texts"
   ]
  },
  {
   "cell_type": "code",
   "execution_count": 4,
   "metadata": {},
   "outputs": [],
   "source": [
    "model = Word2Vec(sentences=common_texts, vector_size=100, window=5, min_count=1, workers=4)\n",
    "model.save(\"./gensim_data/word2vec.model\")"
   ]
  },
  {
   "cell_type": "code",
   "execution_count": 12,
   "metadata": {},
   "outputs": [
    {
     "data": {
      "text/plain": [
       "['system',\n",
       " 'graph',\n",
       " 'trees',\n",
       " 'user',\n",
       " 'minors',\n",
       " 'eps',\n",
       " 'time',\n",
       " 'response',\n",
       " 'survey',\n",
       " 'computer',\n",
       " 'interface',\n",
       " 'human']"
      ]
     },
     "execution_count": 12,
     "metadata": {},
     "output_type": "execute_result"
    }
   ],
   "source": [
    "model.wv.index_to_key\n",
    "\n",
    "# model.wv.index2entity\n",
    "# 报错：AttributeError: The index2entity attribute has been replaced by index_to_key since Gensim 4.0.0.\n",
    "\n",
    "# model.wv.index2word\n",
    "# 报错：AttributeError: The index2word attribute has been replaced by index_to_key since Gensim 4.0.0."
   ]
  },
  {
   "cell_type": "code",
   "execution_count": 6,
   "metadata": {
    "scrolled": true
   },
   "outputs": [
    {
     "name": "stdout",
     "output_type": "stream",
     "text": [
      "100\n"
     ]
    },
    {
     "data": {
      "text/plain": [
       "array([ 9.7702928e-03,  8.1651136e-03,  1.2809705e-03,  5.0975773e-03,\n",
       "        1.4081288e-03, -6.4551616e-03, -1.4280510e-03,  6.4491653e-03,\n",
       "       -4.6173073e-03, -3.9930656e-03,  4.9244044e-03,  2.7130984e-03,\n",
       "       -1.8479753e-03, -2.8769446e-03,  6.0107303e-03, -5.7167388e-03,\n",
       "       -3.2367038e-03, -6.4878250e-03, -4.2346334e-03, -8.5809948e-03,\n",
       "       -4.4697905e-03, -8.5112313e-03,  1.4037776e-03, -8.6181974e-03,\n",
       "       -9.9166557e-03, -8.2016252e-03, -6.7726658e-03,  6.6805840e-03,\n",
       "        3.7845564e-03,  3.5616636e-04, -2.9579829e-03, -7.4283220e-03,\n",
       "        5.3341867e-04,  4.9989222e-04,  1.9561767e-04,  8.5259438e-04,\n",
       "        7.8633073e-04, -6.8161491e-05, -8.0070542e-03, -5.8702733e-03,\n",
       "       -8.3829118e-03, -1.3120436e-03,  1.8206357e-03,  7.4171280e-03,\n",
       "       -1.9634271e-03, -2.3252917e-03,  9.4871549e-03,  7.9703328e-05,\n",
       "       -2.4045228e-03,  8.6048460e-03,  2.6870037e-03, -5.3439736e-03,\n",
       "        6.5881060e-03,  4.5101522e-03, -7.0544672e-03, -3.2317400e-04,\n",
       "        8.3448651e-04,  5.7473565e-03, -1.7176557e-03, -2.8065301e-03,\n",
       "        1.7484308e-03,  8.4717036e-04,  1.1928272e-03, -2.6342822e-03,\n",
       "       -5.9857843e-03,  7.3229838e-03,  7.5873756e-03,  8.2963565e-03,\n",
       "       -8.5988473e-03,  2.6364254e-03, -3.5599638e-03,  9.6204039e-03,\n",
       "        2.9037667e-03,  4.6411133e-03,  2.3856140e-03,  6.6084769e-03,\n",
       "       -5.7432912e-03,  7.8944108e-03, -2.4109220e-03, -4.5618867e-03,\n",
       "       -2.0609903e-03,  9.7335577e-03, -6.8565919e-03, -2.1917201e-03,\n",
       "        7.0009995e-03, -5.5749417e-05, -6.2949681e-03, -6.3935257e-03,\n",
       "        8.9403940e-03,  6.4295745e-03,  4.7735930e-03, -3.2620477e-03,\n",
       "       -9.2676207e-03,  3.7868882e-03,  7.1605491e-03, -5.6328895e-03,\n",
       "       -7.8650145e-03, -2.9727411e-03, -4.9318983e-03, -2.3151112e-03],\n",
       "      dtype=float32)"
      ]
     },
     "execution_count": 6,
     "metadata": {},
     "output_type": "execute_result"
    }
   ],
   "source": [
    "# model.wv['king']  # 报错：KeyError: \"Key 'king' not present\"\n",
    "\n",
    "print(len(model.wv['human']))\n",
    "model.wv['human']"
   ]
  },
  {
   "cell_type": "code",
   "execution_count": 7,
   "metadata": {},
   "outputs": [
    {
     "data": {
      "text/plain": [
       "[('user', 0.06793875992298126),\n",
       " ('survey', 0.03364057093858719),\n",
       " ('eps', 0.009391184896230698),\n",
       " ('human', 0.00831596553325653),\n",
       " ('minors', 0.004503015894442797),\n",
       " ('system', -0.010839187540113926),\n",
       " ('trees', -0.023671669885516167),\n",
       " ('computer', -0.09575346857309341),\n",
       " ('time', -0.11410722136497498),\n",
       " ('response', -0.11557209491729736)]"
      ]
     },
     "execution_count": 7,
     "metadata": {},
     "output_type": "execute_result"
    }
   ],
   "source": [
    "# model.most_similar('graph')    # 会报错\n",
    "model.wv.most_similar('graph')"
   ]
  },
  {
   "cell_type": "code",
   "execution_count": 8,
   "metadata": {},
   "outputs": [
    {
     "data": {
      "text/plain": [
       "[('user', 0.06793875992298126),\n",
       " ('survey', 0.03364057093858719),\n",
       " ('eps', 0.009391184896230698),\n",
       " ('human', 0.00831596553325653),\n",
       " ('minors', 0.004503015894442797)]"
      ]
     },
     "execution_count": 8,
     "metadata": {},
     "output_type": "execute_result"
    }
   ],
   "source": [
    "model.wv.most_similar('graph', topn=5)"
   ]
  },
  {
   "cell_type": "code",
   "execution_count": 9,
   "metadata": {},
   "outputs": [
    {
     "data": {
      "text/plain": [
       "0.06793875"
      ]
     },
     "execution_count": 9,
     "metadata": {},
     "output_type": "execute_result"
    }
   ],
   "source": [
    "model.wv.similarity(u\"graph\", u\"user\")"
   ]
  },
  {
   "cell_type": "markdown",
   "metadata": {},
   "source": [
    "<br>"
   ]
  }
 ],
 "metadata": {
  "kernelspec": {
   "display_name": "Python [conda env:tfg]",
   "language": "python",
   "name": "conda-env-tfg-py"
  },
  "language_info": {
   "codemirror_mode": {
    "name": "ipython",
    "version": 3
   },
   "file_extension": ".py",
   "mimetype": "text/x-python",
   "name": "python",
   "nbconvert_exporter": "python",
   "pygments_lexer": "ipython3",
   "version": "3.9.7"
  },
  "toc": {
   "base_numbering": 1,
   "nav_menu": {},
   "number_sections": true,
   "sideBar": true,
   "skip_h1_title": false,
   "title_cell": "Table of Contents",
   "title_sidebar": "Contents",
   "toc_cell": false,
   "toc_position": {},
   "toc_section_display": true,
   "toc_window_display": false
  },
  "varInspector": {
   "cols": {
    "lenName": 16,
    "lenType": 16,
    "lenVar": 40
   },
   "kernels_config": {
    "python": {
     "delete_cmd_postfix": "",
     "delete_cmd_prefix": "del ",
     "library": "var_list.py",
     "varRefreshCmd": "print(var_dic_list())"
    },
    "r": {
     "delete_cmd_postfix": ") ",
     "delete_cmd_prefix": "rm(",
     "library": "var_list.r",
     "varRefreshCmd": "cat(var_dic_list()) "
    }
   },
   "types_to_exclude": [
    "module",
    "function",
    "builtin_function_or_method",
    "instance",
    "_Feature"
   ],
   "window_display": false
  }
 },
 "nbformat": 4,
 "nbformat_minor": 4
}
