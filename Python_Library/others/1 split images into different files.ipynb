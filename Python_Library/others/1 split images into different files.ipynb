{
 "cells": [
  {
   "cell_type": "markdown",
   "metadata": {},
   "source": [
    "<br>"
   ]
  },
  {
   "cell_type": "markdown",
   "metadata": {},
   "source": [
    "<div align=center><font color=maroon size=6><b>split images into different files</b></font></div>"
   ]
  },
  {
   "cell_type": "markdown",
   "metadata": {},
   "source": [
    "<br>"
   ]
  },
  {
   "cell_type": "markdown",
   "metadata": {},
   "source": [
    "<font size=4><b>References:</b></font>\n",
    "1. <a href=\"http://www.4k8k.xyz/article/haronchou/106684744\" style=\"text-decoration:none;color:maroon;\">数据集随机+比例分为训练集和测试集：并分别存为文件夹_hello world-程序员资料</a>\n",
    "2. <a href=\"https://blog.csdn.net/weixin_44291388/article/details/106346379\" style=\"text-decoration:none;\">[python]将图片按比例分在多个文件夹(7:3分成训练集和测试集)</a>\n",
    "* <a href=\"\" style=\"text-decoration:none;\"></a>"
   ]
  },
  {
   "cell_type": "markdown",
   "metadata": {},
   "source": [
    "<br>\n",
    "<br>\n",
    "<br>"
   ]
  },
  {
   "cell_type": "code",
   "execution_count": 6,
   "metadata": {},
   "outputs": [],
   "source": [
    "import os\n",
    "import random"
   ]
  },
  {
   "cell_type": "code",
   "execution_count": 7,
   "metadata": {},
   "outputs": [
    {
     "data": {
      "text/plain": [
       "'D:\\\\KeepStudy\\\\0_Coding\\\\Python_Library\\\\others'"
      ]
     },
     "execution_count": 7,
     "metadata": {},
     "output_type": "execute_result"
    }
   ],
   "source": [
    "os.getcwd()"
   ]
  },
  {
   "cell_type": "code",
   "execution_count": 32,
   "metadata": {},
   "outputs": [],
   "source": [
    "if not os.path.exists(\"D:\\\\KeepStudy\\\\0_Coding\\\\DL Moldels Implementation\\\\data\\\\flowers\\\\try\"):\n",
    "    os.makedirs(\"D:\\\\KeepStudy\\\\0_Coding\\\\DL Moldels Implementation\\\\data\\\\flowers\\\\try\")\n",
    "    os.mkdir(\"D:\\\\KeepStudy\\\\0_Coding\\\\DL Moldels Implementation\\\\data\\\\flowers\\\\try2\")\n",
    "    # 上面这两个语句等效"
   ]
  },
  {
   "cell_type": "code",
   "execution_count": 33,
   "metadata": {},
   "outputs": [],
   "source": [
    "new_dir = os.mkdir(\"D:\\\\KeepStudy\\\\0_Coding\\\\DL Moldels Implementation\\\\data\\\\flowers\\\\try3\")\n",
    "new_dir"
   ]
  },
  {
   "cell_type": "code",
   "execution_count": 34,
   "metadata": {},
   "outputs": [
    {
     "data": {
      "text/plain": [
       "NoneType"
      ]
     },
     "execution_count": 34,
     "metadata": {},
     "output_type": "execute_result"
    }
   ],
   "source": [
    "type(new_dir)    # 说明 os.mkdir() 没有返回值"
   ]
  },
  {
   "cell_type": "code",
   "execution_count": 35,
   "metadata": {},
   "outputs": [
    {
     "data": {
      "text/plain": [
       "str"
      ]
     },
     "execution_count": 35,
     "metadata": {},
     "output_type": "execute_result"
    }
   ],
   "source": [
    "type(os.getcwd())"
   ]
  },
  {
   "cell_type": "code",
   "execution_count": 36,
   "metadata": {},
   "outputs": [
    {
     "data": {
      "text/plain": [
       "'D:\\\\KeepStudy\\\\0_Coding\\\\Python_Library\\\\others\\\\try'"
      ]
     },
     "execution_count": 36,
     "metadata": {},
     "output_type": "execute_result"
    }
   ],
   "source": [
    "os.getcwd() + \"\\\\try\""
   ]
  },
  {
   "cell_type": "code",
   "execution_count": 38,
   "metadata": {},
   "outputs": [
    {
     "data": {
      "text/plain": [
       "'D:\\\\KeepStudy\\\\0_Coding\\\\Python_Library\\\\others\\\\try'"
      ]
     },
     "execution_count": 38,
     "metadata": {},
     "output_type": "execute_result"
    }
   ],
   "source": [
    "try_path = os.path.join(os.getcwd(), \"try\")\n",
    "try_path"
   ]
  },
  {
   "cell_type": "code",
   "execution_count": 39,
   "metadata": {},
   "outputs": [
    {
     "data": {
      "text/plain": [
       "str"
      ]
     },
     "execution_count": 39,
     "metadata": {},
     "output_type": "execute_result"
    }
   ],
   "source": [
    "type(try_path)"
   ]
  },
  {
   "cell_type": "markdown",
   "metadata": {},
   "source": [
    "<br>\n",
    "<br>"
   ]
  },
  {
   "cell_type": "code",
   "execution_count": 51,
   "metadata": {},
   "outputs": [
    {
     "data": {
      "text/plain": [
       "['100080576_f52e8ee070_n.jpg',\n",
       " '10140303196_b88d3d6cec.jpg',\n",
       " '10172567486_2748826a8b.jpg',\n",
       " '10172636503_21bededa75_n.jpg',\n",
       " '102841525_bd6628ae3c.jpg']"
      ]
     },
     "execution_count": 51,
     "metadata": {},
     "output_type": "execute_result"
    }
   ],
   "source": [
    "root_path = \"D:\\\\KeepStudy\\\\0_Coding\\\\DL Moldels Implementation\\\\data\\\\flowers\\\\raw\\\\daisy\"\n",
    "images_list = os.listdir(root_path)\n",
    "images_list[:5]"
   ]
  },
  {
   "cell_type": "markdown",
   "metadata": {},
   "source": [
    "<br>"
   ]
  },
  {
   "cell_type": "code",
   "execution_count": 52,
   "metadata": {},
   "outputs": [
    {
     "data": {
      "text/plain": [
       "609"
      ]
     },
     "execution_count": 52,
     "metadata": {},
     "output_type": "execute_result"
    }
   ],
   "source": [
    "len(images_list)"
   ]
  },
  {
   "cell_type": "code",
   "execution_count": 53,
   "metadata": {},
   "outputs": [
    {
     "data": {
      "text/plain": [
       "['6095817094_3a5b1d793d.jpg',\n",
       " '4258408909_b7cc92741c_m.jpg',\n",
       " '3337643329_accc9b5426.jpg',\n",
       " '2331133004_582772d58f_m.jpg',\n",
       " '1342002397_9503c97b49.jpg',\n",
       " '5577555349_2e8490259b.jpg',\n",
       " '34540176411_a35a19a8ef_n.jpg',\n",
       " '34476770012_38fba290f3_n.jpg',\n",
       " '6208851904_9d916ebb32_n.jpg',\n",
       " '506348009_9ecff8b6ef.jpg']"
      ]
     },
     "execution_count": 53,
     "metadata": {},
     "output_type": "execute_result"
    }
   ],
   "source": [
    "samples = random.sample(images_list, 10)\n",
    "samples"
   ]
  },
  {
   "cell_type": "code",
   "execution_count": 54,
   "metadata": {},
   "outputs": [
    {
     "data": {
      "text/plain": [
       "list"
      ]
     },
     "execution_count": 54,
     "metadata": {},
     "output_type": "execute_result"
    }
   ],
   "source": [
    "type(samples)"
   ]
  },
  {
   "cell_type": "code",
   "execution_count": 55,
   "metadata": {},
   "outputs": [
    {
     "data": {
      "text/plain": [
       "599"
      ]
     },
     "execution_count": 55,
     "metadata": {},
     "output_type": "execute_result"
    }
   ],
   "source": [
    "remain_list = set(images_list) - set(samples)\n",
    "len(remain_list)"
   ]
  },
  {
   "cell_type": "code",
   "execution_count": 58,
   "metadata": {},
   "outputs": [
    {
     "name": "stdout",
     "output_type": "stream",
     "text": [
      "0      18679421522_3be9879e32.jpg\n",
      "1      2481823240_eab0d86921.jpg\n",
      "2      34566613262_fefbcc279a_n.jpg\n",
      "3      14564545365_1f1d267bf1_n.jpg\n",
      "4      5973488341_50bdf6cee3_n.jpg\n",
      "5      2019064575_7656b9340f_m.jpg\n",
      "6      7410356270_9dff4d0e2e_n.jpg\n",
      "7      4318007511_e9f4311936_n.jpg\n",
      "8      8008258043_5457dd254b_n.jpg\n",
      "9      19834392829_7d697871f6.jpg\n",
      "10      9529916092_de70623523_n.jpg\n",
      "11      7377004908_5bc0cde347_n.jpg\n",
      "12      3546455114_cd2dea5e02.jpg\n",
      "13      4563059851_45a9d21a75.jpg\n",
      "14      4666648087_b10f376f19.jpg\n",
      "15      4598422221_b37313a3e3_n.jpg\n",
      "16      34701078235_4a770d14a1_n.jpg\n",
      "17      3695826945_9f374e8a00_m.jpg\n",
      "18      4281102584_c548a69b81_m.jpg\n",
      "19      9310226774_d1b8f5d9c9.jpg\n",
      "20      16020253176_60f2a6a5ca_n.jpg\n",
      "21      34546994701_a000b283f1_n.jpg\n",
      "22      7568630428_8cf0fc16ff_n.jpg\n",
      "23      4694734757_5c563d38dd_n.jpg\n",
      "24      7335886184_d06a83f640.jpg\n",
      "25      10172567486_2748826a8b.jpg\n",
      "26      2812442552_3eed5fb9f2_m.jpg\n",
      "27      8127252886_96558c23d1.jpg\n",
      "28      3711892138_b8c953fdc1_z.jpg\n",
      "29      13583238844_573df2de8e_m.jpg\n",
      "30      9175280426_40ecc395b8_m.jpg\n",
      "31      19813618946_93818db7aa_m.jpg\n",
      "32      4544110929_a7de65d65f_n.jpg\n",
      "33      34602180741_cf2f671ba5_n.jpg\n",
      "34      2509545845_99e79cb8a2_n.jpg\n",
      "35      4861391074_c3e122dab0_m.jpg\n",
      "36      4117918318_3c8935289b_m.jpg\n",
      "37      3410906335_37e8a24b1c_n.jpg\n",
      "38      3637428148_a1dcccafa9_n.jpg\n",
      "39      5853276960_d08f90fff6.jpg\n",
      "40      16482676953_5296227d40_n.jpg\n",
      "41      33859244503_eeeca6a397_n.jpg\n",
      "42      34585995071_13e07140d8_n.jpg\n",
      "43      17027891179_3edc08f4f6.jpg\n",
      "44      8708143485_38d084ac8c_n.jpg\n",
      "45      6210664514_f1d211217a.jpg\n",
      "46      7227973870_806d9d3e42_n.jpg\n",
      "47      3098641292_76c908ba1f_n.jpg\n",
      "48      488202750_c420cbce61.jpg\n",
      "49      4790631791_21e9648097_n.jpg\n",
      "50      9242705328_eee8402a8d.jpg\n",
      "51      17249393016_093e915012_n.jpg\n",
      "52      3506866918_61dd5fc53b_n.jpg\n",
      "53      20773528301_008fcbc5a1_n.jpg\n",
      "54      16492248512_61a57dfec1_m.jpg\n",
      "55      3704306975_75b74497d8.jpg\n",
      "56      1344985627_c3115e2d71_n.jpg\n",
      "57      14716799982_ed6d626a66.jpg\n",
      "58      18582579815_4c6637e9ff_m.jpg\n",
      "59      4785888250_b661eac225_n.jpg\n",
      "60      14600779226_7bbc288d40_m.jpg\n",
      "61      34275152390_44e7262261_n.jpg\n",
      "62      4581199679_867652c3f1_n.jpg\n",
      "63      14073784469_ffb12f3387_n.jpg\n",
      "64      5809489674_5659b3ae5d_n.jpg\n",
      "65      29821115270_eccd3866e1_n.jpg\n",
      "66      4654579740_6671a53627_m.jpg\n",
      "67      5924910021_b6debeb7b5_n.jpg\n",
      "68      10555826524_423eb8bf71_n.jpg\n",
      "69      2349640101_212c275aa7.jpg\n",
      "70      3999978867_c67c79597f_m.jpg\n",
      "71      5109508979_68e3530791_m.jpg\n",
      "72      5874818796_3efbb8769d.jpg\n",
      "73      6480809771_b1e14c5cc2_m.jpg\n",
      "74      4993492878_11fd4f5d12.jpg\n",
      "75      33918001783_06a692e371_n.jpg\n",
      "76      8887005939_b19e8305ee.jpg\n",
      "77      7669550908_bc5a11276f_n.jpg\n",
      "78      14471433500_cdaa22e3ea_m.jpg\n",
      "79      14485782498_fb342ec301.jpg\n",
      "80      5740004086_690a1eef85_n.jpg\n",
      "81      33891398493_e0b6d7f683_n.jpg\n",
      "82      4683997791_56e7d3c03c_n.jpg\n",
      "83      3957488431_52a447c0e8_m.jpg\n",
      "84      34337108550_0b619aa726_n.jpg\n",
      "85      3275951182_d27921af97_n.jpg\n",
      "86      15813862117_dedcd1c56f_m.jpg\n",
      "87      34652819496_0b6f758986_n.jpg\n",
      "88      5673551_01d1ea993e_n.jpg\n",
      "89      5739768868_9f982684f9_n.jpg\n",
      "90      10841136265_af473efc60.jpg\n",
      "91      18901817451_43e2b45f6c.jpg\n",
      "92      1955336401_fbb206d6ef_n.jpg\n",
      "93      3326037909_b5ae370722_n.jpg\n",
      "94      14921511479_7b0a647795.jpg\n",
      "95      12601254324_3cb62c254a_m.jpg\n",
      "96      3639009391_0f910681b7.jpg\n",
      "97      1286274236_1d7ac84efb_n.jpg\n",
      "98      4407065098_ef25f1ccac_n.jpg\n",
      "99      9611923744_013b29e4da_n.jpg\n",
      "100      6596277835_9f86da54bb.jpg\n",
      "101      21652746_cc379e0eea_m.jpg\n",
      "102      34661399476_9ea7e2fd53_n.jpg\n",
      "103      7749368884_1fc58c67ff_n.jpg\n",
      "104      4434592930_6610d51fca_m.jpg\n",
      "105      3337536080_1db19964fe.jpg\n",
      "106      14421389519_d5fd353eb4.jpg\n",
      "107      10555815624_dc211569b0.jpg\n",
      "108      1285423653_18926dc2c8_n.jpg\n",
      "109      33858238653_6549e21f53_n.jpg\n",
      "110      1355787476_32e9f2a30b.jpg\n",
      "111      14554906452_35f066ffe9_n.jpg\n",
      "112      2536529152_33ef3ee078_n.jpg\n",
      "113      34696730346_5f0c131e59_n.jpg\n",
      "114      4897587985_f9293ea1ed.jpg\n",
      "115      3661613900_b15ca1d35d_m.jpg\n",
      "116      4697206799_19dd2a3193_m.jpg\n",
      "117      5586977262_6b24412805_n.jpg\n",
      "118      7454630692_ab2d67dd18_m.jpg\n",
      "119      34518066912_0e432507bc_n.jpg\n",
      "120      3025866885_22fb0b61c6_n.jpg\n",
      "121      21805938544_bf6bb0e4bc.jpg\n",
      "122      6136947177_47ff445eb4_n.jpg\n",
      "123      4668543441_79040ca329_n.jpg\n",
      "124      6978826370_7b9aa7c7d5.jpg\n",
      "125      7357072446_c21c38c863_n.jpg\n",
      "126      3588872598_e0f9a1d2a1_m.jpg\n",
      "127      4584890753_14ea24a619_n.jpg\n",
      "128      5773652803_574b51414f_n.jpg\n",
      "129      16161045294_70c76ce846_n.jpg\n",
      "130      5626895440_97a0ec04c2_n.jpg\n",
      "131      8348621545_8f02b82662_n.jpg\n",
      "132      525780443_bba812c26a_m.jpg\n",
      "133      5435521200_92029bbe2b_n.jpg\n",
      "134      4657354814_f368762c53_m.jpg\n",
      "135      2077865117_9ed85191ae_n.jpg\n",
      "136      8619103877_d8c82c5f34_n.jpg\n",
      "137      4065883015_4bb6010cb7_n.jpg\n",
      "138      515112668_a49c69455a.jpg\n",
      "139      8759177308_951790e00d_m.jpg\n",
      "140      14021430525_e06baf93a9.jpg\n",
      "141      34266042310_9c1abd8e11_n.jpg\n",
      "142      33891703033_822f7810ce_n.jpg\n",
      "143      17357636476_1953c07aa4_n.jpg\n",
      "144      34517409722_829ec7e152_n.jpg\n",
      "145      5110107234_12ddc0206b_m.jpg\n",
      "146      5869147563_66fb88119d.jpg\n",
      "147      3640845041_80a92c4205_n.jpg\n",
      "148      5896110423_e084b33401_n.jpg\n",
      "149      446484749_4044affcaf_n.jpg\n",
      "150      2514748602_343d4727c0_n.jpg\n",
      "151      3750771898_cfd50090ba_n.jpg\n",
      "152      34543119581_1fb7e0bd7f_n.jpg\n",
      "153      4534460263_8e9611db3c_n.jpg\n",
      "154      7191221492_610035de7c_m.jpg\n",
      "155      4955671608_8d3862db05_n.jpg\n",
      "156      8694909523_3ca25d449d_n.jpg\n",
      "157      4432271543_01c56ca3a9.jpg\n",
      "158      301964511_fab84ea1c1.jpg\n",
      "159      34530932101_957fab3650_n.jpg\n",
      "160      8616684075_71923bb771_n.jpg\n",
      "161      14307766919_fac3c37a6b_m.jpg\n",
      "162      2578695910_5ab8ee17c1_n.jpg\n",
      "163      34531542152_c8ba2e0fea_n.jpg\n",
      "164      5435522104_1d6a61b431_n.jpg\n",
      "165      2365428551_39f83f10bf_n.jpg\n",
      "166      6046940312_8faf552f3e_n.jpg\n",
      "167      23095658544_7226386954_n.jpg\n",
      "168      4565255237_9ba29c4d4e_n.jpg\n",
      "169      7288989324_c25d9febbf.jpg\n",
      "170      33822751084_c83a7abffd_n.jpg\n",
      "171      9346508462_f0af3163f4.jpg\n",
      "172      435283392_72e4c5b5d6_m.jpg\n",
      "173      1150395827_6f94a5c6e4_n.jpg\n",
      "174      5434901893_4550be3f84_m.jpg\n",
      "175      8094774544_35465c1c64.jpg\n",
      "176      14167543177_cd36b54ac6_n.jpg\n",
      "177      34326847400_f4de801005_n.jpg\n",
      "178      705422469_ffa28c566d.jpg\n",
      "179      9467543719_c4800becbb_m.jpg\n",
      "180      34546791291_eb8e15e18a_n.jpg\n",
      "181      7630520686_e3a61ac763.jpg\n",
      "182      169371301_d9b91a2a42.jpg\n",
      "183      34508227161_a9ff840f71_n.jpg\n",
      "184      3704305945_a80e60e2f6_m.jpg\n",
      "185      4511693548_20f9bd2b9c_m.jpg\n",
      "186      5561775629_a2b709b3a4_n.jpg\n",
      "187      2482982436_a2145359e0_n.jpg\n",
      "188      34300874850_923cc2881c_n.jpg\n",
      "189      15760153042_a2a90e9da5_m.jpg\n",
      "190      413815348_764ae83088.jpg\n",
      "191      33838292353_8b143f7980_n.jpg\n",
      "192      16291797949_a1b1b7c2bd_n.jpg\n",
      "193      2498632196_e47a472d5a.jpg\n",
      "194      8719756744_34a5a83976_n.jpg\n",
      "195      14332947164_9b13513c71_m.jpg\n",
      "196      5058708968_8bdcd29e63_n.jpg\n",
      "197      34288158610_6e42406193_n.jpg\n",
      "198      8008629838_c62bb2b016_n.jpg\n",
      "199      18442919723_d1251d3e14_n.jpg\n",
      "200      33843400403_db00aa16b8_n.jpg\n",
      "201      3758221664_b19116d61f.jpg\n",
      "202      525271784_013ddccd1b_m.jpg\n",
      "203      5133243796_44de429de5_m.jpg\n",
      "204      34524074031_e42b9b1acd_n.jpg\n",
      "205      1265350143_6e2b276ec9.jpg\n",
      "206      2539552964_921cf645ba_n.jpg\n",
      "207      10391248763_1d16681106_n.jpg\n",
      "208      534547364_3f6b7279d2_n.jpg\n",
      "209      14551098743_2842e7a004_n.jpg\n",
      "210      33843240613_0b736f9896_n.jpg\n",
      "211      12193032636_b50ae7db35_n.jpg\n",
      "212      5512287917_9f5d3f0f98_n.jpg\n",
      "213      8742143296_fed9fa007c.jpg\n",
      "214      14350958832_29bdd3a254.jpg\n",
      "215      11023277956_8980d53169_m.jpg\n",
      "216      34664107325_701d5c6f08_n.jpg\n",
      "217      7630517248_98fb8bee1f_n.jpg\n",
      "218      4268817944_cdbdb226ae.jpg\n",
      "219      2567033807_8e918c53d8_n.jpg\n",
      "220      517054463_036db655a1_m.jpg\n",
      "221      34076975155_1faeedec90_n.jpg\n",
      "222      506018088_4f7a15a7c5_n.jpg\n",
      "223      19280272025_57de24e940_m.jpg\n",
      "224      34585331601_837dbe5254_n.jpg\n",
      "225      3415180846_d7b5cced14_m.jpg\n",
      "226      3117644024_1cbb59a509_n.jpg\n",
      "227      3491933306_43cfe2cfbe.jpg\n",
      "228      17821980772_35164ae1e8_n.jpg\n",
      "229      3633489595_a037a9b7a4_m.jpg\n",
      "230      1299501272_59d9da5510_n.jpg\n",
      "231      3706420943_66f3214862_n.jpg\n",
      "232      10712722853_5632165b04.jpg\n",
      "233      4757448834_a29a9538c9_n.jpg\n",
      "234      33810542134_a493f19a71_n.jpg\n",
      "235      909609509_a05ccb8127.jpg\n",
      "236      9299302012_958c70564c_n.jpg\n",
      "237      5054771689_00dd40b971_n.jpg\n",
      "238      7629784968_b953501902_n.jpg\n",
      "239      422094774_28acc69a8b_n.jpg\n",
      "240      171972704_389cf7a953.jpg\n",
      "241      12701063955_4840594ea6_n.jpg\n",
      "242      13901930939_a7733c03f0_n.jpg\n",
      "243      5602738326_97121e007d_n.jpg\n",
      "244      2838487505_6c3b48efa5_m.jpg\n",
      "245      305160642_53cde0f44f.jpg\n",
      "246      14698531521_0c2f0c6539.jpg\n",
      "247      11870378973_2ec1919f12.jpg\n",
      "248      512477177_d9004cbcf1_n.jpg\n",
      "249      8021540573_c56cf9070d_n.jpg\n",
      "250      16401288243_36112bd52f_m.jpg\n",
      "251      9595857626_979c45e5bf_n.jpg\n",
      "252      5811226952_4650ed70ae_n.jpg\n",
      "253      8120563761_ed5620664f_m.jpg\n",
      "254      15853110333_229c439e7f.jpg\n",
      "255      33855966243_01b2486428_n.jpg\n",
      "256      8063844363_db3f4dea85.jpg\n",
      "257      14507818175_05219b051c_m.jpg\n",
      "258      34638378196_216d5bbc2e_n.jpg\n",
      "259      34326606950_41ff8997d7_n.jpg\n",
      "260      34701198765_54aa641d7a_n.jpg\n",
      "261      16056178001_bebc2153fe_n.jpg\n",
      "262      34293871550_71d1e4d482_n.jpg\n",
      "263      7199968650_72afc16d31_m.jpg\n",
      "264      16121105382_b96251e506_m.jpg\n",
      "265      3713290261_8a66de23ab.jpg\n",
      "266      9180706736_092d43088c.jpg\n",
      "267      4865691548_00319261b8.jpg\n",
      "268      3750250718_eb61146c5f.jpg\n",
      "269      14402451388_56545a374a_n.jpg\n",
      "270      16323838000_3818bce5c6_n.jpg\n",
      "271      1306119996_ab8ae14d72_n.jpg\n",
      "272      2635314490_e12d3b0f36_m.jpg\n",
      "273      2057816617_18448093d0_n.jpg\n",
      "274      5765646947_82e95a9cc9_n.jpg\n",
      "275      14114116486_0bb6649bc1_m.jpg\n",
      "276      15207766_fc2f1d692c_n.jpg\n",
      "277      5714327423_50af0cffe9.jpg\n",
      "278      34540113401_b81594e92a_n.jpg\n",
      "279      10437770546_8bb6f7bdd3_m.jpg\n",
      "280      11834945233_a53b7a92ac_m.jpg\n",
      "281      1374193928_a52320eafa.jpg\n",
      "282      5896680664_641de2de5a_n.jpg\n",
      "283      14330343061_99478302d4_m.jpg\n",
      "284      3939135368_0af5c4982a_n.jpg\n",
      "285      34696729796_190b1dfdf1_n.jpg\n",
      "286      2513618768_ff7c004796_m.jpg\n",
      "287      34562146951_cf3d2a627c_n.jpg\n",
      "288      476857510_d2b30175de_n.jpg\n",
      "289      9221345475_67735dbf4f_n.jpg\n",
      "290      7358085448_b317d11cd5.jpg\n",
      "291      5896674046_a4879f718e_n.jpg\n",
      "292      9244082319_b1f7e2d8b0_n.jpg\n",
      "293      16833748795_b681b2839f_n.jpg\n",
      "294      18023717391_e2c9089e10.jpg\n",
      "295      5794835_d15905c7c8_n.jpg\n",
      "296      20685027271_0e7306e7c1_n.jpg\n",
      "297      18400014056_2e4c601ed5.jpg\n",
      "298      3463313493_9497aa47e5_n.jpg\n",
      "299      19178753159_a471bf4b6b.jpg\n",
      "300      4837182901_69a6cc782b_n.jpg\n",
      "301      8383753520_8391dd80ee_m.jpg\n",
      "302      5973491805_556bba93cc.jpg\n",
      "303      33809174824_00ba798039_n.jpg\n",
      "304      7924174040_444d5bbb8a.jpg\n",
      "305      6299498346_b9774b6500.jpg\n",
      "306      8710109684_e2c5ef6aeb_n.jpg\n",
      "307      144603918_b9de002f60_m.jpg\n",
      "308      2611119198_9d46b94392.jpg\n",
      "309      3628485766_4ff937954a_n.jpg\n",
      "310      7538403124_f2fc48750a.jpg\n",
      "311      9496209717_25a6ebdab6_m.jpg\n",
      "312      34312496620_bc01a98aeb_n.jpg\n",
      "313      5434742166_35773eba57_m.jpg\n",
      "314      5944315415_2be8abeb2f_m.jpg\n",
      "315      154332674_453cea64f4.jpg\n",
      "316      33885735373_444ba02d9c_n.jpg\n",
      "317      2581171297_b0a249b92b_n.jpg\n",
      "318      14221836990_90374e6b34.jpg\n",
      "319      3196066025_d187108070_n.jpg\n",
      "320      2521408074_e6f86daf21_n.jpg\n",
      "321      34643914016_2e659d6e82_n.jpg\n",
      "322      10172636503_21bededa75_n.jpg\n",
      "323      6864242336_0d12713fe5_n.jpg\n",
      "324      1314069875_da8dc023c6_m.jpg\n",
      "325      20329326505_a777c71cc2.jpg\n",
      "326      3456403987_5bd5fa6ece_n.jpg\n",
      "327      450128527_fd35742d44.jpg\n",
      "328      1392946544_115acbb2d9.jpg\n",
      "329      5884807222_22f5326ba8_m.jpg\n",
      "330      5896679822_5f60d35c33_n.jpg\n",
      "331      158869618_f1a6704236_n.jpg\n",
      "332      3717746329_53f515c6a6_m.jpg\n",
      "333      34342014230_4230ae8e08_n.jpg\n",
      "334      8932490012_cc08e690ba_n.jpg\n",
      "335      4923279674_e7f8e70794_n.jpg\n",
      "336      9286947622_4822f4fc21.jpg\n",
      "337      5434914569_e9b982fde0_n.jpg\n",
      "338      43474673_7bb4465a86.jpg\n",
      "339      34510103621_250ee7ae64_n.jpg\n",
      "340      10140303196_b88d3d6cec.jpg\n",
      "341      4669117051_ce61e91b76.jpg\n",
      "342      10994032453_ac7f8d9e2e.jpg\n",
      "343      13953307149_f8de6a768c_m.jpg\n",
      "344      4413849849_b8d2f3bcf1_n.jpg\n",
      "345      33830843653_ee6d7989fa_n.jpg\n",
      "346      8964198962_6d8593b533.jpg\n",
      "347      2045022175_ad087f5f60_n.jpg\n",
      "348      33880234094_2541c9c83d_n.jpg\n",
      "349      33802431204_7c58f4e21b_n.jpg\n",
      "350      22873310415_3a5674ec10_m.jpg\n",
      "351      294451721_5106537b34.jpg\n",
      "352      9515186037_3be48fe68f.jpg\n",
      "353      9225336602_e6c392f941_n.jpg\n",
      "354      34293312980_5f6c492c52_n.jpg\n",
      "355      2889325612_f2fc403ff0_m.jpg\n",
      "356      7633425046_8293e3d0e9_m.jpg\n",
      "357      8322526877_95d1c0f8bc_n.jpg\n",
      "358      16025261368_911703a536_n.jpg\n",
      "359      34554334542_7d8f68a75c_n.jpg\n",
      "360      14219214466_3ca6104eae_m.jpg\n",
      "361      15784493690_b1858cdb2b_n.jpg\n",
      "362      5435513198_90ce39f1aa_n.jpg\n",
      "363      2454280137_e1637536ae_n.jpg\n",
      "364      33837577463_1ae52a3726_n.jpg\n",
      "365      16360180712_b72695928c_n.jpg\n",
      "366      34695914906_961f92ffcd_n.jpg\n",
      "367      5795159787_ebb51a5e75.jpg\n",
      "368      519880292_7a3a6c6b69.jpg\n",
      "369      7066602021_2647457985_m.jpg\n",
      "370      12348343085_d4c396e5b5_m.jpg\n",
      "371      54377391_15648e8d18.jpg\n",
      "372      4613992315_143ccc2a10_m.jpg\n",
      "373      3780380240_ef9ec1b737_m.jpg\n",
      "374      10437754174_22ec990b77_m.jpg\n",
      "375      172882635_4cc7b86731_m.jpg\n",
      "376      34670512115_af22cce24d_n.jpg\n",
      "377      11642632_1e7627a2cc.jpg\n",
      "378      13826249325_f61cb15f86_n.jpg\n",
      "379      7630511450_02d3292e90.jpg\n",
      "380      2520369272_1dcdb5a892_m.jpg\n",
      "381      15100730728_a450c5f422_n.jpg\n",
      "382      19177263840_6a316ea639.jpg\n",
      "383      799952628_bf836677fa_n.jpg\n",
      "384      8382667241_0f046cecdb_n.jpg\n",
      "385      2454280135_ac3aa75cdc_n.jpg\n",
      "386      2476937534_21b285aa46_n.jpg\n",
      "387      721595842_bacd80a6ac.jpg\n",
      "388      3336704121_cfeb67a7d7.jpg\n",
      "389      3474942718_c418dae6f1.jpg\n",
      "390      2488902131_3417698611_n.jpg\n",
      "391      34547261352_d39bf4073a_n.jpg\n",
      "392      476856232_7c35952f40_n.jpg\n",
      "393      302782756_d35cb3e468.jpg\n",
      "394      20289938802_e16fa9f23d.jpg\n",
      "395      9054268881_19792c5203_n.jpg\n",
      "396      530738000_4df7e4786b.jpg\n",
      "397      5997702776_c7bc37aa6b_n.jpg\n",
      "398      5574421625_61b1f49b3f_m.jpg\n",
      "399      15760811380_4d686c892b_n.jpg\n",
      "400      676120388_28f03069c3.jpg\n",
      "401      5459481183_18d2d49e44_m.jpg\n",
      "402      99306615_739eb94b9e_m.jpg\n",
      "403      2479956481_8d1a9699be_n.jpg\n",
      "404      6776075110_1ea7a09dd4_n.jpg\n",
      "405      5665838969_fe217988b9_m.jpg\n",
      "406      34522174462_b7cbee3ecb_n.jpg\n",
      "407      2713919471_301fcc941f.jpg\n",
      "408      5981645737_29eceac291_m.jpg\n",
      "409      1354396826_2868631432_m.jpg\n",
      "410      2001380507_19488ff96a_n.jpg\n",
      "411      10993710036_2033222c91.jpg\n",
      "412      14264136211_9531fbc144.jpg\n",
      "413      33884228533_91b75ff4d4_n.jpg\n",
      "414      2346726545_2ebce2b2a6.jpg\n",
      "415      17101762155_2577a28395.jpg\n",
      "416      14907815010_bff495449f.jpg\n",
      "417      34720703615_bdf1335d8b_n.jpg\n",
      "418      34571214621_f655295459_n.jpg\n",
      "419      3975010332_3209f9f447_m.jpg\n",
      "420      8938566373_d129e7af75.jpg\n",
      "421      34486116262_411e6991f4_n.jpg\n",
      "422      100080576_f52e8ee070_n.jpg\n",
      "423      34295444880_b4376b3a8b_n.jpg\n",
      "424      4333085242_bbeb3e2841_m.jpg\n",
      "425      5876455546_32049e5585.jpg\n",
      "426      754296579_30a9ae018c_n.jpg\n",
      "427      14163875973_467224aaf5_m.jpg\n",
      "428      8706810197_17b6c1f1e7.jpg\n",
      "429      4727955343_0bb23ac4ae.jpg\n",
      "430      5896103923_075a988bed_n.jpg\n",
      "431      18354545086_693ea7bc2a.jpg\n",
      "432      34283602490_b61f3da99d_n.jpg\n",
      "433      5905502226_bb23bd8fa0_n.jpg\n",
      "434      3379332157_04724f6480.jpg\n",
      "435      33863293993_3ed7515936_n.jpg\n",
      "436      2901376034_cdb4bac26b_m.jpg\n",
      "437      34658035045_7782e95b50_n.jpg\n",
      "438      6910811638_aa6f17df23.jpg\n",
      "439      5904946193_bd1eb1f39d_n.jpg\n",
      "440      7188513571_c8527b123a_n.jpg\n",
      "441      163978992_8128b49d3e_n.jpg\n",
      "442      33901756843_94e198d40e_n.jpg\n",
      "443      10993818044_4c19b86c82.jpg\n",
      "444      3699235066_fc09a02dfe_m.jpg\n",
      "445      2908212142_5437fa67ff_n.jpg\n",
      "446      20619292635_9857a12d54.jpg\n",
      "447      4085794721_7cd88e0a6c_m.jpg\n",
      "448      8405273313_bef13f6c27_n.jpg\n",
      "449      11891885265_ccefec7284_n.jpg\n",
      "450      18622672908_eab6dc9140_n.jpg\n",
      "451      2607132536_d95198e619_n.jpg\n",
      "452      5135131051_102d4878ca_n.jpg\n",
      "453      3080880039_4f1bd592e5_n.jpg\n",
      "454      2087343668_ef4fb95787_n.jpg\n",
      "455      5110109540_beed4ed162_m.jpg\n",
      "456      16527403771_2391f137c4_n.jpg\n",
      "457      14591326135_930703dbed_m.jpg\n",
      "458      367020749_3c9a652d75.jpg\n",
      "459      286875003_f7c0e1882d.jpg\n",
      "460      2877860110_a842f8b14a_m.jpg\n",
      "461      34727863665_b00ac77266_n.jpg\n",
      "462      134409839_71069a95d1_m.jpg\n",
      "463      498159452_b71afd65ba.jpg\n",
      "464      538920244_59899a78f8_n.jpg\n",
      "465      3598615130_578ed30e5f.jpg\n",
      "466      754248840_95092de274.jpg\n",
      "467      10300722094_28fa978807_n.jpg\n",
      "468      2627815904_919373e7f5.jpg\n",
      "469      8085329197_41d53a21e2_n.jpg\n",
      "470      3627678863_557552c879_m.jpg\n",
      "471      14147016029_8d3cf2414e.jpg\n",
      "472      27400851831_fe08fbcb66_n.jpg\n",
      "473      34590677231_0ed33ccd55_n.jpg\n",
      "474      34637394046_f85541735d_n.jpg\n",
      "475      20182559506_40a112f762.jpg\n",
      "476      4538877108_3c793f7987_m.jpg\n",
      "477      5896676090_68bb74b1e9_n.jpg\n",
      "478      10466558316_a7198b87e2.jpg\n",
      "479      6529588249_d9cbe68aab_n.jpg\n",
      "480      7790614422_4557928ab9_n.jpg\n",
      "481      13977181862_f8237b6b52.jpg\n",
      "482      33809956124_b49dcddf8f_n.jpg\n",
      "483      3703643767_dee82cdef9_n.jpg\n",
      "484      5684911529_88a7ae32ba_n.jpg\n",
      "485      4440480869_632ce6aff3_n.jpg\n",
      "486      6054952060_c88612f3c5_n.jpg\n",
      "487      3285641623_da0e47f49a.jpg\n",
      "488      7416083788_fcb4c4f27e_n.jpg\n",
      "489      5665834973_76bd6c6523_m.jpg\n",
      "490      5693459303_e61d9a9533.jpg\n",
      "491      10555749515_13a12a026e.jpg\n",
      "492      18203367608_07a04e98a4_n.jpg\n",
      "493      3861452393_14d2f95157_m.jpg\n",
      "494      33806101464_5eca772954_n.jpg\n",
      "495      102841525_bd6628ae3c.jpg\n",
      "496      5896675418_e6ff20a739_n.jpg\n",
      "497      34718882165_68cdc9def9_n.jpg\n",
      "498      3084924076_4d5c5711af_m.jpg\n",
      "499      16819071290_471d99e166_m.jpg\n",
      "500      3552074420_2a0a7166db_m.jpg\n",
      "501      2561371688_c80a4fe957_n.jpg\n",
      "502      33807950584_f5b63715e4_n.jpg\n",
      "503      34591991761_16fc5c9c00_n.jpg\n",
      "504      174131220_c853df1287.jpg\n",
      "505      437859108_173fb33c98.jpg\n",
      "506      14523675369_97c31d0b5b.jpg\n",
      "507      512177035_70afc925c8.jpg\n",
      "508      8446495985_f72d851482.jpg\n",
      "509      3440366251_5b9bdf27c9_m.jpg\n",
      "510      34276373070_27ec2d2596_n.jpg\n",
      "511      5883162120_dc7274af76_n.jpg\n",
      "512      3533954656_79156c8473.jpg\n",
      "513      14613443462_d4ed356201.jpg\n",
      "514      4301689054_20519e5b68.jpg\n",
      "515      4724713781_d169f98a35.jpg\n",
      "516      1396526833_fb867165be_n.jpg\n",
      "517      2612704455_efce1c2144_m.jpg\n",
      "518      4561871220_47f420ca59_m.jpg\n",
      "519      1441939151_b271408c8d_n.jpg\n",
      "520      2621723097_736febb4a4_n.jpg\n",
      "521      813445367_187ecf080a_n.jpg\n",
      "522      9161647994_e39b65cb9c_n.jpg\n",
      "523      144099102_bf63a41e4f_n.jpg\n",
      "524      19653086178_28156b7ce4_m.jpg\n",
      "525      6207492986_0ff91f3296.jpg\n",
      "526      3475870145_685a19116d.jpg\n",
      "527      1392131677_116ec04751.jpg\n",
      "528      33836936163_2dce95ee4d_n.jpg\n",
      "529      5434913005_409c1e8b56_n.jpg\n",
      "530      18474740346_ffdaa18032.jpg\n",
      "531      4746633946_23933c0810.jpg\n",
      "532      14707111433_cce08ee007.jpg\n",
      "533      34542837641_10492bf600_n.jpg\n",
      "534      175106495_53ebdef092_n.jpg\n",
      "535      7189043225_2fe781439a_n.jpg\n",
      "536      4820415253_15bc3b6833_n.jpg\n",
      "537      162362896_99c7d851c8_n.jpg\n",
      "538      10559679065_50d2b16f6d.jpg\n",
      "539      144076848_57e1d662e3_m.jpg\n",
      "540      19544831049_0d738d4872_m.jpg\n",
      "541      33849854704_d2a2415e4d_n.jpg\n",
      "542      3900172983_9312fdf39c_n.jpg\n",
      "543      4890424315_6a59696357_n.jpg\n",
      "544      8882282142_9be2524d38_m.jpg\n",
      "545      14088053307_1a13a0bf91_n.jpg\n",
      "546      10466290366_cc72e33532.jpg\n",
      "547      33814092924_b23d019011_n.jpg\n",
      "548      2646438199_b309cffd65_n.jpg\n",
      "549      34729724865_787c98299d_n.jpg\n",
      "550      14399435971_ea5868c792.jpg\n",
      "551      495098110_3a4bb30042_n.jpg\n",
      "552      5623010186_796ca8d29a.jpg\n",
      "553      153210866_03cc9f2f36.jpg\n",
      "554      34518374242_310e7abd54_n.jpg\n",
      "555      18635898912_eb8e058ef0.jpg\n",
      "556      4694730335_2553e77aa5_z.jpg\n",
      "557      5679288570_b4c52e76d5.jpg\n",
      "558      3711723108_65247a3170.jpg\n",
      "559      8696022686_1f8d62c5cb_m.jpg\n",
      "560      2641979584_2b21c3fe29_m.jpg\n",
      "561      4278442064_a5a598524b_m.jpg\n",
      "562      2649404904_b7a91991bb_n.jpg\n",
      "563      12891819633_e4c82b51e8.jpg\n",
      "564      34637970155_a2b917077c_n.jpg\n",
      "565      34310869690_56cdc84a17_n.jpg\n",
      "566      5087720485_c0914fb623.jpg\n",
      "567      34520690871_8fe693bc71_n.jpg\n",
      "568      8645839873_0151fb92bf_n.jpg\n",
      "569      4733590002_f6a70b4f48_n.jpg\n",
      "570      4540555191_3254dc4608_n.jpg\n",
      "571      9489270024_1b05f08492_m.jpg\n",
      "572      34261196280_aa99186136_n.jpg\n",
      "573      4496202781_1d8e776ff5_n.jpg\n",
      "574      9350942387_5b1d043c26_n.jpg\n",
      "575      20948886919_cac7844f34_n.jpg\n",
      "576      3356112863_75da8bca2c_m.jpg\n",
      "577      162362897_1d21b70621_m.jpg\n",
      "578      11023272144_fce94401f2_m.jpg\n",
      "579      34665595995_13f76d5b60_n.jpg\n",
      "580      34693373736_9ce6d9e1c3_n.jpg\n",
      "581      4144275653_7c02d47d9b.jpg\n",
      "582      2666572212_2caca8de9f_n.jpg\n",
      "583      4131565290_0585c4dd5a_n.jpg\n",
      "584      19527362416_8bdcbefb8b_n.jpg\n",
      "585      5722473541_ffac1ae67e_n.jpg\n",
      "586      2561352120_7961d8263f.jpg\n",
      "587      147068564_32bb4350cc.jpg\n",
      "588      14167534527_781ceb1b7a_n.jpg\n",
      "589      34524085651_1f0b7e9497_n.jpg\n",
      "590      5769217520_c90efc3c93_m.jpg\n",
      "591      3848258315_ed2fde4fb4.jpg\n",
      "592      4229503616_9b8a42123c_n.jpg\n",
      "593      8740807508_0587f5b7b7.jpg\n",
      "594      510844526_858b8fe4db.jpg\n",
      "595      5796562389_ae43c83317_m.jpg\n",
      "596      12585131704_0f64b17059_m.jpg\n",
      "597      33923454163_9cabcaa733_n.jpg\n",
      "598      6148728633_27afc47b0c_m.jpg\n"
     ]
    }
   ],
   "source": [
    "for i, r in enumerate(remain_list):\n",
    "    print(i, \"    \", r)"
   ]
  },
  {
   "cell_type": "code",
   "execution_count": 23,
   "metadata": {},
   "outputs": [
    {
     "name": "stdout",
     "output_type": "stream",
     "text": [
      "Help on method_descriptor:\n",
      "\n",
      "pop(self, index=-1, /)\n",
      "    Remove and return item at index (default last).\n",
      "    \n",
      "    Raises IndexError if list is empty or index is out of range.\n",
      "\n"
     ]
    }
   ],
   "source": [
    "help(list.pop)"
   ]
  },
  {
   "cell_type": "markdown",
   "metadata": {},
   "source": [
    "<br>\n",
    "<br>"
   ]
  },
  {
   "cell_type": "raw",
   "metadata": {},
   "source": [
    "文件系统结构如下：\n",
    "\n",
    "\\flowers\n",
    "    raw\n",
    "        \\daisy\n",
    "        \\dandelion\n",
    "        \\rose\n",
    "        \\sunflower\n",
    "        \\tulip\n",
    "    train\n",
    "        \\daisy\n",
    "        \\dandelion\n",
    "        \\rose\n",
    "        \\sunflower\n",
    "        \\tulip\n",
    "    val\n",
    "        \\daisy\n",
    "        \\dandelion\n",
    "        \\rose\n",
    "        \\sunflower\n",
    "        \\tulip"
   ]
  },
  {
   "cell_type": "code",
   "execution_count": null,
   "metadata": {},
   "outputs": [],
   "source": [
    "\"\"\"\n",
    "coding=utf-8\n",
    "随机生成训练集和测试集。\n",
    "对一个文件夹下的图像生成txt，然后随机选取里面的内容，然后保存到不同的文件夹。\n",
    "\"\"\"\n",
    "\n",
    "import os, random, shutil\n",
    "\n",
    "\n",
    "root_path = \"D:\\\\KeepStudy\\\\0_Coding\\\\DL Moldels Implementation\\\\data\\\\flowers\"\n",
    "\n",
    "raw_path = os.path.join(root_path, \"raw\")\n",
    "train_path = os.path.join(root_path, \"train\")\n",
    "val_path = os.path.join(root_path, \"val\")\n",
    "\n",
    "\n",
    "ratio = 0.2\n",
    "categories = [\"daisy\", \"dandelion\", \"rose\", \"sunflower\", \"tulip\"]\n",
    "\n",
    "for c in categories:\n",
    "    c_path_raw = os.path.join(raw_path, c)\n",
    "    images_list = os.listdir(c_path_raw) # 提取各类别图片的原始路径列表\n",
    "    images_num = len(images_list)\n",
    "    val_num = int(images_num * ratio)                     # 将分配到的验证集数量\n",
    "    \n",
    "    print(\"*\" * 40, \"\\n\", \n",
    "          \"类 {} 的总数据量为: {}\\n分给验证集的数量：{}\\n\".format(c, images_num,val_num))\n",
    "    \n",
    "    val_dataset = random.sample(images_list, val_num)  # 随机选取 val_num 数量的样本图片作为验证集\n",
    "    train_dataset = set(images_list) - set(samples)     # 训练集\n",
    "    \n",
    "    \n",
    "    # 分配 val\n",
    "    print(\"开始分配类 {} 到验证集\".format(c))\n",
    "    \n",
    "    if not os.path.exists(val_path):\n",
    "        print(\"创建 val 文件夹：\", val_path)\n",
    "        os.makedirs(val_path)\n",
    "    \n",
    "    c_path_val = val_path + \"\\\\\" + c\n",
    "    if not os.path.exists(c_path_val):\n",
    "        print(\"在 val 下 创建文件夹： \", c_path_val)\n",
    "        os.makedirs(c_path_val)\n",
    "    \n",
    "    for v in val_dataset:    # 移动到 val\n",
    "        try:\n",
    "            # shutil.move(c_path_raw + \"\\\\\" + v, c_path_val + \"\\\\\" + v)\n",
    "            shutil.move(os.path.join(c_path_raw, v)\n",
    "                        os.path.join(c_path_val, v))\n",
    "        except FileNotFoundError:\n",
    "            print(c_path_raw + \"\\\\\" + v)\n",
    "    \n",
    "    print(\"类 {} 验证集分配完成！\".format(c), \"\\n\")\n",
    "    \n",
    "\n",
    "    \n",
    "    # 分配 train\n",
    "    print(\"开始分配类 {} 到训练集\".format(c))\n",
    "    \n",
    "    if not os.path.exists(train_path):\n",
    "        print(\"创建 train 文件夹：\", train_path)\n",
    "        os.makedirs(train_path)\n",
    "    \n",
    "    c_path_train = train_path + \"\\\\\" + c\n",
    "    if not os.path.exists(c_path_train):\n",
    "        print(\"在 train 下 创建文件夹： \", c_path_train)\n",
    "        os.makedirs(c_path_train)\n",
    "    \n",
    "    for v in train_dataset:   # 移动到 train\n",
    "        try:\n",
    "            # shutil.move(c_path_raw + \"\\\\\" + v, c_path_train + \"\\\\\" + v)\n",
    "            shutil.move(os.path.join(c_path_raw, v),\n",
    "                        os.path.join(c_path_train, v))\n",
    "        except FileNotFoundError:\n",
    "            print(c_path_raw + \"\\\\\" + v)\n",
    "    print(\"类 {} 训练集分配完成！\".format(c), \"\\n\" * 3)\n",
    "\n",
    "print(\"Done!\")"
   ]
  },
  {
   "cell_type": "markdown",
   "metadata": {},
   "source": [
    "<br>\n",
    "<br>\n",
    "<br>"
   ]
  },
  {
   "cell_type": "markdown",
   "metadata": {},
   "source": [
    "<font style=\"font-size:120%;LINE-HEIGHT: 30px\">\n",
    "文献2 的一些代码摘抄\n",
    "\n",
    "```python\n",
    "import os\n",
    "import random\n",
    "import shutil\n",
    "from shutil import copy2\n",
    "\n",
    "trainfiles = os.listdir(NewChildPATH)\n",
    "\n",
    "num_image = len(trainfiles)\n",
    "index_list = list(range(num_image))\n",
    "\n",
    "random.shuffle(index_list)\n",
    "\n",
    "if not os.path.exists(trainDir):                   \n",
    "    os.mkdir(str(trainDir))\n",
    "\n",
    "for i in index_list:\n",
    "    fileName = os.path.join(NewChildPATH, trainfiles[i])\n",
    "    if num < num_image*0.7:\n",
    "        copy2(fileName, childTrainDir)  #复制过去,不改变原来目录的图片\n",
    "    else:\n",
    "        copy2(fileName, childTestDir)\n",
    "    num += 1\n",
    "```\n",
    "\n",
    "</font>"
   ]
  },
  {
   "cell_type": "markdown",
   "metadata": {},
   "source": [
    "<br>\n",
    "<br>\n",
    "<br>\n",
    "\n",
    "<font size=3></font>\n",
    "\n",
    "<img src=\"./images/.png\" width=800px>\n",
    "\n",
    "<a href=\"\" style=\"text-decoration:none;font-size:70%\">[link]</a>\n",
    "<a href=\"\" style=\"text-decoration:none;font-size:120%\"></a>\n",
    "\n",
    "\n",
    "<a href=\"\" style=\"text-decoration:none;color:maroon;font-size:120%;\"></a>\n",
    "\n",
    "&emsp;&emsp;&emsp;&ensp;\n",
    "<a href=\"\" style=\"text-decoration:none;color:maroon;font-size:140%;font-weight:bold;\"></a>\n",
    "\n",
    "\n",
    "<font style=\"font-size:120%;LINE-HEIGHT: 30px\">\n",
    "\n",
    "```python\n",
    "\n",
    "```\n",
    "\n",
    "</font>\n",
    "\n",
    "<font color=maroon>****</font>"
   ]
  },
  {
   "cell_type": "markdown",
   "metadata": {},
   "source": [
    "<br>\n",
    "<br>\n",
    "<br>"
   ]
  }
 ],
 "metadata": {
  "kernelspec": {
   "display_name": "Python [conda env:root] *",
   "language": "python",
   "name": "conda-root-py"
  },
  "language_info": {
   "codemirror_mode": {
    "name": "ipython",
    "version": 3
   },
   "file_extension": ".py",
   "mimetype": "text/x-python",
   "name": "python",
   "nbconvert_exporter": "python",
   "pygments_lexer": "ipython3",
   "version": "3.8.5"
  },
  "toc": {
   "base_numbering": 1,
   "nav_menu": {},
   "number_sections": true,
   "sideBar": true,
   "skip_h1_title": false,
   "title_cell": "Table of Contents",
   "title_sidebar": "Contents",
   "toc_cell": false,
   "toc_position": {},
   "toc_section_display": true,
   "toc_window_display": false
  },
  "varInspector": {
   "cols": {
    "lenName": 16,
    "lenType": 16,
    "lenVar": 40
   },
   "kernels_config": {
    "python": {
     "delete_cmd_postfix": "",
     "delete_cmd_prefix": "del ",
     "library": "var_list.py",
     "varRefreshCmd": "print(var_dic_list())"
    },
    "r": {
     "delete_cmd_postfix": ") ",
     "delete_cmd_prefix": "rm(",
     "library": "var_list.r",
     "varRefreshCmd": "cat(var_dic_list()) "
    }
   },
   "types_to_exclude": [
    "module",
    "function",
    "builtin_function_or_method",
    "instance",
    "_Feature"
   ],
   "window_display": false
  }
 },
 "nbformat": 4,
 "nbformat_minor": 4
}
