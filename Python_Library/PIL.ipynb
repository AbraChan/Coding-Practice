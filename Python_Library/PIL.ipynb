{
 "cells": [
  {
   "cell_type": "code",
   "execution_count": null,
   "metadata": {},
   "outputs": [],
   "source": [
    "from PIL import Image\n",
    "from PIL import ImageOps\n",
    "from PIL import ImageFilter\n",
    "from PIL import ImageDraw\n",
    "from PIL import ImageFont"
   ]
  },
  {
   "cell_type": "markdown",
   "metadata": {},
   "source": [
    "<br><br><br>"
   ]
  },
  {
   "cell_type": "markdown",
   "metadata": {},
   "source": [
    "# PIL.Image module\n",
    "\n",
    "<br>"
   ]
  },
  {
   "cell_type": "markdown",
   "metadata": {},
   "source": [
    "## Functions in PIL.Image Module"
   ]
  },
  {
   "cell_type": "markdown",
   "metadata": {},
   "source": [
    "### open(): Open an Image\n",
    "\n",
    "<br>\n",
    "\n",
    "**`PIL.Image.open()`** 是 **`PIL.Image`** module 里的一个 function，它返回一个 Image object (一个 Image class)。"
   ]
  },
  {
   "cell_type": "code",
   "execution_count": null,
   "metadata": {},
   "outputs": [],
   "source": [
    "image = Image.open(\"lenna.png\")"
   ]
  },
  {
   "cell_type": "markdown",
   "metadata": {},
   "source": [
    "<br>"
   ]
  },
  {
   "cell_type": "markdown",
   "metadata": {},
   "source": [
    "### new(): Constructing images\n",
    "\n",
    "<br>\n",
    "\n",
    "**`PIL.Image.new(mode, size, color=0)`** \n",
    "* 是 **`PIL.Image`** module 里的一个 function，它返回一个 Image object (一个 Image class)。"
   ]
  },
  {
   "cell_type": "code",
   "execution_count": null,
   "metadata": {},
   "outputs": [],
   "source": [
    "# An helper function to concatenate two images side-by-side.\n",
    "def get_concat_h(im1, im2):\n",
    "    #https://note.nkmk.me/en/python-pillow-concat-images/\n",
    "    dst = Image.new('RGB', (im1.width + im2.width, im1.height))\n",
    "    dst.paste(im1, (0, 0))\n",
    "    dst.paste(im2, (im1.width, 0))\n",
    "    return dst"
   ]
  },
  {
   "cell_type": "markdown",
   "metadata": {},
   "source": [
    "<br><br>"
   ]
  },
  {
   "cell_type": "markdown",
   "metadata": {},
   "source": [
    "## Attributes of PIL.Image.Image Class"
   ]
  },
  {
   "cell_type": "code",
   "execution_count": null,
   "metadata": {},
   "outputs": [],
   "source": [
    "image.size"
   ]
  },
  {
   "cell_type": "code",
   "execution_count": null,
   "metadata": {},
   "outputs": [],
   "source": [
    "image.mode     # RGB"
   ]
  },
  {
   "cell_type": "markdown",
   "metadata": {},
   "source": [
    "The **`PIL.Image`** module has built-in attributes that describe the type of flip. The values are just integers. Several are shown in the following as a dict:"
   ]
  },
  {
   "cell_type": "code",
   "execution_count": null,
   "metadata": {},
   "outputs": [],
   "source": [
    "flip = {\"FLIP_LEFT_RIGHT\": Image.FLIP_LEFT_RIGHT,\n",
    "        \"FLIP_TOP_BOTTOM\": Image.FLIP_TOP_BOTTOM,\n",
    "        \"ROTATE_90\":       Image.ROTATE_90,\n",
    "        \"ROTATE_180\":      Image.ROTATE_180,\n",
    "        \"ROTATE_270\":      Image.ROTATE_270,\n",
    "        \"TRANSPOSE\":       Image.TRANSPOSE, \n",
    "        \"TRANSVERSE\":      Image.TRANSVERSE}\n",
    "\n",
    "flip[\"FLIP_LEFT_RIGHT\"]    # 0"
   ]
  },
  {
   "cell_type": "code",
   "execution_count": null,
   "metadata": {},
   "outputs": [],
   "source": [
    "for key, values in flip.items():\n",
    "    plt.figure(figsize=(3,3))\n",
    "    plt.subplot(1,2,1)\n",
    "    plt.imshow(image)\n",
    "    plt.title(\"orignal\")\n",
    "    plt.subplot(1,2,2)\n",
    "    plt.imshow(image.transpose(values))\n",
    "    plt.title(key)\n",
    "    plt.show()"
   ]
  },
  {
   "cell_type": "markdown",
   "metadata": {},
   "source": [
    "<br><br>"
   ]
  },
  {
   "cell_type": "markdown",
   "metadata": {},
   "source": [
    "## Methods of PIL.Image.Image Class"
   ]
  },
  {
   "cell_type": "markdown",
   "metadata": {},
   "source": [
    "### show(): Display an Image\n",
    "\n",
    "<br>\n",
    "\n",
    "**`Image.show()`** 是 **`PIL.Image.Image`** class 的实例 object 的一个 method。"
   ]
  },
  {
   "cell_type": "code",
   "execution_count": null,
   "metadata": {},
   "outputs": [],
   "source": [
    "image                              # 直接在下方输出显示图像\n",
    "\n",
    "image.show()                       # 另外弹出窗口显示图像（ 此语句的动作结果视配置不同而不同）\n",
    "\n",
    "import matplotlib.pyplot as plt    # 通过 pyplot 来显示图像\n",
    "plt.figure(figsize=(3,3))\n",
    "plt.imshow(image)\n",
    "plt.show()"
   ]
  },
  {
   "cell_type": "markdown",
   "metadata": {},
   "source": [
    "<br>"
   ]
  },
  {
   "cell_type": "markdown",
   "metadata": {},
   "source": [
    "### resize()"
   ]
  },
  {
   "cell_type": "code",
   "execution_count": null,
   "metadata": {},
   "outputs": [],
   "source": [
    "image.resize((128,128))"
   ]
  },
  {
   "cell_type": "markdown",
   "metadata": {},
   "source": [
    "<br>"
   ]
  },
  {
   "cell_type": "markdown",
   "metadata": {},
   "source": [
    "### load()"
   ]
  },
  {
   "cell_type": "code",
   "execution_count": null,
   "metadata": {},
   "outputs": [],
   "source": [
    "im = image.load()"
   ]
  },
  {
   "cell_type": "markdown",
   "metadata": {},
   "source": [
    "<br>"
   ]
  },
  {
   "cell_type": "markdown",
   "metadata": {},
   "source": [
    "### save()"
   ]
  },
  {
   "cell_type": "code",
   "execution_count": null,
   "metadata": {},
   "outputs": [],
   "source": [
    "image.save(\"lenna.jpg\")"
   ]
  },
  {
   "cell_type": "markdown",
   "metadata": {},
   "source": [
    "<br>"
   ]
  },
  {
   "cell_type": "markdown",
   "metadata": {},
   "source": [
    "### split(): color channels"
   ]
  },
  {
   "cell_type": "markdown",
   "metadata": {},
   "source": [
    "**`Image.split()`**\n",
    "* Split this image into individual bands. This method returns a tuple of individual image bands from an image. For example, splitting an “RGB” image creates three new images each containing a copy of one of the original bands (red, green, blue).\n",
    "* If you need only one band, **`getchannel()`**` method` can be more convenient and faster.\n",
    "* `Returns`: A tuple containing bands."
   ]
  },
  {
   "cell_type": "code",
   "execution_count": null,
   "metadata": {},
   "outputs": [],
   "source": [
    "# Color Channels\n",
    "red, green, blue = image.split()    # red, green, blue 分别对应一张一个颜色 channel 的图像"
   ]
  },
  {
   "cell_type": "markdown",
   "metadata": {},
   "source": [
    "<br>"
   ]
  },
  {
   "cell_type": "markdown",
   "metadata": {},
   "source": [
    "### getchannel()"
   ]
  },
  {
   "cell_type": "markdown",
   "metadata": {},
   "source": [
    "**`Image.getchannel(channel)`**\n",
    "* Returns an image containing a single channel of the source image.\n",
    "* `channel`: What channel to return. Could be index (0 for “R” channel of “RGB”) or channel name (“A” for alpha channel of “RGBA”).\n",
    "* `Returns`: An image in “L” mode."
   ]
  },
  {
   "cell_type": "code",
   "execution_count": null,
   "metadata": {},
   "outputs": [],
   "source": []
  },
  {
   "cell_type": "markdown",
   "metadata": {},
   "source": [
    "<br>"
   ]
  },
  {
   "cell_type": "markdown",
   "metadata": {},
   "source": [
    "### copy()"
   ]
  },
  {
   "cell_type": "markdown",
   "metadata": {},
   "source": [
    "**`Image.copy()`**\n",
    "* Copies this image. Use this method if you wish to paste things into an image, but still retain the original.\n",
    "* `Returns`: An Image object."
   ]
  },
  {
   "cell_type": "code",
   "execution_count": null,
   "metadata": {},
   "outputs": [],
   "source": [
    "im_copy = image.copy()"
   ]
  },
  {
   "cell_type": "markdown",
   "metadata": {},
   "source": [
    "<br>"
   ]
  },
  {
   "cell_type": "markdown",
   "metadata": {},
   "source": [
    "### crop()\n",
    "**`Image.crop(box=None)`**\n",
    "* Returns a rectangular region from this image. The box is a 4-tuple defining the left, upper, right, and lower pixel coordinate. See `Coordinate System`.\n",
    "* `box`: The crop rectangle, as a (left, upper, right, lower)-tuple.\n",
    "* `Returns`: An Image object.\n",
    "* \n",
    "* **`Note`**: Prior to Pillow 3.4.0, this was a lazy operation.</br>\n",
    "\n",
    "\n",
    "Setting the cropping area with *box = (left, upper, right, lower)*"
   ]
  },
  {
   "cell_type": "code",
   "execution_count": null,
   "metadata": {},
   "outputs": [],
   "source": [
    "upper = 150\n",
    "lower = 400\n",
    "left = 150\n",
    "right = 400\n",
    "box = (left, upper, right, lower)\n",
    "\n",
    "cat = Image.open(\"cat.png\")\n",
    "cat_crop = cat.crop(box)"
   ]
  },
  {
   "cell_type": "markdown",
   "metadata": {},
   "source": [
    "<br>"
   ]
  },
  {
   "cell_type": "markdown",
   "metadata": {},
   "source": [
    "### paste()"
   ]
  },
  {
   "cell_type": "markdown",
   "metadata": {},
   "source": [
    "**`Image.paste(im, box=None, mask=None)`**\n",
    "* Pastes another image into this image. The box argument is either a 2-tuple giving the upper left corner, a 4-tuple defining the left, upper, right, and lower pixel coordinate, or None (same as (0, 0)). See `Coordinate System`.\n",
    "* *(其它解释详见官方文档)*"
   ]
  },
  {
   "cell_type": "code",
   "execution_count": null,
   "metadata": {},
   "outputs": [],
   "source": [
    "im_copy.paste(cat_crop, box=(left,upper))      # box 参见 1.3.8 crop()"
   ]
  },
  {
   "cell_type": "markdown",
   "metadata": {},
   "source": [
    "<br>"
   ]
  },
  {
   "cell_type": "markdown",
   "metadata": {},
   "source": [
    "### transpose()"
   ]
  },
  {
   "cell_type": "markdown",
   "metadata": {},
   "source": [
    "**`Image.transpose(method)`**\n",
    "* Transpose image (flip or rotate in 90 degree steps)\n",
    "* `method`: *(另见本笔记 1.2 字典型变量 flip)*\n",
    "    * Image.FLIP_LEFT_RIGHT,\n",
    "    * Image.FLIP_TOP_BOTTOM,\n",
    "    * Image.ROTATE_90,\n",
    "    * Image.ROTATE_180,\n",
    "    * Image.ROTATE_270,\n",
    "    * Image.TRANSPOSE, \n",
    "    * Image.TRANSVERSE}\n",
    "* `Returns`: Returns a flipped or rotated copy of this image.\n",
    "\n",
    "\n",
    "The parameter of the **`transpose()`** method is an integer indicating what type of transposition we would like to perform."
   ]
  },
  {
   "cell_type": "code",
   "execution_count": null,
   "metadata": {},
   "outputs": [],
   "source": [
    "im_flip = image.transpose(1)   # Image.FLIP_TOP_BOTTOM = 1"
   ]
  },
  {
   "cell_type": "markdown",
   "metadata": {},
   "source": [
    "<br>"
   ]
  },
  {
   "cell_type": "markdown",
   "metadata": {},
   "source": [
    "### rotate()"
   ]
  },
  {
   "cell_type": "markdown",
   "metadata": {},
   "source": [
    "**`Image.rotate(angle, resample=0, expand=0, center=None, translate=None, fillcolor=None)`**\n",
    "* Returns a rotated copy of this image. This method returns a copy of this image, rotated the given number of degrees counter clockwise around its centre.\n",
    "* *(其它解释详见官方文档)*\n",
    "* `Returns`: An Image object."
   ]
  },
  {
   "cell_type": "code",
   "execution_count": null,
   "metadata": {},
   "outputs": [],
   "source": [
    "theta = 45\n",
    "new_image = image.rotate(theta)"
   ]
  },
  {
   "cell_type": "markdown",
   "metadata": {},
   "source": [
    "<br>"
   ]
  },
  {
   "cell_type": "markdown",
   "metadata": {},
   "source": [
    "### quantize()"
   ]
  },
  {
   "cell_type": "markdown",
   "metadata": {},
   "source": [
    "The **Quantization** of an image is the number of unique intensity values any given pixel of the image can take. For a grayscale image, this means the number of different shades of gray. Most images have 256 different levels. You can decrease the levels using this method **`quantize()`**."
   ]
  },
  {
   "cell_type": "markdown",
   "metadata": {},
   "source": [
    "**`Image.quantize(colors=256, method=None, kmeans=0, palette=None, dither=1)`**\n",
    "* Convert the image to ‘P’ mode with the specified number of colors.\n",
    "* *(其它解释详见官方文档)*\n",
    "* `Returns`: A new image"
   ]
  },
  {
   "cell_type": "code",
   "execution_count": null,
   "metadata": {},
   "outputs": [],
   "source": [
    "image_gray = ImageOps.grascale(image)\n",
    "image_gray.quantize(256//2)"
   ]
  },
  {
   "cell_type": "markdown",
   "metadata": {},
   "source": [
    "<br>"
   ]
  },
  {
   "cell_type": "markdown",
   "metadata": {},
   "source": [
    "### fromarray()"
   ]
  },
  {
   "cell_type": "markdown",
   "metadata": {},
   "source": [
    "**`PIL.Image.fromarray(obj, mode=None)`**\n",
    "* Creates an image memory from an object exporting the array interface (using the buffer protocol).\n",
    "    * If `obj` is not contiguous, then the `tobytes` method is called and `frombuffer()` is used.\n",
    "    * If you have an image in NumPy, then this can be used to convert it to a Pillow image.\n",
    "* `obj`: Object with array interface.\n",
    "* `mode`: Optional mode to use when reading `obj`. Will be determined from type if `None`. \n",
    "    * mode 如：L、RGB等\n",
    "    * See: `Modes` for general information about modes.()\n",
    "* `Returns`: An image object."
   ]
  },
  {
   "cell_type": "code",
   "execution_count": null,
   "metadata": {},
   "outputs": [],
   "source": [
    "rows, cols = image.size\n",
    "noise = np.random.normal(0,15,(rows,cols,3)).astype(np.uint8)\n",
    "noisy_image = image + noise\n",
    "\n",
    "noisy_image = Image.fromarray(noisy_image)"
   ]
  },
  {
   "cell_type": "markdown",
   "metadata": {},
   "source": [
    "<br>"
   ]
  },
  {
   "cell_type": "markdown",
   "metadata": {},
   "source": [
    "### filter(filter)"
   ]
  },
  {
   "cell_type": "markdown",
   "metadata": {},
   "source": [
    "**`Image.filter(filter)`**\n",
    "* Filters this image using the given filter. For a list of available filters, see the `ImageFilter` module.\n",
    "* `filter`: Filter kernel.\n",
    "* `Returns`: An `Image` object."
   ]
  },
  {
   "cell_type": "code",
   "execution_count": null,
   "metadata": {},
   "outputs": [],
   "source": [
    "# Filters the images using the kernel. \n",
    "image_filtered = noisy_image.filter(kernel_filter)  # kernel_filter详见3.1 Kernel() class"
   ]
  },
  {
   "cell_type": "markdown",
   "metadata": {},
   "source": [
    "<br><br>"
   ]
  },
  {
   "cell_type": "markdown",
   "metadata": {},
   "source": [
    "## PIL Images into Numpy Arrays"
   ]
  },
  {
   "cell_type": "code",
   "execution_count": null,
   "metadata": {},
   "outputs": [],
   "source": [
    "# PIL Images into Numpy Arrays\n",
    "import numpy as np\n",
    "\n",
    "array = np.asarray(image)    # 这种方式得到的 array 不可直接修改\n",
    "array = np.array(image)      # 这种方式得到的 array 可以直接修改"
   ]
  },
  {
   "cell_type": "markdown",
   "metadata": {},
   "source": [
    "**`np.asarray()`** turns the original image into a numpy array. Often, we don't want to manipulate the image directly, but instead, cteate a copy of the image to manipulate. The **`np.array()`** method creates a new copy of the image, such that the original one will remian unmodified."
   ]
  },
  {
   "cell_type": "code",
   "execution_count": null,
   "metadata": {},
   "outputs": [],
   "source": [
    "# Find the minimum and maximum intensity of the array.\n",
    "\n",
    "array.min()\n",
    "array.max()\n",
    "\n",
    "array.shape"
   ]
  },
  {
   "cell_type": "code",
   "execution_count": null,
   "metadata": {},
   "outputs": [],
   "source": [
    "plt.figure(figsize=(3,3))     # 通过 Plt.imshow() 来显示图像的 array 为图像。\n",
    "plt.imshow(array)\n",
    "plt.show()"
   ]
  },
  {
   "cell_type": "markdown",
   "metadata": {},
   "source": [
    "<br>"
   ]
  },
  {
   "cell_type": "markdown",
   "metadata": {},
   "source": [
    "### Using numpy slicing"
   ]
  },
  {
   "cell_type": "code",
   "execution_count": null,
   "metadata": {},
   "outputs": [],
   "source": [
    "# Using numpy slicing.\n",
    "rows = 256\n",
    "plt.figure(figsize=(3,3))\n",
    "plt.imshow(array[0:rows, :, :])\n",
    "plt.show()"
   ]
  },
  {
   "cell_type": "markdown",
   "metadata": {},
   "source": [
    "<br>"
   ]
  },
  {
   "cell_type": "markdown",
   "metadata": {},
   "source": [
    "### Copying Images\n",
    "\n",
    "If we want to reassign an array to another variable, you should use the `ndarray.copy()` method. If we don't apply the method `ndarray.copy()`, the variable will point to the same location in memory."
   ]
  },
  {
   "cell_type": "code",
   "execution_count": null,
   "metadata": {},
   "outputs": [],
   "source": [
    "A = array.copy()\n",
    "# 另见1.3.7的 Image.copy()"
   ]
  },
  {
   "cell_type": "markdown",
   "metadata": {},
   "source": [
    "<br>"
   ]
  },
  {
   "cell_type": "code",
   "execution_count": null,
   "metadata": {},
   "outputs": [],
   "source": [
    "baboon = Image.open('baboon.png')\n",
    "red, green, blue = baboon.split()\n",
    "\n",
    "baboon_array = np.array(baboon)\n",
    "plt.figure(figsize=(3,3))\n",
    "plt.imshow(baboon_array[:,:,0], cmap='gray') # Plot the red channel as intensity values\n",
    "plt.show()\n",
    "\n",
    "# Creat a new array and set all but the red color channels to zero.\n",
    "# Therefore, when we display the image it appears red:\n",
    "baboon_red = baboon_array.copy()\n",
    "baboon_red[:,:,1] = 0\n",
    "baboon_red[:,:,2] = 0\n",
    "plt.figure(figsize=(3,3))\n",
    "plt.imshow(baboon_red)\n",
    "plt.show()"
   ]
  },
  {
   "cell_type": "markdown",
   "metadata": {},
   "source": [
    "<br>"
   ]
  },
  {
   "cell_type": "markdown",
   "metadata": {},
   "source": [
    "### Cropping an Image"
   ]
  },
  {
   "cell_type": "code",
   "execution_count": null,
   "metadata": {},
   "outputs": [],
   "source": [
    "crop_top = array[upper: lower,:,:]\n",
    "\n",
    "crop_horizontal = crop_top[: ,left:right,:]\n",
    "\n",
    "# left、upper、right、lower 参见1.3.8\n",
    "# We can also crop the PIL image using the crop() method as in 1.3.8."
   ]
  },
  {
   "cell_type": "markdown",
   "metadata": {},
   "source": [
    "<br>"
   ]
  },
  {
   "cell_type": "markdown",
   "metadata": {},
   "source": [
    "### Changing Specific Image Pixels\n",
    "\n",
    "We can change specific image pixels using array indexing; for example, we can set all the green and blue channels in the original image we cropped to zero:"
   ]
  },
  {
   "cell_type": "code",
   "execution_count": null,
   "metadata": {},
   "outputs": [],
   "source": [
    "array_sq = np.copy(array)\n",
    "array_sq[upper:lower, left:right, 1:2] = 0"
   ]
  },
  {
   "cell_type": "markdown",
   "metadata": {},
   "source": [
    "<br><br><br>"
   ]
  },
  {
   "cell_type": "markdown",
   "metadata": {},
   "source": [
    "# PIL.ImageOps module\n",
    "\n",
    "<br>\n",
    "\n",
    "下面这些都是 **`PIL.ImageOps`** 模块里的 functions (不是 class 里的 method)."
   ]
  },
  {
   "cell_type": "markdown",
   "metadata": {},
   "source": [
    "## grayscale()"
   ]
  },
  {
   "cell_type": "markdown",
   "metadata": {},
   "source": [
    "**`PIL.ImageOps.grayscale(image)`**\n",
    "* Convert the image to grayscale.\n",
    "* `Returns`: An image."
   ]
  },
  {
   "cell_type": "code",
   "execution_count": null,
   "metadata": {},
   "outputs": [],
   "source": [
    "image_gray = ImageOps.grascale(image)\n",
    "\n",
    "image_gray.mode   # L"
   ]
  },
  {
   "cell_type": "markdown",
   "metadata": {},
   "source": [
    "<br><br>"
   ]
  },
  {
   "cell_type": "markdown",
   "metadata": {},
   "source": [
    "## flip()"
   ]
  },
  {
   "cell_type": "markdown",
   "metadata": {},
   "source": [
    "**`PIL.ImageOps.flip(image)`**\n",
    "* Flip the image vertically (top to bottom).\n",
    "* `Returns`: An image."
   ]
  },
  {
   "cell_type": "code",
   "execution_count": null,
   "metadata": {},
   "outputs": [],
   "source": [
    "im_flip = ImageOps.flip(image)\n",
    "\n",
    "\n",
    "# 也可通过 np.array 的操作来进行 flipping\n",
    "array = np.array(image)\n",
    "width, height, C = array.shape\n",
    "array_flip = np.zeros((width, height, C), dtype=np.uint8)\n",
    "\n",
    "for i, row in enumerate(array):\n",
    "    array_flip[width-1-i, :, :] = row\n",
    "    \n",
    "# 也可通过 Image module 的 transpose() method 来进行。"
   ]
  },
  {
   "cell_type": "markdown",
   "metadata": {},
   "source": [
    "<br><br>"
   ]
  },
  {
   "cell_type": "markdown",
   "metadata": {},
   "source": [
    "## mirror()"
   ]
  },
  {
   "cell_type": "markdown",
   "metadata": {},
   "source": [
    "**`PIL.ImageOps.mirror(image)`**\n",
    "* Flip image horizontally (left to right).\n",
    "* `Returns`: An image."
   ]
  },
  {
   "cell_type": "code",
   "execution_count": null,
   "metadata": {},
   "outputs": [],
   "source": [
    "im_mirror = ImageOps.mirror(image)"
   ]
  },
  {
   "cell_type": "markdown",
   "metadata": {},
   "source": [
    "<br><br><br>"
   ]
  },
  {
   "cell_type": "markdown",
   "metadata": {},
   "source": [
    "# PIL.ImageFilter module\n",
    "\n",
    "<br>"
   ]
  },
  {
   "cell_type": "markdown",
   "metadata": {},
   "source": [
    "<font style=\"font-size:170%;font-weight:bold\">Filters</font>\n",
    "\n",
    "<br>"
   ]
  },
  {
   "cell_type": "markdown",
   "metadata": {},
   "source": [
    "## Kernel() class"
   ]
  },
  {
   "cell_type": "markdown",
   "metadata": {},
   "source": [
    "`class `**`PIL.ImageFilter.Kernel(size, kernel, scale=None, offset=0)`**\n",
    "* Create a convolution kernel. The current version only supports 3x3 and 5x5 integer and floating point kernels.\n",
    "* In the current version, kernels can only be applied to “L” and “RGB” images.\n",
    "* `size`: Kernel size, given as (width, height). In the current version, this must be (3,3) or (5,5).\n",
    "* `kernel`: A sequence containing kernel weights.\n",
    "* `scale`: Scale factor. If given, the result for each pixel is divided by this value. The default is the sum of the kernel weights.\n",
    "* `offset`: Offset. If given, this value is added to the result, after it has been divided by the scale factor."
   ]
  },
  {
   "cell_type": "code",
   "execution_count": null,
   "metadata": {},
   "outputs": [],
   "source": [
    "# Create a kernel which is a 5 by 5 array where each value is 1/36\n",
    "kernel = np.ones((5,5))/36\n",
    "# Create a ImageFilter Kernel by providing the kernel size and a flattened kernel\n",
    "kernel_filter = ImageFilter.Kernel((5,5), kernel.flatten())\n",
    "\n",
    "# Filters the images using the kernel. \n",
    "image_filtered = noisy_image.filter(kernel_filter) # noisy_image详见1.3.13 fromarray()"
   ]
  },
  {
   "cell_type": "markdown",
   "metadata": {},
   "source": [
    "<br>"
   ]
  },
  {
   "cell_type": "markdown",
   "metadata": {},
   "source": [
    "##  GaussianBlur() class"
   ]
  },
  {
   "cell_type": "markdown",
   "metadata": {},
   "source": [
    "`class `**`PIL.ImageFilter.GaussianBlur(radius=2)`**\n",
    "* Blurs the image with a sequence of extended box filters, which approximates a Gaussian kernel. \n",
    "* For details on accuracy see <https://www.mia.uni-saarland.de/Publications/gwosdek-ssvm11.pdf>\n",
    "* `radius`: Standard deviation of the Gaussian kernel."
   ]
  },
  {
   "cell_type": "code",
   "execution_count": null,
   "metadata": {},
   "outputs": [],
   "source": [
    "image_filtered = noisy_image.filter(ImageFilter.GaussianBlur) # Default: radius=2"
   ]
  },
  {
   "cell_type": "markdown",
   "metadata": {},
   "source": [
    "<br>"
   ]
  },
  {
   "cell_type": "markdown",
   "metadata": {},
   "source": [
    "## SHARPEN"
   ]
  },
  {
   "cell_type": "markdown",
   "metadata": {},
   "source": [
    "**`PIL.ImageFilter.SHARPEN`**\n",
    "\n",
    "Image Sharpening involves smoothing the image and calculating the derivatives."
   ]
  },
  {
   "cell_type": "code",
   "execution_count": null,
   "metadata": {},
   "outputs": [],
   "source": [
    "# Sharpends image using predefined image filter from PIL\n",
    "image_sharpened = image.filter(ImageFilter.SHARPEN)"
   ]
  },
  {
   "cell_type": "markdown",
   "metadata": {},
   "source": [
    "The current version of the library provides the following set of predefined image enhancement filters:\n",
    "* BLUR\n",
    "* CONTOUR\n",
    "* DETAIL\n",
    "* EDGE_ENHANCE\n",
    "* EDGE_ENHANCE_MORE\n",
    "* EMBOSS\n",
    "* FIND_EDGES\n",
    "* `SHARPEN`\n",
    "* SMOOTH\n",
    "* SMOOTH_MORE"
   ]
  },
  {
   "cell_type": "markdown",
   "metadata": {},
   "source": [
    "We can accomplish image sharpening by applying the following Kernel:"
   ]
  },
  {
   "cell_type": "code",
   "execution_count": null,
   "metadata": {},
   "outputs": [],
   "source": [
    "# Common Kernel for image sharpening\n",
    "kernel = np.array([[-1,-1,-1], \n",
    "                   [-1, 9,-1],\n",
    "                   [-1,-1,-1]])\n",
    "kernel = ImageFilter.Kernel((3,3), kernel.flatten())\n",
    "# Applys the sharpening filter using kernel on the original image without noise\n",
    "sharpened = image.filter(kernel)"
   ]
  },
  {
   "cell_type": "markdown",
   "metadata": {},
   "source": [
    "<br>"
   ]
  },
  {
   "cell_type": "markdown",
   "metadata": {},
   "source": [
    "## MedianFilter() class"
   ]
  },
  {
   "cell_type": "markdown",
   "metadata": {},
   "source": [
    "`class `**`PIL.ImageFilter.MedianFilter(size=3)`**\n",
    "* Create a median filter. Picks the median pixel value in a window with the given size.\n",
    "* `size`: The kernel size, in pixels."
   ]
  },
  {
   "cell_type": "code",
   "execution_count": null,
   "metadata": {},
   "outputs": [],
   "source": [
    "image = image.filter(ImageFilter.MedianFilter)"
   ]
  },
  {
   "cell_type": "markdown",
   "metadata": {},
   "source": [
    "<br><br><br>"
   ]
  },
  {
   "cell_type": "markdown",
   "metadata": {},
   "source": [
    "# PIL.ImageDraw module\n",
    "\n",
    "<br>"
   ]
  },
  {
   "cell_type": "markdown",
   "metadata": {},
   "source": [
    "<font style=\"font-size:170%;font-weight:bold\">Functions</font>\n",
    "\n",
    "## Draw() function\n",
    "\n",
    "**`PIL.ImageDraw.Draw(im, mode=None)`**\n",
    "* Creates an object that can be used to draw in the given image.\n",
    "* Note that the image will be modified in place."
   ]
  },
  {
   "cell_type": "code",
   "execution_count": null,
   "metadata": {},
   "outputs": [],
   "source": [
    "# We will copy the image object:\n",
    "image_draw = image.copy()\n",
    "\n",
    "image_fn = ImageDraw.Draw(im=image_draw)"
   ]
  },
  {
   "cell_type": "markdown",
   "metadata": {},
   "source": [
    "The `PIL.ImageDraw.Draw constructor` creates an object that can be used to draw in the given image. The input *`im`* is the image we would like to draw in.\n",
    "Whatever method we apply to the object *`image_fn`*, will change the image object *`image_draw`*."
   ]
  },
  {
   "cell_type": "markdown",
   "metadata": {},
   "source": [
    "<br><br>"
   ]
  },
  {
   "cell_type": "markdown",
   "metadata": {},
   "source": [
    "<font style=\"font-size:170%;font-weight:bold\">Methods</font>\n",
    "\n",
    "## rectangle() method"
   ]
  },
  {
   "cell_type": "markdown",
   "metadata": {},
   "source": [
    "**`ImageDraw.rectangle(xy, fill=None, outline=None, width=1)`**\n",
    "\n",
    "* Draws a rectangle.\n",
    "* <code>xy</code> – the coordinates bounding box.\n",
    "* <code>fill</code> – Color of the rectangle."
   ]
  },
  {
   "cell_type": "code",
   "execution_count": null,
   "metadata": {},
   "outputs": [],
   "source": [
    "shape = [left, upper, right, lower]      # 下面变量 image_fn 见 3.1\n",
    "image_fn.rectangle(xy=shape,fill=\"red\")  # 直接在 image_draw 上改变，画了一个指定的 rectangle。\n",
    "\n",
    "plt.figure(figsize=(3,3))\n",
    "plt.imshow(image_draw)\n",
    "plt.show()"
   ]
  },
  {
   "cell_type": "markdown",
   "metadata": {},
   "source": [
    "<br><br>"
   ]
  },
  {
   "cell_type": "markdown",
   "metadata": {},
   "source": [
    "## text() method"
   ]
  },
  {
   "cell_type": "markdown",
   "metadata": {},
   "source": [
    "**`ImageDraw.multiline_text(xy, text, fill=None, font=None, anchor=None, spacing=4, align='left',`**\n",
    "&emsp;&emsp;&emsp;&emsp;&emsp;&emsp;&emsp;&emsp;&emsp;&emsp;&emsp;&emsp;&emsp; **`direction=None, features=None, language=None, stroke_width=0,`**\n",
    "&emsp;&emsp;&emsp;&emsp;&emsp;&emsp;&emsp;&emsp;&emsp;&emsp;&emsp;&emsp;&emsp;\n",
    "**`stroke_fill=None, embedded_color=False)`**"
   ]
  },
  {
   "cell_type": "markdown",
   "metadata": {},
   "source": [
    "* Draws the string at the given position.\n",
    "* `xy`: the top-left anchor coordinates of the text.\n",
    "* `text`: the text to be drawn.\n",
    "* `fill`: the color to use for the text."
   ]
  },
  {
   "cell_type": "code",
   "execution_count": null,
   "metadata": {},
   "outputs": [],
   "source": [
    "image_fn.text(xy=(0,0), text=\"box\", fill=(0,0,0))  # 变量 image_fn 详见 3.1"
   ]
  },
  {
   "cell_type": "markdown",
   "metadata": {},
   "source": [
    "<br><br><br>"
   ]
  },
  {
   "cell_type": "markdown",
   "metadata": {},
   "source": [
    "# PIL.ImageFont module\n",
    "\n",
    "<br>"
   ]
  },
  {
   "cell_type": "markdown",
   "metadata": {},
   "source": [
    "The `ImageFont` module defines a class with the same name. Instances of this class store bitmap fonts, and are used with the `PIL.ImageDraw.ImageDraw.text()` method."
   ]
  },
  {
   "cell_type": "markdown",
   "metadata": {},
   "source": [
    "PIL uses its own font file format to store bitmap fonts, limited to 256 characters. You can use `pilfont.py` from `pillow-scripts` to convert BDF and PCF font descriptors (X window font formats) to this format."
   ]
  },
  {
   "cell_type": "markdown",
   "metadata": {},
   "source": [
    "*(其它更多内容详见官方文档)*"
   ]
  },
  {
   "cell_type": "markdown",
   "metadata": {},
   "source": [
    "<br><br><br>"
   ]
  }
 ],
 "metadata": {
  "kernelspec": {
   "display_name": "Python 3",
   "language": "python",
   "name": "python3"
  },
  "language_info": {
   "codemirror_mode": {
    "name": "ipython",
    "version": 3
   },
   "file_extension": ".py",
   "mimetype": "text/x-python",
   "name": "python",
   "nbconvert_exporter": "python",
   "pygments_lexer": "ipython3",
   "version": "3.8.5"
  },
  "toc": {
   "base_numbering": 1,
   "nav_menu": {},
   "number_sections": true,
   "sideBar": true,
   "skip_h1_title": false,
   "title_cell": "Table of Contents",
   "title_sidebar": "Contents",
   "toc_cell": false,
   "toc_position": {
    "height": "calc(100% - 180px)",
    "left": "10px",
    "top": "150px",
    "width": "314.433px"
   },
   "toc_section_display": true,
   "toc_window_display": true
  },
  "varInspector": {
   "cols": {
    "lenName": 16,
    "lenType": 16,
    "lenVar": 40
   },
   "kernels_config": {
    "python": {
     "delete_cmd_postfix": "",
     "delete_cmd_prefix": "del ",
     "library": "var_list.py",
     "varRefreshCmd": "print(var_dic_list())"
    },
    "r": {
     "delete_cmd_postfix": ") ",
     "delete_cmd_prefix": "rm(",
     "library": "var_list.r",
     "varRefreshCmd": "cat(var_dic_list()) "
    }
   },
   "types_to_exclude": [
    "module",
    "function",
    "builtin_function_or_method",
    "instance",
    "_Feature"
   ],
   "window_display": false
  }
 },
 "nbformat": 4,
 "nbformat_minor": 4
}
