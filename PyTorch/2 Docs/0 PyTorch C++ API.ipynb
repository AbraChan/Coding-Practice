{
 "cells": [
  {
   "cell_type": "markdown",
   "metadata": {},
   "source": [
    "<br>"
   ]
  },
  {
   "cell_type": "markdown",
   "metadata": {},
   "source": [
    "<div align=center><font color=maroon size=6><b>PyTorch C++ API</b></font></div>"
   ]
  },
  {
   "cell_type": "markdown",
   "metadata": {},
   "source": [
    "<font size=4><b>References:</b></font>\n",
    "* `Docs > `<a href=\"https://pytorch.org/cppdocs/\" style=\"text-decoration:none;\">PyTorch C++ API</a>\n",
    "    * Docs > <a href=\"https://pytorch.org/cppdocs/installing.html\" style=\"text-decoration:none;\">Installing C++ Distributions of PyTorch</a>\n",
    "    * Docs > <a href=\"https://pytorch.org/cppdocs/frontend.html\" style=\"text-decoration:none;\">The C++ Frontend</a>\n",
    "    * Docs > <a href=\"https://pytorch.org/cppdocs/api/library_root.html\" style=\"text-decoration:none;\">Library API</a>\n",
    "        * Docs > Library API > <a href=\"https://pytorch.org/cppdocs/api/classat_1_1_tensor.html#exhale-class-classat-1-1-tensor\" style=\"text-decoration:none;\">Class Tensor</a>\n",
    "    * Docs > <a href=\"\" style=\"text-decoration:none;\"></a>"
   ]
  },
  {
   "cell_type": "markdown",
   "metadata": {},
   "source": [
    "<br>"
   ]
  },
  {
   "cell_type": "markdown",
   "metadata": {},
   "source": [
    "<font size=3>These pages provide the documentation for the public portions of the PyTorch C++ API. This API can roughly be divided into five parts:\n",
    "<br>\n",
    "<br>\n",
    "* **ATen**: The foundational tensor and mathematical operation library on which all else is built.\n",
    "<br>\n",
    "<br>\n",
    "* **Autograd**: Augments ATen with automatic differentiation.\n",
    "<br>\n",
    "<br>\n",
    "* **C++ Frontend**: High level constructs for training and evaluation of machine learning models.\n",
    "<br>\n",
    "<br>\n",
    "* **TorchScript**: An interface to the TorchScript JIT compiler and interpreter.\n",
    "<br>\n",
    "<br>\n",
    "* **C++ Extensions**: A means of extending the Python API with custom C++ and CUDA routines.\n",
    "<br>\n",
    "<br>\n",
    "\n",
    "Combining, these building blocks form a research and production ready C++ library for tensor computation and dynamic neural networks with strong emphasis on GPU acceleration as well as fast CPU performance. It is currently in use at Facebook in research and production; we are looking forward to welcome more users of the PyTorch C++ API.</font>"
   ]
  },
  {
   "cell_type": "markdown",
   "metadata": {},
   "source": []
  },
  {
   "cell_type": "markdown",
   "metadata": {},
   "source": [
    "<div class=\"alert alert-block alert-danger\">\n",
    "\n",
    "<font size=3 color=red><b>WARNING: </b></font>\n",
    "\n",
    "At the moment, the C++ API should be considered “beta” stability; we may make major breaking changes to the backend in order to improve the API, or in service of providing the Python interface to PyTorch, which is our most stable and best supported interface.\n",
    "\n",
    "</div>"
   ]
  },
  {
   "cell_type": "markdown",
   "metadata": {},
   "source": [
    "<br>\n",
    "<br>"
   ]
  },
  {
   "cell_type": "markdown",
   "metadata": {},
   "source": [
    "# ATen <a href=\"https://pytorch.org/cppdocs/#aten\" style=\"text-decoration:none;font-size:70%\">[link]</a>"
   ]
  },
  {
   "cell_type": "markdown",
   "metadata": {},
   "source": [
    "<font size=3>**ATen** is fundamentally a tensor library, on top of which almost all other Python and C++ interfaces in PyTorch are built. It provides a core `Tensor` class, on which many hundreds of operations are defined. Most of these operations have both CPU and GPU implementations, to which the `Tensor` class will dynamically dispatch based on its type. A small example of using ATen could look as follows:</font>"
   ]
  },
  {
   "cell_type": "markdown",
   "metadata": {},
   "source": [
    "<font size=4>\n",
    "    \n",
    "```C++\n",
    "#include <ATen/ATen.h>\n",
    "\n",
    "at::Tensor a = at::ones({2, 2}, at::kInt);\n",
    "at::Tensor b = at::randn({2, 2});\n",
    "    \n",
    "auto c = a + b.to(at::kInt);\n",
    "```\n",
    "\n",
    "</font>"
   ]
  },
  {
   "cell_type": "markdown",
   "metadata": {},
   "source": [
    "<font size=3>This `Tensor` class and all other symbols in ATen are found in the `at::` namespace, documented <a href=\"https://pytorch.org/cppdocs/api/namespace_at.html#namespace-at\" style=\"text-decoration:none;font-size:120%;color:maroon\">here</a>.</font>"
   ]
  },
  {
   "cell_type": "markdown",
   "metadata": {},
   "source": [
    "<br>\n",
    "<br>\n",
    "<br>"
   ]
  },
  {
   "cell_type": "markdown",
   "metadata": {},
   "source": [
    "# Autograd <a href=\"https://pytorch.org/cppdocs/#autograd\" style=\"text-decoration:none;font-size:70%\">[link]</a>"
   ]
  },
  {
   "cell_type": "markdown",
   "metadata": {},
   "source": [
    "<font size=3>What we term ***autograd*** are the portions of PyTorch’s C++ API that augment the ATen Tensor class with capabilities concerning automatic differentiation. \n",
    "    \n",
    "The autograd system records operations on tensors to form an ***autograd graph***. Calling `backwards()` on a **leaf variable** in this graph performs reverse mode differentiation through the network of functions and tensors spanning the autograd graph, ultimately yielding gradients. </font>\n",
    "\n",
    "The following example provides a taste of this interface:"
   ]
  },
  {
   "cell_type": "markdown",
   "metadata": {},
   "source": [
    "<font size=4>\n",
    "    \n",
    "```C++\n",
    "#include <torch/csrc/autograd/variable.h>\n",
    "#include <torch/csrc/autograd/function.h>\n",
    "\n",
    "torch::Tensor a = torch::ones({2, 2}, torch::requires_grad());\n",
    "torch::Tensor b = torch::randn({2, 2});\n",
    "    \n",
    "auto c = a + b;\n",
    "    \n",
    "c.backward(); // a.grad() will now hold the gradient of c w.r.t. a.\n",
    "```\n",
    "\n",
    "</font>"
   ]
  },
  {
   "cell_type": "markdown",
   "metadata": {},
   "source": [
    "<font size=3 color=maroon>The **`at::Tensor`** class in ATen is not differentiable by default. To add the differentiability of tensors the autograd API provides, you must use ***tensor factory functions*** from the **`torch::`**` namespace` instead of the **`at::`**` namespace`. For example, while a tensor created with `at::ones` will not be differentiable, a tensor created with `torch::ones` will be.</font>"
   ]
  },
  {
   "cell_type": "markdown",
   "metadata": {},
   "source": [
    "<br>\n",
    "<br>\n",
    "<br>"
   ]
  },
  {
   "cell_type": "markdown",
   "metadata": {},
   "source": [
    "# C++ Frontend <a href=\"https://pytorch.org/cppdocs/#c-frontend\" style=\"text-decoration:none;font-size:70%\">[link]</a>"
   ]
  },
  {
   "cell_type": "markdown",
   "metadata": {},
   "source": [
    "<font size=3>The **PyTorch C++ frontend** provides a high level, pure C++ modeling interface for <font color=maroon>neural network and general ML(Machine Learning)</font> research and production use cases, largely following the Python API in design and provided functionality. </font>"
   ]
  },
  {
   "cell_type": "markdown",
   "metadata": {},
   "source": [
    "<font size=3>The C++ frontend includes the following:\n",
    "\n",
    "* An interface for defining machine learning models through a hierarchical module system (like `torch.nn.Module`);\n",
    "<br>\n",
    "<br>\n",
    "* A “standard library” of pre-existing modules for the most common modeling purposes (e.g. convolutions, RNNs, batch normalization etc.);\n",
    "<br>\n",
    "<br>\n",
    "* An optimization API, including implementations of popular optimizers such as SGD, Adam, RMSprop and others;\n",
    "<br>\n",
    "<br>\n",
    "* A means of representing datasets and data pipelines, including functionality to load data in parallel over many CPU cores;\n",
    "<br>\n",
    "<br>\n",
    "* A serialization format for storing and loading checkpoints of a training session (like `torch.utils.data.DataLoader`);\n",
    "<br>\n",
    "<br>\n",
    "* Automatic parallelization of models onto multiple GPUs (like `torch.nn.parallel.DataParallel`);\n",
    "<br>\n",
    "<br>\n",
    "* Support code to easily bind C++ models into Python using **pybind11**;\n",
    "<br>\n",
    "<br>\n",
    "* Entry points to the TorchScript JIT compiler;\n",
    "<br>\n",
    "<br>\n",
    "* Helpful utilities to facilitate interfacing with the ATen and Autograd APIs.</font>"
   ]
  },
  {
   "cell_type": "markdown",
   "metadata": {},
   "source": [
    "<br>"
   ]
  },
  {
   "cell_type": "markdown",
   "metadata": {},
   "source": [
    "See <a href=\"https://pytorch.org/cppdocs/frontend.html\" style=\"text-decoration:none;color:maroon;font-size:120%;\">this document</a> for a more detailed description of the C++ frontend. \n",
    "\n",
    "Relevant sections of the torch:: namespace related to the C++ Frontend include\n",
    "* <a href=\"https://pytorch.org/cppdocs/api/namespace_torch__nn.html#namespace-torch-nn\" style=\"text-decoration:none;color:maroon;font-size:120%;\">torch::nn</a>, \n",
    "* <a href=\"https://pytorch.org/cppdocs/api/namespace_torch__optim.html#namespace-torch-optim\" style=\"text-decoration:none;color:maroon;font-size:120%;\">torch::optim</a>, \n",
    "* <a href=\"https://pytorch.org/cppdocs/api/namespace_torch__data.html#namespace-torch-data\" style=\"text-decoration:none;color:maroon;font-size:120%;\">torch::data</a>, \n",
    "* <a href=\"https://pytorch.org/cppdocs/api/namespace_torch__serialize.html#namespace-torch-serialize\" style=\"text-decoration:none;color:maroon;font-size:120%;\">torch::serialize</a>, \n",
    "* <a href=\"https://pytorch.org/cppdocs/api/namespace_torch__jit.html#namespace-torch-jit\" style=\"text-decoration:none;color:maroon;font-size:120%;\">torch::jit</a> \n",
    "* and <a href=\"https://pytorch.org/cppdocs/api/namespace_torch__python.html#namespace-torch-python\" style=\"text-decoration:none;color:maroon;font-size:120%;\">torch::python</a>. \n",
    "\n",
    "\n",
    "Examples of the C++ frontend can be found in <a href=\"https://github.com/pytorch/examples/tree/master/cpp\" style=\"text-decoration:none;color:maroon;font-size:120%;\">this repository</a> which is being expanded on a continuous and active basis."
   ]
  },
  {
   "cell_type": "markdown",
   "metadata": {},
   "source": [
    "<div class=\"alert alert-block alert-info\">\n",
    "\n",
    "<font size=3 color=red><b>NOTE: </b></font>\n",
    "\n",
    "Unless you have a particular reason to constrain yourself exclusively to ATen or the Autograd API, the C++ frontend is the recommended entry point to the PyTorch C++ ecosystem. While it is still in beta as we collect user feedback (from you!), it provides both more functionality and better stability guarantees than the ATen and Autograd APIs.\n",
    "\n",
    "</div>"
   ]
  },
  {
   "cell_type": "markdown",
   "metadata": {},
   "source": [
    "<br>\n",
    "<br>\n",
    "<br>"
   ]
  },
  {
   "cell_type": "markdown",
   "metadata": {},
   "source": [
    "# TorchScript <a href=\"https://pytorch.org/cppdocs/#torchscript\" style=\"text-decoration:none;font-size:70%\">[link]</a>"
   ]
  },
  {
   "cell_type": "markdown",
   "metadata": {},
   "source": [
    "<font size=3>**TorchScript** is a representation of a PyTorch model that can be understood, compiled and serialized by the TorchScript compiler. \n",
    "    \n",
    "Fundamentally, TorchScript is a programming language in its own right. It is a subset of Python using the PyTorch API. \n",
    "<br>\n",
    "<br>\n",
    "<font color=maroon>The C++ interface to TorchScript encompasses three primary pieces of functionality:\n",
    "\n",
    "* A mechanism for loading and executing serialized TorchScript models defined in Python;\n",
    "\n",
    "* An API for defining custom operators that extend the TorchScript standard library of operations;\n",
    "\n",
    "* Just-in-time compilation of TorchScript programs from C++.</font>\n",
    "</font>"
   ]
  },
  {
   "cell_type": "markdown",
   "metadata": {},
   "source": [
    "The first mechanism may be of great interest to you if you would like to define your models in Python as much as possible, but subsequently export them to C++ for production environments and no-Python inference. You can find out more about this by following <a href=\"https://pytorch.org/tutorials/advanced/cpp_export.html\" style=\"text-decoration:none;color:maroon;font-size:120%;\">this link</a>. `Tutorials > Loading a TorchScript Model in C++`\n",
    "\n",
    "\n",
    "The second API concerns itself with scenarios in which you would like to extend TorchScript with custom operators, which can similarly be serialized and invoked from C++ during inference. \n",
    "\n",
    "\n",
    "Lastly, the <a href=\"https://pytorch.org/cppdocs/api/function_namespacetorch_1_1jit_1a176d99fd5bf0233119a5f49c07a1d01d.html#exhale-function-namespacetorch-1-1jit-1a176d99fd5bf0233119a5f49c07a1d01d\" style=\"text-decoration:none;color:maroon;font-size:120%;\">torch::jit::compile</a> function may be used to access the TorchScript compiler directly from C++."
   ]
  },
  {
   "cell_type": "markdown",
   "metadata": {},
   "source": [
    "<br>\n",
    "<br>\n",
    "<br>"
   ]
  },
  {
   "cell_type": "markdown",
   "metadata": {},
   "source": [
    "# C++ Extensions <a href=\"https://pytorch.org/cppdocs/#c-extensions\" style=\"text-decoration:none;font-size:70%\">[link]</a>"
   ]
  },
  {
   "cell_type": "markdown",
   "metadata": {},
   "source": [
    "<font size=3>**C++ Extensions** offer a simple yet powerful way of accessing all of the above interfaces for the purpose of extending regular Python use-cases of PyTorch. \n",
    "\n",
    "C++ extensions are most commonly used to implement custom operators in C++ or CUDA to accelerate research in vanilla PyTorch setups. \n",
    "\n",
    "The C++ extension API does not add any new functionality to the PyTorch C++ API. Instead, it provides integration with Python setuptools as well as JIT compilation mechanisms that allow access to ATen, the autograd and other C++ APIs from Python. To learn more about the C++ extension API, go through <a href=\"https://pytorch.org/tutorials/advanced/cpp_extension.html\" style=\"text-decoration:none;color:maroon;font-size:120%;\">this tutorial</a>.</font>"
   ]
  },
  {
   "cell_type": "markdown",
   "metadata": {},
   "source": [
    "<br>\n",
    "<br>\n",
    "<br>"
   ]
  },
  {
   "cell_type": "markdown",
   "metadata": {},
   "source": [
    "# Contents <a href=\"https://pytorch.org/cppdocs/#contents\" style=\"text-decoration:none;font-size:70%\">[link]</a>"
   ]
  },
  {
   "cell_type": "markdown",
   "metadata": {},
   "source": [
    "* Docs > <a href=\"https://pytorch.org/cppdocs/installing.html\" style=\"text-decoration:none;font-size:120%;color:maroon;\">Installing C++ Distributions of PyTorch</a>\n",
    "    * <a href=\"https://pytorch.org/cppdocs/installing.html#minimal-example\" style=\"text-decoration:none;font-size:110%;color:black\">Minimal Example</a>\n",
    "    * <a href=\"https://pytorch.org/cppdocs/installing.html#visual-studio-extension\" style=\"text-decoration:none;font-size:110%;color:black\">Visual Studio Extension</a>\n",
    "    * <a href=\"https://pytorch.org/cppdocs/installing.html#support\" style=\"text-decoration:none;font-size:110%;color:black\">Support</a>"
   ]
  },
  {
   "cell_type": "markdown",
   "metadata": {},
   "source": [
    "* Docs > <a href=\"https://pytorch.org/cppdocs/frontend.html\" style=\"text-decoration:none;font-size:120%;color:maroon;\">The C++ Frontend</a>\n",
    "    * <a href=\"https://pytorch.org/cppdocs/frontend.html#description\" style=\"text-decoration:none;font-size:110%;color:black\">Description</a>\n",
    "    * <a href=\"https://pytorch.org/cppdocs/frontend.html#end-to-end-example\" style=\"text-decoration:none;font-size:110%;color:black\">End-to-end example</a>\n",
    "    * <a href=\"https://pytorch.org/cppdocs/frontend.html#philosophy\" style=\"text-decoration:none;font-size:110%;color:black\">Philosophy</a>\n",
    "    * <a href=\"https://pytorch.org/cppdocs/frontend.html#installation\" style=\"text-decoration:none;font-size:110%;color:black\">Installation</a>"
   ]
  },
  {
   "cell_type": "markdown",
   "metadata": {},
   "source": [
    "* Docs > <a href=\"https://pytorch.org/cppdocs/api/library_root.html\" style=\"text-decoration:none;font-size:120%;color:maroon;\">Library API</a>\n",
    "    * <a href=\"https://pytorch.org/cppdocs/api/library_root.html#class-hierarchy\" style=\"text-decoration:none;font-size:110%;color:black\">Class Hierarchy</a>\n",
    "    * <a href=\"https://pytorch.org/cppdocs/api/library_root.html#file-hierarchy\" style=\"text-decoration:none;font-size:110%;color:black\">File Hierarchy</a>\n",
    "    * <a href=\"https://pytorch.org/cppdocs/api/library_root.html#full-api\" style=\"text-decoration:none;font-size:110%;color:black\">Full API</a>"
   ]
  },
  {
   "cell_type": "markdown",
   "metadata": {},
   "source": [
    "<br>\n",
    "<br>"
   ]
  },
  {
   "cell_type": "markdown",
   "metadata": {},
   "source": [
    "## Notes"
   ]
  },
  {
   "cell_type": "markdown",
   "metadata": {},
   "source": [
    "* Docs > <a href=\"https://pytorch.org/cppdocs/notes/faq.html\" style=\"text-decoration:none;font-size:120%;color:maroon;\">FAQ</a>\n",
    "\n",
    "\n",
    "* Docs > <a href=\"https://pytorch.org/cppdocs/notes/inference_mode.html\" style=\"text-decoration:none;font-size:120%;color:maroon;\">Inference Mode</a>\n",
    "\n",
    "\n",
    "* Docs > <a href=\"https://pytorch.org/cppdocs/notes/maybe_owned.html\" style=\"text-decoration:none;font-size:120%;color:maroon;\">MaybeOwned<Tensor></a>\n",
    "\n",
    "\n",
    "* Docs > <a href=\"https://pytorch.org/cppdocs/notes/tensor_basics.html\" style=\"text-decoration:none;font-size:120%;color:maroon;\">Tensor Basics</a>\n",
    "\n",
    "\n",
    "* Docs > <a href=\"https://pytorch.org/cppdocs/notes/tensor_creation.html\" style=\"text-decoration:none;font-size:120%;color:maroon;\">Tensor Creation API</a>\n",
    "\n",
    "\n",
    "* Docs > <a href=\"https://pytorch.org/cppdocs/notes/tensor_cuda_stream.html\" style=\"text-decoration:none;font-size:120%;color:maroon;\">Tensor CUDA Stream API</a>\n",
    "\n",
    "\n",
    "* Docs > <a href=\"https://pytorch.org/cppdocs/notes/tensor_indexing.html\" style=\"text-decoration:none;font-size:120%;color:maroon;\">Tensor Indexing API</a>\n",
    "\n",
    "\n",
    "* Docs > <a href=\"https://pytorch.org/cppdocs/notes/versioning.html\" style=\"text-decoration:none;font-size:120%;color:maroon;\">Library Versioning</a>\n",
    "\n",
    "\n",
    "* Docs > <a href=\"\" style=\"text-decoration:none;font-size:120%;color:maroon;\"></a>"
   ]
  },
  {
   "cell_type": "markdown",
   "metadata": {},
   "source": [
    "<br>\n",
    "<br>\n",
    "<br>"
   ]
  },
  {
   "cell_type": "markdown",
   "metadata": {},
   "source": [
    "# INDICES AND TABLES <a href=\"https://pytorch.org/cppdocs/#indices-and-tables\" style=\"text-decoration:none;font-size:70%\">[link]</a>"
   ]
  },
  {
   "cell_type": "markdown",
   "metadata": {},
   "source": [
    "* Docs > <a href=\"https://pytorch.org/cppdocs/genindex.html\" style=\"text-decoration:none;font-size:120%;color:maroon;\">Index</a>\n",
    "\n",
    "\n",
    "* Docs > <a href=\"https://pytorch.org/cppdocs/py-modindex.html\" style=\"text-decoration:none;font-size:120%;color:maroon;\">Module Index</a>\n",
    "\n",
    "\n",
    "* Docs > <a href=\"https://pytorch.org/cppdocs/search.html\" style=\"text-decoration:none;font-size:120%;color:maroon;\">Search Page</a>"
   ]
  },
  {
   "cell_type": "markdown",
   "metadata": {},
   "source": [
    "<br>\n",
    "<br>\n",
    "<br>"
   ]
  },
  {
   "cell_type": "markdown",
   "metadata": {},
   "source": [
    "# Acknowledgements <a href=\"https://pytorch.org/cppdocs/#acknowledgements\" style=\"text-decoration:none;font-size:70%\">[link]</a>"
   ]
  },
  {
   "cell_type": "markdown",
   "metadata": {},
   "source": [
    "<font size=3>This documentation website for the PyTorch C++ universe has been enabled by the <a href=\"https://github.com/svenevs/exhale/\" style=\"text-decoration:none;color:maroon;font-size:120%;\">Exhale</a> project and generous investment of time and effort by its maintainer, <a href=\"https://github.com/svenevs/\" style=\"text-decoration:none;color:maroon;font-size:120%;\">svenevs</a>. We thank Stephen for his work and his efforts providing help with the PyTorch C++ documentation.</font>"
   ]
  },
  {
   "cell_type": "markdown",
   "metadata": {},
   "source": [
    "<br>\n",
    "<br>\n",
    "<br>"
   ]
  },
  {
   "cell_type": "raw",
   "metadata": {},
   "source": [
    "<br>\n",
    "<br>\n",
    "<font size=3></font>\n",
    "\n",
    "<a href=\"\" style=\"text-decoration:none;font-size:70%\">[link]</a>\n",
    "<a href=\"\" style=\"text-decoration:none;font-size:120%\"></a>\n",
    "\n",
    "\n",
    "<a href=\"\" style=\"text-decoration:none;color:maroon;font-size:120%;\"></a>\n",
    "\n",
    "&emsp;&emsp;&emsp;&ensp;\n",
    "<a href=\"\" style=\"text-decoration:none;color:maroon;font-size:140%;font-weight:bold;\"></a>\n",
    "\n",
    "\n",
    "<font size=4>\n",
    "    \n",
    "```python\n",
    "\n",
    "```\n",
    "\n",
    "</font>"
   ]
  },
  {
   "cell_type": "markdown",
   "metadata": {},
   "source": [
    "<br>\n",
    "<br>\n",
    "<br>"
   ]
  }
 ],
 "metadata": {
  "kernelspec": {
   "display_name": "Python [conda env:ptg]",
   "language": "python",
   "name": "conda-env-ptg-py"
  },
  "language_info": {
   "codemirror_mode": {
    "name": "ipython",
    "version": 3
   },
   "file_extension": ".py",
   "mimetype": "text/x-python",
   "name": "python",
   "nbconvert_exporter": "python",
   "pygments_lexer": "ipython3",
   "version": "3.9.7"
  },
  "toc": {
   "base_numbering": 1,
   "nav_menu": {},
   "number_sections": true,
   "sideBar": true,
   "skip_h1_title": false,
   "title_cell": "Table of Contents",
   "title_sidebar": "Contents",
   "toc_cell": false,
   "toc_position": {},
   "toc_section_display": true,
   "toc_window_display": true
  },
  "varInspector": {
   "cols": {
    "lenName": 16,
    "lenType": 16,
    "lenVar": 40
   },
   "kernels_config": {
    "python": {
     "delete_cmd_postfix": "",
     "delete_cmd_prefix": "del ",
     "library": "var_list.py",
     "varRefreshCmd": "print(var_dic_list())"
    },
    "r": {
     "delete_cmd_postfix": ") ",
     "delete_cmd_prefix": "rm(",
     "library": "var_list.r",
     "varRefreshCmd": "cat(var_dic_list()) "
    }
   },
   "types_to_exclude": [
    "module",
    "function",
    "builtin_function_or_method",
    "instance",
    "_Feature"
   ],
   "window_display": false
  }
 },
 "nbformat": 4,
 "nbformat_minor": 4
}
