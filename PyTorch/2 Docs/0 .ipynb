{
 "cells": [
  {
   "cell_type": "markdown",
   "metadata": {},
   "source": [
    "<br>"
   ]
  },
  {
   "cell_type": "markdown",
   "metadata": {},
   "source": [
    "<div align=center><font color=maroon size=6><b>PyTorch Documentation</b></font></div>"
   ]
  },
  {
   "cell_type": "markdown",
   "metadata": {},
   "source": [
    "<br>"
   ]
  },
  {
   "cell_type": "markdown",
   "metadata": {},
   "source": [
    "<font size=4><b>References:</b></font>\n",
    "* <a href=\"https://pytorch.org/docs/stable/index.html\" style=\"text-decoration:none;\">Docs > PyTorch documentation</a>\n",
    "\n",
    "    * **Notes**\n",
    "        * Docs > 1 <a href=\"https://pytorch.org/docs/stable/notes/amp_examples.html\" style=\"text-decoration:none;\">Automatic Mixed Precision examples</a>\n"
   ]
  },
  {
   "cell_type": "code",
   "execution_count": null,
   "metadata": {},
   "outputs": [],
   "source": []
  },
  {
   "cell_type": "code",
   "execution_count": null,
   "metadata": {},
   "outputs": [],
   "source": []
  },
  {
   "cell_type": "markdown",
   "metadata": {},
   "source": [
    "<br>\n",
    "<br>\n",
    "<br>\n",
    "\n",
    "<font size=3></font>\n",
    "\n",
    "<img src=\"./images/.png\" width=800px>\n",
    "\n",
    "<a href=\"\" style=\"text-decoration:none;font-size:70%\">[link]</a>\n",
    "<a href=\"\" style=\"text-decoration:none;font-size:120%\"></a>\n",
    "\n",
    "\n",
    "<a href=\"\" style=\"text-decoration:none;color:maroon;font-size:120%;\"></a>\n",
    "\n",
    "&emsp;&emsp;&emsp;&ensp;\n",
    "<a href=\"\" style=\"text-decoration:none;color:maroon;font-size:140%;font-weight:bold;\"></a>\n",
    "\n",
    "\n",
    "<font style=\"font-size:120%;LINE-HEIGHT: 30px\">\n",
    "\n",
    "```python\n",
    "\n",
    "```\n",
    "\n",
    "</font>\n",
    "\n",
    "<font color=maroon>****</font>"
   ]
  },
  {
   "cell_type": "markdown",
   "metadata": {},
   "source": [
    "<br>\n",
    "<br>\n",
    "<br>"
   ]
  }
 ],
 "metadata": {
  "kernelspec": {
   "display_name": "Python [conda env:ptg]",
   "language": "python",
   "name": "conda-env-ptg-py"
  },
  "language_info": {
   "codemirror_mode": {
    "name": "ipython",
    "version": 3
   },
   "file_extension": ".py",
   "mimetype": "text/x-python",
   "name": "python",
   "nbconvert_exporter": "python",
   "pygments_lexer": "ipython3",
   "version": "3.9.7"
  },
  "toc": {
   "base_numbering": 1,
   "nav_menu": {},
   "number_sections": true,
   "sideBar": true,
   "skip_h1_title": false,
   "title_cell": "Table of Contents",
   "title_sidebar": "Contents",
   "toc_cell": false,
   "toc_position": {},
   "toc_section_display": true,
   "toc_window_display": false
  },
  "varInspector": {
   "cols": {
    "lenName": 16,
    "lenType": 16,
    "lenVar": 40
   },
   "kernels_config": {
    "python": {
     "delete_cmd_postfix": "",
     "delete_cmd_prefix": "del ",
     "library": "var_list.py",
     "varRefreshCmd": "print(var_dic_list())"
    },
    "r": {
     "delete_cmd_postfix": ") ",
     "delete_cmd_prefix": "rm(",
     "library": "var_list.r",
     "varRefreshCmd": "cat(var_dic_list()) "
    }
   },
   "types_to_exclude": [
    "module",
    "function",
    "builtin_function_or_method",
    "instance",
    "_Feature"
   ],
   "window_display": false
  }
 },
 "nbformat": 4,
 "nbformat_minor": 4
}
