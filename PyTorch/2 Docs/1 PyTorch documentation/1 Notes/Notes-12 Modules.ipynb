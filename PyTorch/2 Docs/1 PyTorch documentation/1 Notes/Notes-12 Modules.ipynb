{
 "cells": [
  {
   "cell_type": "markdown",
   "metadata": {},
   "source": [
    "<br>"
   ]
  },
  {
   "cell_type": "markdown",
   "metadata": {},
   "source": [
    "<div align=center><font color=maroon size=6><b>Modules</b></font></div>"
   ]
  },
  {
   "cell_type": "markdown",
   "metadata": {},
   "source": [
    "<font size=4><b>References:</b></font>\n",
    "* <a href=\"https://pytorch.org/docs/stable/index.html\" style=\"text-decoration:none;\">Docs > PyTorch documentation</a>\n",
    "\n",
    "    * **Notes**\n",
    "        * Docs > 12 <a href=\"https://pytorch.org/docs/stable/notes/modules.html\" style=\"text-decoration:none;\">Modules</a>\n",
    "    *\n",
    "    * Docs > torch.nn > <a href=\"https://pytorch.org/docs/stable/generated/torch.nn.Module.html#torch.nn.Module\" style=\"text-decoration:none;\">Module</a>\n",
    "        \n"
   ]
  },
  {
   "cell_type": "markdown",
   "metadata": {},
   "source": [
    "<br>\n",
    "<br>\n",
    "<br>"
   ]
  },
  {
   "cell_type": "markdown",
   "metadata": {},
   "source": [
    "PyTorch uses modules to represent neural networks. Modules are:\n",
    "\n",
    "* **Building blocks of stateful computation**. PyTorch provides a robust library of modules and makes it simple to define new custom modules, allowing for easy construction of elaborate, multi-layer neural networks.\n",
    "\n",
    "\n",
    "* **Tightly integrated with PyTorch’s <a href=\"https://pytorch.org/tutorials/beginner/blitz/autograd_tutorial.html\" style=\"text-decoration:none;font-size:120%;color:maroon\">autograd</a> system**. Modules make it simple to specify learnable parameters for PyTorch’s Optimizers to update.\n",
    "\n",
    "\n",
    "* **Easy to work with and transform**. Modules are straightforward to save and restore, transfer between CPU / GPU / TPU devices, prune, quantize, and more."
   ]
  },
  {
   "cell_type": "markdown",
   "metadata": {},
   "source": [
    "This note describes modules, and is intended for all PyTorch users. Since modules are so fundamental to PyTorch, many topics in this note are elaborated on in other notes or tutorials, and links to many of those documents are provided here as well."
   ]
  },
  {
   "cell_type": "markdown",
   "metadata": {},
   "source": [
    "<br>\n",
    "<br>\n",
    "<br>"
   ]
  },
  {
   "cell_type": "markdown",
   "metadata": {},
   "source": [
    "# A Simple Custom Module"
   ]
  },
  {
   "cell_type": "markdown",
   "metadata": {},
   "source": [
    "To get started, let’s look at a simpler, custom version of PyTorch’s <a href=\"https://pytorch.org/docs/stable/generated/torch.nn.Linear.html#torch.nn.Linear\" style=\"text-decoration:none;font-size:120%\">Linear</a> module. This module applies an affine transformation to its input."
   ]
  },
  {
   "cell_type": "code",
   "execution_count": 1,
   "metadata": {},
   "outputs": [],
   "source": [
    "import torch\n",
    "from torch import nn\n",
    "\n",
    "class MyLinear(nn.Module):\n",
    "    def __init__(self, in_features, out_features):    \n",
    "        super().__init__()\n",
    "        self.weight = nn.Parameter(torch.randn(in_features, out_features))\n",
    "        self.bias = nn.Parameter(torch.randn(out_features))\n",
    "\n",
    "    def forward(self, input):\n",
    "        return (input @ self.weight) + self.bias"
   ]
  },
  {
   "cell_type": "markdown",
   "metadata": {},
   "source": [
    "<br>"
   ]
  },
  {
   "cell_type": "markdown",
   "metadata": {},
   "source": [
    "This simple module has the following fundamental characteristics of modules:\n",
    "\n",
    "<a href=\"\" style=\"text-decoration:none;font-size:120%\"></a>\n",
    "* **It inherits from the base Module class**. All modules should subclass <a href=\"https://pytorch.org/docs/stable/generated/torch.nn.Module.html#torch.nn.Module\" style=\"text-decoration:none;font-size:120%\">Module</a> for composability with other modules.\n",
    "\n",
    "\n",
    "* **It defines some “state” that is used in computation**. Here, the state consists of randomly-initialized `weight` and `bias` tensors that define the affine transformation. Because each of these is defined as a <a href=\"https://pytorch.org/docs/stable/generated/torch.nn.parameter.Parameter.html#torch.nn.parameter.Parameter\" style=\"text-decoration:none;font-size:120%\">Parameter</a>, they are *registered* for the module and will automatically be tracked and returned from calls to <a href=\"https://pytorch.org/docs/stable/generated/torch.nn.Module.html#torch.nn.Module.parameters\" style=\"text-decoration:none;font-size:120%\">parameters()</a>. Parameters can be considered the “learnable” aspects of the module’s computation (more on this later). <br><font color=maroon>Note that</font> modules are not required to have state, and can also be stateless.\n",
    "\n",
    "\n",
    "* **It defines a `forward()` function that performs the computation**. For this affine transformation module, the input is matrix-multiplied with the `weight` parameter (using the `@` short-hand notation) and added to the `bias` parameter to produce the output. <font color=maroon>More generally, the ***forward()*** implementation for a module can perform arbitrary computation involving any number of inputs and outputs.</font>"
   ]
  },
  {
   "cell_type": "markdown",
   "metadata": {},
   "source": [
    "<br>"
   ]
  },
  {
   "cell_type": "markdown",
   "metadata": {},
   "source": [
    "This simple module demonstrates how modules package state and computation together. Instances of this module can be constructed and called:"
   ]
  },
  {
   "cell_type": "code",
   "execution_count": 2,
   "metadata": {},
   "outputs": [
    {
     "data": {
      "text/plain": [
       "tensor([-0.0692, -1.2982, -1.2659], grad_fn=<AddBackward0>)"
      ]
     },
     "execution_count": 2,
     "metadata": {},
     "output_type": "execute_result"
    }
   ],
   "source": [
    "m = MyLinear(4, 3)\n",
    "sample_input = torch.randn(4)\n",
    "m(sample_input)"
   ]
  },
  {
   "cell_type": "markdown",
   "metadata": {},
   "source": [
    "<font color=maroon size=3>**Note that** the module itself is callable, and that calling it invokes its `forward()` function. This name is in reference to the concepts of “***forward pass***” and “***backward pass***”, which apply to each module.</font> \n",
    "\n",
    "* The “forward pass” is responsible for applying the computation represented by the module to the given input(s) (as shown in the above snippet). \n",
    "\n",
    "\n",
    "* The “backward pass” computes gradients of module outputs with respect to its inputs, which can be used for “training” parameters through gradient descent methods. <font size=3 color=maroon>PyTorch’s autograd system automatically takes care of this backward pass computation, so it is not required to manually implement a backward() function for each module.</font> The process of training module parameters through successive forward / backward passes is covered in detail in `Neural Network Training with Modules` (section below)."
   ]
  },
  {
   "cell_type": "markdown",
   "metadata": {},
   "source": [
    "<br>"
   ]
  },
  {
   "cell_type": "markdown",
   "metadata": {},
   "source": [
    "<font size=3 color=maroon>The full set of parameters registered by the module can be iterated through via a call to <a href=\"https://pytorch.org/docs/stable/generated/torch.nn.Module.html#torch.nn.Module.parameters\" style=\"text-decoration:none;\">parameters()</a> or <a href=\"https://pytorch.org/docs/stable/generated/torch.nn.Module.html#torch.nn.Module.named_parameters\" style=\"text-decoration:none;\">named_parameters()</a>, where the latter includes each parameter’s name:</font>"
   ]
  },
  {
   "cell_type": "code",
   "execution_count": 3,
   "metadata": {},
   "outputs": [
    {
     "name": "stdout",
     "output_type": "stream",
     "text": [
      "('weight', Parameter containing:\n",
      "tensor([[-0.8679,  0.8940,  0.5968],\n",
      "        [-0.4719,  0.4308,  0.2619],\n",
      "        [ 1.9759, -1.5626,  0.1574],\n",
      "        [ 0.0448, -0.5637, -0.5490]], requires_grad=True))\n",
      "('bias', Parameter containing:\n",
      "tensor([-0.0614, -0.0512,  1.3729], requires_grad=True))\n"
     ]
    }
   ],
   "source": [
    "for parameter in m.named_parameters():\n",
    "    print(parameter)"
   ]
  },
  {
   "cell_type": "markdown",
   "metadata": {},
   "source": [
    "<br>"
   ]
  },
  {
   "cell_type": "markdown",
   "metadata": {},
   "source": [
    "In general, the parameters registered by a module are aspects of the module’s computation that should be “learned”. A later section of this note shows how to update these parameters using one of PyTorch’s Optimizers. Before we get to that, however, let’s first examine how modules can be composed with one another."
   ]
  },
  {
   "cell_type": "markdown",
   "metadata": {},
   "source": [
    "<br>\n",
    "<br>\n",
    "<br>"
   ]
  },
  {
   "cell_type": "markdown",
   "metadata": {},
   "source": [
    "# Modules as Building Blocks"
   ]
  },
  {
   "cell_type": "markdown",
   "metadata": {},
   "source": [
    "Modules can contain other modules, making them useful building blocks for developing more elaborate functionality. \n",
    "\n",
    "<font size=3 color=maroon>**①** The simplest way to do this is using the <a href=\"https://pytorch.org/docs/stable/generated/torch.nn.Sequential.html#torch.nn.Sequential\" style=\"text-decoration:none;font-size:120%\">Sequential</a> module. It allows us to chain together multiple modules:</font>"
   ]
  },
  {
   "cell_type": "code",
   "execution_count": 4,
   "metadata": {},
   "outputs": [
    {
     "data": {
      "text/plain": [
       "tensor([-6.4835], grad_fn=<AddBackward0>)"
      ]
     },
     "execution_count": 4,
     "metadata": {},
     "output_type": "execute_result"
    }
   ],
   "source": [
    "net = nn.Sequential( MyLinear(4, 3),\n",
    "                     nn.ReLU(),\n",
    "                     MyLinear(3, 1)\n",
    "                    )\n",
    "\n",
    "sample_input = torch.randn(4)\n",
    "net(sample_input)"
   ]
  },
  {
   "cell_type": "markdown",
   "metadata": {},
   "source": [
    "Note that `Sequential` automatically feeds the output of the first MyLinear` module as input into the `ReLU`, and the output of that as input into the second `MyLinear` module. As shown, it is limited to in-order chaining of modules with a single input and output."
   ]
  },
  {
   "cell_type": "markdown",
   "metadata": {},
   "source": [
    "<br>"
   ]
  },
  {
   "cell_type": "markdown",
   "metadata": {},
   "source": [
    "<font size=3 color=maroon>**②** In general, it is recommended to **define a custom module** for anything beyond the simplest use cases, as this gives full flexibility on how submodules are used for a module’s computation.</font>\n",
    "For example, here’s a simple neural network implemented as a custom module:"
   ]
  },
  {
   "cell_type": "code",
   "execution_count": 5,
   "metadata": {},
   "outputs": [],
   "source": [
    "import torch.nn.functional as F\n",
    "\n",
    "class Net(nn.Module):\n",
    "    def __init__(self):\n",
    "        super().__init__()\n",
    "        self.l0 = MyLinear(4, 3)\n",
    "        self.l1 = MyLinear(3, 1)\n",
    "        \n",
    "        \n",
    "    def forward(self, x):\n",
    "        x = self.l0(x)\n",
    "        x = F.relu(x)\n",
    "        x = self.l1(x)\n",
    "        return x"
   ]
  },
  {
   "cell_type": "markdown",
   "metadata": {},
   "source": [
    "<br>"
   ]
  },
  {
   "cell_type": "markdown",
   "metadata": {},
   "source": [
    "This module is composed of two “children” or “submodules” (`l0` and `l1`) that define the layers of the neural network and are utilized for computation within the module’s `forward()` method. <font color=maroon size=3>Immediate children of a module can be iterated through via a call to <a href=\"https://pytorch.org/docs/stable/generated/torch.nn.Module.html#torch.nn.Module.children\" style=\"text-decoration:none;font-size:120%\">children()</a> or <a href=\"https://pytorch.org/docs/stable/generated/torch.nn.Module.html#torch.nn.Module.named_children\" style=\"text-decoration:none;font-size:120%\">named_children()</a>:</font>"
   ]
  },
  {
   "cell_type": "code",
   "execution_count": 6,
   "metadata": {},
   "outputs": [
    {
     "name": "stdout",
     "output_type": "stream",
     "text": [
      "('l0', MyLinear())\n",
      "('l1', MyLinear())\n"
     ]
    }
   ],
   "source": [
    "net = Net()\n",
    "for child in net.named_children():\n",
    "    print(child)"
   ]
  },
  {
   "cell_type": "markdown",
   "metadata": {},
   "source": [
    "<font size=3 color=maroon>To go deeper than just the immediate children, <a href=\"https://pytorch.org/docs/stable/generated/torch.nn.Module.html#torch.nn.Module.modules\" style=\"text-decoration:none;font-size:140%\">modules()</a> and <a href=\"https://pytorch.org/docs/stable/generated/torch.nn.Module.html#torch.nn.Module.named_modules\" style=\"text-decoration:none;font-size:140%\">named_modules()</a> recursively iterate through a module and its child modules:</font>"
   ]
  },
  {
   "cell_type": "code",
   "execution_count": 7,
   "metadata": {},
   "outputs": [
    {
     "name": "stdout",
     "output_type": "stream",
     "text": [
      "('', BigNet(\n",
      "  (l1): MyLinear()\n",
      "  (net): Net(\n",
      "    (l0): MyLinear()\n",
      "    (l1): MyLinear()\n",
      "  )\n",
      "))\n",
      "\n",
      "\n",
      "\n",
      "('l1', MyLinear())\n",
      "\n",
      "\n",
      "\n",
      "('net', Net(\n",
      "  (l0): MyLinear()\n",
      "  (l1): MyLinear()\n",
      "))\n",
      "\n",
      "\n",
      "\n",
      "('net.l0', MyLinear())\n",
      "\n",
      "\n",
      "\n",
      "('net.l1', MyLinear())\n",
      "\n",
      "\n",
      "\n"
     ]
    }
   ],
   "source": [
    "class BigNet(nn.Module):\n",
    "    def __init__(self):\n",
    "        super().__init__()\n",
    "        self.l1 = MyLinear(5, 4)\n",
    "        self.net = Net()\n",
    "    def forward(self, x):\n",
    "        return self.net(self.l1(x))\n",
    "\n",
    "big_net = BigNet()\n",
    "\n",
    "for module in big_net.named_modules():\n",
    "    print(module)\n",
    "    print(\"\\n\\n\")"
   ]
  },
  {
   "cell_type": "markdown",
   "metadata": {},
   "source": [
    "<br>"
   ]
  },
  {
   "cell_type": "markdown",
   "metadata": {},
   "source": [
    "<font size=3 color=maroon>Sometimes, it’s necessary for a module to ***dynamically*** define submodules. The <a href=\"https://pytorch.org/docs/stable/generated/torch.nn.ModuleList.html#torch.nn.ModuleList\" style=\"text-decoration:none;font-size:140%\">ModuleList</a> and <a href=\"https://pytorch.org/docs/stable/generated/torch.nn.ModuleDict.html#torch.nn.ModuleDict\" style=\"text-decoration:none;font-size:140%\">ModuleDict</a> modules are useful here; they register submodules from a list or dict:</font>"
   ]
  },
  {
   "cell_type": "code",
   "execution_count": 8,
   "metadata": {},
   "outputs": [],
   "source": [
    "class DynamicNet(nn.Module):\n",
    "    def __init__(self, num_layers):\n",
    "        super().__init__()\n",
    "        \n",
    "        self.linears = nn.ModuleList([MyLinear(4, 4) for _ in range(num_layers)])\n",
    "        \n",
    "        self.activations = nn.ModuleDict({\n",
    "                                            'relu': nn.ReLU(),\n",
    "                                            'lrelu': nn.LeakyReLU()\n",
    "                                          })\n",
    "        self.final = MyLinear(4, 1)\n",
    "        \n",
    "        \n",
    "    def forward(self, x, act):\n",
    "        for linear in self.linears:\n",
    "            x = linear(x)\n",
    "        x = self.activations[act](x)\n",
    "        x = self.final(x)\n",
    "        return x\n",
    "\n",
    "dynamic_net = DynamicNet(3)\n",
    "sample_input = torch.randn(4)\n",
    "output = dynamic_net(sample_input, 'relu')"
   ]
  },
  {
   "cell_type": "markdown",
   "metadata": {},
   "source": [
    "<br>"
   ]
  },
  {
   "cell_type": "markdown",
   "metadata": {},
   "source": [
    "<font size=3>For any given module, its parameters consist of its direct parameters as well as the parameters of all submodules. This means that calls to <font size=3 color=royalblue>parameters()</font> and <font size=3 color=royalblue>named_parameters()</font> will recursively include child parameters, allowing for convenient optimization of all parameters within the network:</font>"
   ]
  },
  {
   "cell_type": "code",
   "execution_count": 9,
   "metadata": {},
   "outputs": [
    {
     "name": "stdout",
     "output_type": "stream",
     "text": [
      "('linears.0.weight', Parameter containing:\n",
      "tensor([[ 0.9594,  0.3050, -0.0236,  0.0818],\n",
      "        [ 1.0976,  0.3846, -0.1098, -0.3091],\n",
      "        [ 0.8139,  1.0370, -0.1931,  0.0950],\n",
      "        [ 0.8216, -0.3188, -0.6324, -0.6008]], requires_grad=True))\n",
      "\n",
      "\n",
      "\n",
      "('linears.0.bias', Parameter containing:\n",
      "tensor([ 1.2495, -0.2980,  0.5774,  2.6722], requires_grad=True))\n",
      "\n",
      "\n",
      "\n",
      "('linears.1.weight', Parameter containing:\n",
      "tensor([[-0.1008,  0.7331, -0.1222,  1.1851],\n",
      "        [ 0.1915, -0.4632,  1.1368,  0.1098],\n",
      "        [-0.1662,  0.2038, -0.8503, -1.1514],\n",
      "        [ 0.6006,  1.0944,  0.4019,  0.0089]], requires_grad=True))\n",
      "\n",
      "\n",
      "\n",
      "('linears.1.bias', Parameter containing:\n",
      "tensor([ 0.1764,  0.4415, -0.3940, -0.5502], requires_grad=True))\n",
      "\n",
      "\n",
      "\n",
      "('linears.2.weight', Parameter containing:\n",
      "tensor([[-0.2076,  0.0495, -0.1150, -0.4540],\n",
      "        [-1.7840, -1.6986, -0.0602, -0.6261],\n",
      "        [ 0.3608, -0.2059,  0.2944, -0.4641],\n",
      "        [ 0.7618, -0.0397,  1.7887,  0.5004]], requires_grad=True))\n",
      "\n",
      "\n",
      "\n",
      "('linears.2.bias', Parameter containing:\n",
      "tensor([-0.5100, -0.4986,  0.6207, -0.0283], requires_grad=True))\n",
      "\n",
      "\n",
      "\n",
      "('final.weight', Parameter containing:\n",
      "tensor([[-0.1327],\n",
      "        [ 1.3957],\n",
      "        [ 1.9149],\n",
      "        [-1.1961]], requires_grad=True))\n",
      "\n",
      "\n",
      "\n",
      "('final.bias', Parameter containing:\n",
      "tensor([-1.3460], requires_grad=True))\n",
      "\n",
      "\n",
      "\n"
     ]
    }
   ],
   "source": [
    "for parameter in dynamic_net.named_parameters():\n",
    "    print(parameter)\n",
    "    print(\"\\n\\n\")"
   ]
  },
  {
   "cell_type": "markdown",
   "metadata": {},
   "source": [
    "<br>"
   ]
  },
  {
   "cell_type": "markdown",
   "metadata": {},
   "source": [
    "<font size=3 color=maroon>It’s also easy to move all parameters to a different device or change their precision using <a href=\"https://pytorch.org/docs/stable/generated/torch.nn.Module.html#torch.nn.Module.to\" style=\"text-decoration:none;font-size:140%\">to()</a>:</font>"
   ]
  },
  {
   "cell_type": "code",
   "execution_count": 10,
   "metadata": {},
   "outputs": [
    {
     "data": {
      "text/plain": [
       "tensor([-1.3460], device='cuda:0', dtype=torch.float64, grad_fn=<AddBackward0>)"
      ]
     },
     "execution_count": 10,
     "metadata": {},
     "output_type": "execute_result"
    }
   ],
   "source": [
    "# Move all parameters to a CUDA device\n",
    "dynamic_net.to(device='cuda')\n",
    "\n",
    "# Change precision of all parameters\n",
    "dynamic_net.to(dtype=torch.float64)\n",
    "\n",
    "dynamic_net(torch.randn(4, device='cuda', dtype=torch.float64), act='relu')"
   ]
  },
  {
   "cell_type": "markdown",
   "metadata": {},
   "source": [
    "<br>"
   ]
  },
  {
   "cell_type": "markdown",
   "metadata": {},
   "source": [
    "<font size=3>More generally, an arbitrary function can be applied to a module and its submodules recursively by using the <a href=\"https://pytorch.org/docs/stable/generated/torch.nn.Module.html#torch.nn.Module.apply\" style=\"text-decoration:none;font-size:140%\">apply()</a> function. <br>\n",
    "For example, to apply custom initialization to parameters of a module and its submodules:</font>"
   ]
  },
  {
   "cell_type": "code",
   "execution_count": 11,
   "metadata": {},
   "outputs": [
    {
     "data": {
      "text/plain": [
       "DynamicNet(\n",
       "  (linears): ModuleList(\n",
       "    (0): MyLinear()\n",
       "    (1): MyLinear()\n",
       "    (2): MyLinear()\n",
       "  )\n",
       "  (activations): ModuleDict(\n",
       "    (relu): ReLU()\n",
       "    (lrelu): LeakyReLU(negative_slope=0.01)\n",
       "  )\n",
       "  (final): MyLinear()\n",
       ")"
      ]
     },
     "execution_count": 11,
     "metadata": {},
     "output_type": "execute_result"
    }
   ],
   "source": [
    "# Define a function to initialize Linear weights.\n",
    "# Note that no_grad() is used here to avoid tracking this computation in the autograd graph.\n",
    "@torch.no_grad()\n",
    "def init_weights(m):\n",
    "    if isinstance(m, nn.Linear):\n",
    "        nn.init.xavier_normal_(m.weight)\n",
    "        m.bias.fill_(0.0)\n",
    "\n",
    "# Apply the function recursively on the module and its submodules.\n",
    "dynamic_net.apply(init_weights)"
   ]
  },
  {
   "cell_type": "markdown",
   "metadata": {},
   "source": [
    "<br>"
   ]
  },
  {
   "cell_type": "markdown",
   "metadata": {},
   "source": [
    "These examples show how elaborate neural networks can be formed through module composition and conveniently manipulated. To allow for quick and easy construction of neural networks with minimal boilerplate, PyTorch provides a large library of performant modules within the `torch.nn` namespace that perform common neural network operations like pooling, convolutions, loss functions, etc."
   ]
  },
  {
   "cell_type": "markdown",
   "metadata": {},
   "source": [
    "For more information, check out:\n",
    "\n",
    "* Library of PyTorch-provided modules: <a href=\"https://pytorch.org/docs/stable/nn.html\" style=\"text-decoration:none;color:maroon;\">torch.nn</a>\n",
    "\n",
    "* Defining neural net modules: <a href=\"https://pytorch.org/tutorials/beginner/examples_nn/polynomial_module.html\" style=\"text-decoration:none;color:maroon;\">https://pytorch.org/tutorials/beginner/examples_nn/polynomial_module.html</a>"
   ]
  },
  {
   "cell_type": "markdown",
   "metadata": {},
   "source": [
    "In the next section, we give a full example of training a neural network."
   ]
  },
  {
   "cell_type": "markdown",
   "metadata": {},
   "source": [
    "<br>\n",
    "<br>\n",
    "<br>"
   ]
  },
  {
   "cell_type": "markdown",
   "metadata": {},
   "source": [
    "# Neural Network Training with Modules"
   ]
  },
  {
   "cell_type": "markdown",
   "metadata": {},
   "source": [
    "Once a network is built, it has to be trained, and its parameters can be easily optimized with one of PyTorch’s Optimizers from <a href=\"https://pytorch.org/docs/stable/optim.html#module-torch.optim\" style=\"text-decoration:none;font-size:140%\">torch.optim</a>:"
   ]
  },
  {
   "cell_type": "code",
   "execution_count": 12,
   "metadata": {},
   "outputs": [
    {
     "data": {
      "text/plain": [
       "Net(\n",
       "  (l0): MyLinear()\n",
       "  (l1): MyLinear()\n",
       ")"
      ]
     },
     "execution_count": 12,
     "metadata": {},
     "output_type": "execute_result"
    }
   ],
   "source": [
    "# Create the network (from previous section) and optimizer\n",
    "net = Net()\n",
    "optimizer = torch.optim.SGD(net.parameters(), lr=1e-4, weight_decay=1e-2, momentum=0.9)\n",
    "\n",
    "# Run a sample training loop that \"teaches\" the network\n",
    "# to output the constant zero function\n",
    "for _ in range(10000):\n",
    "    input = torch.randn(4)\n",
    "    output = net(input)\n",
    "    loss = torch.abs(output)\n",
    "    net.zero_grad()\n",
    "    loss.backward()\n",
    "    optimizer.step()\n",
    "\n",
    "# After training, switch the module to eval mode to do inference, compute performance metrics, etc.\n",
    "# (see discussion below for a description of training and evaluation modes)\n",
    "\n",
    "net.eval()\n"
   ]
  },
  {
   "cell_type": "markdown",
   "metadata": {},
   "source": [
    "<font size=3>In this simplified example, the network learns to simply output zero, as any non-zero output is “penalized” according to its absolute value by employing <a href=\"https://pytorch.org/docs/stable/generated/torch.abs.html#torch.abs\" style=\"text-decoration:none;font-size:120%\">torch.abs()</a> as a loss function. While this is not a very interesting task, the key parts of training are present:\n",
    "* A network is created.\n",
    "\n",
    "    \n",
    "* An optimizer (in this case, a stochastic gradient descent optimizer) is created, and the network’s parameters are associated with it.\n",
    "\n",
    "    \n",
    "* A training loop…\n",
    "    * acquires an input,\n",
    "\n",
    "    * runs the network,\n",
    "\n",
    "    * computes a loss,\n",
    "\n",
    "    * zeros the network’s parameters’ gradients,\n",
    "\n",
    "    * calls `loss.backward()` to update the parameters’ gradients,\n",
    "\n",
    "    * calls `optimizer.step()` to apply the gradients to the parameters.</font>"
   ]
  },
  {
   "cell_type": "markdown",
   "metadata": {},
   "source": [
    "After the above snippet has been run, note that the network’s parameters have changed. In particular, examining the value of `l1`'s `weight` parameter shows that its values are now much closer to 0 (as may be expected):"
   ]
  },
  {
   "cell_type": "code",
   "execution_count": 13,
   "metadata": {},
   "outputs": [
    {
     "name": "stdout",
     "output_type": "stream",
     "text": [
      "Parameter containing:\n",
      "tensor([[-0.1493],\n",
      "        [-0.0011],\n",
      "        [-0.0008]], requires_grad=True)\n"
     ]
    }
   ],
   "source": [
    "print(net.l1.weight)"
   ]
  },
  {
   "cell_type": "markdown",
   "metadata": {},
   "source": [
    "<br>"
   ]
  },
  {
   "cell_type": "markdown",
   "metadata": {},
   "source": [
    "<font size=3>Note that the above process is done entirely while the network module is in “training mode”. <font color=maroon>Modules default to training mode and can be switched between training and evaluation modes using <a href=\"https://pytorch.org/docs/stable/generated/torch.nn.Module.html#torch.nn.Module.train\" style=\"text-decoration:none;font-size:140%\">train()</a> and <a href=\"https://pytorch.org/docs/stable/generated/torch.nn.Module.html#torch.nn.Module.eval\" style=\"text-decoration:none;font-size:140%\">eval()</a>. They can behave differently depending on which mode they are in.\n",
    "    \n",
    "For example, the **`BatchNorm`** module maintains a running mean and variance during training that are not updated when the module is in evaluation mode. In general, modules should be in training mode during training and only switched to evaluation mode for inference or evaluation. </font>\n",
    "\n",
    "Below is an example of a custom module that behaves differently between the two modes:</font>"
   ]
  },
  {
   "cell_type": "code",
   "execution_count": 14,
   "metadata": {},
   "outputs": [
    {
     "name": "stdout",
     "output_type": "stream",
     "text": [
      "training mode output: tensor([1.4434, 1.0224, 0.7387, 2.4591])\n",
      "evaluation mode output: tensor([ 0.4434,  0.0224, -0.2613,  1.4591])\n"
     ]
    }
   ],
   "source": [
    "class ModalModule(nn.Module):\n",
    "    def __init__(self):\n",
    "        super().__init__()\n",
    "\n",
    "    def forward(self, x):\n",
    "        if self.training:\n",
    "          # Add a constant only in training mode.\n",
    "          return x + 1.\n",
    "        else:\n",
    "            return x\n",
    "\n",
    "\n",
    "m = ModalModule()\n",
    "x = torch.randn(4)\n",
    "\n",
    "print('training mode output: {}'.format(m(x)))\n",
    "# : tensor([1.6614, 1.2669, 1.0617, 1.6213, 0.5481])\n",
    "\n",
    "m.eval()\n",
    "print('evaluation mode output: {}'.format(m(x)))\n",
    "# : tensor([ 0.6614,  0.2669,  0.0617,  0.6213, -0.4519])"
   ]
  },
  {
   "cell_type": "markdown",
   "metadata": {},
   "source": [
    "<br>"
   ]
  },
  {
   "cell_type": "markdown",
   "metadata": {},
   "source": [
    "## More Information\n",
    "Training neural networks can often be tricky. For more information, check out:\n",
    "\n",
    "* Using Optimizers: <a href=\"https://pytorch.org/tutorials/beginner/examples_nn/two_layer_net_optim.html\" style=\"text-decoration:none;color:maroon;\">https://pytorch.org/tutorials/beginner/examples_nn/two_layer_net_optim.html</a>.\n",
    "\n",
    "* Neural network training: <a href=\"https://pytorch.org/tutorials/beginner/blitz/neural_networks_tutorial.html\" style=\"text-decoration:none;color:maroon;\">https://pytorch.org/tutorials/beginner/blitz/neural_networks_tutorial.html</a>\n",
    "\n",
    "* Introduction to autograd: <a href=\"https://pytorch.org/tutorials/beginner/blitz/autograd_tutorial.html\" style=\"text-decoration:none;color:maroon;\">https://pytorch.org/tutorials/beginner/blitz/autograd_tutorial.html</a>"
   ]
  },
  {
   "cell_type": "markdown",
   "metadata": {},
   "source": [
    "<br>\n",
    "<br>\n",
    "<br>"
   ]
  },
  {
   "cell_type": "markdown",
   "metadata": {},
   "source": [
    "# Module State"
   ]
  },
  {
   "cell_type": "markdown",
   "metadata": {},
   "source": [
    "In the previous section, we demonstrated training a module’s “parameters”, or learnable aspects of computation. Now, if we want to save the trained model to disk, we can do so by saving its `state_dict` (i.e. “state dictionary”):"
   ]
  },
  {
   "cell_type": "raw",
   "metadata": {},
   "source": [
    "# Save the module\n",
    "torch.save(net.state_dict(), 'net.pt')\n",
    "\n",
    "...\n",
    "\n",
    "# Load the module later on\n",
    "new_net = Net()\n",
    "new_net.load_state_dict(torch.load('net.pt'))\n",
    "\n",
    "\n",
    ": <All keys matched successfully>"
   ]
  },
  {
   "cell_type": "markdown",
   "metadata": {},
   "source": [
    "<br>"
   ]
  },
  {
   "cell_type": "markdown",
   "metadata": {},
   "source": [
    "A module’s `state_dict` contains state that affects its computation. <font color=maroon>This includes, but is not limited to, the module’s ***parameters***. For some modules, it may be useful to have state beyond parameters that affects module computation but is not learnable. For such cases, PyTorch provides the concept of “***buffers***”, both “***persistent***” and “***non-persistent***”.</font> Following is an overview of the various types of state a module can have:\n",
    "\n",
    "* <font size=3 color=maroon><b>Parameters:</b></font> learnable aspects of computation; contained within the `state_dict`\n",
    "\n",
    "\n",
    "* <font size=3 color=maroon><b>Buffers:</b></font> non-learnable aspects of computation\n",
    "<br>\n",
    "<br>\n",
    "    * <font size=3 color=maroon><b>Persistent buffers:</b></font> contained within the `state_dict` (i.e. serialized when saving & loading)\n",
    "<br>\n",
    "<br>\n",
    "    * <font size=3 color=maroon><b>Non-persistent buffers:</b></font> not contained within the `state_dict` (i.e. left out of serialization)"
   ]
  },
  {
   "cell_type": "markdown",
   "metadata": {},
   "source": [
    "<br>"
   ]
  },
  {
   "cell_type": "markdown",
   "metadata": {},
   "source": [
    "As a motivating example for the use of buffers, consider a simple module that maintains a running mean. We want the current value of the running mean to be considered part of the module’s `state_dict` so that it will be restored when loading a serialized form of the module, but we don’t want it to be learnable. This snippet shows how to use <a href=\"https://pytorch.org/docs/stable/generated/torch.nn.Module.html#torch.nn.Module.register_buffer\" style=\"text-decoration:none;font-size:150%\">register_buffer()</a> to accomplish this:"
   ]
  },
  {
   "cell_type": "code",
   "execution_count": 15,
   "metadata": {},
   "outputs": [],
   "source": [
    "class RunningMean(nn.Module):\n",
    "    def __init__(self, num_features, momentum=0.9):\n",
    "        super().__init__()\n",
    "        self.momentum = momentum\n",
    "        self.register_buffer('mean', torch.zeros(num_features))\n",
    "        \n",
    "        \n",
    "    def forward(self, x):\n",
    "        self.mean = self.momentum * self.mean + (1.0 - self.momentum) * x\n",
    "        return self.mean"
   ]
  },
  {
   "cell_type": "markdown",
   "metadata": {},
   "source": [
    "Now, the current value of the running mean is considered part of the module’s `state_dict` and will be properly restored when loading the module from disk:"
   ]
  },
  {
   "cell_type": "code",
   "execution_count": 16,
   "metadata": {},
   "outputs": [
    {
     "name": "stdout",
     "output_type": "stream",
     "text": [
      "OrderedDict([('mean', tensor([ 0.3437, -0.0166, -0.2050, -0.1253]))])\n"
     ]
    }
   ],
   "source": [
    "m = RunningMean(4)   # 实例化\n",
    "\n",
    "for _ in range(10):\n",
    "    input = torch.randn(4)\n",
    "    m(input)        # 调用，input 是 forward() 函数的参数\n",
    "\n",
    "print(m.state_dict())"
   ]
  },
  {
   "cell_type": "code",
   "execution_count": 17,
   "metadata": {},
   "outputs": [],
   "source": [
    "# Serialized form will contain the 'mean' tensor\n",
    "torch.save(m.state_dict(), './model_weights/mean.pt')\n",
    "\n",
    "m_loaded = RunningMean(4)\n",
    "m_loaded.load_state_dict(torch.load('./model_weights/mean.pt'))\n",
    "\n",
    "assert(torch.all(m.mean == m_loaded.mean))"
   ]
  },
  {
   "cell_type": "markdown",
   "metadata": {},
   "source": [
    "<br>"
   ]
  },
  {
   "cell_type": "code",
   "execution_count": 18,
   "metadata": {},
   "outputs": [
    {
     "ename": "AssertionError",
     "evalue": "",
     "output_type": "error",
     "traceback": [
      "\u001b[1;31m---------------------------------------------------------------------------\u001b[0m",
      "\u001b[1;31mAssertionError\u001b[0m                            Traceback (most recent call last)",
      "\u001b[1;32m~\\AppData\\Local\\Temp/ipykernel_13300/3181068790.py\u001b[0m in \u001b[0;36m<module>\u001b[1;34m\u001b[0m\n\u001b[1;32m----> 1\u001b[1;33m \u001b[1;32massert\u001b[0m\u001b[1;33m(\u001b[0m\u001b[0mtorch\u001b[0m\u001b[1;33m.\u001b[0m\u001b[0mall\u001b[0m\u001b[1;33m(\u001b[0m\u001b[0mm\u001b[0m\u001b[1;33m.\u001b[0m\u001b[0mmean\u001b[0m \u001b[1;33m!=\u001b[0m \u001b[0mm_loaded\u001b[0m\u001b[1;33m.\u001b[0m\u001b[0mmean\u001b[0m\u001b[1;33m)\u001b[0m\u001b[1;33m)\u001b[0m\u001b[1;33m\u001b[0m\u001b[1;33m\u001b[0m\u001b[0m\n\u001b[0m",
      "\u001b[1;31mAssertionError\u001b[0m: "
     ]
    }
   ],
   "source": [
    "assert(torch.all(m.mean != m_loaded.mean))"
   ]
  },
  {
   "cell_type": "markdown",
   "metadata": {},
   "source": [
    "<br>"
   ]
  },
  {
   "cell_type": "markdown",
   "metadata": {},
   "source": [
    "<font size=3>As mentioned previously, buffers can be left out of the module’s `state_dict` by marking them as non-persistent:</font>"
   ]
  },
  {
   "cell_type": "raw",
   "metadata": {},
   "source": [
    "self.register_buffer('unserialized_thing', torch.randn(5), persistent=False)"
   ]
  },
  {
   "cell_type": "markdown",
   "metadata": {},
   "source": [
    "<br>"
   ]
  },
  {
   "cell_type": "markdown",
   "metadata": {},
   "source": [
    "<font size=3>Both persistent and non-persistent buffers are affected by model-wide device / dtype changes applied with <a href=\"https://pytorch.org/docs/stable/generated/torch.nn.Module.html#torch.nn.Module.to\" style=\"text-decoration:none;font-size:120%\">to()</a>:<font>"
   ]
  },
  {
   "cell_type": "raw",
   "metadata": {},
   "source": [
    "# Moves all module parameters and buffers to the specified device / dtype\n",
    "\n",
    "m.to(device='cuda', dtype=torch.float64)"
   ]
  },
  {
   "cell_type": "markdown",
   "metadata": {},
   "source": [
    "<br>"
   ]
  },
  {
   "cell_type": "markdown",
   "metadata": {},
   "source": [
    "<font size=3>Buffers of a module can be iterated over using <a href=\"https://pytorch.org/docs/stable/generated/torch.nn.Module.html#torch.nn.Module.buffers\" style=\"text-decoration:none;font-size:140%\">buffers()</a> or <a href=\"https://pytorch.org/docs/stable/generated/torch.nn.Module.html#torch.nn.Module.named_buffers\" style=\"text-decoration:none;font-size:140%\">named_buffers()</a>.</font>"
   ]
  },
  {
   "cell_type": "code",
   "execution_count": 19,
   "metadata": {},
   "outputs": [
    {
     "name": "stdout",
     "output_type": "stream",
     "text": [
      "('mean', tensor([ 0.3437, -0.0166, -0.2050, -0.1253]))\n"
     ]
    }
   ],
   "source": [
    "for buffer in m.named_buffers():\n",
    "    print(buffer)"
   ]
  },
  {
   "cell_type": "markdown",
   "metadata": {},
   "source": [
    "<br>"
   ]
  },
  {
   "cell_type": "markdown",
   "metadata": {},
   "source": [
    "<font size=3>The following class demonstrates the various ways of registering parameters and buffers within a module:</font>"
   ]
  },
  {
   "cell_type": "code",
   "execution_count": 20,
   "metadata": {},
   "outputs": [],
   "source": [
    "class StatefulModule(nn.Module):\n",
    "    def __init__(self):\n",
    "        super().__init__()\n",
    "        # Setting a nn.Parameter as an attribute of the module \n",
    "        # automatically registers the tensor as a parameter of the module.\n",
    "        self.param1 = nn.Parameter(torch.randn(2))\n",
    "\n",
    "        # Alternative string-based way to register a parameter.\n",
    "        self.register_parameter('param2', nn.Parameter(torch.randn(3)))\n",
    "\n",
    "        # Reserves the \"param3\" attribute as a parameter, \n",
    "        # preventing it from being set to anything except a parameter. \n",
    "        # \"None\" entries like this will not be present in the module's state_dict.\n",
    "        self.register_parameter('param3', None)\n",
    "\n",
    "        # Registers a list of parameters.\n",
    "        self.param_list = nn.ParameterList([nn.Parameter(torch.randn(2)) for i in range(3)])\n",
    "\n",
    "        # Registers a dictionary of parameters.\n",
    "        self.param_dict = nn.ParameterDict({\n",
    "                                             'foo': nn.Parameter(torch.randn(3)),\n",
    "                                             'bar': nn.Parameter(torch.randn(4))\n",
    "                                           })\n",
    "\n",
    "        # Registers a persistent buffer (one that appears in the module's state_dict).\n",
    "        self.register_buffer('buffer1', torch.randn(4), persistent=True)\n",
    "\n",
    "        # Registers a non-persistent buffer (one that does not appear in the module's state_dict).\n",
    "        self.register_buffer('buffer2', torch.randn(5), persistent=False)\n",
    "\n",
    "        # Reserves the \"buffer3\" attribute as a buffer, \n",
    "        # preventing it from being set to anything except a buffer. \n",
    "        # \"None\" entries like this will not be present in the module's state_dict.\n",
    "        self.register_buffer('buffer3', None)\n",
    "\n",
    "        # Adding a submodule registers its parameters as parameters of the module.\n",
    "        self.linear = nn.Linear(2, 3)"
   ]
  },
  {
   "cell_type": "code",
   "execution_count": 21,
   "metadata": {},
   "outputs": [
    {
     "data": {
      "text/plain": [
       "<All keys matched successfully>"
      ]
     },
     "execution_count": 21,
     "metadata": {},
     "output_type": "execute_result"
    }
   ],
   "source": [
    "m = StatefulModule()\n",
    "\n",
    "# Save and load state_dict.\n",
    "torch.save(m.state_dict(), './model_weights/state.pt')\n",
    "m_loaded = StatefulModule()\n",
    "m_loaded.load_state_dict(torch.load('./model_weights/state.pt'))"
   ]
  },
  {
   "cell_type": "code",
   "execution_count": 22,
   "metadata": {},
   "outputs": [
    {
     "data": {
      "text/plain": [
       "OrderedDict([('param1', tensor([-0.3729,  2.2189])),\n",
       "             ('param2', tensor([-1.7956, -0.6194, -0.9859])),\n",
       "             ('buffer1', tensor([ 0.3274,  1.9385,  0.5377, -0.1605])),\n",
       "             ('param_list.0', tensor([0.1502, 0.2424])),\n",
       "             ('param_list.1', tensor([-0.6630, -0.4085])),\n",
       "             ('param_list.2', tensor([0.5357, 0.2834])),\n",
       "             ('param_dict.bar', tensor([ 1.0301,  0.0989,  2.4275, -0.4275])),\n",
       "             ('param_dict.foo', tensor([-0.7691, -0.4622,  0.8227])),\n",
       "             ('linear.weight',\n",
       "              tensor([[-0.3000, -0.1974],\n",
       "                      [ 0.2125, -0.4132],\n",
       "                      [ 0.4755, -0.5445]])),\n",
       "             ('linear.bias', tensor([-0.1621,  0.3618, -0.1168]))])"
      ]
     },
     "execution_count": 22,
     "metadata": {},
     "output_type": "execute_result"
    }
   ],
   "source": [
    "# Note that non-persistent buffer \"buffer2\" and reserved attributes \"param3\" and \"buffer3\" \n",
    "# do not appear in the state_dict.\n",
    "\n",
    "# print(m_loaded.state_dict())    # print() 出来的结果显示得比较乱\n",
    "m_loaded.state_dict()"
   ]
  },
  {
   "cell_type": "markdown",
   "metadata": {},
   "source": [
    "<br>"
   ]
  },
  {
   "cell_type": "markdown",
   "metadata": {},
   "source": [
    "## More Information\n",
    "\n",
    "For more information, check out:\n",
    "\n",
    "* Saving and loading: <a href=\"https://pytorch.org/tutorials/beginner/saving_loading_models.html\" style=\"text-decoration:none;color:maroon;\">https://pytorch.org/tutorials/beginner/saving_loading_models.html</a>\n",
    "\n",
    "* Serialization semantics: <a href=\"https://pytorch.org/docs/master/notes/serialization.html\" style=\"text-decoration:none;color:maroon;\">https://pytorch.org/docs/master/notes/serialization.html</a>\n",
    "\n",
    "* What is a state dict? <a href=\"https://pytorch.org/tutorials/recipes/recipes/what_is_state_dict.html\" style=\"text-decoration:none;color:maroon;\">https://pytorch.org/tutorials/recipes/recipes/what_is_state_dict.html</a>"
   ]
  },
  {
   "cell_type": "markdown",
   "metadata": {},
   "source": [
    "<br>\n",
    "<br>\n",
    "<br>"
   ]
  },
  {
   "cell_type": "markdown",
   "metadata": {},
   "source": [
    "# Module Initialization"
   ]
  },
  {
   "cell_type": "markdown",
   "metadata": {},
   "source": [
    "<font size=3 color=maroon>By default, parameters and floating-point buffers for modules provided by `torch.nn` are initialized during module <b>instantiation as 32-bit floating point values on the CPU</b> using an initialization scheme determined to perform well historically for the module type. For certain use cases, it may be desired to initialize with a different dtype, device (e.g. GPU), or initialization technique.</font>"
   ]
  },
  {
   "cell_type": "markdown",
   "metadata": {},
   "source": [
    "Examples:"
   ]
  },
  {
   "cell_type": "code",
   "execution_count": 23,
   "metadata": {},
   "outputs": [
    {
     "data": {
      "text/plain": [
       "Parameter containing:\n",
       "tensor([[ 0.2354, -0.3309,  0.8809,  0.2355,  0.0607],\n",
       "        [-0.2414, -0.1634, -0.0852,  0.5337, -0.7892],\n",
       "        [ 0.1918,  0.2375, -0.2094,  0.8068,  0.4604]], requires_grad=True)"
      ]
     },
     "execution_count": 23,
     "metadata": {},
     "output_type": "execute_result"
    }
   ],
   "source": [
    "# Initialize module directly onto GPU.\n",
    "m = nn.Linear(5, 3, device='cuda')\n",
    "\n",
    "# Initialize module with 16-bit floating point parameters.\n",
    "m = nn.Linear(5, 3, dtype=torch.half)\n",
    "\n",
    "# Skip default parameter initialization and perform custom (e.g. orthogonal) initialization.\n",
    "m = torch.nn.utils.skip_init(nn.Linear, 5, 3)\n",
    "nn.init.orthogonal_(m.weight)"
   ]
  },
  {
   "cell_type": "markdown",
   "metadata": {},
   "source": [
    "<br>"
   ]
  },
  {
   "cell_type": "markdown",
   "metadata": {},
   "source": [
    "Note that the device and dtype options demonstrated above also apply to any floating-point buffers registered for the module:"
   ]
  },
  {
   "cell_type": "code",
   "execution_count": 24,
   "metadata": {},
   "outputs": [
    {
     "name": "stdout",
     "output_type": "stream",
     "text": [
      "tensor([0., 0., 0.], dtype=torch.float16)\n"
     ]
    }
   ],
   "source": [
    "m = nn.BatchNorm2d(3, dtype=torch.half)\n",
    "print(m.running_mean)"
   ]
  },
  {
   "cell_type": "markdown",
   "metadata": {},
   "source": [
    "<br>"
   ]
  },
  {
   "cell_type": "markdown",
   "metadata": {},
   "source": [
    "<font size=3>While module writers can use any device or dtype to initialize parameters in their custom modules, <font color=maroon>good practice is to use **`dtype=torch.float`** and **`device='cpu'`** by default as well. <br>\n",
    "**Optionally**,</font> you can provide full flexibility in these areas for your custom module by conforming to the convention demonstrated above that all torch.nn modules follow:\n",
    "\n",
    "\n",
    "* Provide a ***device*** constructor kwarg that applies to any parameters / buffers registered by the module.\n",
    "\n",
    "\n",
    "* Provide a ***dtype*** constructor kwarg that applies to any parameters / floating-point buffers registered by the module.\n",
    "\n",
    "\n",
    "* Only use **initialization functions** (i.e. functions from `torch.nn.init`) on parameters and buffers within the module’s constructor. Note that this is only required to use <a href=\"https://pytorch.org/docs/stable/generated/torch.nn.utils.skip_init.html#torch.nn.utils.skip_init\" style=\"text-decoration:none;font-size:120%\">skip_init()</a>; see <a href=\"https://pytorch.org/tutorials/prototype/skip_param_init.html#updating-modules-to-support-skipping-initialization\" style=\"text-decoration:none;color:maroon;font-size:120%;\">this page</a> for an explanation.</font>"
   ]
  },
  {
   "cell_type": "markdown",
   "metadata": {},
   "source": [
    "<br>"
   ]
  },
  {
   "cell_type": "markdown",
   "metadata": {},
   "source": [
    "## More Information"
   ]
  },
  {
   "cell_type": "markdown",
   "metadata": {},
   "source": [
    "* Skipping module parameter initialization: <a href=\"https://pytorch.org/tutorials/prototype/skip_param_init.html\" style=\"text-decoration:none;color:maroon;\">https://pytorch.org/tutorials/prototype/skip_param_init.html</a>"
   ]
  },
  {
   "cell_type": "markdown",
   "metadata": {},
   "source": [
    "<br>\n",
    "<br>\n",
    "<br>"
   ]
  },
  {
   "cell_type": "markdown",
   "metadata": {},
   "source": [
    "# Module Hooks"
   ]
  },
  {
   "cell_type": "markdown",
   "metadata": {},
   "source": [
    "In ` (upper section)Neural Network Training with Modules` `(upper section)`, we demonstrated the training process for a module, which iteratively performs forward and backward passes, updating module parameters each iteration. <font size=3 color=maroon>For more control over this process, PyTorch provides “hooks” that can perform arbitrary computation during a forward or backward pass, even modifying how the pass is done if desired.</font> Some useful examples for this functionality include ***debugging***, ***visualizing activations***, ***examining gradients in-depth***, etc. \n",
    "\n",
    "<font color=maroon size=3>Hooks can be added to modules you haven’t written yourself, meaning this functionality can be applied to third-party or PyTorch-provided modules.</font>"
   ]
  },
  {
   "cell_type": "markdown",
   "metadata": {},
   "source": [
    "<br>"
   ]
  },
  {
   "cell_type": "markdown",
   "metadata": {},
   "source": [
    "<font size=3>PyTorch provides two types of hooks for modules:</font>\n",
    "\n",
    "* <font size=3 color=maroon><b>Forward hooks</b></font> are called during the forward pass. They can be installed for a given module with <a href=\"https://pytorch.org/docs/stable/generated/torch.nn.Module.html#torch.nn.Module.register_forward_pre_hook\" style=\"text-decoration:none;font-size:120%\">register_forward_pre_hook()</a> and <a href=\"https://pytorch.org/docs/stable/generated/torch.nn.Module.html#torch.nn.Module.register_forward_hook\" style=\"text-decoration:none;font-size:120%\">register_forward_hook()</a>. These hooks will be called respectively just before the forward function is called and just after it is called. Alternatively, these hooks can be installed globally for all modules with the analagous <a href=\"https://pytorch.org/docs/stable/generated/torch.nn.modules.module.register_module_forward_pre_hook.html#torch.nn.modules.module.register_module_forward_pre_hook\" style=\"text-decoration:none;font-size:120%\">register_module_forward_pre_hook()</a> and <a href=\"https://pytorch.org/docs/stable/generated/torch.nn.modules.module.register_module_forward_hook.html#torch.nn.modules.module.register_module_forward_hook\" style=\"text-decoration:none;font-size:120%\">register_module_forward_hook()</a> functions.\n",
    "\n",
    "\n",
    "* <font size=3 color=maroon><b>Backward hooks</b></font> are called during the backward pass. They can be installed with \n",
    "<a href=\"https://pytorch.org/docs/stable/generated/torch.nn.Module.html#torch.nn.Module.register_full_backward_hook\" style=\"text-decoration:none;font-size:120%\">register_full_backward_hook()</a>. These hooks will be called when the backward for this Module has been computed and will allow the user to access the gradients for both the inputs and outputs. Alternatively, they can be installed globally for all modules with \n",
    "<a href=\"https://pytorch.org/docs/stable/generated/torch.nn.modules.module.register_module_full_backward_hook.html#torch.nn.modules.module.register_module_full_backward_hook\" style=\"text-decoration:none;font-size:120%\">register_module_full_backward_hook()</a>."
   ]
  },
  {
   "cell_type": "markdown",
   "metadata": {},
   "source": [
    "<br>"
   ]
  },
  {
   "cell_type": "markdown",
   "metadata": {},
   "source": [
    "<font color=maroon>All hooks allow the user to return an updated value that will be used throughout the remaining computation. Thus, these hooks can be used to either execute arbitrary code along the regular module forward/backward or modify some inputs/outputs without having to change the module’s `forward()` function.< /font>"
   ]
  },
  {
   "cell_type": "markdown",
   "metadata": {},
   "source": [
    "Below is an example demonstrating usage of forward and backward hooks:"
   ]
  },
  {
   "cell_type": "code",
   "execution_count": 88,
   "metadata": {},
   "outputs": [],
   "source": [
    "torch.manual_seed(1)\n",
    "\n",
    "\n",
    "def forward_pre_hook(m, inputs):\n",
    "    # Allows for examination and modification of the input before the forward pass.\n",
    "    # Note that inputs are always wrapped in a tuple.\n",
    "    input = inputs[0]\n",
    "    return input + 1.\n",
    "\n",
    "\n",
    "def forward_hook(m, inputs, output):\n",
    "    # Allows for examination of inputs / outputs and modification of the outputs\n",
    "    # after the forward pass. \n",
    "    # Note that inputs are always wrapped in a tuple while outputs are passed as-is.\n",
    "\n",
    "    # Residual computation a la ResNet.\n",
    "    return output + inputs[0]"
   ]
  },
  {
   "cell_type": "code",
   "execution_count": 89,
   "metadata": {},
   "outputs": [
    {
     "data": {
      "text/plain": [
       "tensor([[-1.5228,  0.3817, -1.0276],\n",
       "        [-0.5631, -0.8923, -0.0583]], requires_grad=True)"
      ]
     },
     "execution_count": 89,
     "metadata": {},
     "output_type": "execute_result"
    }
   ],
   "source": [
    "# Create sample module & input.\n",
    "m = nn.Linear(3, 3)\n",
    "x = torch.randn(2, 3, requires_grad=True)\n",
    "x"
   ]
  },
  {
   "cell_type": "code",
   "execution_count": 90,
   "metadata": {},
   "outputs": [
    {
     "data": {
      "text/plain": [
       "tensor([[-0.5059, -0.8158,  0.2390],\n",
       "        [-0.0043,  0.4724, -0.1714]], grad_fn=<AddmmBackward0>)"
      ]
     },
     "execution_count": 90,
     "metadata": {},
     "output_type": "execute_result"
    }
   ],
   "source": [
    "m(x)          # 对应下面 no forward hooks"
   ]
  },
  {
   "cell_type": "code",
   "execution_count": 91,
   "metadata": {},
   "outputs": [
    {
     "data": {
      "text/plain": [
       "tensor([[-0.5752, -0.7421,  0.4942],\n",
       "        [-0.0736,  0.5461,  0.0838]], grad_fn=<AddmmBackward0>)"
      ]
     },
     "execution_count": 91,
     "metadata": {},
     "output_type": "execute_result"
    }
   ],
   "source": [
    "m(x+1)        # 对应下面 forward_pre_hook 的 input + 1"
   ]
  },
  {
   "cell_type": "code",
   "execution_count": 92,
   "metadata": {},
   "outputs": [
    {
     "data": {
      "text/plain": [
       "tensor([[-2.0287, -0.4341, -0.7886],\n",
       "        [-0.5673, -0.4199, -0.2297]], grad_fn=<AddBackward0>)"
      ]
     },
     "execution_count": 92,
     "metadata": {},
     "output_type": "execute_result"
    }
   ],
   "source": [
    "m(x)+x        # 以为是 forward_hook 的 output + inputs[0]，结果不是"
   ]
  },
  {
   "cell_type": "code",
   "execution_count": 93,
   "metadata": {},
   "outputs": [
    {
     "data": {
      "text/plain": [
       "tensor([[-2.0980, -0.3604, -0.5334],\n",
       "        [-0.6366, -0.3462,  0.0256]], grad_fn=<AddBackward0>)"
      ]
     },
     "execution_count": 93,
     "metadata": {},
     "output_type": "execute_result"
    }
   ],
   "source": [
    "m(x+1)+x      # 以为是 forward_hook 的 output + inputs[0]，结果不是"
   ]
  },
  {
   "cell_type": "code",
   "execution_count": 94,
   "metadata": {},
   "outputs": [
    {
     "data": {
      "text/plain": [
       "tensor([[-1.0980,  0.6396,  0.4666],\n",
       "        [ 0.3634,  0.6538,  1.0256]], grad_fn=<AddBackward0>)"
      ]
     },
     "execution_count": 94,
     "metadata": {},
     "output_type": "execute_result"
    }
   ],
   "source": [
    "m(x+1)+(x+1)  # 对应下面 forward_hook 的 output + inputs[0]"
   ]
  },
  {
   "cell_type": "code",
   "execution_count": 95,
   "metadata": {},
   "outputs": [
    {
     "name": "stdout",
     "output_type": "stream",
     "text": [
      "output with no forward hooks: \n",
      "tensor([[-0.5059, -0.8158,  0.2390],\n",
      "        [-0.0043,  0.4724, -0.1714]], grad_fn=<AddmmBackward0>)\n",
      "\n",
      "output with forward pre hook: (input + 1)\n",
      "tensor([[-0.5752, -0.7421,  0.4942],\n",
      "        [-0.0736,  0.5461,  0.0838]], grad_fn=<AddmmBackward0>)\n",
      "\n",
      "output with both forward hooks: (output + inputs[0])\n",
      "tensor([[-1.0980,  0.6396,  0.4666],\n",
      "        [ 0.3634,  0.6538,  1.0256]], grad_fn=<AddBackward0>)\n"
     ]
    }
   ],
   "source": [
    "# ==== Demonstrate forward hooks. ====\n",
    "\n",
    "# Run input through module before and after adding hooks.\n",
    "print('output with no forward hooks: \\n{}'.format(m(x)))\n",
    "print()\n",
    "\n",
    "\n",
    "# Note that the modified input results in a different output.\n",
    "forward_pre_hook_handle = m.register_forward_pre_hook(forward_pre_hook)\n",
    "print('output with forward pre hook: (input + 1)\\n{}'.format(m(x)))\n",
    "print()\n",
    "\n",
    "# Note the modified output.\n",
    "forward_hook_handle = m.register_forward_hook(forward_hook)\n",
    "print('output with both forward hooks: (output + inputs[0])\\n{}'.format(m(x)))"
   ]
  },
  {
   "cell_type": "code",
   "execution_count": 79,
   "metadata": {},
   "outputs": [
    {
     "data": {
      "text/plain": [
       "tensor([[-1.5228,  0.3817, -1.0276],\n",
       "        [-0.5631, -0.8923, -0.0583]], requires_grad=True)"
      ]
     },
     "execution_count": 79,
     "metadata": {},
     "output_type": "execute_result"
    }
   ],
   "source": [
    "x"
   ]
  },
  {
   "cell_type": "code",
   "execution_count": 80,
   "metadata": {},
   "outputs": [
    {
     "data": {
      "text/plain": [
       "tensor([[-0.1673,  1.7133,  1.7218],\n",
       "        [ 1.2941,  1.7275,  2.2808]], grad_fn=<AddBackward0>)"
      ]
     },
     "execution_count": 80,
     "metadata": {},
     "output_type": "execute_result"
    }
   ],
   "source": [
    "m(x+1) \n",
    "\n",
    "# 与 m.register_forward_hook(forward_hook) 之前的 forward_pre_hook 对应不上了\n",
    "# 因 m.register_forward_pre_hook(forward_pre_hook)\n",
    "# 和 m.register_forward_hook(forward_hook)\n",
    "# 已经使 m 发生了改变"
   ]
  },
  {
   "cell_type": "code",
   "execution_count": 81,
   "metadata": {},
   "outputs": [
    {
     "data": {
      "text/plain": [
       "tensor([[-1.0980,  0.6396,  0.4666],\n",
       "        [ 0.3634,  0.6538,  1.0256]], grad_fn=<AddBackward0>)"
      ]
     },
     "execution_count": 81,
     "metadata": {},
     "output_type": "execute_result"
    }
   ],
   "source": [
    "m(x)   # 对应上面的 forward_hook"
   ]
  },
  {
   "cell_type": "markdown",
   "metadata": {},
   "source": [
    "<br>"
   ]
  },
  {
   "cell_type": "code",
   "execution_count": 97,
   "metadata": {},
   "outputs": [
    {
     "name": "stdout",
     "output_type": "stream",
     "text": [
      "output after removing forward hooks: \n",
      "tensor([[-0.5059, -0.8158,  0.2390],\n",
      "        [-0.0043,  0.4724, -0.1714]], grad_fn=<AddmmBackward0>)\n"
     ]
    }
   ],
   "source": [
    "# ==== Remove hooks ===\n",
    "# note that the output here matches the output before adding hooks.\n",
    "\n",
    "forward_pre_hook_handle.remove()\n",
    "forward_hook_handle.remove()\n",
    "print('output after removing forward hooks: \\n{}'.format(m(x)))"
   ]
  },
  {
   "cell_type": "code",
   "execution_count": 100,
   "metadata": {},
   "outputs": [],
   "source": [
    "torch.manual_seed(1)\n",
    "\n",
    "\n",
    "def backward_hook(m, grad_inputs, grad_outputs):\n",
    "    # Allows for examination of grad_inputs / grad_outputs and modification of\n",
    "    # grad_inputs used in the rest of the backwards pass. \n",
    "    # Note that grad_inputs and grad_outputs are always wrapped in tuples.\n",
    "    new_grad_inputs = [torch.ones_like(gi) * 42. for gi in grad_inputs]\n",
    "    return new_grad_inputs"
   ]
  },
  {
   "cell_type": "code",
   "execution_count": 101,
   "metadata": {},
   "outputs": [
    {
     "name": "stdout",
     "output_type": "stream",
     "text": [
      "x.grad with no backwards hook: \n",
      "tensor([[ 0.8994, -1.0093,  0.6292],\n",
      "        [ 0.8994, -1.0093,  0.6292]])\n",
      "\n",
      "x.grad with backwards hook: \n",
      "tensor([[42., 42., 42.],\n",
      "        [42., 42., 42.]])\n"
     ]
    }
   ],
   "source": [
    "# ==== Demonstrate backward hooks. ====\n",
    "m(x).sum().backward()\n",
    "print('x.grad with no backwards hook: \\n{}'.format(x.grad))\n",
    "print()\n",
    "\n",
    "\n",
    "# Clear gradients before running backward pass again.\n",
    "m.zero_grad()\n",
    "x.grad.zero_()\n",
    "\n",
    "\n",
    "m.register_full_backward_hook(backward_hook)\n",
    "m(x).sum().backward()\n",
    "print('x.grad with backwards hook: \\n{}'.format(x.grad))"
   ]
  },
  {
   "cell_type": "markdown",
   "metadata": {},
   "source": [
    "<br>\n",
    "<br>\n",
    "<br>"
   ]
  },
  {
   "cell_type": "markdown",
   "metadata": {},
   "source": [
    "# Advanced Features"
   ]
  },
  {
   "cell_type": "markdown",
   "metadata": {},
   "source": [
    "<font size=3>PyTorch also provides several more advanced features that are designed to work with modules. All these functionalities are available for custom-written modules, with the small caveat that certain features may require modules to conform to particular constraints in order to be supported. In-depth discussion of these features and the corresponding requirements can be found in the links below.</font>"
   ]
  },
  {
   "cell_type": "markdown",
   "metadata": {},
   "source": [
    "<br>\n",
    "<br>"
   ]
  },
  {
   "cell_type": "markdown",
   "metadata": {},
   "source": [
    "## Distributed Training"
   ]
  },
  {
   "cell_type": "markdown",
   "metadata": {},
   "source": [
    "<font size=3>Various methods for distributed training exist within PyTorch, both for scaling up training using multiple GPUs as well as training across multiple machines. Check out the <a href=\"https://pytorch.org/tutorials/beginner/dist_overview.html\" style=\"text-decoration:none;color:maroon;font-size:120%;\">distributed training overview page</a> for detailed information on how to utilize these.</font>"
   ]
  },
  {
   "cell_type": "markdown",
   "metadata": {},
   "source": [
    "<br>\n",
    "<br>"
   ]
  },
  {
   "cell_type": "markdown",
   "metadata": {},
   "source": [
    "## Profiling Performance"
   ]
  },
  {
   "cell_type": "markdown",
   "metadata": {},
   "source": [
    "<font size=3>The <a href=\"https://pytorch.org/tutorials/beginner/profiler.html\" style=\"text-decoration:none;color:maroon;font-size:120%;\">PyTorch Profiler</a> can be useful for identifying performance bottlenecks within your models. It measures and outputs performance characteristics for both memory usage and time spent.</font>\n"
   ]
  },
  {
   "cell_type": "markdown",
   "metadata": {},
   "source": [
    "<br>\n",
    "<br>"
   ]
  },
  {
   "cell_type": "markdown",
   "metadata": {},
   "source": [
    "## Improving Performance with Quantization"
   ]
  },
  {
   "cell_type": "markdown",
   "metadata": {},
   "source": [
    "<font size=3>Applying quantization techniques to modules can improve performance and memory usage by utilizing lower bitwidths than floating-point precision. Check out the various PyTorch-provided mechanisms for quantization <a href=\"https://pytorch.org/docs/stable/quantization.html\" style=\"text-decoration:none;color:maroon;font-size:120%;\">here</a>.</font>"
   ]
  },
  {
   "cell_type": "markdown",
   "metadata": {},
   "source": [
    "<br>\n",
    "<br>"
   ]
  },
  {
   "cell_type": "markdown",
   "metadata": {},
   "source": [
    "## Improving Memory Usage with Pruning"
   ]
  },
  {
   "cell_type": "markdown",
   "metadata": {},
   "source": [
    "<font size=3>Large deep learning models are often over-parametrized, resulting in high memory usage. To combat this, PyTorch provides mechanisms for model pruning, which can help reduce memory usage while maintaining task accuracy. The <a href=\"https://pytorch.org/tutorials/intermediate/pruning_tutorial.html\" style=\"text-decoration:none;color:maroon;font-size:120%;\">Pruning tutorial</a> describes how to utilize the pruning techniques PyTorch provides or define custom pruning techniques as necessary.</font>"
   ]
  },
  {
   "cell_type": "markdown",
   "metadata": {},
   "source": [
    "<br>\n",
    "<br>"
   ]
  },
  {
   "cell_type": "markdown",
   "metadata": {},
   "source": [
    "## Deploying with TorchScript"
   ]
  },
  {
   "cell_type": "markdown",
   "metadata": {},
   "source": [
    "<font size=3>When deploying a model for use in production, the overhead of Python can be unacceptable due to its poor performance characteristics. For cases like this, <a href=\"https://pytorch.org/tutorials/beginner/Intro_to_TorchScript_tutorial.html\" style=\"text-decoration:none;color:maroon;font-size:120%;\">TorchScript</a> provides a way to load and run an optimized model program from outside of Python, such as within a C++ program.</font>"
   ]
  },
  {
   "cell_type": "markdown",
   "metadata": {},
   "source": [
    "<br>\n",
    "<br>"
   ]
  },
  {
   "cell_type": "markdown",
   "metadata": {},
   "source": [
    "## Parametrizations"
   ]
  },
  {
   "cell_type": "markdown",
   "metadata": {},
   "source": [
    "<font size=3>For certain applications, it can be beneficial to constrain the parameter space during model training. <font color=maroon>For example, enforcing orthogonality of the learned parameters can improve convergence for RNNs.</font> PyTorch provides a mechanism for applying <a href=\"https://pytorch.org/tutorials/intermediate/parametrizations.html\" style=\"text-decoration:none;color:maroon;font-size:140%;\">parametrizations</a> such as this, and further allows for custom constraints to be defined.</font>"
   ]
  },
  {
   "cell_type": "markdown",
   "metadata": {},
   "source": [
    "<br>\n",
    "<br>"
   ]
  },
  {
   "cell_type": "markdown",
   "metadata": {},
   "source": [
    "## Transforming Modules with FX"
   ]
  },
  {
   "cell_type": "markdown",
   "metadata": {},
   "source": [
    "<font size=3>The <a href=\"https://pytorch.org/docs/stable/fx.html\" style=\"text-decoration:none;color:maroon;font-size:120%;\">FX</a> component of PyTorch provides a flexible way to transform modules by operating directly on module computation graphs. This can be used to programmatically generate or manipulate modules for a broad array of use cases. To explore FX, check out these examples of using FX for <a href=\"https://pytorch.org/tutorials/intermediate/fx_conv_bn_fuser.html\" style=\"text-decoration:none;color:maroon;font-size:120%;\">convolution + batch norm fusion</a> and <a href=\"https://pytorch.org/tutorials/intermediate/fx_profiling_tutorial.html\" style=\"text-decoration:none;color:maroon;font-size:120%;\">CPU performance analysis</a>.</font>"
   ]
  },
  {
   "cell_type": "markdown",
   "metadata": {},
   "source": [
    "<br>\n",
    "<br>\n",
    "<br>"
   ]
  }
 ],
 "metadata": {
  "kernelspec": {
   "display_name": "Python [conda env:ptg]",
   "language": "python",
   "name": "conda-env-ptg-py"
  },
  "language_info": {
   "codemirror_mode": {
    "name": "ipython",
    "version": 3
   },
   "file_extension": ".py",
   "mimetype": "text/x-python",
   "name": "python",
   "nbconvert_exporter": "python",
   "pygments_lexer": "ipython3",
   "version": "3.9.7"
  },
  "toc": {
   "base_numbering": 1,
   "nav_menu": {},
   "number_sections": true,
   "sideBar": true,
   "skip_h1_title": false,
   "title_cell": "Table of Contents",
   "title_sidebar": "Contents",
   "toc_cell": false,
   "toc_position": {},
   "toc_section_display": true,
   "toc_window_display": false
  },
  "varInspector": {
   "cols": {
    "lenName": 16,
    "lenType": 16,
    "lenVar": 40
   },
   "kernels_config": {
    "python": {
     "delete_cmd_postfix": "",
     "delete_cmd_prefix": "del ",
     "library": "var_list.py",
     "varRefreshCmd": "print(var_dic_list())"
    },
    "r": {
     "delete_cmd_postfix": ") ",
     "delete_cmd_prefix": "rm(",
     "library": "var_list.r",
     "varRefreshCmd": "cat(var_dic_list()) "
    }
   },
   "types_to_exclude": [
    "module",
    "function",
    "builtin_function_or_method",
    "instance",
    "_Feature"
   ],
   "window_display": false
  }
 },
 "nbformat": 4,
 "nbformat_minor": 4
}
