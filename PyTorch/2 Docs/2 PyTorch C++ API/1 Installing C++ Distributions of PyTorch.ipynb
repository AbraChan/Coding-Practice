{
 "cells": [
  {
   "cell_type": "markdown",
   "metadata": {},
   "source": [
    "<br>"
   ]
  },
  {
   "cell_type": "markdown",
   "metadata": {},
   "source": [
    "<div align=center><font color=maroon size=6><b>Installing C++ Distributions of PyTorch</b></font></div>"
   ]
  },
  {
   "cell_type": "markdown",
   "metadata": {},
   "source": [
    "<br>"
   ]
  },
  {
   "cell_type": "markdown",
   "metadata": {},
   "source": [
    "<font size=4><b>References:</b></font>\n",
    "1. Pytorch official tutorials: <a href=\"https://pytorch.org/tutorials/index.html\" style=\"text-decoration:none;\">WELCOME TO PYTORCH TUTORIALS</a>\n",
    "\n",
    "    * <a href=\"https://pytorch.org/cppdocs/installing.html#visual-studio-extension\" style=\"text-decoration:none;\">Installing C++ Distributions of PyTorch</a>\n",
    "    * \n",
    "    * Docs > <a href=\"https://pytorch.org/docs/stable/jit.html\" style=\"text-decoration:none;\">TorchScript</a>\n",
    "    * Docs > <a href=\"https://pytorch.org/cppdocs/\" style=\"text-decoration:none;\">PyTorch C++ API</a> "
   ]
  },
  {
   "cell_type": "markdown",
   "metadata": {},
   "source": [
    "<br>\n",
    "<br>\n",
    "<br>"
   ]
  },
  {
   "cell_type": "markdown",
   "metadata": {},
   "source": [
    "We provide binary distributions of all headers, libraries and CMake configuration files required to depend on PyTorch. We call this distribution <font size=3 color=maroon><b>LibTorch</b></font>, and you can download ZIP archives containing the latest LibTorch distribution on <a href=\"https://pytorch.org/get-started/locally/\" style=\"text-decoration:none;\">our website</a>. \n",
    "\n",
    "Below is a small example of writing a minimal application that depends on LibTorch and uses the `torch::Tensor` class which comes with the PyTorch C++ API."
   ]
  },
  {
   "cell_type": "markdown",
   "metadata": {},
   "source": [
    "## Minimal Example"
   ]
  },
  {
   "cell_type": "markdown",
   "metadata": {},
   "source": [
    "......"
   ]
  },
  {
   "cell_type": "markdown",
   "metadata": {},
   "source": [
    "...  A most basic CMakeLists.txt file could look like this:"
   ]
  },
  {
   "cell_type": "raw",
   "metadata": {},
   "source": [
    "\n",
    "cmake_minimum_required(VERSION 3.0 FATAL_ERROR)\n",
    "project(example-app)\n",
    "\n",
    "find_package(Torch REQUIRED)\n",
    "set(CMAKE_CXX_FLAGS \"${CMAKE_CXX_FLAGS} ${TORCH_CXX_FLAGS}\")\n",
    "\n",
    "add_executable(example-app example-app.cpp)\n",
    "target_link_libraries(example-app \"${TORCH_LIBRARIES}\")\n",
    "set_property(TARGET example-app PROPERTY CXX_STANDARD 14)\n",
    "\n",
    "\n",
    "\n",
    "# The following code block is suggested to be used on Windows.\n",
    "# According to https://github.com/pytorch/pytorch/issues/25457,\n",
    "# the DLLs need to be copied to avoid memory errors.\n",
    "if (MSVC)\n",
    "  file(GLOB TORCH_DLLS \"${TORCH_INSTALL_PREFIX}/lib/*.dll\")\n",
    "  add_custom_command(TARGET example-app\n",
    "                     POST_BUILD\n",
    "                     COMMAND ${CMAKE_COMMAND} -E copy_if_different\n",
    "                     ${TORCH_DLLS}\n",
    "                     $<TARGET_FILE_DIR:example-app>)\n",
    "endif (MSVC)\n"
   ]
  },
  {
   "cell_type": "markdown",
   "metadata": {},
   "source": [
    "<br>"
   ]
  },
  {
   "cell_type": "markdown",
   "metadata": {},
   "source": [
    "The last step is to build the application. For this, assume our example directory is laid out like this:"
   ]
  },
  {
   "cell_type": "raw",
   "metadata": {},
   "source": [
    "example-app/\n",
    "  CMakeLists.txt\n",
    "  example-app.cpp"
   ]
  },
  {
   "cell_type": "markdown",
   "metadata": {},
   "source": [
    "We can now run the following commands to build the application from within the `example-app/` folder:"
   ]
  },
  {
   "cell_type": "raw",
   "metadata": {},
   "source": [
    "\n",
    "mkdir build\n",
    "cd build\n",
    "\n",
    "\n",
    "\n",
    "cmake -DCMAKE_PREFIX_PATH=/absolute/path/to/libtorch ..\n",
    "\n",
    "cmake --build . --config Release\n"
   ]
  },
  {
   "cell_type": "markdown",
   "metadata": {},
   "source": [
    "where `/absolute/path/to/libtorch` should be the absolute (!) path to the unzipped LibTorch distribution. \n",
    "\n",
    "If PyTorch was installed via conda or pip, ***CMAKE_PREFIX_PATH*** can be queried using ***torch.utils.cmake_prefix_path*** variable. In that case CMake configuration step would look something like follows:"
   ]
  },
  {
   "cell_type": "raw",
   "metadata": {},
   "source": [
    "\n",
    "\n",
    "cmake -DCMAKE_PREFIX_PATH=`python -c 'import torch;print(torch.utils.cmake_prefix_path)'`\n",
    "\n"
   ]
  },
  {
   "cell_type": "markdown",
   "metadata": {},
   "source": [
    "<br>\n",
    "<br>"
   ]
  },
  {
   "cell_type": "markdown",
   "metadata": {},
   "source": [
    "### <font style=\"color:red;font-size:110%\">TIP</font>"
   ]
  },
  {
   "cell_type": "markdown",
   "metadata": {},
   "source": [
    "On Windows, <font color=maroon>`debug and release builds` are <b>not ABI-compatible</b></font>. \n",
    "\n",
    "<font color=maroon>If you plan to build your project in <b>debug mode</b>, please try the <b>debug version</b> of LibTorch. </font>\n",
    "\n",
    "Also, make sure you specify the correct configuration in the **`cmake --build .`** line above."
   ]
  },
  {
   "cell_type": "markdown",
   "metadata": {},
   "source": [
    "<br>\n",
    "<br>\n",
    "<br>"
   ]
  },
  {
   "cell_type": "markdown",
   "metadata": {},
   "source": [
    "## Visual Studio Extension"
   ]
  },
  {
   "cell_type": "markdown",
   "metadata": {},
   "source": [
    "<a href=\"https://marketplace.visualstudio.com/items?itemName=YiZhang.LibTorch001\" style=\"text-decoration:none;\">LibTorch Project</a> Template can help Windows developers set all libtorch project settings and link options for debug and release. It’s easy to use and you could check out the <a href=\"https://ossci-windows.s3.us-east-1.amazonaws.com/vsextension/demo.mp4\" style=\"text-decoration:none;\">demo video</a>. The only prerequisite is to download the libtorch on <a href=\"https://pytorch.org\" style=\"text-decoration:none;\">https://pytorch.org</a>"
   ]
  },
  {
   "cell_type": "markdown",
   "metadata": {},
   "source": [
    "<br>\n",
    "<br>\n",
    "<br>"
   ]
  },
  {
   "cell_type": "markdown",
   "metadata": {},
   "source": [
    "## Support"
   ]
  },
  {
   "cell_type": "markdown",
   "metadata": {},
   "source": [
    "If you run into any troubles with this installation and minimal usage guide, please use our <a href=\"https://discuss.pytorch.org/\" style=\"text-decoration:none;\">forum</a> or <a href=\"https://github.com/pytorch/pytorch/issues\" style=\"text-decoration:none;\">GitHub issues</a> to get in touch."
   ]
  },
  {
   "cell_type": "markdown",
   "metadata": {},
   "source": [
    "<br>\n",
    "<br>\n",
    "<br>"
   ]
  }
 ],
 "metadata": {
  "kernelspec": {
   "display_name": "Python [conda env:ptg]",
   "language": "python",
   "name": "conda-env-ptg-py"
  },
  "language_info": {
   "codemirror_mode": {
    "name": "ipython",
    "version": 3
   },
   "file_extension": ".py",
   "mimetype": "text/x-python",
   "name": "python",
   "nbconvert_exporter": "python",
   "pygments_lexer": "ipython3",
   "version": "3.9.7"
  },
  "toc": {
   "base_numbering": 1,
   "nav_menu": {},
   "number_sections": true,
   "sideBar": true,
   "skip_h1_title": false,
   "title_cell": "Table of Contents",
   "title_sidebar": "Contents",
   "toc_cell": false,
   "toc_position": {},
   "toc_section_display": true,
   "toc_window_display": false
  },
  "varInspector": {
   "cols": {
    "lenName": 16,
    "lenType": 16,
    "lenVar": 40
   },
   "kernels_config": {
    "python": {
     "delete_cmd_postfix": "",
     "delete_cmd_prefix": "del ",
     "library": "var_list.py",
     "varRefreshCmd": "print(var_dic_list())"
    },
    "r": {
     "delete_cmd_postfix": ") ",
     "delete_cmd_prefix": "rm(",
     "library": "var_list.r",
     "varRefreshCmd": "cat(var_dic_list()) "
    }
   },
   "types_to_exclude": [
    "module",
    "function",
    "builtin_function_or_method",
    "instance",
    "_Feature"
   ],
   "window_display": false
  }
 },
 "nbformat": 4,
 "nbformat_minor": 4
}
