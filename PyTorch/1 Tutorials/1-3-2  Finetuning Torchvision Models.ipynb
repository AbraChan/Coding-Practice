{
 "cells": [
  {
   "cell_type": "markdown",
   "metadata": {},
   "source": [
    "<br>"
   ]
  },
  {
   "cell_type": "markdown",
   "metadata": {},
   "source": [
    "<div align=center><font color=maroon size=6><b>Finetuning Torchvision Models</b></font></div>"
   ]
  },
  {
   "cell_type": "markdown",
   "metadata": {},
   "source": [
    "<br>"
   ]
  },
  {
   "cell_type": "markdown",
   "metadata": {},
   "source": [
    "<font size=4><b>References:</b></font>\n",
    "1. Pytorch official tutorials: <a href=\"https://pytorch.org/tutorials/index.html\" style=\"text-decoration:none;\">WELCOME TO PYTORCH TUTORIALS</a>\n",
    "    * Tutorials > <a href=\"https://pytorch.org/tutorials/beginner/finetuning_torchvision_models_tutorial.html\" style=\"text-decoration:none;\">Finetuning Torchvision Models</a>"
   ]
  },
  {
   "cell_type": "markdown",
   "metadata": {},
   "source": [
    "<br>\n",
    "<br>\n",
    "<br>"
   ]
  },
  {
   "cell_type": "markdown",
   "metadata": {},
   "source": [
    "**Author:** <a href=\"https://github.com/inkawhich\" style=\"text-decoration:none;color:maroon;font-size:120%;\">Nathan Inkawhich</a>"
   ]
  },
  {
   "cell_type": "markdown",
   "metadata": {},
   "source": [
    "<br>\n",
    "<br>\n",
    "<br>"
   ]
  },
  {
   "cell_type": "markdown",
   "metadata": {},
   "source": [
    "In this tutorial we will take a deeper look at how to finetune and feature extract the <a href=\"https://pytorch.org/vision/stable/models.html\" style=\"text-decoration:none;color:maroon;font-size:120%;\">torchvision models</a>, all of which have been pretrained on the 1000-class Imagenet dataset. This tutorial will give an indepth look at how to work with several modern CNN architectures, and will build an intuition for finetuning any PyTorch model. Since each model architecture is different, there is no boilerplate finetuning code that will work in all scenarios. Rather, the researcher must look at the existing architecture and make custom adjustments for each model."
   ]
  },
  {
   "cell_type": "markdown",
   "metadata": {},
   "source": [
    "<br>"
   ]
  },
  {
   "cell_type": "markdown",
   "metadata": {},
   "source": [
    "<font size=3>In this document we will perform two types of transfer learning: finetuning and feature extraction. \n",
    "    \n",
    "    \n",
    "* In <font color=maroon>**finetuning**</font>, we start with a pretrained model and update all of the model’s parameters for our new task, in essence <font color=maroon>retraining the whole model</font>. \n",
    "    \n",
    "    \n",
    "* In <font color=maroon>**feature extraction**</font>, we start with a pretrained model and only update the final layer weights from which we derive predictions. It is called feature extraction because we use the pretrained CNN as a fixed feature-extractor, and only change the output layer. \n",
    "\n",
    "    \n",
    "For more technical information about transfer learning see <a href=\"https://cs231n.github.io/transfer-learning/\" style=\"text-decoration:none;color:maroon;font-size:120%;\">\n",
    "here</a> and <a href=\"https://ruder.io/transfer-learning/\" style=\"text-decoration:none;color:maroon;font-size:120%;\">here</a>.</font>\n"
   ]
  },
  {
   "cell_type": "markdown",
   "metadata": {},
   "source": [
    "<br>"
   ]
  },
  {
   "cell_type": "markdown",
   "metadata": {},
   "source": [
    "<font size=3>In general both transfer learning methods follow the same few steps:\n",
    "\n",
    "* Initialize the pretrained model.\n",
    "* Reshape the final layer(s) to have the same number of outputs as the number of classes in the new dataset.\n",
    "* Define for the optimization algorithm which parameters we want to update during training.\n",
    "* Run the training step.</font>"
   ]
  },
  {
   "cell_type": "code",
   "execution_count": 1,
   "metadata": {},
   "outputs": [],
   "source": [
    "from __future__ import print_function\n",
    "from __future__ import division\n",
    "import torch\n",
    "import torch.nn as nn\n",
    "import torch.optim as optim\n",
    "\n",
    "import torchvision\n",
    "from torchvision import datasets, models, transforms\n",
    "\n",
    "import numpy as np\n",
    "import matplotlib.pyplot as plt\n",
    "import time\n",
    "import os\n",
    "import copy"
   ]
  },
  {
   "cell_type": "code",
   "execution_count": 2,
   "metadata": {},
   "outputs": [
    {
     "name": "stdout",
     "output_type": "stream",
     "text": [
      "PyTorch Version:  1.10.2\n",
      "Torchvision Version:  0.11.3\n"
     ]
    }
   ],
   "source": [
    "print(\"PyTorch Version: \",torch.__version__)\n",
    "print(\"Torchvision Version: \",torchvision.__version__)"
   ]
  },
  {
   "cell_type": "markdown",
   "metadata": {},
   "source": [
    "<br>\n",
    "<br>\n",
    "<br>"
   ]
  },
  {
   "cell_type": "markdown",
   "metadata": {},
   "source": [
    "## <font color=magenta>**Inputs**</font> <a href=\"https://pytorch.org/tutorials/beginner/finetuning_torchvision_models_tutorial.html#inputs\" style=\"text-decoration:none;font-size:70%\">[link]</a>"
   ]
  },
  {
   "cell_type": "markdown",
   "metadata": {},
   "source": [
    "Here are all of the parameters to change for the run. We will use the ***`hymenoptera_data`***` dataset` which can be downloaded <a href=\"https://download.pytorch.org/tutorial/hymenoptera_data.zip\" style=\"text-decoration:none;color:maroon;font-size:120%;\">here</a>. This dataset contains two classes, **bees** and **ants**, and <font color=maroon>is structured such that we can use the <a href=\"https://pytorch.org/vision/stable/generated/torchvision.datasets.ImageFolder.html\" style=\"text-decoration:none;color:maroon;font-size:120%;\">**ImageFolder**</a> dataset, rather than writing our own custom dataset. </font>\n",
    "\n",
    "Download the data and set the `data_dir` input to the root directory of the dataset. The `model_name` input is the name of the model you wish to use and must be selected from this list:\n",
    "\n",
    "<font style=\"font-size:120%;LINE-HEIGHT: 30px\">\n",
    "\n",
    "```python\n",
    "[resnet, alexnet, vgg, squeezenet, densenet, inception]\n",
    "```\n",
    "\n",
    "</font>"
   ]
  },
  {
   "cell_type": "markdown",
   "metadata": {},
   "source": [
    "The other inputs are as follows: \n",
    "\n",
    "\n",
    "* **`num_classes`** is the number of classes in the dataset, \n",
    "\n",
    "\n",
    "* **`batch_size`** is the batch size used for training and may be adjusted according to the capability of your machine, \n",
    "\n",
    "\n",
    "* **`num_epochs`** is the number of training epochs we want to run, \n",
    "\n",
    "\n",
    "* and **`feature_extract`** is a boolean that <font color=maroon>defines if we are **finetuning** or **feature extracting**</font>. If `feature_extract = False`, the model is finetuned and all model parameters are updated. If `feature_extract = True`, only the last layer parameters are updated, the others remain fixed."
   ]
  },
  {
   "cell_type": "code",
   "execution_count": 3,
   "metadata": {},
   "outputs": [],
   "source": [
    "# Top level data directory. Here we assume the format of the directory conforms\n",
    "# to the ImageFolder structure\n",
    "data_dir = \"./data/hymenoptera_data\"\n",
    "\n",
    "# Models to choose from [resnet, alexnet, vgg, squeezenet, densenet, inception]\n",
    "model_name = \"squeezenet\"\n",
    "\n",
    "# Number of classes in the dataset\n",
    "num_classes = 2\n",
    "\n",
    "# Batch size for training (change depending on how much memory you have)\n",
    "batch_size = 8\n",
    "\n",
    "# Number of epochs to train for\n",
    "num_epochs = 15\n",
    "\n",
    "# Flag for feature extracting. \n",
    "#   When False, we finetune the whole model,\n",
    "#   when True we only update the reshaped layer params\n",
    "feature_extract = True"
   ]
  },
  {
   "cell_type": "markdown",
   "metadata": {},
   "source": [
    "<br>\n",
    "<br>\n",
    "<br>"
   ]
  },
  {
   "cell_type": "markdown",
   "metadata": {},
   "source": [
    "## <font color=magenta>**Helper Functions**</font> <a href=\"https://pytorch.org/tutorials/beginner/finetuning_torchvision_models_tutorial.html#helper-functions\" style=\"text-decoration:none;font-size:70%\">[link]</a>"
   ]
  },
  {
   "cell_type": "markdown",
   "metadata": {},
   "source": [
    "Before we write the code for adjusting the models, lets define a few helper functions."
   ]
  },
  {
   "cell_type": "markdown",
   "metadata": {},
   "source": [
    "### Model Training and Validation Code <a href=\"https://pytorch.org/tutorials/beginner/finetuning_torchvision_models_tutorial.html#model-training-and-validation-code\" style=\"text-decoration:none;font-size:70%\">[link]</a>"
   ]
  },
  {
   "cell_type": "markdown",
   "metadata": {},
   "source": [
    "The `train_model` function handles the training and validation of a given model. As input, it takes a PyTorch model, a dictionary of dataloaders, a loss function, an optimizer, a specified number of epochs to train and validate for, and a boolean flag for when the model is an Inception model. \n",
    "\n",
    "The ***is_inception*** flag is used to accomodate the **`Inception v3`**` model`, as that architecture uses an auxiliary output and the overall model loss respects both the auxiliary output and the final output, as described <a href=\"https://discuss.pytorch.org/t/how-to-optimize-inception-model-with-auxiliary-classifiers/7958\" style=\"text-decoration:none;color:maroon;font-size:120%;\">here</a>. \n",
    "\n",
    "\n",
    "<font color=maroon>The function trains for the specified number of epochs and after each epoch runs a full validation step. It also keeps track of the best performing model (in terms of validation accuracy), and at the end of training returns the best performing model. After each epoch, the training and validation accuracies are printed.</font>"
   ]
  },
  {
   "cell_type": "code",
   "execution_count": 4,
   "metadata": {},
   "outputs": [],
   "source": [
    "def train_model(model, dataloaders, criterion, optimizer, num_epochs=25, is_inception=False):\n",
    "    since = time.time()\n",
    "\n",
    "    val_acc_history = []\n",
    "\n",
    "    best_model_wts = copy.deepcopy(model.state_dict())\n",
    "    best_acc = 0.0\n",
    "\n",
    "    for epoch in range(num_epochs):\n",
    "        print('Epoch {}/{}'.format(epoch, num_epochs - 1))\n",
    "        print('-' * 10)\n",
    "\n",
    "        # Each epoch has a training and validation phase\n",
    "        for phase in ['train', 'val']:\n",
    "            if phase == 'train':\n",
    "                model.train()       # Set model to training mode\n",
    "            else:\n",
    "                model.eval()        # Set model to evaluate mode\n",
    "\n",
    "            running_loss = 0.0\n",
    "            running_corrects = 0\n",
    "\n",
    "            # Iterate over data.\n",
    "            for inputs, labels in dataloaders[phase]:\n",
    "                inputs = inputs.to(device)\n",
    "                labels = labels.to(device)\n",
    "\n",
    "                # zero the parameter gradients\n",
    "                optimizer.zero_grad()\n",
    "\n",
    "                # forward\n",
    "                # track history if only in train\n",
    "                with torch.set_grad_enabled(phase == 'train'):\n",
    "                    # Get model outputs and calculate loss.\n",
    "                    # Special case for inception because in training it has an auxiliary output. \n",
    "                    #   In train mode we calculate the loss by \n",
    "                    #       summing the final output and the auxiliary output\n",
    "                    #   but in testing we only consider the final output.\n",
    "                    if is_inception and phase == 'train':\n",
    "                        # From https://discuss.pytorch.org/t/how-to-optimize-inception-model-with-auxiliary-classifiers/7958\n",
    "                        outputs, aux_outputs = model(inputs)\n",
    "                        loss1 = criterion(outputs, labels)\n",
    "                        loss2 = criterion(aux_outputs, labels)\n",
    "                        loss = loss1 + 0.4*loss2\n",
    "                    else:\n",
    "                        outputs = model(inputs)\n",
    "                        loss = criterion(outputs, labels)\n",
    "\n",
    "                    _, preds = torch.max(outputs, 1)\n",
    "\n",
    "                    # backward + optimize only if in training phase\n",
    "                    if phase == 'train':\n",
    "                        loss.backward()\n",
    "                        optimizer.step()\n",
    "\n",
    "                # statistics\n",
    "                running_loss += loss.item() * inputs.size(0)\n",
    "                running_corrects += torch.sum(preds == labels.data)\n",
    "\n",
    "            epoch_loss = running_loss / len(dataloaders[phase].dataset)\n",
    "            epoch_acc = running_corrects.double() / len(dataloaders[phase].dataset)\n",
    "\n",
    "            print('{} Loss: {:.4f} Acc: {:.4f}'.format(phase, epoch_loss, epoch_acc))\n",
    "\n",
    "            # deep copy the model\n",
    "            if phase == 'val' and epoch_acc > best_acc:\n",
    "                best_acc = epoch_acc\n",
    "                best_model_wts = copy.deepcopy(model.state_dict())\n",
    "            if phase == 'val':\n",
    "                val_acc_history.append(epoch_acc)\n",
    "\n",
    "        print()\n",
    "\n",
    "    time_elapsed = time.time() - since\n",
    "    print('Training complete in {:.0f}m {:.0f}s'.format(time_elapsed // 60, time_elapsed % 60))\n",
    "    print('Best val Acc: {:4f}'.format(best_acc))\n",
    "\n",
    "    # load best model weights\n",
    "    model.load_state_dict(best_model_wts)\n",
    "    return model, val_acc_history"
   ]
  },
  {
   "cell_type": "markdown",
   "metadata": {},
   "source": [
    "<br>\n",
    "<br>"
   ]
  },
  {
   "cell_type": "markdown",
   "metadata": {},
   "source": [
    "### Set Model Parameters’ .requires_grad attribute <a href=\"https://pytorch.org/tutorials/beginner/finetuning_torchvision_models_tutorial.html#set-model-parameters-requires-grad-attribute\" style=\"text-decoration:none;font-size:70%\">[link]</a>"
   ]
  },
  {
   "cell_type": "markdown",
   "metadata": {},
   "source": [
    "This helper function sets the ***`.requires_grad`***` attribute` of the parameters in the model to **False** when we are feature extracting. <font color=maroon>By default, when we load a pretrained model all of the parameters have `.requires_grad=True`, which is fine if we are training from scratch or finetuning. However, if we are feature extracting and only want to compute gradients for the newly initialized layer then we want all of the other parameters to not require gradients. This will make more sense later.</font>"
   ]
  },
  {
   "cell_type": "code",
   "execution_count": 5,
   "metadata": {},
   "outputs": [],
   "source": [
    "def set_parameter_requires_grad(model, feature_extracting):\n",
    "    if feature_extracting:\n",
    "        for param in model.parameters():\n",
    "            param.requires_grad = False"
   ]
  },
  {
   "cell_type": "markdown",
   "metadata": {},
   "source": [
    "<br>\n",
    "<br>\n",
    "<br>"
   ]
  },
  {
   "cell_type": "markdown",
   "metadata": {},
   "source": [
    "## <font color=magenta>**Initialize and Reshape the Networks**</font> <a href=\"https://pytorch.org/tutorials/beginner/finetuning_torchvision_models_tutorial.html#initialize-and-reshape-the-networks\" style=\"text-decoration:none;font-size:70%\">[link]</a>"
   ]
  },
  {
   "cell_type": "markdown",
   "metadata": {},
   "source": [
    "<font size=3>Now to the most interesting part. Here is where we handle the reshaping of each network. \n",
    "    \n",
    "**Note**, this is not an automatic procedure and is unique to each model. \n",
    "<br>\n",
    "<br>\n",
    "**Recall**, the final layer of a CNN model, which is often times an FC layer, has the same number of nodes as the number of output classes in the dataset. Since all of the models have been pretrained on Imagenet, they all have output layers of size 1000, one node for each class. The goal here is to reshape the last layer to have the same number of inputs as before, AND to have the same number of outputs as the number of classes in the dataset. \n",
    "\n",
    "In the following sections we will discuss how to alter the architecture of each model individually. But first, there is one important detail regarding the difference between finetuning and feature-extraction.</font>\n",
    "<font size=3>\n",
    "\n",
    "* When <font color=maroon>**feature extracting**</font>, we only want to update the parameters of the last layer, or in other words, we only want to update the parameters for the layer(s) we are reshaping. Therefore, we do not need to compute the gradients of the parameters that we are not changing, so for efficiency we set the ***`.requires_grad`***` attribute` to `False`. <font color=maroon>This is important because by default, this attribute is set to `True`. Then, when we initialize the new layer and by default the new parameters have `.requires_grad=True` so only the new layer’s parameters will be updated. </font>\n",
    "<br>\n",
    "<br>\n",
    "* When we are <font color=maroon>**finetuning**</font> we can leave all of the `.required_grad`’s set to the default of True.\n",
    "</font>"
   ]
  },
  {
   "cell_type": "markdown",
   "metadata": {},
   "source": [
    "<font size=3 color=maroon>Finally, notice that **inception_v3** requires the input size to be `(299,299)`, whereas all of the other models expect `(224,224)`.</font>"
   ]
  },
  {
   "cell_type": "markdown",
   "metadata": {},
   "source": [
    "<br>\n",
    "<br>"
   ]
  },
  {
   "cell_type": "markdown",
   "metadata": {},
   "source": [
    "### Resnet <a href=\"https://pytorch.org/tutorials/beginner/finetuning_torchvision_models_tutorial.html#resnet\" style=\"text-decoration:none;font-size:70%\">[link]</a>"
   ]
  },
  {
   "cell_type": "markdown",
   "metadata": {},
   "source": [
    "Resnet was introduced in the paper <a href=\"https://arxiv.org/abs/1512.03385\" style=\"text-decoration:none;color:maroon;font-size:120%;\">Deep Residual Learning for Image Recognition</a>. There are several variants of different sizes, including `Resnet18, Resnet34, Resnet50, Resnet101, and Resnet152`, all of which are available from torchvision models. Here we use Resnet18, as our dataset is small and only has two classes. When we print the model, we see that the last layer is a fully connected layer as shown below:\n",
    "\n",
    "<font style=\"font-size:120%;LINE-HEIGHT: 30px\">\n",
    "\n",
    "```python\n",
    "(fc): Linear(in_features=512, out_features=1000, bias=True)\n",
    "```\n",
    "\n",
    "</font>"
   ]
  },
  {
   "cell_type": "markdown",
   "metadata": {},
   "source": [
    "Thus, we must reinitialize `model.fc` to be a Linear layer with 512 input features and 2 output features with:\n",
    "\n",
    "\n",
    "<font style=\"font-size:120%;LINE-HEIGHT: 30px\">\n",
    "\n",
    "```python\n",
    "model.fc = nn.Linear(512, num_classes)\n",
    "```\n",
    "\n",
    "</font>"
   ]
  },
  {
   "cell_type": "markdown",
   "metadata": {},
   "source": [
    "<br>\n",
    "<br>"
   ]
  },
  {
   "cell_type": "markdown",
   "metadata": {},
   "source": [
    "### Alexnet <a href=\"https://pytorch.org/tutorials/beginner/finetuning_torchvision_models_tutorial.html#alexnet\" style=\"text-decoration:none;font-size:70%\">[link]</a>"
   ]
  },
  {
   "cell_type": "markdown",
   "metadata": {},
   "source": [
    "Alexnet was introduced in the paper <a href=\"https://papers.nips.cc/paper/4824-imagenet-classification-with-deep-convolutional-neural-networks.pdf\" style=\"text-decoration:none;color:maroon;font-size:120%;\">ImageNet Classification with Deep Convolutional Neural Networks</a> and was the first very successful CNN on the ImageNet dataset. When we print the model architecture, we see the model output comes from the 6th layer of the classifier:\n",
    "\n",
    "<font style=\"font-size:120%;LINE-HEIGHT: 30px\">\n",
    "\n",
    "```python\n",
    "(classifier): Sequential(\n",
    "    ...\n",
    "    (6): Linear(in_features=4096, out_features=1000, bias=True)\n",
    " )\n",
    "```\n",
    "\n",
    "</font>"
   ]
  },
  {
   "cell_type": "markdown",
   "metadata": {},
   "source": [
    "To use the model with our dataset we reinitialize this layer as:\n",
    "\n",
    "\n",
    "<font style=\"font-size:120%;LINE-HEIGHT: 30px\">\n",
    "\n",
    "```python\n",
    "model.classifier[6] = nn.Linear(4096,num_classes)\n",
    "```\n",
    "\n",
    "</font>"
   ]
  },
  {
   "cell_type": "markdown",
   "metadata": {},
   "source": [
    "<br>\n",
    "<br>"
   ]
  },
  {
   "cell_type": "markdown",
   "metadata": {},
   "source": [
    "### VGG <a href=\"https://pytorch.org/tutorials/beginner/finetuning_torchvision_models_tutorial.html#vgg\" style=\"text-decoration:none;font-size:70%\">[link]</a>"
   ]
  },
  {
   "cell_type": "markdown",
   "metadata": {},
   "source": [
    "VGG was introduced in the paper <a href=\"https://arxiv.org/pdf/1409.1556.pdf\" style=\"text-decoration:none;color:maroon;font-size:120%;\">Very Deep Convolutional Networks for Large-Scale Image Recognition</a>. Torchvision offers eight versions of VGG with various lengths and some that have batch normalizations layers. Here we use VGG-11 with batch normalization. The output layer is similar to Alexnet, i.e.\n",
    "\n",
    "\n",
    "<font style=\"font-size:120%;LINE-HEIGHT: 30px\">\n",
    "\n",
    "```python\n",
    "(classifier): Sequential(\n",
    "    ...\n",
    "    (6): Linear(in_features=4096, out_features=1000, bias=True)\n",
    " )\n",
    "```\n",
    "\n",
    "</font>"
   ]
  },
  {
   "cell_type": "markdown",
   "metadata": {},
   "source": [
    "Therefore, we use the same technique to modify the output layer:\n",
    "\n",
    "\n",
    "<font style=\"font-size:120%;LINE-HEIGHT: 30px\">\n",
    "\n",
    "```python\n",
    "model.classifier[6] = nn.Linear(4096,num_classes)\n",
    "```\n",
    "\n",
    "</font>"
   ]
  },
  {
   "cell_type": "markdown",
   "metadata": {},
   "source": [
    "<br>\n",
    "<br>"
   ]
  },
  {
   "cell_type": "markdown",
   "metadata": {},
   "source": [
    "### Squeezenet <a href=\"https://pytorch.org/tutorials/beginner/finetuning_torchvision_models_tutorial.html#squeezenet\" style=\"text-decoration:none;font-size:70%\">[link]</a>"
   ]
  },
  {
   "cell_type": "markdown",
   "metadata": {},
   "source": [
    "The Squeeznet architecture is described in the paper <a href=\"https://arxiv.org/abs/1602.07360\" style=\"text-decoration:none;color:maroon;font-size:120%;\">SqueezeNet: AlexNet-level accuracy with 50x fewer parameters and <0.5MB model size</a> and uses a different output structure than any of the other models shown here. Torchvision has two versions of Squeezenet, we use version 1.0. The output comes from a 1x1 convolutional layer which is the 1st layer of the classifier:\n",
    "\n",
    "\n",
    "<font style=\"font-size:120%;LINE-HEIGHT: 30px\">\n",
    "\n",
    "```python\n",
    "(classifier): Sequential(\n",
    "    (0): Dropout(p=0.5)\n",
    "    (1): Conv2d(512, 1000, kernel_size=(1, 1), stride=(1, 1))\n",
    "    (2): ReLU(inplace)\n",
    "    (3): AvgPool2d(kernel_size=13, stride=1, padding=0)\n",
    " )\n",
    "```\n",
    "\n",
    "</font>"
   ]
  },
  {
   "cell_type": "markdown",
   "metadata": {},
   "source": [
    "To modify the network, we reinitialize the Conv2d layer to have an output feature map of depth 2 as:\n",
    "\n",
    "\n",
    "<font style=\"font-size:120%;LINE-HEIGHT: 30px\">\n",
    "\n",
    "```python\n",
    "model.classifier[1] = nn.Conv2d(512, num_classes, kernel_size=(1,1), stride=(1,1))\n",
    "```\n",
    "\n",
    "</font>"
   ]
  },
  {
   "cell_type": "markdown",
   "metadata": {},
   "source": [
    "<br>\n",
    "<br>"
   ]
  },
  {
   "cell_type": "markdown",
   "metadata": {},
   "source": [
    "### Densenet <a href=\"https://pytorch.org/tutorials/beginner/finetuning_torchvision_models_tutorial.html#densenet\" style=\"text-decoration:none;font-size:70%\">[link]</a>"
   ]
  },
  {
   "cell_type": "markdown",
   "metadata": {},
   "source": [
    "Densenet was introduced in the paper <a href=\"https://arxiv.org/abs/1608.06993\" style=\"text-decoration:none;color:maroon;font-size:120%;\">Densely Connected Convolutional Networks</a>. Torchvision has four variants of Densenet but here we only use Densenet-121. The output layer is a linear layer with 1024 input features:\n",
    "\n",
    "\n",
    "<font style=\"font-size:120%;LINE-HEIGHT: 30px\">\n",
    "\n",
    "```python\n",
    "(classifier): Linear(in_features=1024, out_features=1000, bias=True)\n",
    "```\n",
    "\n",
    "</font>"
   ]
  },
  {
   "cell_type": "markdown",
   "metadata": {},
   "source": [
    "To reshape the network, we reinitialize the classifier’s linear layer as:\n",
    "\n",
    "\n",
    "<font style=\"font-size:120%;LINE-HEIGHT: 30px\">\n",
    "\n",
    "```python\n",
    "model.classifier = nn.Linear(1024, num_classes)\n",
    "```\n",
    "\n",
    "</font>"
   ]
  },
  {
   "cell_type": "markdown",
   "metadata": {},
   "source": [
    "<br>\n",
    "<br>"
   ]
  },
  {
   "cell_type": "markdown",
   "metadata": {},
   "source": [
    "### Inception v3 <a href=\"https://pytorch.org/tutorials/beginner/finetuning_torchvision_models_tutorial.html#inception-v3\" style=\"text-decoration:none;font-size:70%\">[link]</a>"
   ]
  },
  {
   "cell_type": "markdown",
   "metadata": {},
   "source": [
    "Finally, Inception v3 was first described in <a href=\"https://arxiv.org/pdf/1512.00567v1.pdf\" style=\"text-decoration:none;color:maroon;font-size:120%;\">Rethinking the Inception Architecture for Computer Vision</a>. This network is unique because it has two output layers when training. The second output is known as an auxiliary output and is contained in the AuxLogits part of the network. The primary output is a linear layer at the end of the network. Note, when testing we only consider the primary output. The auxiliary output and primary output of the loaded model are printed as:\n",
    "\n",
    "\n",
    "<font style=\"font-size:120%;LINE-HEIGHT: 30px\">\n",
    "\n",
    "```python\n",
    "(AuxLogits): InceptionAux(\n",
    "    ...\n",
    "    (fc): Linear(in_features=768, out_features=1000, bias=True)\n",
    " )\n",
    " ...\n",
    "(fc): Linear(in_features=2048, out_features=1000, bias=True)\n",
    "```\n",
    "\n",
    "</font>"
   ]
  },
  {
   "cell_type": "markdown",
   "metadata": {},
   "source": [
    "To finetune this model we must reshape both layers. This is accomplished with the following:\n",
    "\n",
    "\n",
    "<font style=\"font-size:120%;LINE-HEIGHT: 30px\">\n",
    "\n",
    "```python\n",
    "model.AuxLogits.fc = nn.Linear(768, num_classes)\n",
    "model.fc = nn.Linear(2048, num_classes)\n",
    "```\n",
    "\n",
    "</font>"
   ]
  },
  {
   "cell_type": "markdown",
   "metadata": {},
   "source": [
    "<br>\n",
    "<br>"
   ]
  },
  {
   "cell_type": "markdown",
   "metadata": {},
   "source": [
    "<font size=3><font color=maroon>**Notice**</font>, many of the models have similar output structures, but each must be handled slightly differently. Also, check out the printed model architecture of the reshaped network and make sure the number of output features is the same as the number of classes in the dataset.</font>\n"
   ]
  },
  {
   "cell_type": "code",
   "execution_count": 6,
   "metadata": {},
   "outputs": [],
   "source": [
    "def initialize_model(model_name, num_classes, feature_extract, use_pretrained=True):\n",
    "    # Initialize these variables which will be set in this if statement. \n",
    "    # Each of these variables is model specific.\n",
    "    model_ft = None\n",
    "    input_size = 0\n",
    "\n",
    "    if model_name == \"resnet\":\n",
    "        \"\"\" Resnet18\n",
    "        \"\"\"\n",
    "        model_ft = models.resnet18(pretrained=use_pretrained)\n",
    "        set_parameter_requires_grad(model_ft, feature_extract)\n",
    "        num_ftrs = model_ft.fc.in_features\n",
    "        model_ft.fc = nn.Linear(num_ftrs, num_classes)\n",
    "        input_size = 224\n",
    "\n",
    "    elif model_name == \"alexnet\":\n",
    "        \"\"\" Alexnet\n",
    "        \"\"\"\n",
    "        model_ft = models.alexnet(pretrained=use_pretrained)\n",
    "        set_parameter_requires_grad(model_ft, feature_extract)\n",
    "        num_ftrs = model_ft.classifier[6].in_features\n",
    "        model_ft.classifier[6] = nn.Linear(num_ftrs,num_classes)\n",
    "        input_size = 224\n",
    "\n",
    "    elif model_name == \"vgg\":\n",
    "        \"\"\" VGG11_bn\n",
    "        \"\"\"\n",
    "        model_ft = models.vgg11_bn(pretrained=use_pretrained)\n",
    "        set_parameter_requires_grad(model_ft, feature_extract)\n",
    "        num_ftrs = model_ft.classifier[6].in_features\n",
    "        model_ft.classifier[6] = nn.Linear(num_ftrs,num_classes)\n",
    "        input_size = 224\n",
    "\n",
    "    elif model_name == \"squeezenet\":\n",
    "        \"\"\" Squeezenet\n",
    "        \"\"\"\n",
    "        model_ft = models.squeezenet1_0(pretrained=use_pretrained)\n",
    "        set_parameter_requires_grad(model_ft, feature_extract)\n",
    "        model_ft.classifier[1] = nn.Conv2d(512, num_classes, kernel_size=(1,1), stride=(1,1))\n",
    "        model_ft.num_classes = num_classes\n",
    "        input_size = 224\n",
    "\n",
    "    elif model_name == \"densenet\":\n",
    "        \"\"\" Densenet\n",
    "        \"\"\"\n",
    "        model_ft = models.densenet121(pretrained=use_pretrained)\n",
    "        set_parameter_requires_grad(model_ft, feature_extract)\n",
    "        num_ftrs = model_ft.classifier.in_features\n",
    "        model_ft.classifier = nn.Linear(num_ftrs, num_classes)\n",
    "        input_size = 224\n",
    "\n",
    "    elif model_name == \"inception\":\n",
    "        \"\"\" Inception v3\n",
    "        Be careful, expects (299,299) sized images and has auxiliary output\n",
    "        \"\"\"\n",
    "        model_ft = models.inception_v3(pretrained=use_pretrained)\n",
    "        set_parameter_requires_grad(model_ft, feature_extract)\n",
    "        # Handle the auxilary net\n",
    "        num_ftrs = model_ft.AuxLogits.fc.in_features\n",
    "        model_ft.AuxLogits.fc = nn.Linear(num_ftrs, num_classes)\n",
    "        # Handle the primary net\n",
    "        num_ftrs = model_ft.fc.in_features\n",
    "        model_ft.fc = nn.Linear(num_ftrs,num_classes)\n",
    "        input_size = 299\n",
    "\n",
    "    else:\n",
    "        print(\"Invalid model name, exiting...\")\n",
    "        exit()\n",
    "\n",
    "    return model_ft, input_size"
   ]
  },
  {
   "cell_type": "code",
   "execution_count": 7,
   "metadata": {},
   "outputs": [
    {
     "name": "stdout",
     "output_type": "stream",
     "text": [
      "SqueezeNet(\n",
      "  (features): Sequential(\n",
      "    (0): Conv2d(3, 96, kernel_size=(7, 7), stride=(2, 2))\n",
      "    (1): ReLU(inplace=True)\n",
      "    (2): MaxPool2d(kernel_size=3, stride=2, padding=0, dilation=1, ceil_mode=True)\n",
      "    (3): Fire(\n",
      "      (squeeze): Conv2d(96, 16, kernel_size=(1, 1), stride=(1, 1))\n",
      "      (squeeze_activation): ReLU(inplace=True)\n",
      "      (expand1x1): Conv2d(16, 64, kernel_size=(1, 1), stride=(1, 1))\n",
      "      (expand1x1_activation): ReLU(inplace=True)\n",
      "      (expand3x3): Conv2d(16, 64, kernel_size=(3, 3), stride=(1, 1), padding=(1, 1))\n",
      "      (expand3x3_activation): ReLU(inplace=True)\n",
      "    )\n",
      "    (4): Fire(\n",
      "      (squeeze): Conv2d(128, 16, kernel_size=(1, 1), stride=(1, 1))\n",
      "      (squeeze_activation): ReLU(inplace=True)\n",
      "      (expand1x1): Conv2d(16, 64, kernel_size=(1, 1), stride=(1, 1))\n",
      "      (expand1x1_activation): ReLU(inplace=True)\n",
      "      (expand3x3): Conv2d(16, 64, kernel_size=(3, 3), stride=(1, 1), padding=(1, 1))\n",
      "      (expand3x3_activation): ReLU(inplace=True)\n",
      "    )\n",
      "    (5): Fire(\n",
      "      (squeeze): Conv2d(128, 32, kernel_size=(1, 1), stride=(1, 1))\n",
      "      (squeeze_activation): ReLU(inplace=True)\n",
      "      (expand1x1): Conv2d(32, 128, kernel_size=(1, 1), stride=(1, 1))\n",
      "      (expand1x1_activation): ReLU(inplace=True)\n",
      "      (expand3x3): Conv2d(32, 128, kernel_size=(3, 3), stride=(1, 1), padding=(1, 1))\n",
      "      (expand3x3_activation): ReLU(inplace=True)\n",
      "    )\n",
      "    (6): MaxPool2d(kernel_size=3, stride=2, padding=0, dilation=1, ceil_mode=True)\n",
      "    (7): Fire(\n",
      "      (squeeze): Conv2d(256, 32, kernel_size=(1, 1), stride=(1, 1))\n",
      "      (squeeze_activation): ReLU(inplace=True)\n",
      "      (expand1x1): Conv2d(32, 128, kernel_size=(1, 1), stride=(1, 1))\n",
      "      (expand1x1_activation): ReLU(inplace=True)\n",
      "      (expand3x3): Conv2d(32, 128, kernel_size=(3, 3), stride=(1, 1), padding=(1, 1))\n",
      "      (expand3x3_activation): ReLU(inplace=True)\n",
      "    )\n",
      "    (8): Fire(\n",
      "      (squeeze): Conv2d(256, 48, kernel_size=(1, 1), stride=(1, 1))\n",
      "      (squeeze_activation): ReLU(inplace=True)\n",
      "      (expand1x1): Conv2d(48, 192, kernel_size=(1, 1), stride=(1, 1))\n",
      "      (expand1x1_activation): ReLU(inplace=True)\n",
      "      (expand3x3): Conv2d(48, 192, kernel_size=(3, 3), stride=(1, 1), padding=(1, 1))\n",
      "      (expand3x3_activation): ReLU(inplace=True)\n",
      "    )\n",
      "    (9): Fire(\n",
      "      (squeeze): Conv2d(384, 48, kernel_size=(1, 1), stride=(1, 1))\n",
      "      (squeeze_activation): ReLU(inplace=True)\n",
      "      (expand1x1): Conv2d(48, 192, kernel_size=(1, 1), stride=(1, 1))\n",
      "      (expand1x1_activation): ReLU(inplace=True)\n",
      "      (expand3x3): Conv2d(48, 192, kernel_size=(3, 3), stride=(1, 1), padding=(1, 1))\n",
      "      (expand3x3_activation): ReLU(inplace=True)\n",
      "    )\n",
      "    (10): Fire(\n",
      "      (squeeze): Conv2d(384, 64, kernel_size=(1, 1), stride=(1, 1))\n",
      "      (squeeze_activation): ReLU(inplace=True)\n",
      "      (expand1x1): Conv2d(64, 256, kernel_size=(1, 1), stride=(1, 1))\n",
      "      (expand1x1_activation): ReLU(inplace=True)\n",
      "      (expand3x3): Conv2d(64, 256, kernel_size=(3, 3), stride=(1, 1), padding=(1, 1))\n",
      "      (expand3x3_activation): ReLU(inplace=True)\n",
      "    )\n",
      "    (11): MaxPool2d(kernel_size=3, stride=2, padding=0, dilation=1, ceil_mode=True)\n",
      "    (12): Fire(\n",
      "      (squeeze): Conv2d(512, 64, kernel_size=(1, 1), stride=(1, 1))\n",
      "      (squeeze_activation): ReLU(inplace=True)\n",
      "      (expand1x1): Conv2d(64, 256, kernel_size=(1, 1), stride=(1, 1))\n",
      "      (expand1x1_activation): ReLU(inplace=True)\n",
      "      (expand3x3): Conv2d(64, 256, kernel_size=(3, 3), stride=(1, 1), padding=(1, 1))\n",
      "      (expand3x3_activation): ReLU(inplace=True)\n",
      "    )\n",
      "  )\n",
      "  (classifier): Sequential(\n",
      "    (0): Dropout(p=0.5, inplace=False)\n",
      "    (1): Conv2d(512, 2, kernel_size=(1, 1), stride=(1, 1))\n",
      "    (2): ReLU(inplace=True)\n",
      "    (3): AdaptiveAvgPool2d(output_size=(1, 1))\n",
      "  )\n",
      ")\n"
     ]
    }
   ],
   "source": [
    "# Initialize the model for this run\n",
    "model_ft, input_size = initialize_model(model_name, num_classes, \n",
    "                                        feature_extract, use_pretrained=True)\n",
    "\n",
    "# Print the model we just instantiated\n",
    "print(model_ft)"
   ]
  },
  {
   "cell_type": "markdown",
   "metadata": {},
   "source": [
    "<br>\n",
    "<br>\n",
    "<br>"
   ]
  },
  {
   "cell_type": "markdown",
   "metadata": {},
   "source": [
    "## <font color=magenta>**Load Data**</font> <a href=\"https://pytorch.org/tutorials/beginner/finetuning_torchvision_models_tutorial.html#load-data\" style=\"text-decoration:none;font-size:70%\">[link]</a>"
   ]
  },
  {
   "cell_type": "markdown",
   "metadata": {},
   "source": [
    "Now that we know what the input size must be, we can initialize the data transforms, image datasets, and the dataloaders. Notice, the models were pretrained with the hard-coded normalization values, as described <a href=\"https://pytorch.org/docs/master/torchvision/models.html\" style=\"text-decoration:none;color:maroon;font-size:120%;\">here</a>."
   ]
  },
  {
   "cell_type": "code",
   "execution_count": 13,
   "metadata": {},
   "outputs": [
    {
     "name": "stdout",
     "output_type": "stream",
     "text": [
      "Initializing Datasets and Dataloaders...\n"
     ]
    }
   ],
   "source": [
    "# Data augmentation and normalization for training\n",
    "# Just normalization for validation\n",
    "data_transforms = {\n",
    "    'train': transforms.Compose([\n",
    "        transforms.RandomResizedCrop(input_size),\n",
    "        transforms.RandomHorizontalFlip(),\n",
    "        transforms.ToTensor(),\n",
    "        transforms.Normalize([0.485, 0.456, 0.406], [0.229, 0.224, 0.225])\n",
    "    ]),\n",
    "    'val': transforms.Compose([\n",
    "        transforms.Resize(input_size),\n",
    "        transforms.CenterCrop(input_size),\n",
    "        transforms.ToTensor(),\n",
    "        transforms.Normalize([0.485, 0.456, 0.406], [0.229, 0.224, 0.225])\n",
    "    ]),\n",
    "}\n",
    "\n",
    "\n",
    "\n",
    "print(\"Initializing Datasets and Dataloaders...\")\n",
    "\n",
    "# Create training and validation datasets\n",
    "image_datasets = {x: datasets.ImageFolder(os.path.join(data_dir, x), data_transforms[x]) \n",
    "                  for x in ['train', 'val']}\n",
    "# Create training and validation dataloaders\n",
    "dataloaders_dict = {x: torch.utils.data.DataLoader(image_datasets[x], \n",
    "                                                   batch_size=batch_size, \n",
    "                                                   shuffle=True, num_workers=4) \n",
    "                    for x in ['train', 'val']}\n",
    "\n",
    "# Detect if we have a GPU available\n",
    "device = torch.device(\"cuda:0\" if torch.cuda.is_available() else \"cpu\")"
   ]
  },
  {
   "cell_type": "markdown",
   "metadata": {},
   "source": [
    "<br>\n",
    "<br>\n",
    "<br>"
   ]
  },
  {
   "cell_type": "markdown",
   "metadata": {},
   "source": [
    "## <font color=magenta>**Create the Optimizer**</font> <a href=\"https://pytorch.org/tutorials/beginner/finetuning_torchvision_models_tutorial.html#create-the-optimizer\" style=\"text-decoration:none;font-size:70%\">[link]</a>"
   ]
  },
  {
   "cell_type": "markdown",
   "metadata": {},
   "source": [
    "Now that the model structure is correct, the final step for finetuning and feature extracting is to create an optimizer that only updates the desired parameters. \n",
    "\n",
    "Recall that after loading the pretrained model, but before reshaping, if `feature_extract=True` we manually set all of the parameter’s ***.requires_grad*** attributes to `False`. Then the reinitialized layer’s parameters have `.requires_grad=True` by default. \n",
    "\n",
    "So now we know that all parameters that have `.requires_grad=True` should be optimized. Next, we make a list of such parameters and input this list to the SGD algorithm constructor."
   ]
  },
  {
   "cell_type": "markdown",
   "metadata": {},
   "source": [
    "<font size=3 color=maroon>To verify this, check out the printed parameters to learn. **When finetuning**, this list should be long and include all of the model parameters. However, **when feature extracting this list should be short and only include the weights and biases of the reshaped layers**.</font>"
   ]
  },
  {
   "cell_type": "code",
   "execution_count": 14,
   "metadata": {},
   "outputs": [
    {
     "name": "stdout",
     "output_type": "stream",
     "text": [
      "Params to learn:\n",
      "\t classifier.1.weight\n",
      "\t classifier.1.bias\n"
     ]
    }
   ],
   "source": [
    "# Send the model to GPU\n",
    "model_ft = model_ft.to(device)\n",
    "\n",
    "# Gather the parameters to be optimized/updated in this run. \n",
    "# If we are finetuning we will be updating all parameters. \n",
    "# However, if we are doing feature extract method, \n",
    "# we will only update the parameters that we have just initialized,\n",
    "# i.e. the parameters with `requires_grad` is True.\n",
    "params_to_update = model_ft.parameters()\n",
    "print(\"Params to learn:\")\n",
    "if feature_extract:\n",
    "    # 注意前面的 initialize_model() 和 set_parameter_requires_grad() 这两个函数\n",
    "    params_to_update = []\n",
    "    for name,param in model_ft.named_parameters():\n",
    "        if param.requires_grad == True:\n",
    "            params_to_update.append(param)\n",
    "            print(\"\\t\",name)\n",
    "else:\n",
    "    for name,param in model_ft.named_parameters():\n",
    "        if param.requires_grad == True:\n",
    "            print(\"\\t\",name)\n",
    "\n",
    "# Observe that all parameters are being optimized\n",
    "optimizer_ft = optim.SGD(params_to_update, lr=0.001, momentum=0.9)"
   ]
  },
  {
   "cell_type": "markdown",
   "metadata": {},
   "source": [
    "<br>\n",
    "<br>\n",
    "<br>"
   ]
  },
  {
   "cell_type": "markdown",
   "metadata": {},
   "source": [
    "## <font color=magenta>**Run Training and Validation Step**</font> <a href=\"https://pytorch.org/tutorials/beginner/finetuning_torchvision_models_tutorial.html#run-training-and-validation-step\" style=\"text-decoration:none;font-size:70%\">[link]</a>"
   ]
  },
  {
   "cell_type": "markdown",
   "metadata": {},
   "source": [
    "Finally, the last step is to setup the loss for the model, then run the training and validation function for the set number of epochs. Notice, depending on the number of epochs this step may take a while on a CPU. <font color=maroon>Also, the default learning rate is not optimal for all of the models, so to achieve maximum accuracy it would be necessary to tune for each model separately.</font>"
   ]
  },
  {
   "cell_type": "code",
   "execution_count": 15,
   "metadata": {
    "scrolled": true
   },
   "outputs": [
    {
     "name": "stdout",
     "output_type": "stream",
     "text": [
      "Epoch 0/14\n",
      "----------\n",
      "train Loss: 0.5951 Acc: 0.7131\n",
      "val Loss: 0.3841 Acc: 0.8758\n",
      "\n",
      "Epoch 1/14\n",
      "----------\n",
      "train Loss: 0.2682 Acc: 0.8770\n",
      "val Loss: 0.3412 Acc: 0.8889\n",
      "\n",
      "Epoch 2/14\n",
      "----------\n",
      "train Loss: 0.2598 Acc: 0.8852\n",
      "val Loss: 0.3985 Acc: 0.8758\n",
      "\n",
      "Epoch 3/14\n",
      "----------\n",
      "train Loss: 0.2450 Acc: 0.8811\n",
      "val Loss: 0.2683 Acc: 0.9346\n",
      "\n",
      "Epoch 4/14\n",
      "----------\n",
      "train Loss: 0.1935 Acc: 0.8975\n",
      "val Loss: 0.2861 Acc: 0.9020\n",
      "\n",
      "Epoch 5/14\n",
      "----------\n",
      "train Loss: 0.2339 Acc: 0.8975\n",
      "val Loss: 0.3042 Acc: 0.9346\n",
      "\n",
      "Epoch 6/14\n",
      "----------\n",
      "train Loss: 0.1781 Acc: 0.9180\n",
      "val Loss: 0.3103 Acc: 0.9281\n",
      "\n",
      "Epoch 7/14\n",
      "----------\n",
      "train Loss: 0.2089 Acc: 0.9057\n",
      "val Loss: 0.2981 Acc: 0.9281\n",
      "\n",
      "Epoch 8/14\n",
      "----------\n",
      "train Loss: 0.1201 Acc: 0.9508\n",
      "val Loss: 0.3222 Acc: 0.9281\n",
      "\n",
      "Epoch 9/14\n",
      "----------\n",
      "train Loss: 0.1345 Acc: 0.9549\n",
      "val Loss: 0.3973 Acc: 0.8824\n",
      "\n",
      "Epoch 10/14\n",
      "----------\n",
      "train Loss: 0.1491 Acc: 0.9426\n",
      "val Loss: 0.3581 Acc: 0.9281\n",
      "\n",
      "Epoch 11/14\n",
      "----------\n",
      "train Loss: 0.1498 Acc: 0.9426\n",
      "val Loss: 0.3524 Acc: 0.9346\n",
      "\n",
      "Epoch 12/14\n",
      "----------\n",
      "train Loss: 0.1344 Acc: 0.9426\n",
      "val Loss: 0.3577 Acc: 0.9346\n",
      "\n",
      "Epoch 13/14\n",
      "----------\n",
      "train Loss: 0.1266 Acc: 0.9467\n",
      "val Loss: 0.3739 Acc: 0.9412\n",
      "\n",
      "Epoch 14/14\n",
      "----------\n",
      "train Loss: 0.1271 Acc: 0.9344\n",
      "val Loss: 0.3853 Acc: 0.9150\n",
      "\n",
      "Training complete in 1m 4s\n",
      "Best val Acc: 0.941176\n"
     ]
    }
   ],
   "source": [
    "# Setup the loss fxn\n",
    "criterion = nn.CrossEntropyLoss()\n",
    "\n",
    "# Train and evaluate\n",
    "model_ft, hist = train_model(model_ft, dataloaders_dict, criterion, \n",
    "                             optimizer_ft, num_epochs=num_epochs, \n",
    "                             is_inception=(model_name==\"inception\"))"
   ]
  },
  {
   "cell_type": "markdown",
   "metadata": {},
   "source": [
    "<br>\n",
    "<br>\n",
    "<br>"
   ]
  },
  {
   "cell_type": "markdown",
   "metadata": {},
   "source": [
    "## <font color=magenta>**Comparison with Model Trained from Scratch**</font> <a href=\"https://pytorch.org/tutorials/beginner/finetuning_torchvision_models_tutorial.html#comparison-with-model-trained-from-scratch\" style=\"text-decoration:none;font-size:70%\">[link]</a>"
   ]
  },
  {
   "cell_type": "markdown",
   "metadata": {},
   "source": [
    "<font size=3>Just for fun, lets see how the model learns if we do not use transfer learning. The performance of **finetuning** vs. **feature extracting** depends largely on the dataset but <font color=maroon>in general **both transfer learning methods** produce favorable results in terms of training time and overall accuracy versus a **model trained from scratch**.</font></font>"
   ]
  },
  {
   "cell_type": "code",
   "execution_count": 16,
   "metadata": {
    "scrolled": true
   },
   "outputs": [
    {
     "name": "stdout",
     "output_type": "stream",
     "text": [
      "Epoch 0/14\n",
      "----------\n",
      "train Loss: 0.7088 Acc: 0.4631\n",
      "val Loss: 0.6931 Acc: 0.4575\n",
      "\n",
      "Epoch 1/14\n",
      "----------\n",
      "train Loss: 0.6930 Acc: 0.4918\n",
      "val Loss: 0.6931 Acc: 0.4575\n",
      "\n",
      "Epoch 2/14\n",
      "----------\n",
      "train Loss: 0.6930 Acc: 0.4918\n",
      "val Loss: 0.6931 Acc: 0.4641\n",
      "\n",
      "Epoch 3/14\n",
      "----------\n",
      "train Loss: 0.6931 Acc: 0.5246\n",
      "val Loss: 0.6931 Acc: 0.4575\n",
      "\n",
      "Epoch 4/14\n",
      "----------\n",
      "train Loss: 0.6926 Acc: 0.4918\n",
      "val Loss: 0.6931 Acc: 0.4706\n",
      "\n",
      "Epoch 5/14\n",
      "----------\n",
      "train Loss: 0.6940 Acc: 0.4959\n",
      "val Loss: 0.6931 Acc: 0.4575\n",
      "\n",
      "Epoch 6/14\n",
      "----------\n",
      "train Loss: 0.6930 Acc: 0.5000\n",
      "val Loss: 0.6931 Acc: 0.4575\n",
      "\n",
      "Epoch 7/14\n",
      "----------\n",
      "train Loss: 0.6924 Acc: 0.4959\n",
      "val Loss: 0.6931 Acc: 0.4510\n",
      "\n",
      "Epoch 8/14\n",
      "----------\n",
      "train Loss: 0.6923 Acc: 0.5000\n",
      "val Loss: 0.6931 Acc: 0.4771\n",
      "\n",
      "Epoch 9/14\n",
      "----------\n",
      "train Loss: 0.6969 Acc: 0.5246\n",
      "val Loss: 0.6931 Acc: 0.4575\n",
      "\n",
      "Epoch 10/14\n",
      "----------\n",
      "train Loss: 0.6934 Acc: 0.5041\n",
      "val Loss: 0.6931 Acc: 0.4575\n",
      "\n",
      "Epoch 11/14\n",
      "----------\n",
      "train Loss: 0.6933 Acc: 0.5041\n",
      "val Loss: 0.6931 Acc: 0.4575\n",
      "\n",
      "Epoch 12/14\n",
      "----------\n",
      "train Loss: 0.6931 Acc: 0.5041\n",
      "val Loss: 0.6931 Acc: 0.4575\n",
      "\n",
      "Epoch 13/14\n",
      "----------\n",
      "train Loss: 0.6933 Acc: 0.5041\n",
      "val Loss: 0.6931 Acc: 0.4575\n",
      "\n",
      "Epoch 14/14\n",
      "----------\n",
      "train Loss: 0.6932 Acc: 0.5041\n",
      "val Loss: 0.6931 Acc: 0.4575\n",
      "\n",
      "Training complete in 1m 1s\n",
      "Best val Acc: 0.477124\n"
     ]
    }
   ],
   "source": [
    "# Initialize the non-pretrained version of the model used for this run\n",
    "scratch_model,_ = initialize_model(model_name, num_classes, \n",
    "                                   feature_extract=False, use_pretrained=False)\n",
    "\n",
    "scratch_model = scratch_model.to(device)\n",
    "scratch_optimizer = optim.SGD(scratch_model.parameters(), lr=0.001, momentum=0.9)\n",
    "scratch_criterion = nn.CrossEntropyLoss()\n",
    "\n",
    "_,scratch_hist = train_model(scratch_model, dataloaders_dict, \n",
    "                             scratch_criterion, scratch_optimizer, \n",
    "                             num_epochs=num_epochs, is_inception=(model_name==\"inception\"))"
   ]
  },
  {
   "cell_type": "code",
   "execution_count": 17,
   "metadata": {},
   "outputs": [
    {
     "data": {
      "image/png": "[encoded data removed]",
      "text/plain": [
       "<Figure size 432x288 with 1 Axes>"
      ]
     },
     "metadata": {
      "needs_background": "light"
     },
     "output_type": "display_data"
    }
   ],
   "source": [
    "# Plot the training curves of validation accuracy vs. number\n",
    "#  of training epochs for the transfer learning method and\n",
    "#  the model trained from scratch\n",
    "ohist = []\n",
    "shist = []\n",
    "\n",
    "ohist = [h.cpu().numpy() for h in hist]\n",
    "shist = [h.cpu().numpy() for h in scratch_hist]\n",
    "\n",
    "plt.title(\"Validation Accuracy vs. Number of Training Epochs\")\n",
    "plt.xlabel(\"Training Epochs\")\n",
    "plt.ylabel(\"Validation Accuracy\")\n",
    "plt.plot(range(1,num_epochs+1),ohist,label=\"Pretrained\")\n",
    "plt.plot(range(1,num_epochs+1),shist,label=\"Scratch\")\n",
    "plt.ylim((0,1.))\n",
    "plt.xticks(np.arange(1, num_epochs+1, 1.0))\n",
    "plt.legend()\n",
    "plt.show()"
   ]
  },
  {
   "cell_type": "markdown",
   "metadata": {},
   "source": [
    "<br>\n",
    "<br>\n",
    "<br>"
   ]
  },
  {
   "cell_type": "markdown",
   "metadata": {},
   "source": [
    "## **Final Thoughts and Where to Go Next** <a href=\"https://pytorch.org/tutorials/beginner/finetuning_torchvision_models_tutorial.html#final-thoughts-and-where-to-go-next\" style=\"text-decoration:none;font-size:70%\">[link]</a>"
   ]
  },
  {
   "cell_type": "markdown",
   "metadata": {},
   "source": [
    "Try running some of the other models and see how good the accuracy gets. Also, notice that feature extracting takes less time because in the backward pass we do not have to calculate most of the gradients. There are many places to go from here. You could:\n",
    "\n",
    "* Run this code with a harder dataset and see some more benefits of transfer learning\n",
    "* Using the methods described here, use transfer learning to update a different model, perhaps in a new domain (i.e. NLP, audio, etc.)\n",
    "* Once you are happy with a model, you can export it as an **ONNX model**, or **trace it using the hybrid frontend** for more speed and optimization opportunities."
   ]
  },
  {
   "cell_type": "markdown",
   "metadata": {},
   "source": [
    "<br>\n",
    "<br>\n",
    "<br>"
   ]
  },
  {
   "cell_type": "markdown",
   "metadata": {},
   "source": [
    "<br>\n",
    "<br>\n",
    "<br>"
   ]
  }
 ],
 "metadata": {
  "kernelspec": {
   "display_name": "Python [conda env:ptg]",
   "language": "python",
   "name": "conda-env-ptg-py"
  },
  "language_info": {
   "codemirror_mode": {
    "name": "ipython",
    "version": 3
   },
   "file_extension": ".py",
   "mimetype": "text/x-python",
   "name": "python",
   "nbconvert_exporter": "python",
   "pygments_lexer": "ipython3",
   "version": "3.9.7"
  },
  "toc": {
   "base_numbering": 1,
   "nav_menu": {},
   "number_sections": true,
   "sideBar": true,
   "skip_h1_title": false,
   "title_cell": "Table of Contents",
   "title_sidebar": "Contents",
   "toc_cell": false,
   "toc_position": {},
   "toc_section_display": true,
   "toc_window_display": false
  },
  "varInspector": {
   "cols": {
    "lenName": 16,
    "lenType": 16,
    "lenVar": 40
   },
   "kernels_config": {
    "python": {
     "delete_cmd_postfix": "",
     "delete_cmd_prefix": "del ",
     "library": "var_list.py",
     "varRefreshCmd": "print(var_dic_list())"
    },
    "r": {
     "delete_cmd_postfix": ") ",
     "delete_cmd_prefix": "rm(",
     "library": "var_list.r",
     "varRefreshCmd": "cat(var_dic_list()) "
    }
   },
   "types_to_exclude": [
    "module",
    "function",
    "builtin_function_or_method",
    "instance",
    "_Feature"
   ],
   "window_display": false
  }
 },
 "nbformat": 4,
 "nbformat_minor": 4
}
