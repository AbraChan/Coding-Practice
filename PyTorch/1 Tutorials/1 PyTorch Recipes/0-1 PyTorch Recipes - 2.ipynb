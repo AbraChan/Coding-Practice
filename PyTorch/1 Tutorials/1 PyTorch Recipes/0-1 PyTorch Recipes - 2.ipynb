{
 "cells": [
  {
   "cell_type": "markdown",
   "metadata": {},
   "source": [
    "<br>"
   ]
  },
  {
   "cell_type": "markdown",
   "metadata": {},
   "source": [
    "<div align=center><font color=maroon size=6><b>PyTorch Recipes - 2</b></font></div>"
   ]
  },
  {
   "cell_type": "markdown",
   "metadata": {},
   "source": [
    "<br>"
   ]
  },
  {
   "cell_type": "markdown",
   "metadata": {},
   "source": [
    "<font size=4><b>References:</b></font>\n",
    "\n",
    "Pytorch official tutorials: <a href=\"https://pytorch.org/tutorials/index.html\" style=\"text-decoration:none;\">WELCOME TO PYTORCH TUTORIALS</a>\n",
    "\n",
    "\n",
    "* <a href=\"https://pytorch.org/tutorials/beginner/basics/intro.html\" style=\"text-decoration:none;\">Learn the Basics</a>\n",
    "\n",
    "\n",
    "* <a href=\"https://pytorch.org/tutorials/recipes/recipes_index.html\" style=\"text-decoration:none;\">PyTorch Recipes</a>\n",
    "    \n",
    "    * <a href=\"https://pytorch.org/tutorials/recipes/recipes/loading_data_recipe.html\" style=\"text-decoration:none;\">Loading data in PyTorch</a>\n",
    "    \n",
    "    * <a href=\"https://pytorch.org/tutorials/recipes/recipes/defining_a_neural_network.html\" style=\"text-decoration:none;\">Defining a Neural Network in PyTorch</a>\n",
    "    \n",
    "    * <a href=\"https://pytorch.org/tutorials/recipes/recipes/what_is_state_dict.html\" style=\"text-decoration:none;\">What is a state_dict in PyTorch</a>\n",
    "    \n",
    "    * <a href=\"https://pytorch.org/tutorials/recipes/recipes/zeroing_out_gradients.html\" style=\"text-decoration:none;\">Zeroing out gradients in PyTorch</a> \n",
    "    \n",
    "    * <a href=\"https://pytorch.org/tutorials/recipes/recipes/saving_and_loading_models_for_inference.html\" style=\"text-decoration:none;\">Saving and loading models for inference in PyTorch</a>\n",
    "    \n",
    "    * <a href=\"https://pytorch.org/tutorials/recipes/recipes/saving_and_loading_a_general_checkpoint.html\" style=\"text-decoration:none;\">Saving and loading a general checkpoint in PyTorch</a>\n",
    "    \n",
    "    * <a href=\"https://pytorch.org/tutorials/recipes/recipes/saving_multiple_models_in_one_file.html\" style=\"text-decoration:none;\">Saving and loading multiple models in one file using PyTorch</a> \n",
    "    \n",
    "    * <a href=\"https://pytorch.org/tutorials/recipes/recipes/save_load_across_devices.html\" style=\"text-decoration:none;\">Saving and loading models across devices in PyTorch</a>\n",
    "    \n",
    "    * \n",
    "    \n",
    "    * <a href=\"https://pytorch.org/tutorials/recipes/recipes/warmstarting_model_using_parameters_from_a_different_model.html\" style=\"text-decoration:none;\">Warmstarting model using parameters from a different model in PyTorch</a>\n",
    "    \n",
    "    *\n",
    "    \n",
    "    * <a href=\"https://pytorch.org/tutorials/recipes/recipes/benchmark.html\" style=\"text-decoration:none;\">PyTorch Benchmark</a>\n",
    "    \n",
    "    * <a href=\"https://pytorch.org/tutorials/recipes/recipes/timer_quick_start.html\" style=\"text-decoration:none;\">PyTorch Benchmark (quick start)</a> 【Timer quick start】\n",
    "    \n",
    "    *\n",
    "    \n",
    "    * <a href=\"https://pytorch.org/tutorials/recipes/recipes/Captum_Recipe.html\" style=\"text-decoration:none;\">Model Interpretability using Captum</a>\n",
    "    \n",
    "    * <a href=\"https://pytorch.org/tutorials/recipes/recipes/tensorboard_with_pytorch.html\" style=\"text-decoration:none;\">How to use TensorBoard with PyTorch</a>\n",
    "\n",
    "    * \n",
    "    * \n",
    "    \n",
    "    * <a href=\"https://pytorch.org/tutorials/recipes/fuse.html\" style=\"text-decoration:none;\">Fuse Modules Recipe</a>\n",
    "    \n",
    "    * <a href=\"https://pytorch.org/tutorials/recipes/recipes/profiler_recipe.html\" style=\"text-decoration:none;\">PyTorch Profiler</a>\n",
    "    \n",
    "    * <a href=\"https://pytorch.org/tutorials/recipes/recipes/dynamic_quantization.html\" style=\"text-decoration:none;\">Dynamic Quantization</a>\n",
    "    \n",
    "    *\n",
    "    \n",
    "    * <a href=\"https://pytorch.org/tutorials/recipes/deployment_with_flask.html\" style=\"text-decoration:none;\"><font color=maroon><b>Deploying with Flask</b></font></a>\n",
    "    \n",
    "    * <a href=\"https://pytorch.org/tutorials/recipes/torchscript_inference.html\" style=\"text-decoration:none;\">TorchScript for Deployment</a>\n",
    "    \n",
    "    * <a href=\"https://pytorch.org/tutorials/recipes/script_optimized.html\" style=\"text-decoration:none;\">Script and Optimize for Mobile Recipe</a>\n",
    "    \n",
    "    * <a href=\"https://pytorch.org/tutorials/recipes/quantization.html\" style=\"text-decoration:none;\">Quantization for Mobile Recipe</a> 【Quantization Recipe】\n",
    "    \n",
    "    * <a href=\"https://pytorch.org/tutorials/recipes/mobile_perf.html\" style=\"text-decoration:none;\">Pytorch Mobile Performance Recipes</a> \n",
    "    \n",
    "    * <a href=\"https://pytorch.org/tutorials/recipes/model_preparation_android.html\" style=\"text-decoration:none;\">Model Preparation for Android Recipe</a>\n",
    "    \n",
    "    * <a href=\"https://pytorch.org/tutorials/recipes/model_preparation_ios.html\" style=\"text-decoration:none;\">Model Preparation for iOS Recipe</a>\n",
    "    \n",
    "    * <a href=\"https://pytorch.org/tutorials/recipes/mobile_interpreter.html\" style=\"text-decoration:none;\"> Mobile Interpreter Workflow in Android and iOS</a> 【(beta) Efficient mobile interpreter in Android and iOS】\n",
    "    \n",
    "    * <a href=\"https://pytorch.org/tutorials/recipes/android_native_app_with_custom_op.html\" style=\"text-decoration:none;\">Making Native Android Application that uses PyTorch prebuilt libraries</a>\n",
    "    \n",
    "    *\n",
    "    \n",
    "    * <a href=\"https://pytorch.org/tutorials/recipes/recipes/tuning_guide.html\" style=\"text-decoration:none;\"><font color=maroon><b>Performance Tuning Guide</b></font></a>\n",
    "    \n",
    "    * <a href=\"https://pytorch.org/tutorials/recipes/recipes/amp_recipe.html\" style=\"text-decoration:none;\">Automatic Mixed Precision</a>\n",
    "    \n",
    "    * <a href=\"https://pytorch.org/tutorials/recipes/distributed_rpc_profiling.html\" style=\"text-decoration:none;\">Profiling PyTorch RPC-Based Workloads</a>\n",
    "    \n",
    "    * <a href=\"https://pytorch.org/tutorials/recipes/intel_extension_for_pytorch.html\" style=\"text-decoration:none;\">Intel® Extension for PyTorch*</a>\n",
    "    \n",
    "    * <a href=\"https://pytorch.org/tutorials/recipes/intel_neural_compressor_for_pytorch.html\" style=\"text-decoration:none;\">Intel® Neural Compressor for PyTorch</a>  【Ease-of-use quantization for PyTorch with Intel® Neural Compressor】\n",
    "    \n",
    "    * <a href=\"https://pytorch.org/tutorials/recipes/zero_redundancy_optimizer.html\" style=\"text-decoration:none;\">Shard Optimizer States with ZeroRedundancyOptimizer</a>\n",
    "    \n",
    "    * <a href=\"https://pytorch.org/tutorials/recipes/cuda_rpc.html\" style=\"text-decoration:none;\">Direct Device-to-Device Communication with TensorPipe CUDA RPC</a>\n",
    "    \n",
    "    * <a href=\"https://pytorch.org/tutorials/recipes/distributed_optim_torchscript.html\" style=\"text-decoration:none;\">Distributed Optimizer with TorchScript support</a>"
   ]
  },
  {
   "cell_type": "markdown",
   "metadata": {},
   "source": [
    "<br>"
   ]
  },
  {
   "cell_type": "code",
   "execution_count": null,
   "metadata": {},
   "outputs": [],
   "source": []
  },
  {
   "cell_type": "code",
   "execution_count": null,
   "metadata": {},
   "outputs": [],
   "source": []
  },
  {
   "cell_type": "code",
   "execution_count": null,
   "metadata": {},
   "outputs": [],
   "source": []
  }
 ],
 "metadata": {
  "kernelspec": {
   "display_name": "ptg",
   "language": "python",
   "name": "ptg"
  },
  "language_info": {
   "codemirror_mode": {
    "name": "ipython",
    "version": 3
   },
   "file_extension": ".py",
   "mimetype": "text/x-python",
   "name": "python",
   "nbconvert_exporter": "python",
   "pygments_lexer": "ipython3",
   "version": "3.9.7"
  },
  "toc": {
   "base_numbering": 1,
   "nav_menu": {},
   "number_sections": true,
   "sideBar": true,
   "skip_h1_title": false,
   "title_cell": "Table of Contents",
   "title_sidebar": "Contents",
   "toc_cell": false,
   "toc_position": {},
   "toc_section_display": true,
   "toc_window_display": false
  },
  "varInspector": {
   "cols": {
    "lenName": 16,
    "lenType": 16,
    "lenVar": 40
   },
   "kernels_config": {
    "python": {
     "delete_cmd_postfix": "",
     "delete_cmd_prefix": "del ",
     "library": "var_list.py",
     "varRefreshCmd": "print(var_dic_list())"
    },
    "r": {
     "delete_cmd_postfix": ") ",
     "delete_cmd_prefix": "rm(",
     "library": "var_list.r",
     "varRefreshCmd": "cat(var_dic_list()) "
    }
   },
   "types_to_exclude": [
    "module",
    "function",
    "builtin_function_or_method",
    "instance",
    "_Feature"
   ],
   "window_display": false
  }
 },
 "nbformat": 4,
 "nbformat_minor": 4
}
