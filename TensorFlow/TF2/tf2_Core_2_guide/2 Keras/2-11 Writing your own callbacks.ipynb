{
 "cells": [
  {
   "cell_type": "markdown",
   "metadata": {},
   "source": [
    "<br>"
   ]
  },
  {
   "cell_type": "markdown",
   "metadata": {},
   "source": [
    "<div align=center><font color=maroon size=6 style=\"line-height:40px;\"><b>Writing your own callbacks</b></font></div>"
   ]
  },
  {
   "cell_type": "markdown",
   "metadata": {},
   "source": [
    "<br>"
   ]
  },
  {
   "cell_type": "markdown",
   "metadata": {},
   "source": [
    "<font size=4><b>References:</b></font>\n",
    "1. TF2 Core: <a href=\"https://www.tensorflow.org/guide\" style=\"text-decoration:none;\">TensorFlow Guide</a> \n",
    "    * `TensorFlow > Learn > TensorFlow Core > `Guide > <a href=\"https://www.tensorflow.org/guide/keras/custom_callback\" style=\"text-decoration:none;\">Writing your own callbacks</a>\n",
    "        * Run in <a href=\"https://colab.research.google.com/github/tensorflow/docs/blob/snapshot-keras/site/en/guide/keras/custom_callback.ipynb\" style=\"text-decoration:none;\">Google Colab</a>"
   ]
  },
  {
   "cell_type": "markdown",
   "metadata": {},
   "source": [
    "<br>\n",
    "<br>\n",
    "<br>"
   ]
  },
  {
   "cell_type": "markdown",
   "metadata": {},
   "source": [
    "## Introduction\n",
    "\n",
    "A callback is a powerful tool to customize the behavior of a Keras model during training, evaluation, or inference. Examples include `tf.keras.callbacks.TensorBoard` to visualize training progress and results with TensorBoard, or `tf.keras.callbacks.ModelCheckpoint` to periodically save your model during training.\n",
    "\n",
    "In this guide, you will learn what a Keras callback is, what it can do, and how you can build your own. We provide a few demos of simple callback applications to get you started."
   ]
  },
  {
   "cell_type": "markdown",
   "metadata": {},
   "source": [
    "<br>"
   ]
  },
  {
   "cell_type": "code",
   "execution_count": 1,
   "metadata": {},
   "outputs": [],
   "source": [
    "import tensorflow as tf\n",
    "from tensorflow import keras"
   ]
  },
  {
   "cell_type": "code",
   "execution_count": 2,
   "metadata": {},
   "outputs": [
    {
     "name": "stdout",
     "output_type": "stream",
     "text": [
      "2.8.0\n"
     ]
    }
   ],
   "source": [
    "print(tf.__version__)"
   ]
  },
  {
   "cell_type": "markdown",
   "metadata": {},
   "source": [
    "<br>\n",
    "<br>\n",
    "<br>"
   ]
  },
  {
   "cell_type": "markdown",
   "metadata": {},
   "source": [
    "## Keras callbacks overview\n",
    "\n",
    "<font style=\"color:maroon;font-size:115%\">All callbacks subclass the `keras.callbacks.Callback` class, and override a set of methods called at various stages of training, testing, and predicting. Callbacks are useful to get a view on internal states and statistics of the model during training.\n",
    "\n",
    "You can pass a list of callbacks (as the keyword argument `callbacks`) to the following model methods:\n",
    "\n",
    "- `keras.Model.fit()`\n",
    "- `keras.Model.evaluate()`\n",
    "- `keras.Model.predict()`\n",
    "</font>"
   ]
  },
  {
   "cell_type": "markdown",
   "metadata": {},
   "source": [
    "<br>"
   ]
  },
  {
   "cell_type": "markdown",
   "metadata": {},
   "source": [
    "## An overview of callback methods\n",
    "\n",
    "### <font color=maroon>Global methods</font>\n",
    "\n",
    "* **`on_(train|test|predict)_begin(self, logs=None)`**\n",
    "\n",
    "  Called at the beginning of `fit`/`evaluate`/`predict`.\n",
    "\n",
    "<br>\n",
    "\n",
    "* **`on_(train|test|predict)_end(self, logs=None)`**\n",
    "\n",
    "  Called at the end of `fit`/`evaluate`/`predict`."
   ]
  },
  {
   "cell_type": "markdown",
   "metadata": {},
   "source": [
    "### <font color=maroon>Batch-level methods for training/testing/predicting</font>\n",
    "\n",
    "* **`on_(train|test|predict)_batch_begin(self, batch, logs=None)`**\n",
    "\n",
    "  Called right before processing a batch during training/testing/predicting.\n",
    "\n",
    "<br>\n",
    "\n",
    "* **`on_(train|test|predict)_batch_end(self, batch, logs=None)`**\n",
    "\n",
    "  Called at the end of training/testing/predicting a batch. Within this method, `logs` is a dict containing the metrics results."
   ]
  },
  {
   "cell_type": "markdown",
   "metadata": {},
   "source": [
    "### <font color=maroon>Epoch-level methods (training only)</font>\n",
    "\n",
    "* **`on_epoch_begin(self, epoch, logs=None)`**\n",
    "\n",
    "  Called at the beginning of an epoch during training.\n",
    "\n",
    "<br>\n",
    "\n",
    "* **`on_epoch_end(self, epoch, logs=None)`**\n",
    "\n",
    "  Called at the end of an epoch during training."
   ]
  },
  {
   "cell_type": "markdown",
   "metadata": {},
   "source": [
    "<br>\n",
    "<br>\n",
    "<br>"
   ]
  },
  {
   "cell_type": "markdown",
   "metadata": {},
   "source": [
    "## A basic example\n",
    "\n",
    "Let's take a look at a concrete example. To get started, let's import tensorflow and define a simple Sequential Keras model:"
   ]
  },
  {
   "cell_type": "code",
   "execution_count": 3,
   "metadata": {},
   "outputs": [],
   "source": [
    "# Define the Keras model to add callbacks to.\n",
    "def get_model():\n",
    "    model = keras.Sequential()\n",
    "    model.add(keras.layers.Dense(1, input_dim=784))\n",
    "    model.compile(optimizer=keras.optimizers.RMSprop(learning_rate=0.1),\n",
    "                  loss='mean_squared_error',\n",
    "                  metrics=['mean_absolute_error'],)\n",
    "\n",
    "    return model"
   ]
  },
  {
   "cell_type": "markdown",
   "metadata": {},
   "source": [
    "<br>"
   ]
  },
  {
   "cell_type": "markdown",
   "metadata": {},
   "source": [
    "Then, load the MNIST data for training and testing from Keras datasets API:"
   ]
  },
  {
   "cell_type": "code",
   "execution_count": 4,
   "metadata": {},
   "outputs": [],
   "source": [
    "# Load example MNIST data and pre-process it.\n",
    "(x_train, y_train), (x_test, y_test) = tf.keras.datasets.mnist.load_data()\n",
    "x_train = x_train.reshape(-1, 784).astype('float32') / 255.0\n",
    "x_test = x_test.reshape(-1, 784).astype('float32') / 255.0\n",
    "\n",
    "# Limit the data to 1000 samples.\n",
    "x_train = x_train[:1000]\n",
    "y_train = y_train[:1000]\n",
    "x_test = x_test[:1000]\n",
    "y_test = y_test[:1000]"
   ]
  },
  {
   "cell_type": "markdown",
   "metadata": {},
   "source": [
    "<br>"
   ]
  },
  {
   "cell_type": "markdown",
   "metadata": {},
   "source": [
    "Now, define a simple custom callback that logs:\n",
    "\n",
    "- When `fit`/`evaluate`/`predict` starts & ends\n",
    "- When each epoch starts & ends\n",
    "- When each training batch starts & ends\n",
    "- When each evaluation (test) batch starts & ends\n",
    "- When each inference (prediction) batch starts & ends"
   ]
  },
  {
   "cell_type": "code",
   "execution_count": 5,
   "metadata": {},
   "outputs": [],
   "source": [
    "class CustomCallback(keras.callbacks.Callback):\n",
    "    \n",
    "    def on_train_begin(self, logs=None):\n",
    "        keys = list(logs.keys())\n",
    "        print(\"Starting training; got log keys: {}\".format(keys))\n",
    "    \n",
    "    def on_train_end(self, logs=None):\n",
    "        keys = list(logs.keys())\n",
    "        print(\"Stop training; got log keys: {}\".format(keys))\n",
    "    \n",
    "    \n",
    "    \n",
    "    def on_epoch_begin(self, epoch, logs=None):\n",
    "        keys = list(logs.keys())\n",
    "        print(\"Start epoch {} of training; got log keys: {}\".format(epoch, keys))\n",
    "\n",
    "    def on_epoch_end(self, epoch, logs=None):\n",
    "        keys = list(logs.keys())\n",
    "        print(\"End epoch {} of training; got log keys: {}\".format(epoch, keys))\n",
    "    \n",
    "    \n",
    "    \n",
    "    def on_test_begin(self, logs=None):\n",
    "        keys = list(logs.keys())\n",
    "        print(\"Start testing; got log keys: {}\".format(keys))\n",
    "\n",
    "    def on_test_end(self, logs=None):\n",
    "        keys = list(logs.keys())\n",
    "        print(\"Stop testing; got log keys: {}\".format(keys))\n",
    "\n",
    "    \n",
    "    \n",
    "    def on_predict_begin(self, logs=None):\n",
    "        keys = list(logs.keys())\n",
    "        print(\"Start predicting; got log keys: {}\".format(keys))\n",
    "\n",
    "    def on_predict_end(self, logs=None):\n",
    "        keys = list(logs.keys())\n",
    "        print(\"Stop predicting; got log keys: {}\".format(keys))\n",
    "\n",
    "    \n",
    "    \n",
    "    def on_train_batch_begin(self, batch, logs=None):\n",
    "        keys = list(logs.keys())\n",
    "        print(\"...Training: start of batch {}; got log keys: {}\".format(batch, keys))\n",
    "\n",
    "    def on_train_batch_end(self, batch, logs=None):\n",
    "        keys = list(logs.keys())\n",
    "        print(\"...Training: end of batch {}; got log keys: {}\".format(batch, keys))\n",
    "\n",
    "    \n",
    "    \n",
    "    def on_test_batch_begin(self, batch, logs=None):\n",
    "        keys = list(logs.keys())\n",
    "        print(\"...Evaluating: start of batch {}; got log keys: {}\".format(batch, keys))\n",
    "\n",
    "    def on_test_batch_end(self, batch, logs=None):\n",
    "        keys = list(logs.keys())\n",
    "        print(\"...Evaluating: end of batch {}; got log keys: {}\".format(batch, keys))\n",
    "\n",
    "    \n",
    "    \n",
    "    def on_predict_batch_begin(self, batch, logs=None):\n",
    "        keys = list(logs.keys())\n",
    "        print(\"...Predicting: start of batch {}; got log keys: {}\".format(batch, keys))\n",
    "\n",
    "    def on_predict_batch_end(self, batch, logs=None):\n",
    "        keys = list(logs.keys())\n",
    "        print(\"...Predicting: end of batch {}; got log keys: {}\".format(batch, keys))\n"
   ]
  },
  {
   "cell_type": "markdown",
   "metadata": {},
   "source": [
    "<br>"
   ]
  },
  {
   "cell_type": "markdown",
   "metadata": {},
   "source": [
    "Let's try it out:"
   ]
  },
  {
   "cell_type": "code",
   "execution_count": 6,
   "metadata": {},
   "outputs": [
    {
     "name": "stdout",
     "output_type": "stream",
     "text": [
      "Starting training; got log keys: []\n",
      "Start epoch 0 of training; got log keys: []\n",
      "...Training: start of batch 0; got log keys: []\n",
      "...Training: end of batch 0; got log keys: ['loss', 'mean_absolute_error']\n",
      "...Training: start of batch 1; got log keys: []\n",
      "...Training: end of batch 1; got log keys: ['loss', 'mean_absolute_error']\n",
      "...Training: start of batch 2; got log keys: []\n",
      "...Training: end of batch 2; got log keys: ['loss', 'mean_absolute_error']\n",
      "...Training: start of batch 3; got log keys: []\n",
      "...Training: end of batch 3; got log keys: ['loss', 'mean_absolute_error']\n",
      "Start testing; got log keys: []\n",
      "...Evaluating: start of batch 0; got log keys: []\n",
      "...Evaluating: end of batch 0; got log keys: ['loss', 'mean_absolute_error']\n",
      "...Evaluating: start of batch 1; got log keys: []\n",
      "...Evaluating: end of batch 1; got log keys: ['loss', 'mean_absolute_error']\n",
      "...Evaluating: start of batch 2; got log keys: []\n",
      "...Evaluating: end of batch 2; got log keys: ['loss', 'mean_absolute_error']\n",
      "...Evaluating: start of batch 3; got log keys: []\n",
      "...Evaluating: end of batch 3; got log keys: ['loss', 'mean_absolute_error']\n",
      "Stop testing; got log keys: ['loss', 'mean_absolute_error']\n",
      "End epoch 0 of training; got log keys: ['loss', 'mean_absolute_error', 'val_loss', 'val_mean_absolute_error']\n",
      "Stop training; got log keys: ['loss', 'mean_absolute_error', 'val_loss', 'val_mean_absolute_error']\n"
     ]
    },
    {
     "data": {
      "text/plain": [
       "<keras.callbacks.History at 0x18ae5a1f9a0>"
      ]
     },
     "execution_count": 6,
     "metadata": {},
     "output_type": "execute_result"
    }
   ],
   "source": [
    "model = get_model()\n",
    "\n",
    "model.fit(x_train, y_train,\n",
    "          batch_size=128,\n",
    "          epochs=1,\n",
    "          verbose=0,\n",
    "          validation_split=0.5,\n",
    "          callbacks=[CustomCallback()],\n",
    "         )"
   ]
  },
  {
   "cell_type": "code",
   "execution_count": 7,
   "metadata": {},
   "outputs": [
    {
     "name": "stdout",
     "output_type": "stream",
     "text": [
      "Start testing; got log keys: []\n",
      "...Evaluating: start of batch 0; got log keys: []\n",
      "...Evaluating: end of batch 0; got log keys: ['loss', 'mean_absolute_error']\n",
      "...Evaluating: start of batch 1; got log keys: []\n",
      "...Evaluating: end of batch 1; got log keys: ['loss', 'mean_absolute_error']\n",
      "...Evaluating: start of batch 2; got log keys: []\n",
      "...Evaluating: end of batch 2; got log keys: ['loss', 'mean_absolute_error']\n",
      "...Evaluating: start of batch 3; got log keys: []\n",
      "...Evaluating: end of batch 3; got log keys: ['loss', 'mean_absolute_error']\n",
      "...Evaluating: start of batch 4; got log keys: []\n",
      "...Evaluating: end of batch 4; got log keys: ['loss', 'mean_absolute_error']\n",
      "...Evaluating: start of batch 5; got log keys: []\n",
      "...Evaluating: end of batch 5; got log keys: ['loss', 'mean_absolute_error']\n",
      "...Evaluating: start of batch 6; got log keys: []\n",
      "...Evaluating: end of batch 6; got log keys: ['loss', 'mean_absolute_error']\n",
      "...Evaluating: start of batch 7; got log keys: []\n",
      "...Evaluating: end of batch 7; got log keys: ['loss', 'mean_absolute_error']\n",
      "Stop testing; got log keys: ['loss', 'mean_absolute_error']\n",
      "Start predicting; got log keys: []\n",
      "...Predicting: start of batch 0; got log keys: []\n",
      "...Predicting: end of batch 0; got log keys: ['outputs']\n",
      "...Predicting: start of batch 1; got log keys: []\n",
      "...Predicting: end of batch 1; got log keys: ['outputs']\n",
      "...Predicting: start of batch 2; got log keys: []\n",
      "...Predicting: end of batch 2; got log keys: ['outputs']\n",
      "...Predicting: start of batch 3; got log keys: []\n",
      "...Predicting: end of batch 3; got log keys: ['outputs']\n",
      "...Predicting: start of batch 4; got log keys: []\n",
      "...Predicting: end of batch 4; got log keys: ['outputs']\n",
      "...Predicting: start of batch 5; got log keys: []\n",
      "...Predicting: end of batch 5; got log keys: ['outputs']\n",
      "WARNING:tensorflow:Callback method `on_predict_batch_end` is slow compared to the batch time (batch time: 0.0000s vs `on_predict_batch_end` time: 0.0017s). Check your callbacks.\n",
      "...Predicting: start of batch 6; got log keys: []\n",
      "...Predicting: end of batch 6; got log keys: ['outputs']\n",
      "...Predicting: start of batch 7; got log keys: []\n",
      "...Predicting: end of batch 7; got log keys: ['outputs']\n",
      "Stop predicting; got log keys: []\n"
     ]
    }
   ],
   "source": [
    "res = model.evaluate(x_test, y_test, \n",
    "                     batch_size=128, \n",
    "                     verbose=0, \n",
    "                     callbacks=[CustomCallback()])\n",
    "\n",
    "res = model.predict(x_test, batch_size=128, callbacks=[CustomCallback()])"
   ]
  },
  {
   "cell_type": "markdown",
   "metadata": {},
   "source": [
    "<br>\n",
    "<br>"
   ]
  },
  {
   "cell_type": "markdown",
   "metadata": {},
   "source": [
    "### Usage of `logs` dict\n",
    "<font style=\"color:maroon;font-size:115%\">The `logs` dict contains the loss value, and all the metrics at the end of a batch or epoch.</font> Example includes the loss and mean absolute error."
   ]
  },
  {
   "cell_type": "code",
   "execution_count": 8,
   "metadata": {},
   "outputs": [
    {
     "name": "stdout",
     "output_type": "stream",
     "text": [
      "Up to batch 0, the average loss is   24.16.\n",
      "Up to batch 1, the average loss is  498.48.\n",
      "Up to batch 2, the average loss is  340.93.\n",
      "Up to batch 3, the average loss is  258.51.\n",
      "Up to batch 4, the average loss is  208.31.\n",
      "Up to batch 5, the average loss is  174.56.\n",
      "Up to batch 6, the average loss is  150.46.\n",
      "Up to batch 7, the average loss is  135.46.\n",
      "The average loss for epoch 0 is  135.46 and mean absolute error is    6.16.\n",
      "Up to batch 0, the average loss is    4.42.\n",
      "Up to batch 1, the average loss is    4.03.\n",
      "Up to batch 2, the average loss is    4.65.\n",
      "Up to batch 3, the average loss is    4.62.\n",
      "Up to batch 4, the average loss is    4.70.\n",
      "Up to batch 5, the average loss is    4.66.\n",
      "Up to batch 6, the average loss is    4.55.\n",
      "Up to batch 7, the average loss is    4.53.\n",
      "The average loss for epoch 1 is    4.53 and mean absolute error is    1.72.\n",
      "Up to batch 0, the average loss is    5.20.\n",
      "Up to batch 1, the average loss is    4.68.\n",
      "Up to batch 2, the average loss is    4.69.\n",
      "Up to batch 3, the average loss is    4.60.\n",
      "Up to batch 4, the average loss is    4.75.\n",
      "Up to batch 5, the average loss is    4.80.\n",
      "Up to batch 6, the average loss is    4.77.\n",
      "Up to batch 7, the average loss is    4.72.\n"
     ]
    }
   ],
   "source": [
    "class LossAndErrorPrintingCallback(keras.callbacks.Callback):\n",
    "    def on_train_batch_end(self, batch, logs=None):\n",
    "        print(\"Up to batch {}, the average loss is {:7.2f}.\".format(batch, logs[\"loss\"]))\n",
    "\n",
    "    def on_test_batch_end(self, batch, logs=None):\n",
    "        print(\"Up to batch {}, the average loss is {:7.2f}.\".format(batch, logs[\"loss\"]))\n",
    "\n",
    "    def on_epoch_end(self, epoch, logs=None):\n",
    "        print(\"The average loss for epoch {} is {:7.2f} \"\n",
    "              \"and mean absolute error is {:7.2f}.\".format(epoch,\n",
    "                                                           logs[\"loss\"],\n",
    "                                                           logs[\"mean_absolute_error\"]))\n",
    "\n",
    "\n",
    "model = get_model()\n",
    "model.fit(x_train, y_train,\n",
    "          batch_size=128,\n",
    "          epochs=2,\n",
    "          verbose=0,\n",
    "          callbacks=[LossAndErrorPrintingCallback()],)\n",
    "\n",
    "\n",
    "res = model.evaluate(x_test, y_test,\n",
    "                     batch_size=128,\n",
    "                     verbose=0,\n",
    "                     callbacks=[LossAndErrorPrintingCallback()],)"
   ]
  },
  {
   "cell_type": "markdown",
   "metadata": {},
   "source": [
    "<br>\n",
    "<br>\n",
    "<br>"
   ]
  },
  {
   "cell_type": "markdown",
   "metadata": {},
   "source": [
    "## Usage of `self.model` attribute\n",
    "\n",
    "<font style=\"color:maroon;font-size:120%\">In addition to receiving log information when one of their methods is called, callbacks have access to the model associated with the current round of training/evaluation/inference: `self.model`.\n",
    "</font>"
   ]
  },
  {
   "cell_type": "markdown",
   "metadata": {},
   "source": [
    "<font style=\"color:maroon;font-size:115%\">Here are of few of the things you can do with `self.model` in a callback:\n",
    "\n",
    "<br>\n",
    "\n",
    "- Set `self.model.stop_training = True` to immediately interrupt training.\n",
    "\n",
    "\n",
    "- Mutate hyperparameters of the optimizer (available as `self.model.optimizer`), such as `self.model.optimizer.learning_rate`.\n",
    "\n",
    "\n",
    "- Save the model at period intervals.\n",
    "\n",
    "\n",
    "- Record the output of `model.predict()` on a few test samples at the end of each epoch, to use as a sanity check during training.\n",
    "\n",
    "\n",
    "- Extract visualizations of intermediate features at the end of each epoch, to monitor what the model is learning over time.\n",
    "\n",
    "\n",
    "- etc.</font>"
   ]
  },
  {
   "cell_type": "markdown",
   "metadata": {},
   "source": [
    "Let's see this in action in a couple of examples."
   ]
  },
  {
   "cell_type": "markdown",
   "metadata": {},
   "source": [
    "<br>\n",
    "<br>\n",
    "<br>"
   ]
  },
  {
   "cell_type": "markdown",
   "metadata": {},
   "source": [
    "## <font color=maroon>**Examples of Keras callback applications**</font>"
   ]
  },
  {
   "cell_type": "markdown",
   "metadata": {},
   "source": [
    "### Early stopping at minimum loss\n",
    "\n",
    "<font style=\"color:maroon;font-size:115%\">This first example shows the creation of a `Callback` that stops training when the minimum of loss has been reached, by setting the attribute `self.model.stop_training` (boolean). Optionally, you can provide an argument `patience` to specify how many epochs we should wait before stopping after having reached a local minimum.\n",
    "\n",
    "`tf.keras.callbacks.EarlyStopping` provides a more complete and general implementation.</font>"
   ]
  },
  {
   "cell_type": "code",
   "execution_count": 9,
   "metadata": {},
   "outputs": [],
   "source": [
    "import numpy as np"
   ]
  },
  {
   "cell_type": "code",
   "execution_count": 10,
   "metadata": {},
   "outputs": [],
   "source": [
    "class EarlyStoppingAtMinLoss(keras.callbacks.Callback):\n",
    "    \"\"\"Stop training when the loss is at its min, i.e. the loss stops decreasing.\n",
    "\n",
    "    Arguments:\n",
    "        patience: Number of epochs to wait after min has been hit. After this number\n",
    "                  of no improvement, training stops.\n",
    "    \"\"\"\n",
    "    \n",
    "    def __init__(self, patience=0):\n",
    "        super(EarlyStoppingAtMinLoss, self).__init__()\n",
    "        self.patience = patience\n",
    "        \n",
    "        # best_weights to store the weights at which the minimum loss occurs.\n",
    "        self.best_weights = None\n",
    "    \n",
    "    \n",
    "    def on_train_begin(self, logs=None):\n",
    "        # The number of epoch it has waited when loss is no longer minimum.\n",
    "        self.wait = 0\n",
    "        # The epoch the training stops at.\n",
    "        self.stopped_epoch = 0\n",
    "        # Initialize the best as Infinity.\n",
    "        self.best = np.Inf\n",
    "    \n",
    "    \n",
    "    def on_epoch_end(self, epoch, logs=None):\n",
    "        current = logs.get('loss')\n",
    "        \n",
    "        if np.less(current, self.best):\n",
    "            self.best = current\n",
    "            self.wait = 0\n",
    "            # Record the best weights if current results is better (less).\n",
    "            self.best_weights = self.model.get_weights()\n",
    "        else:\n",
    "            self.wait += 1\n",
    "            if self.wait >= self.patience:\n",
    "                self.stopped_epoch = epoch\n",
    "                self.model.stop_training = True\n",
    "                print(\"Restoring model weights from the end of the best epoch.\")\n",
    "                self.model.set_weights(self.best_weights)\n",
    "    \n",
    "    \n",
    "    def on_train_end(self, logs=None):\n",
    "        if self.stopped_epoch > 0:\n",
    "            print(\"Epoch %05d: early stopping\" % (self.stopped_epoch + 1))"
   ]
  },
  {
   "cell_type": "code",
   "execution_count": 11,
   "metadata": {},
   "outputs": [
    {
     "name": "stdout",
     "output_type": "stream",
     "text": [
      "Up to batch 0, the average loss is   31.42.\n",
      "Up to batch 1, the average loss is  377.33.\n",
      "Up to batch 2, the average loss is  258.98.\n",
      "Up to batch 3, the average loss is  196.80.\n",
      "Up to batch 4, the average loss is  159.05.\n",
      "The average loss for epoch 0 is  159.05 and mean absolute error is    7.88.\n",
      "Up to batch 0, the average loss is    7.81.\n",
      "Up to batch 1, the average loss is    7.08.\n",
      "Up to batch 2, the average loss is    6.43.\n",
      "Up to batch 3, the average loss is    6.28.\n",
      "Up to batch 4, the average loss is    6.35.\n",
      "The average loss for epoch 1 is    6.35 and mean absolute error is    2.06.\n",
      "Up to batch 0, the average loss is    5.37.\n",
      "Up to batch 1, the average loss is    6.24.\n",
      "Up to batch 2, the average loss is    5.70.\n",
      "Up to batch 3, the average loss is    6.45.\n",
      "Up to batch 4, the average loss is    8.61.\n",
      "The average loss for epoch 2 is    8.61 and mean absolute error is    2.33.\n",
      "Restoring model weights from the end of the best epoch.\n",
      "Epoch 00003: early stopping\n"
     ]
    },
    {
     "data": {
      "text/plain": [
       "<keras.callbacks.History at 0x18ae35f3790>"
      ]
     },
     "execution_count": 11,
     "metadata": {},
     "output_type": "execute_result"
    }
   ],
   "source": [
    "model = get_model()\n",
    "model.fit(x_train, y_train,\n",
    "          batch_size=64,\n",
    "          steps_per_epoch=5,\n",
    "          epochs=30,\n",
    "          verbose=0,\n",
    "          callbacks=[LossAndErrorPrintingCallback(), EarlyStoppingAtMinLoss()],)"
   ]
  },
  {
   "cell_type": "markdown",
   "metadata": {},
   "source": [
    "<br>\n",
    "<br>"
   ]
  },
  {
   "cell_type": "markdown",
   "metadata": {},
   "source": [
    "### Learning rate scheduling\n",
    "\n",
    "<font style=\"color:maroon;font-size:115%\">In this example, we show how a custom Callback can be used to dynamically change the learning rate of the optimizer during the course of training.\n",
    "\n",
    "See `callbacks.LearningRateScheduler` for a more general implementations.</font>"
   ]
  },
  {
   "cell_type": "code",
   "execution_count": 12,
   "metadata": {},
   "outputs": [
    {
     "name": "stdout",
     "output_type": "stream",
     "text": [
      "\n",
      "Epoch 00000: Learning rate is 0.1000.\n",
      "Up to batch 0, the average loss is   28.94.\n",
      "Up to batch 1, the average loss is  446.10.\n",
      "Up to batch 2, the average loss is  306.62.\n",
      "Up to batch 3, the average loss is  232.15.\n",
      "Up to batch 4, the average loss is  187.20.\n",
      "The average loss for epoch 0 is  187.20 and mean absolute error is    8.17.\n",
      "\n",
      "Epoch 00001: Learning rate is 0.1000.\n",
      "Up to batch 0, the average loss is    8.70.\n",
      "Up to batch 1, the average loss is    7.72.\n",
      "Up to batch 2, the average loss is    6.80.\n",
      "Up to batch 3, the average loss is    6.22.\n",
      "Up to batch 4, the average loss is    5.80.\n",
      "The average loss for epoch 1 is    5.80 and mean absolute error is    1.94.\n",
      "\n",
      "Epoch 00002: Learning rate is 0.1000.\n",
      "Up to batch 0, the average loss is    5.56.\n",
      "Up to batch 1, the average loss is    6.21.\n",
      "Up to batch 2, the average loss is    6.02.\n",
      "Up to batch 3, the average loss is    6.25.\n",
      "Up to batch 4, the average loss is    7.12.\n",
      "The average loss for epoch 2 is    7.12 and mean absolute error is    2.14.\n",
      "\n",
      "Epoch 00003: Learning rate is 0.0500.\n",
      "Up to batch 0, the average loss is   15.85.\n",
      "Up to batch 1, the average loss is    8.87.\n",
      "Up to batch 2, the average loss is    6.91.\n",
      "Up to batch 3, the average loss is    6.07.\n",
      "Up to batch 4, the average loss is    5.68.\n",
      "The average loss for epoch 3 is    5.68 and mean absolute error is    1.89.\n",
      "\n",
      "Epoch 00004: Learning rate is 0.0500.\n",
      "Up to batch 0, the average loss is    4.56.\n",
      "Up to batch 1, the average loss is    4.64.\n",
      "Up to batch 2, the average loss is    4.44.\n",
      "Up to batch 3, the average loss is    4.28.\n",
      "Up to batch 4, the average loss is    4.07.\n",
      "The average loss for epoch 4 is    4.07 and mean absolute error is    1.64.\n",
      "\n",
      "Epoch 00005: Learning rate is 0.0500.\n",
      "Up to batch 0, the average loss is    4.13.\n",
      "Up to batch 1, the average loss is    3.64.\n",
      "Up to batch 2, the average loss is    3.45.\n",
      "Up to batch 3, the average loss is    3.37.\n",
      "Up to batch 4, the average loss is    3.66.\n",
      "The average loss for epoch 5 is    3.66 and mean absolute error is    1.53.\n",
      "\n",
      "Epoch 00006: Learning rate is 0.0100.\n",
      "Up to batch 0, the average loss is    4.33.\n",
      "Up to batch 1, the average loss is    4.02.\n",
      "Up to batch 2, the average loss is    3.65.\n",
      "Up to batch 3, the average loss is    3.22.\n",
      "Up to batch 4, the average loss is    3.12.\n",
      "The average loss for epoch 6 is    3.12 and mean absolute error is    1.39.\n",
      "\n",
      "Epoch 00007: Learning rate is 0.0100.\n",
      "Up to batch 0, the average loss is    3.44.\n",
      "Up to batch 1, the average loss is    3.56.\n",
      "Up to batch 2, the average loss is    3.36.\n",
      "Up to batch 3, the average loss is    3.34.\n",
      "Up to batch 4, the average loss is    3.59.\n",
      "The average loss for epoch 7 is    3.59 and mean absolute error is    1.50.\n",
      "\n",
      "Epoch 00008: Learning rate is 0.0100.\n",
      "Up to batch 0, the average loss is    2.34.\n",
      "Up to batch 1, the average loss is    3.35.\n",
      "Up to batch 2, the average loss is    3.54.\n",
      "Up to batch 3, the average loss is    3.46.\n",
      "Up to batch 4, the average loss is    3.20.\n",
      "The average loss for epoch 8 is    3.20 and mean absolute error is    1.41.\n",
      "\n",
      "Epoch 00009: Learning rate is 0.0050.\n",
      "Up to batch 0, the average loss is    4.65.\n",
      "Up to batch 1, the average loss is    3.93.\n",
      "Up to batch 2, the average loss is    3.92.\n",
      "Up to batch 3, the average loss is    3.59.\n",
      "Up to batch 4, the average loss is    3.42.\n",
      "The average loss for epoch 9 is    3.42 and mean absolute error is    1.41.\n",
      "\n",
      "Epoch 00010: Learning rate is 0.0050.\n",
      "Up to batch 0, the average loss is    3.00.\n",
      "Up to batch 1, the average loss is    2.68.\n",
      "Up to batch 2, the average loss is    2.82.\n",
      "Up to batch 3, the average loss is    2.90.\n",
      "Up to batch 4, the average loss is    3.16.\n",
      "The average loss for epoch 10 is    3.16 and mean absolute error is    1.36.\n",
      "\n",
      "Epoch 00011: Learning rate is 0.0050.\n",
      "Up to batch 0, the average loss is    2.87.\n",
      "Up to batch 1, the average loss is    3.18.\n",
      "Up to batch 2, the average loss is    3.12.\n",
      "Up to batch 3, the average loss is    3.15.\n",
      "Up to batch 4, the average loss is    3.00.\n",
      "The average loss for epoch 11 is    3.00 and mean absolute error is    1.33.\n",
      "\n",
      "Epoch 00012: Learning rate is 0.0010.\n",
      "Up to batch 0, the average loss is    3.47.\n",
      "Up to batch 1, the average loss is    3.90.\n",
      "Up to batch 2, the average loss is    4.15.\n",
      "Up to batch 3, the average loss is    3.91.\n",
      "Up to batch 4, the average loss is    3.55.\n",
      "The average loss for epoch 12 is    3.55 and mean absolute error is    1.46.\n",
      "\n",
      "Epoch 00013: Learning rate is 0.0010.\n",
      "Up to batch 0, the average loss is    3.83.\n",
      "Up to batch 1, the average loss is    2.98.\n",
      "Up to batch 2, the average loss is    2.96.\n",
      "Up to batch 3, the average loss is    3.32.\n",
      "Up to batch 4, the average loss is    3.28.\n",
      "The average loss for epoch 13 is    3.28 and mean absolute error is    1.40.\n",
      "\n",
      "Epoch 00014: Learning rate is 0.0010.\n",
      "Up to batch 0, the average loss is    2.93.\n",
      "Up to batch 1, the average loss is    2.94.\n",
      "Up to batch 2, the average loss is    3.11.\n",
      "Up to batch 3, the average loss is    3.13.\n",
      "Up to batch 4, the average loss is    3.24.\n",
      "The average loss for epoch 14 is    3.24 and mean absolute error is    1.40.\n"
     ]
    },
    {
     "data": {
      "text/plain": [
       "<keras.callbacks.History at 0x18ae3289d90>"
      ]
     },
     "execution_count": 12,
     "metadata": {},
     "output_type": "execute_result"
    }
   ],
   "source": [
    "class CustomLearningRateScheduler(keras.callbacks.Callback):\n",
    "    \"\"\"Learning rate scheduler which sets the learning rate according to schedule.\n",
    "\n",
    "    Arguments:\n",
    "        schedule: a function that takes an epoch index (integer, indexed from 0) \n",
    "                  and current learning rate as inputs \n",
    "                  and returns a new learning rate as output (float).\n",
    "    \"\"\"\n",
    "\n",
    "    def __init__(self, schedule):\n",
    "        super(CustomLearningRateScheduler, self).__init__()\n",
    "        self.schedule = schedule\n",
    "\n",
    "    def on_epoch_begin(self, epoch, logs=None):\n",
    "        if not hasattr(self.model.optimizer, \"lr\"):\n",
    "            raise ValueError('Optimizer must have a \"lr\" attribute.')\n",
    "        \n",
    "        # Get the current learning rate from model's optimizer.\n",
    "        lr = float(tf.keras.backend.get_value(self.model.optimizer.learning_rate))\n",
    "        \n",
    "        # Call schedule function to get the scheduled learning rate.\n",
    "        scheduled_lr = self.schedule(epoch, lr)\n",
    "        \n",
    "        # Set the value back to the optimizer before this epoch starts\n",
    "        \n",
    "        tf.keras.backend.set_value(self.model.optimizer.lr, scheduled_lr)\n",
    "        print(\"\\nEpoch %05d: Learning rate is %6.4f.\" % (epoch, scheduled_lr))\n",
    "\n",
    "\n",
    "LR_SCHEDULE = [# (epoch to start, learning rate) tuples\n",
    "               (3, 0.05),\n",
    "               (6, 0.01),\n",
    "               (9, 0.005),\n",
    "               (12, 0.001),]\n",
    "\n",
    "\n",
    "def lr_schedule(epoch, lr):\n",
    "    \"\"\"Helper function to retrieve the scheduled learning rate based on epoch.\"\"\"\n",
    "    if epoch < LR_SCHEDULE[0][0] or epoch > LR_SCHEDULE[-1][0]:\n",
    "        return lr\n",
    "    for i in range(len(LR_SCHEDULE)):\n",
    "        if epoch == LR_SCHEDULE[i][0]:\n",
    "            return LR_SCHEDULE[i][1]\n",
    "    return lr\n",
    "\n",
    "\n",
    "model = get_model()\n",
    "model.fit(x_train, y_train,\n",
    "          batch_size=64,\n",
    "          steps_per_epoch=5,\n",
    "          epochs=15,\n",
    "          verbose=0,\n",
    "          callbacks=[LossAndErrorPrintingCallback(),\n",
    "                     CustomLearningRateScheduler(lr_schedule),],\n",
    "         )"
   ]
  },
  {
   "cell_type": "markdown",
   "metadata": {},
   "source": [
    "<br>\n",
    "<br>"
   ]
  },
  {
   "cell_type": "markdown",
   "metadata": {},
   "source": [
    "### Built-in Keras callbacks\n",
    "<font style=\"color:maroon;font-size:115%\">Be sure to check out the existing Keras callbacks by reading the [API docs](https://www.tensorflow.org/api_docs/python/tf/keras/callbacks/).<br>\n",
    "\n",
    "Applications include logging to CSV, saving the model, visualizing metrics in TensorBoard, and a lot more!</font>"
   ]
  },
  {
   "cell_type": "markdown",
   "metadata": {},
   "source": [
    "<br>\n",
    "<br>\n",
    "<br>"
   ]
  }
 ],
 "metadata": {
  "kernelspec": {
   "display_name": "Python [conda env:tfg]",
   "language": "python",
   "name": "conda-env-tfg-py"
  },
  "language_info": {
   "codemirror_mode": {
    "name": "ipython",
    "version": 3
   },
   "file_extension": ".py",
   "mimetype": "text/x-python",
   "name": "python",
   "nbconvert_exporter": "python",
   "pygments_lexer": "ipython3",
   "version": "3.9.7"
  },
  "toc": {
   "base_numbering": 1,
   "nav_menu": {},
   "number_sections": true,
   "sideBar": true,
   "skip_h1_title": false,
   "title_cell": "Table of Contents",
   "title_sidebar": "Contents",
   "toc_cell": false,
   "toc_position": {},
   "toc_section_display": true,
   "toc_window_display": false
  },
  "varInspector": {
   "cols": {
    "lenName": 16,
    "lenType": 16,
    "lenVar": 40
   },
   "kernels_config": {
    "python": {
     "delete_cmd_postfix": "",
     "delete_cmd_prefix": "del ",
     "library": "var_list.py",
     "varRefreshCmd": "print(var_dic_list())"
    },
    "r": {
     "delete_cmd_postfix": ") ",
     "delete_cmd_prefix": "rm(",
     "library": "var_list.r",
     "varRefreshCmd": "cat(var_dic_list()) "
    }
   },
   "types_to_exclude": [
    "module",
    "function",
    "builtin_function_or_method",
    "instance",
    "_Feature"
   ],
   "window_display": false
  }
 },
 "nbformat": 4,
 "nbformat_minor": 4
}
