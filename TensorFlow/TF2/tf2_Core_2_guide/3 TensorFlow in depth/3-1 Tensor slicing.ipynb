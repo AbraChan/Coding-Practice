{
 "cells": [
  {
   "cell_type": "markdown",
   "metadata": {},
   "source": [
    "<br>"
   ]
  },
  {
   "cell_type": "markdown",
   "metadata": {},
   "source": [
    "<div align=center><font color=maroon size=6 style=\"line-height:40px;\"><b>Introduction to tensor slicing</b></font></div>"
   ]
  },
  {
   "cell_type": "markdown",
   "metadata": {},
   "source": [
    "<br>"
   ]
  },
  {
   "cell_type": "markdown",
   "metadata": {},
   "source": [
    "<font size=4><b>References:</b></font>\n",
    "1. TF2 Core: <a href=\"https://www.tensorflow.org/guide\" style=\"text-decoration:none;\">TensorFlow Guide</a> \n",
    "    * `TensorFlow > Learn > TensorFlow Core > `Guide > <a href=\"https://www.tensorflow.org/guide/tensor_slicing\" style=\"text-decoration:none;\">Introduction to tensor slicing</a>\n",
    "        * Run in <a href=\"https://colab.research.google.com/github/tensorflow/docs/blob/master/site/en/guide/tensor_slicing.ipynb\" style=\"text-decoration:none;\">Google Colab</a>"
   ]
  },
  {
   "cell_type": "markdown",
   "metadata": {},
   "source": [
    "<br>\n",
    "<br>\n",
    "<br>"
   ]
  },
  {
   "cell_type": "markdown",
   "metadata": {},
   "source": [
    "When working on ML applications such as object detection and NLP, it is sometimes necessary to work with sub-sections (slices) of tensors. For example, if your model architecture includes routing, where one layer might control which training example gets routed to the next layer. In this case, you could use tensor slicing ops to split the tensors up and put them back together in the right order.\n",
    "\n",
    "In NLP applications, you can use tensor slicing to perform word masking while training. For example, you can generate training data from a list of sentences by choosing a word index to mask in each sentence, taking the word out as a label, and then replacing the chosen word with a mask token.  \n",
    "\n",
    "In this guide, you will learn how to use the TensorFlow APIs to:\n",
    "\n",
    "* Extract slices from a tensor\n",
    "* Insert data at specific indices in a tensor\n",
    "\n",
    "This guide assumes familiarity with tensor indexing. Read the indexing sections of the [Tensor](https://www.tensorflow.org/guide/tensor#indexing) and [TensorFlow NumPy](https://www.tensorflow.org/guide/tf_numpy#indexing) guides before getting started with this guide."
   ]
  },
  {
   "cell_type": "markdown",
   "metadata": {},
   "source": [
    "<br>\n",
    "<br>"
   ]
  },
  {
   "cell_type": "code",
   "execution_count": 1,
   "metadata": {},
   "outputs": [],
   "source": [
    "import tensorflow as tf\n",
    "\n",
    "import numpy as np"
   ]
  },
  {
   "cell_type": "code",
   "execution_count": 2,
   "metadata": {},
   "outputs": [
    {
     "name": "stdout",
     "output_type": "stream",
     "text": [
      "2.8.0\n"
     ]
    }
   ],
   "source": [
    "print(tf.__version__)"
   ]
  },
  {
   "cell_type": "markdown",
   "metadata": {},
   "source": [
    "<br>"
   ]
  },
  {
   "cell_type": "markdown",
   "metadata": {},
   "source": [
    "## Extract tensor slices\n",
    "\n",
    "<font style=\"color:maroon;font-size:115%\">Perform NumPy-like tensor slicing using `tf.slice`.</font>"
   ]
  },
  {
   "cell_type": "code",
   "execution_count": 3,
   "metadata": {},
   "outputs": [
    {
     "name": "stdout",
     "output_type": "stream",
     "text": [
      "tf.Tensor([1 2 3], shape=(3,), dtype=int32)\n"
     ]
    }
   ],
   "source": [
    "t1 = tf.constant([0, 1, 2, 3, 4, 5, 6, 7])\n",
    "\n",
    "print(tf.slice(t1, begin=[1], size=[3]))"
   ]
  },
  {
   "cell_type": "markdown",
   "metadata": {},
   "source": [
    "<br>"
   ]
  },
  {
   "cell_type": "markdown",
   "metadata": {},
   "source": [
    "<font style=\"color:maroon;font-size:115%\">Alternatively, you can use a more Pythonic syntax. Note that tensor slices are evenly spaced over a start-stop range.</font>"
   ]
  },
  {
   "cell_type": "code",
   "execution_count": 4,
   "metadata": {},
   "outputs": [
    {
     "name": "stdout",
     "output_type": "stream",
     "text": [
      "tf.Tensor([1 2 3], shape=(3,), dtype=int32)\n"
     ]
    }
   ],
   "source": [
    "print(t1[1:4])"
   ]
  },
  {
   "cell_type": "code",
   "execution_count": 5,
   "metadata": {},
   "outputs": [
    {
     "name": "stdout",
     "output_type": "stream",
     "text": [
      "tf.Tensor([5 6 7], shape=(3,), dtype=int32)\n"
     ]
    }
   ],
   "source": [
    "print(t1[-3:])"
   ]
  },
  {
   "cell_type": "markdown",
   "metadata": {},
   "source": [
    "<br>"
   ]
  },
  {
   "cell_type": "markdown",
   "metadata": {},
   "source": [
    "<font style=\"color:maroon;font-size:115%\">For 2-dimensional tensors,you can use something like:</font>"
   ]
  },
  {
   "cell_type": "code",
   "execution_count": 6,
   "metadata": {},
   "outputs": [
    {
     "name": "stdout",
     "output_type": "stream",
     "text": [
      "tf.Tensor(\n",
      "[[ 1  2]\n",
      " [ 6  7]\n",
      " [11 12]], shape=(3, 2), dtype=int32)\n"
     ]
    }
   ],
   "source": [
    "t2 = tf.constant([[0, 1, 2, 3, 4],\n",
    "                  [5, 6, 7, 8, 9],\n",
    "                  [10, 11, 12, 13, 14],\n",
    "                  [15, 16, 17, 18, 19]])\n",
    "\n",
    "print(t2[:-1, 1:3])"
   ]
  },
  {
   "cell_type": "markdown",
   "metadata": {},
   "source": [
    "<br>"
   ]
  },
  {
   "cell_type": "markdown",
   "metadata": {},
   "source": [
    "<font style=\"color:maroon;font-size:115%\">You can use `tf.slice` on higher dimensional tensors as well.</font>"
   ]
  },
  {
   "cell_type": "code",
   "execution_count": 8,
   "metadata": {},
   "outputs": [
    {
     "name": "stdout",
     "output_type": "stream",
     "text": [
      "(2, 2, 4) \n",
      "\n",
      "tf.Tensor([[[25 27]]], shape=(1, 1, 2), dtype=int32)\n"
     ]
    }
   ],
   "source": [
    "t3 = tf.constant([[[1, 3, 5, 7],\n",
    "                   [9, 11, 13, 15]],\n",
    "                  \n",
    "                  [[17, 19, 21, 23],\n",
    "                   [25, 27, 29, 31]]\n",
    "                  ])  # (2, 2, 4)\n",
    "print(t3.shape, '\\n')\n",
    "\n",
    "print(tf.slice(t3, begin=[1, 1, 0], size=[1, 1, 2]))"
   ]
  },
  {
   "cell_type": "markdown",
   "metadata": {},
   "source": [
    "<br>"
   ]
  },
  {
   "cell_type": "markdown",
   "metadata": {},
   "source": [
    "<font style=\"color:maroon;font-size:120%\">You can also use `tf.strided_slice` to extract slices of tensors by 'striding' over the tensor dimensions.</font>"
   ]
  },
  {
   "cell_type": "markdown",
   "metadata": {},
   "source": [
    "<br>"
   ]
  },
  {
   "cell_type": "markdown",
   "metadata": {},
   "source": [
    "<font style=\"color:maroon;font-size:120%\">Use `tf.gather` to extract specific indices from a single axis of a tensor.</font>"
   ]
  },
  {
   "cell_type": "code",
   "execution_count": 9,
   "metadata": {},
   "outputs": [
    {
     "data": {
      "text/plain": [
       "<tf.Tensor: shape=(8,), dtype=int32, numpy=array([0, 1, 2, 3, 4, 5, 6, 7])>"
      ]
     },
     "execution_count": 9,
     "metadata": {},
     "output_type": "execute_result"
    }
   ],
   "source": [
    "t1"
   ]
  },
  {
   "cell_type": "code",
   "execution_count": 10,
   "metadata": {},
   "outputs": [
    {
     "name": "stdout",
     "output_type": "stream",
     "text": [
      "tf.Tensor([0 3 6], shape=(3,), dtype=int32)\n"
     ]
    },
    {
     "data": {
      "text/plain": [
       "<tf.Tensor: shape=(3,), dtype=int32, numpy=array([0, 3, 6])>"
      ]
     },
     "execution_count": 10,
     "metadata": {},
     "output_type": "execute_result"
    }
   ],
   "source": [
    "print(tf.gather(t1, indices=[0, 3, 6]))\n",
    "\n",
    "# This is similar to doing\n",
    "\n",
    "t1[::3]"
   ]
  },
  {
   "cell_type": "markdown",
   "metadata": {},
   "source": [
    "<br>"
   ]
  },
  {
   "cell_type": "markdown",
   "metadata": {},
   "source": [
    "<font style=\"color:maroon;font-size:120%\">`tf.gather` does not require indices to be evenly spaced.</font>"
   ]
  },
  {
   "cell_type": "code",
   "execution_count": 11,
   "metadata": {},
   "outputs": [
    {
     "name": "stdout",
     "output_type": "stream",
     "text": [
      "tf.Tensor([b'c' b'a' b't' b's'], shape=(4,), dtype=string)\n"
     ]
    }
   ],
   "source": [
    "alphabet = tf.constant(list('abcdefghijklmnopqrstuvwxyz'))\n",
    "\n",
    "print(tf.gather(alphabet, indices=[2, 0, 19, 18]))"
   ]
  },
  {
   "cell_type": "markdown",
   "metadata": {},
   "source": [
    "<br>"
   ]
  },
  {
   "cell_type": "markdown",
   "metadata": {},
   "source": [
    "<img src=\"images/gather_1.png\" width=500px>"
   ]
  },
  {
   "cell_type": "markdown",
   "metadata": {},
   "source": [
    "<br>"
   ]
  },
  {
   "cell_type": "markdown",
   "metadata": {},
   "source": [
    "<font style=\"color:maroon;font-size:120%\">To extract slices from multiple axes of a tensor, use `tf.gather_nd`. This is useful when you want to gather the elements of a matrix as opposed to just its rows or columns.</font>"
   ]
  },
  {
   "cell_type": "code",
   "execution_count": 12,
   "metadata": {},
   "outputs": [
    {
     "name": "stdout",
     "output_type": "stream",
     "text": [
      "tf.Tensor(\n",
      "[[2 7]\n",
      " [3 8]\n",
      " [0 5]], shape=(3, 2), dtype=int32)\n"
     ]
    }
   ],
   "source": [
    "t4 = tf.constant([[0, 5],\n",
    "                  [1, 6],\n",
    "                  [2, 7],\n",
    "                  [3, 8],\n",
    "                  [4, 9]])\n",
    "\n",
    "print(tf.gather_nd(t4, indices=[[2], [3], [0]]))"
   ]
  },
  {
   "cell_type": "markdown",
   "metadata": {},
   "source": [
    "<br>"
   ]
  },
  {
   "cell_type": "markdown",
   "metadata": {},
   "source": [
    "<img src=\"images/gather_2.png\" width=500px>"
   ]
  },
  {
   "cell_type": "markdown",
   "metadata": {},
   "source": [
    "<br>\n",
    "<br>"
   ]
  },
  {
   "cell_type": "code",
   "execution_count": 19,
   "metadata": {},
   "outputs": [
    {
     "name": "stdout",
     "output_type": "stream",
     "text": [
      "(2, 3, 3) \n",
      "\n",
      "[[[ 0  1  2]\n",
      "  [ 3  4  5]\n",
      "  [ 6  7  8]]\n",
      "\n",
      " [[ 9 10 11]\n",
      "  [12 13 14]\n",
      "  [15 16 17]]] \n",
      "\n",
      "\n",
      "tf.Tensor([ 0 16], shape=(2,), dtype=int32)\n"
     ]
    }
   ],
   "source": [
    "t5 = np.reshape(np.arange(18), [2, 3, 3])\n",
    "print(t5.shape, '\\n')\n",
    "print(t5, '\\n\\n')\n",
    "\n",
    "print(tf.gather_nd(t5, indices=[[0, 0, 0], [1, 2, 1]]))\n",
    "# 因为每一个 indices 的元素都是 `三维的`， t5 也是三维的。\n",
    "# 故 每一个 indices 的元素对应了 t5 的一个坐标\n",
    "# t5 中坐标为（0,0,0) 和 (1,2,1) 的两个元素。"
   ]
  },
  {
   "cell_type": "markdown",
   "metadata": {},
   "source": [
    "<br>"
   ]
  },
  {
   "cell_type": "code",
   "execution_count": 17,
   "metadata": {},
   "outputs": [
    {
     "name": "stdout",
     "output_type": "stream",
     "text": [
      "tf.Tensor(\n",
      "[[[ 0  1  2]\n",
      "  [ 6  7  8]]\n",
      "\n",
      " [[ 9 10 11]\n",
      "  [15 16 17]]], shape=(2, 2, 3), dtype=int32)\n"
     ]
    }
   ],
   "source": [
    "# Return a list of two matrices\n",
    "\n",
    "print(tf.gather_nd(t5,    # shape=(2,3,3)\n",
    "                   indices=[ [[0, 0], [0, 2]],\n",
    "                             [[1, 0], [1, 2]]\n",
    "                           ]))\n",
    "\n",
    "# 因为每一个 indices 的每个元素都是 一个 2x2 的矩阵。该矩阵是 2 维矩阵；该矩阵的每个元素（每一行）又包括了 2 个元素。\n",
    "# 而 t5 是三维的。shape=(2,3,3)\n",
    "# 因此 indices 的每个元素（2x2的矩阵）的每一行（含有2个元素）对应了 t5 的三个维度的前两个维度。\n",
    "# 故 [[0,0],  [0,2]] 表示 t5[0, 0, :] 和 t5[0, 2, :]。\n",
    "#   [[1,0],  [1,2]] 表示 t5[1, 0, :] 和 t5[1, 2, :]。"
   ]
  },
  {
   "cell_type": "markdown",
   "metadata": {},
   "source": [
    "<br>"
   ]
  },
  {
   "cell_type": "code",
   "execution_count": 20,
   "metadata": {},
   "outputs": [
    {
     "name": "stdout",
     "output_type": "stream",
     "text": [
      "[0 1 2] \n",
      "\n",
      "[6 7 8] \n",
      "\n"
     ]
    }
   ],
   "source": [
    "print(t5[0, 0, :], \"\\n\")\n",
    "print(t5[0, 2, :], \"\\n\")"
   ]
  },
  {
   "cell_type": "markdown",
   "metadata": {},
   "source": [
    "<br>\n",
    "<br>"
   ]
  },
  {
   "cell_type": "code",
   "execution_count": 18,
   "metadata": {},
   "outputs": [
    {
     "name": "stdout",
     "output_type": "stream",
     "text": [
      "tf.Tensor(\n",
      "[[ 0  1  2]\n",
      " [ 6  7  8]\n",
      " [ 9 10 11]\n",
      " [15 16 17]], shape=(4, 3), dtype=int32)\n"
     ]
    }
   ],
   "source": [
    "# Return one matrix\n",
    "\n",
    "print(tf.gather_nd(t5,\n",
    "                   indices=[[0, 0], [0, 2], [1, 0], [1, 2]]))"
   ]
  },
  {
   "cell_type": "markdown",
   "metadata": {},
   "source": [
    "<br>\n",
    "<br>\n",
    "<br>"
   ]
  },
  {
   "cell_type": "markdown",
   "metadata": {},
   "source": [
    "## Insert data into tensors\n",
    "\n",
    "<font style=\"color:maroon;font-size:115%\">Use `tf.scatter_nd` to insert data at specific slices/indices of a tensor.<br><br>\n",
    "\n",
    "**Note that** the tensor into which you insert values is zero-initialized.</font>"
   ]
  },
  {
   "cell_type": "code",
   "execution_count": 22,
   "metadata": {},
   "outputs": [
    {
     "name": "stdout",
     "output_type": "stream",
     "text": [
      "tf.Tensor([10], shape=(1,), dtype=int32) \n",
      "\n",
      "tf.Tensor([ 0  2  0  4  0  6  0  8  0 10], shape=(10,), dtype=int32)\n"
     ]
    }
   ],
   "source": [
    "t6 = tf.constant([10])\n",
    "print(t6, \"\\n\")\n",
    "\n",
    "indices = tf.constant([[1], [3], [5], [7], [9]])\n",
    "data = tf.constant([2, 4, 6, 8, 10])   # indices 处插入的值\n",
    "\n",
    "print(tf.scatter_nd(indices=indices,\n",
    "                    updates=data,\n",
    "                    shape=t6))"
   ]
  },
  {
   "cell_type": "markdown",
   "metadata": {},
   "source": [
    "<br>\n",
    "<br>"
   ]
  },
  {
   "cell_type": "markdown",
   "metadata": {},
   "source": [
    "<font style=\"color:maroon;font-size:120%\">Methods like `tf.scatter_nd` which require zero-initialized tensors are similar to sparse tensor initializers. You can use `tf.gather_nd` and `tf.scatter_nd` to mimic the behavior of sparse tensor ops.</font>\n",
    "\n",
    "Consider an example where you construct a sparse tensor using these two methods in conjunction."
   ]
  },
  {
   "cell_type": "code",
   "execution_count": 24,
   "metadata": {},
   "outputs": [
    {
     "name": "stdout",
     "output_type": "stream",
     "text": [
      "tf.Tensor(\n",
      "[[ 0  1  2  3  4]\n",
      " [ 5  6  7  8  9]\n",
      " [10 11 12 13 14]\n",
      " [15 16 17 18 19]], shape=(4, 5), dtype=int32) \n",
      "\n",
      "\n",
      "tf.Tensor([ 2 11 18], shape=(3,), dtype=int32)\n"
     ]
    }
   ],
   "source": [
    "# Gather values from one tensor by specifying indices\n",
    "print(t2, \"\\n\\n\")\n",
    "\n",
    "new_indices = tf.constant([[0, 2], [2, 1], [3, 3]])\n",
    "\n",
    "t7 = tf.gather_nd(t2, indices=new_indices)\n",
    "print(t7)"
   ]
  },
  {
   "cell_type": "markdown",
   "metadata": {},
   "source": [
    "<br>"
   ]
  },
  {
   "cell_type": "markdown",
   "metadata": {},
   "source": [
    "<img src=\"images/gather_nd_sparse.png\" width=500px>"
   ]
  },
  {
   "cell_type": "markdown",
   "metadata": {},
   "source": [
    "<br>"
   ]
  },
  {
   "cell_type": "code",
   "execution_count": 25,
   "metadata": {},
   "outputs": [
    {
     "name": "stdout",
     "output_type": "stream",
     "text": [
      "tf.Tensor(\n",
      "[[ 0  0  2  0  0]\n",
      " [ 0  0  0  0  0]\n",
      " [ 0 11  0  0  0]\n",
      " [ 0  0  0 18  0]], shape=(4, 5), dtype=int32)\n"
     ]
    }
   ],
   "source": [
    "# Add these values into a new tensor\n",
    "\n",
    "t8 = tf.scatter_nd(indices=new_indices, updates=t7, shape=tf.constant([4, 5]))\n",
    "\n",
    "print(t8)"
   ]
  },
  {
   "cell_type": "markdown",
   "metadata": {},
   "source": [
    "<br>"
   ]
  },
  {
   "cell_type": "markdown",
   "metadata": {},
   "source": [
    "<font style=\"color:maroon;font-size:115%\">This is similar to:</font>"
   ]
  },
  {
   "cell_type": "code",
   "execution_count": 26,
   "metadata": {},
   "outputs": [
    {
     "name": "stdout",
     "output_type": "stream",
     "text": [
      "SparseTensor(indices=tf.Tensor(\n",
      "[[0 2]\n",
      " [2 1]\n",
      " [3 3]], shape=(3, 2), dtype=int64), values=tf.Tensor([ 2 11 18], shape=(3,), dtype=int32), dense_shape=tf.Tensor([4 5], shape=(2,), dtype=int64))\n"
     ]
    }
   ],
   "source": [
    "t9 = tf.SparseTensor(indices=[[0, 2], [2, 1], [3, 3]],\n",
    "                     values=[2, 11, 18],\n",
    "                     dense_shape=[4, 5])\n",
    "\n",
    "print(t9)"
   ]
  },
  {
   "cell_type": "code",
   "execution_count": 27,
   "metadata": {},
   "outputs": [
    {
     "name": "stdout",
     "output_type": "stream",
     "text": [
      "tf.Tensor(\n",
      "[[ 0  0  2  0  0]\n",
      " [ 0  0  0  0  0]\n",
      " [ 0 11  0  0  0]\n",
      " [ 0  0  0 18  0]], shape=(4, 5), dtype=int32)\n"
     ]
    }
   ],
   "source": [
    "# Convert the sparse tensor into a dense tensor\n",
    "\n",
    "t10 = tf.sparse.to_dense(t9)\n",
    "\n",
    "print(t10)"
   ]
  },
  {
   "cell_type": "markdown",
   "metadata": {},
   "source": [
    "<br>"
   ]
  },
  {
   "cell_type": "markdown",
   "metadata": {},
   "source": [
    "<font style=\"color:maroon;font-size:120%\">To insert data into a tensor with pre-existing values, use `tf.tensor_scatter_nd_add`.</font>"
   ]
  },
  {
   "cell_type": "code",
   "execution_count": 37,
   "metadata": {},
   "outputs": [
    {
     "name": "stdout",
     "output_type": "stream",
     "text": [
      "tf.Tensor(\n",
      "[[2 7 6]\n",
      " [9 5 1]\n",
      " [4 3 8]], shape=(3, 3), dtype=int32)\n"
     ]
    }
   ],
   "source": [
    "t11 = tf.constant([[2, 7, 0],\n",
    "                   [9, 0, 1],\n",
    "                   [0, 3, 8]])\n",
    "\n",
    "# Convert the tensor into a magic square by inserting numbers at appropriate indices\n",
    "\n",
    "t12 = tf.tensor_scatter_nd_add(t11,\n",
    "                               indices=[[0, 2], [1, 1], [2, 0]],\n",
    "                               updates=[6, 5, 4])\n",
    "\n",
    "print(t12)"
   ]
  },
  {
   "cell_type": "markdown",
   "metadata": {},
   "source": [
    "<br>"
   ]
  },
  {
   "cell_type": "markdown",
   "metadata": {},
   "source": [
    "<font style=\"color:maroon;font-size:115%\">Similarly, use `tf.tensor_scatter_nd_sub` to subtract values from a tensor with pre-existing values.</font>"
   ]
  },
  {
   "cell_type": "code",
   "execution_count": 38,
   "metadata": {},
   "outputs": [
    {
     "name": "stdout",
     "output_type": "stream",
     "text": [
      "tf.Tensor(\n",
      "[[1 0 0]\n",
      " [0 1 0]\n",
      " [0 0 1]], shape=(3, 3), dtype=int32)\n"
     ]
    }
   ],
   "source": [
    "# Convert the tensor into an identity matrix\n",
    "\n",
    "t13 = tf.tensor_scatter_nd_sub(t11,\n",
    "                               indices=[[0, 0], [0, 1], [1, 0], [1, 1], [1, 2], [2, 1], [2, 2]],\n",
    "                               updates=[1, 7, 9, -1, 1, 3, 7])\n",
    "\n",
    "print(t13)"
   ]
  },
  {
   "cell_type": "markdown",
   "metadata": {},
   "source": [
    "<br>"
   ]
  },
  {
   "cell_type": "markdown",
   "metadata": {},
   "source": [
    "<font style=\"color:maroon;font-size:115%\">Use `tf.tensor_scatter_nd_min` to copy element-wise minimum values from one tensor to another.</font>"
   ]
  },
  {
   "cell_type": "code",
   "execution_count": 39,
   "metadata": {},
   "outputs": [
    {
     "name": "stdout",
     "output_type": "stream",
     "text": [
      "tf.Tensor(\n",
      "[[-2 -7 -6]\n",
      " [-9 -5  1]\n",
      " [-4 -3 -8]], shape=(3, 3), dtype=int32)\n"
     ]
    }
   ],
   "source": [
    "t14 = tf.constant([[-2, -7, 0],\n",
    "                   [-9, 0, 1],\n",
    "                   [0, -3, -8]])\n",
    "\n",
    "t15 = tf.tensor_scatter_nd_min(t14,\n",
    "                               indices=[[0, 2], [1, 1], [2, 0]],\n",
    "                               updates=[-6, -5, -4])\n",
    "\n",
    "print(t15)"
   ]
  },
  {
   "cell_type": "markdown",
   "metadata": {},
   "source": [
    "<br>"
   ]
  },
  {
   "cell_type": "code",
   "execution_count": 40,
   "metadata": {},
   "outputs": [
    {
     "name": "stdout",
     "output_type": "stream",
     "text": [
      "tf.Tensor(\n",
      "[[-2 -7 -6]\n",
      " [-9 -5  1]\n",
      " [-4 -3 -8]], shape=(3, 3), dtype=int32)\n"
     ]
    }
   ],
   "source": [
    "t14 = tf.constant([[-2, -7, 10],\n",
    "                   [-9, 10, 1],\n",
    "                   [10, -3, -8]])\n",
    "\n",
    "t15 = tf.tensor_scatter_nd_min(t14,\n",
    "                               indices=[[0, 2], [1, 1], [2, 0]],\n",
    "                               updates=[-6, -5, -4])\n",
    "\n",
    "print(t15)"
   ]
  },
  {
   "cell_type": "markdown",
   "metadata": {},
   "source": [
    "<br>"
   ]
  },
  {
   "cell_type": "markdown",
   "metadata": {},
   "source": [
    "<font style=\"color:maroon;font-size:115%\">Similarly, use `tf.tensor_scatter_nd_max` to copy element-wise maximum values from one tensor to another.</font>"
   ]
  },
  {
   "cell_type": "code",
   "execution_count": 41,
   "metadata": {},
   "outputs": [
    {
     "name": "stdout",
     "output_type": "stream",
     "text": [
      "tf.Tensor(\n",
      "[[-2 -7  6]\n",
      " [-9  5  1]\n",
      " [ 4 -3 -8]], shape=(3, 3), dtype=int32)\n"
     ]
    }
   ],
   "source": [
    "t14 = tf.constant([[-2, -7, 0],\n",
    "                   [-9, 0, 1],\n",
    "                   [0, -3, -8]])\n",
    "\n",
    "t16 = tf.tensor_scatter_nd_max(t14,\n",
    "                               indices=[[0, 2], [1, 1], [2, 0]],\n",
    "                               updates=[6, 5, 4])\n",
    "\n",
    "print(t16)"
   ]
  },
  {
   "cell_type": "markdown",
   "metadata": {},
   "source": [
    "<br>\n",
    "<br>\n",
    "<br>"
   ]
  },
  {
   "cell_type": "markdown",
   "metadata": {},
   "source": [
    "## Further reading and resources\n",
    "\n",
    "In this guide, you learned how to use the tensor slicing ops available with TensorFlow to exert finer control over the elements in your tensors.\n",
    "\n",
    "* Check out the slicing ops available with TensorFlow NumPy such as `tf.experimental.numpy.take_along_axis` and `tf.experimental.numpy.take`.\n",
    "\n",
    "* Also check out the [Tensor guide](https://www.tensorflow.org/guide/tensor) and the [Variable guide](https://www.tensorflow.org/guide/variable)."
   ]
  },
  {
   "cell_type": "markdown",
   "metadata": {},
   "source": [
    "<br>\n",
    "<br>\n",
    "<br>"
   ]
  }
 ],
 "metadata": {
  "kernelspec": {
   "display_name": "Python [conda env:tfg]",
   "language": "python",
   "name": "conda-env-tfg-py"
  },
  "language_info": {
   "codemirror_mode": {
    "name": "ipython",
    "version": 3
   },
   "file_extension": ".py",
   "mimetype": "text/x-python",
   "name": "python",
   "nbconvert_exporter": "python",
   "pygments_lexer": "ipython3",
   "version": "3.9.7"
  },
  "toc": {
   "base_numbering": 1,
   "nav_menu": {},
   "number_sections": true,
   "sideBar": true,
   "skip_h1_title": false,
   "title_cell": "Table of Contents",
   "title_sidebar": "Contents",
   "toc_cell": false,
   "toc_position": {},
   "toc_section_display": true,
   "toc_window_display": false
  },
  "varInspector": {
   "cols": {
    "lenName": 16,
    "lenType": 16,
    "lenVar": 40
   },
   "kernels_config": {
    "python": {
     "delete_cmd_postfix": "",
     "delete_cmd_prefix": "del ",
     "library": "var_list.py",
     "varRefreshCmd": "print(var_dic_list())"
    },
    "r": {
     "delete_cmd_postfix": ") ",
     "delete_cmd_prefix": "rm(",
     "library": "var_list.r",
     "varRefreshCmd": "cat(var_dic_list()) "
    }
   },
   "types_to_exclude": [
    "module",
    "function",
    "builtin_function_or_method",
    "instance",
    "_Feature"
   ],
   "window_display": false
  }
 },
 "nbformat": 4,
 "nbformat_minor": 4
}
