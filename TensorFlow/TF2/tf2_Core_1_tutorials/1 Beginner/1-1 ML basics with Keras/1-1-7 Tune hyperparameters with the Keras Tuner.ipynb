{
 "cells": [
  {
   "cell_type": "markdown",
   "metadata": {},
   "source": [
    "<br>"
   ]
  },
  {
   "cell_type": "markdown",
   "metadata": {},
   "source": [
    "<div align=center><font color=maroon size=6><b>Introduction to the Keras Tuner</b></font></div>"
   ]
  },
  {
   "cell_type": "markdown",
   "metadata": {},
   "source": [
    "<br>"
   ]
  },
  {
   "cell_type": "markdown",
   "metadata": {},
   "source": [
    "<font size=4><b>References:</b></font>\n",
    "1. TF2 official tutorials: <a href=\"https://www.tensorflow.org/tutorials\" style=\"text-decoration:none;\">TensorFlow Tutorials</a> \n",
    "    * `TensorFlow > Learn > TensorFlow Core > `Tutorials > <a href=\"https://www.tensorflow.org/tutorials/keras/keras_tuner\" style=\"text-decoration:none;\">Introduction to the Keras Tuner</a>\n",
    "        * Run in <a href=\"https://colab.research.google.com/github/tensorflow/docs/blob/master/site/en/tutorials/keras/keras_tuner.ipynb\" style=\"text-decoration:none;\">Google Colab</a>"
   ]
  },
  {
   "cell_type": "markdown",
   "metadata": {},
   "source": [
    "<br>\n",
    "<br>\n",
    "<br>"
   ]
  },
  {
   "cell_type": "markdown",
   "metadata": {},
   "source": [
    "## Overview\n",
    "\n",
    "The Keras Tuner is a library that helps you pick the optimal set of hyperparameters for your TensorFlow program. The process of selecting the right set of hyperparameters for your machine learning (ML) application is called <font color=blue>*hyperparameter tuning*</font> or <font color=blue>*hypertuning*</font>.\n",
    "\n",
    "<font color=blue>Hyperparameters</font> are the variables that govern the training process and the topology of an ML model. These variables remain constant over the training process and directly impact the performance of your ML program. \n",
    "\n",
    "Hyperparameters are of two types:\n",
    "1. <font color=blue>**Model hyperparameters**</font> which influence model selection such as the number and width of hidden layers\n",
    "2. <font color=blue>**Algorithm hyperparameters**</font> which influence the speed and quality of the learning algorithm such as the learning rate for Stochastic Gradient Descent (SGD) and the number of nearest neighbors for a k Nearest Neighbors (KNN) classifier"
   ]
  },
  {
   "cell_type": "markdown",
   "metadata": {},
   "source": [
    "In this tutorial, you will use the Keras Tuner to perform hypertuning for an image classification application."
   ]
  },
  {
   "cell_type": "markdown",
   "metadata": {},
   "source": [
    "<br>\n",
    "<br>\n",
    "<br>"
   ]
  },
  {
   "cell_type": "markdown",
   "metadata": {},
   "source": [
    "## Setup"
   ]
  },
  {
   "cell_type": "code",
   "execution_count": 1,
   "metadata": {},
   "outputs": [],
   "source": [
    "import tensorflow as tf\n",
    "from tensorflow import keras"
   ]
  },
  {
   "cell_type": "code",
   "execution_count": 2,
   "metadata": {},
   "outputs": [
    {
     "name": "stdout",
     "output_type": "stream",
     "text": [
      "2.5.0\n"
     ]
    }
   ],
   "source": [
    "print(tf.__version__)"
   ]
  },
  {
   "cell_type": "markdown",
   "metadata": {},
   "source": [
    "<br>"
   ]
  },
  {
   "cell_type": "markdown",
   "metadata": {},
   "source": [
    "Install and import the Keras Tuner."
   ]
  },
  {
   "cell_type": "code",
   "execution_count": 3,
   "metadata": {},
   "outputs": [],
   "source": [
    "!pip install -q -U keras-tuner"
   ]
  },
  {
   "cell_type": "code",
   "execution_count": 4,
   "metadata": {},
   "outputs": [],
   "source": [
    "import keras_tuner as kt"
   ]
  },
  {
   "cell_type": "markdown",
   "metadata": {},
   "source": [
    "<br>\n",
    "<br>\n",
    "<br>"
   ]
  },
  {
   "cell_type": "markdown",
   "metadata": {},
   "source": [
    "## Download and prepare the dataset\n",
    "\n",
    "In this tutorial, you will use the Keras Tuner to find the best hyperparameters for a machine learning model that classifies images of clothing from the [Fashion MNIST dataset](https://github.com/zalandoresearch/fashion-mnist)."
   ]
  },
  {
   "cell_type": "markdown",
   "metadata": {},
   "source": [
    "Load the data."
   ]
  },
  {
   "cell_type": "code",
   "execution_count": 5,
   "metadata": {},
   "outputs": [],
   "source": [
    "(img_train, label_train), (img_test, label_test) = keras.datasets.fashion_mnist.load_data()"
   ]
  },
  {
   "cell_type": "code",
   "execution_count": 6,
   "metadata": {},
   "outputs": [],
   "source": [
    "# Normalize pixel values between 0 and 1\n",
    "img_train = img_train.astype('float32') / 255.0\n",
    "img_test = img_test.astype('float32') / 255.0"
   ]
  },
  {
   "cell_type": "markdown",
   "metadata": {},
   "source": [
    "<br>\n",
    "<br>\n",
    "<br>"
   ]
  },
  {
   "cell_type": "markdown",
   "metadata": {},
   "source": [
    "## Define the model\n",
    "\n",
    "When you build a model for hypertuning, you also define the hyperparameter search space in addition to the model architecture. The model you set up for hypertuning is called a <font color=blue>*hypermodel*</font>.\n",
    "\n",
    "You can define a hypermodel through two approaches:\n",
    "\n",
    "* By using a model builder function\n",
    "* By subclassing the `HyperModel` class of the Keras Tuner API\n",
    "\n",
    "You can also use two pre-defined `HyperModel` classes - [HyperXception](https://keras-team.github.io/keras-tuner/documentation/hypermodels/#hyperxception-class) and [HyperResNet](https://keras-team.github.io/keras-tuner/documentation/hypermodels/#hyperresnet-class) for computer vision applications."
   ]
  },
  {
   "cell_type": "markdown",
   "metadata": {},
   "source": [
    "In this tutorial, you use a model builder function to define the image classification model. The model builder function returns a compiled model and uses hyperparameters you define inline to hypertune the model."
   ]
  },
  {
   "cell_type": "code",
   "execution_count": 7,
   "metadata": {},
   "outputs": [],
   "source": [
    "def model_builder(hp):\n",
    "    model = keras.Sequential()\n",
    "    model.add(keras.layers.Flatten(input_shape=(28, 28)))\n",
    "    \n",
    "    # Tune the number of units in the first Dense layer\n",
    "    # Choose an optimal value between 32-512\n",
    "    hp_units = hp.Int('units', min_value=32, max_value=512, step=32)\n",
    "    \n",
    "    model.add(keras.layers.Dense(units=hp_units, activation='relu'))\n",
    "    model.add(keras.layers.Dense(10))\n",
    "    \n",
    "    # Tune the learning rate for the optimizer\n",
    "    # Choose an optimal value from 0.01, 0.001, or 0.0001\n",
    "    hp_learning_rate = hp.Choice('learning_rate', values=[1e-2, 1e-3, 1e-4])\n",
    "    \n",
    "    model.compile(optimizer=keras.optimizers.Adam(learning_rate=hp_learning_rate),\n",
    "                  loss=keras.losses.SparseCategoricalCrossentropy(from_logits=True),\n",
    "                  metrics=['accuracy'])\n",
    "    \n",
    "    return model"
   ]
  },
  {
   "cell_type": "markdown",
   "metadata": {},
   "source": [
    "<br>\n",
    "<br>\n",
    "<br>"
   ]
  },
  {
   "cell_type": "markdown",
   "metadata": {},
   "source": [
    "## Instantiate the tuner and perform hypertuning\n",
    "\n",
    "Instantiate the tuner to perform the hypertuning. The Keras Tuner has four tuners available - `RandomSearch`, `Hyperband`, `BayesianOptimization`, and `Sklearn`. In this tutorial, you use the [Hyperband](https://arxiv.org/pdf/1603.06560.pdf) tuner.\n",
    "\n",
    "To instantiate the Hyperband tuner, you must specify the hypermodel, the `objective` to optimize and the maximum number of epochs to train (`max_epochs`)."
   ]
  },
  {
   "cell_type": "code",
   "execution_count": 8,
   "metadata": {},
   "outputs": [],
   "source": [
    "tuner = kt.Hyperband(model_builder,\n",
    "                     objective='val_accuracy',\n",
    "                     max_epochs=10,\n",
    "                     factor=3,\n",
    "                     directory='my_dir',\n",
    "                     project_name='intro_to_kt')"
   ]
  },
  {
   "cell_type": "markdown",
   "metadata": {},
   "source": [
    "The Hyperband tuning algorithm uses adaptive resource allocation and early-stopping to quickly converge on a high-performing model. This is done using a sports championship style bracket. The algorithm trains a large number of models for a few epochs and carries forward only the top-performing half of models to the next round. Hyperband determines the number of models to train in a bracket by computing 1 + log<sub>`factor`</sub>(`max_epochs`) and rounding it up to the nearest integer."
   ]
  },
  {
   "cell_type": "markdown",
   "metadata": {},
   "source": [
    "<br>"
   ]
  },
  {
   "cell_type": "markdown",
   "metadata": {},
   "source": [
    "Create a callback to stop training early after reaching a certain value for the validation loss."
   ]
  },
  {
   "cell_type": "code",
   "execution_count": 9,
   "metadata": {},
   "outputs": [],
   "source": [
    "stop_early = tf.keras.callbacks.EarlyStopping(monitor='val_loss', patience=5)"
   ]
  },
  {
   "cell_type": "markdown",
   "metadata": {},
   "source": [
    "<br>"
   ]
  },
  {
   "cell_type": "markdown",
   "metadata": {},
   "source": [
    "Run the hyperparameter search. The arguments for the search method are the same as those used for `tf.keras.model.fit` in addition to the callback above."
   ]
  },
  {
   "cell_type": "code",
   "execution_count": 10,
   "metadata": {},
   "outputs": [
    {
     "name": "stdout",
     "output_type": "stream",
     "text": [
      "Trial 30 Complete [00h 00m 29s]\n",
      "val_accuracy: 0.8601666688919067\n",
      "\n",
      "Best val_accuracy So Far: 0.8872500061988831\n",
      "Total elapsed time: 00h 06m 09s\n",
      "INFO:tensorflow:Oracle triggered exit\n",
      "\n",
      "The hyperparameter search is complete. The optimal number of units in the first densely-connected\n",
      "layer is 448 and the optimal learning rate for the optimizer\n",
      "is 0.001.\n",
      "\n"
     ]
    }
   ],
   "source": [
    "tuner.search(img_train, label_train, epochs=50, validation_split=0.2, callbacks=[stop_early])\n",
    "\n",
    "# Get the optimal hyperparameters\n",
    "best_hps=tuner.get_best_hyperparameters(num_trials=1)[0]\n",
    "\n",
    "print(f\"\"\"\n",
    "The hyperparameter search is complete. The optimal number of units in the first densely-connected\n",
    "layer is {best_hps.get('units')} and the optimal learning rate for the optimizer\n",
    "is {best_hps.get('learning_rate')}.\n",
    "\"\"\")"
   ]
  },
  {
   "cell_type": "markdown",
   "metadata": {},
   "source": [
    "<br>\n",
    "<br>\n",
    "<br>"
   ]
  },
  {
   "cell_type": "markdown",
   "metadata": {},
   "source": [
    "## Train the model\n",
    "\n",
    "Find the optimal number of epochs to train the model with the hyperparameters obtained from the search."
   ]
  },
  {
   "cell_type": "code",
   "execution_count": 11,
   "metadata": {
    "scrolled": true
   },
   "outputs": [
    {
     "name": "stdout",
     "output_type": "stream",
     "text": [
      "Epoch 1/50\n",
      "1500/1500 [==============================] - 3s 2ms/step - loss: 0.4943 - accuracy: 0.8252 - val_loss: 0.4255 - val_accuracy: 0.8505\n",
      "Epoch 2/50\n",
      "1500/1500 [==============================] - 3s 2ms/step - loss: 0.3693 - accuracy: 0.8649 - val_loss: 0.3556 - val_accuracy: 0.8724\n",
      "Epoch 3/50\n",
      "1500/1500 [==============================] - 3s 2ms/step - loss: 0.3301 - accuracy: 0.8794 - val_loss: 0.3498 - val_accuracy: 0.8724\n",
      "Epoch 4/50\n",
      "1500/1500 [==============================] - 3s 2ms/step - loss: 0.3077 - accuracy: 0.8849 - val_loss: 0.3608 - val_accuracy: 0.8705\n",
      "Epoch 5/50\n",
      "1500/1500 [==============================] - 3s 2ms/step - loss: 0.2876 - accuracy: 0.8936 - val_loss: 0.3384 - val_accuracy: 0.8760\n",
      "Epoch 6/50\n",
      "1500/1500 [==============================] - 3s 2ms/step - loss: 0.2701 - accuracy: 0.8992 - val_loss: 0.3362 - val_accuracy: 0.8783\n",
      "Epoch 7/50\n",
      "1500/1500 [==============================] - 3s 2ms/step - loss: 0.2582 - accuracy: 0.9038 - val_loss: 0.3101 - val_accuracy: 0.8894\n",
      "Epoch 8/50\n",
      "1500/1500 [==============================] - 3s 2ms/step - loss: 0.2457 - accuracy: 0.9085 - val_loss: 0.3155 - val_accuracy: 0.8883\n",
      "Epoch 9/50\n",
      "1500/1500 [==============================] - 3s 2ms/step - loss: 0.2366 - accuracy: 0.9101 - val_loss: 0.3302 - val_accuracy: 0.8816\n",
      "Epoch 10/50\n",
      "1500/1500 [==============================] - 3s 2ms/step - loss: 0.2239 - accuracy: 0.9150 - val_loss: 0.3345 - val_accuracy: 0.8834\n",
      "Epoch 11/50\n",
      "1500/1500 [==============================] - 3s 2ms/step - loss: 0.2169 - accuracy: 0.9198 - val_loss: 0.3112 - val_accuracy: 0.8935\n",
      "Epoch 12/50\n",
      "1500/1500 [==============================] - 3s 2ms/step - loss: 0.2073 - accuracy: 0.9218 - val_loss: 0.3275 - val_accuracy: 0.8868\n",
      "Epoch 13/50\n",
      "1500/1500 [==============================] - 3s 2ms/step - loss: 0.1984 - accuracy: 0.9247 - val_loss: 0.3185 - val_accuracy: 0.8900\n",
      "Epoch 14/50\n",
      "1500/1500 [==============================] - 3s 2ms/step - loss: 0.1943 - accuracy: 0.9256 - val_loss: 0.3160 - val_accuracy: 0.8950\n",
      "Epoch 15/50\n",
      "1500/1500 [==============================] - 3s 2ms/step - loss: 0.1845 - accuracy: 0.9312 - val_loss: 0.3134 - val_accuracy: 0.8947\n",
      "Epoch 16/50\n",
      "1500/1500 [==============================] - 3s 2ms/step - loss: 0.1800 - accuracy: 0.9318 - val_loss: 0.3280 - val_accuracy: 0.8941\n",
      "Epoch 17/50\n",
      "1500/1500 [==============================] - 3s 2ms/step - loss: 0.1730 - accuracy: 0.9361 - val_loss: 0.3512 - val_accuracy: 0.8896\n",
      "Epoch 18/50\n",
      "1500/1500 [==============================] - 3s 2ms/step - loss: 0.1678 - accuracy: 0.9365 - val_loss: 0.3571 - val_accuracy: 0.8875\n",
      "Epoch 19/50\n",
      "1500/1500 [==============================] - 3s 2ms/step - loss: 0.1621 - accuracy: 0.9392 - val_loss: 0.3292 - val_accuracy: 0.8950\n",
      "Epoch 20/50\n",
      "1500/1500 [==============================] - 3s 2ms/step - loss: 0.1560 - accuracy: 0.9410 - val_loss: 0.3437 - val_accuracy: 0.8955\n",
      "Epoch 21/50\n",
      "1500/1500 [==============================] - 3s 2ms/step - loss: 0.1505 - accuracy: 0.9438 - val_loss: 0.3440 - val_accuracy: 0.8943\n",
      "Epoch 22/50\n",
      "1500/1500 [==============================] - 3s 2ms/step - loss: 0.1476 - accuracy: 0.9449 - val_loss: 0.3931 - val_accuracy: 0.8842\n",
      "Epoch 23/50\n",
      "1500/1500 [==============================] - 3s 2ms/step - loss: 0.1449 - accuracy: 0.9457 - val_loss: 0.3773 - val_accuracy: 0.8927\n",
      "Epoch 24/50\n",
      "1500/1500 [==============================] - 3s 2ms/step - loss: 0.1363 - accuracy: 0.9488 - val_loss: 0.3604 - val_accuracy: 0.8948\n",
      "Epoch 25/50\n",
      "1500/1500 [==============================] - 3s 2ms/step - loss: 0.1343 - accuracy: 0.9494 - val_loss: 0.3901 - val_accuracy: 0.8888\n",
      "Epoch 26/50\n",
      "1500/1500 [==============================] - 3s 2ms/step - loss: 0.1340 - accuracy: 0.9499 - val_loss: 0.3877 - val_accuracy: 0.8932\n",
      "Epoch 27/50\n",
      "1500/1500 [==============================] - 3s 2ms/step - loss: 0.1259 - accuracy: 0.9524 - val_loss: 0.3656 - val_accuracy: 0.8959\n",
      "Epoch 28/50\n",
      "1500/1500 [==============================] - 3s 2ms/step - loss: 0.1207 - accuracy: 0.9546 - val_loss: 0.3804 - val_accuracy: 0.8910\n",
      "Epoch 29/50\n",
      "1500/1500 [==============================] - 3s 2ms/step - loss: 0.1201 - accuracy: 0.9542 - val_loss: 0.3788 - val_accuracy: 0.8968\n",
      "Epoch 30/50\n",
      "1500/1500 [==============================] - 3s 2ms/step - loss: 0.1170 - accuracy: 0.9555 - val_loss: 0.4020 - val_accuracy: 0.8967\n",
      "Epoch 31/50\n",
      "1500/1500 [==============================] - 3s 2ms/step - loss: 0.1137 - accuracy: 0.9580 - val_loss: 0.4389 - val_accuracy: 0.8891\n",
      "Epoch 32/50\n",
      "1500/1500 [==============================] - 3s 2ms/step - loss: 0.1113 - accuracy: 0.9579 - val_loss: 0.4542 - val_accuracy: 0.8867\n",
      "Epoch 33/50\n",
      "1500/1500 [==============================] - 3s 2ms/step - loss: 0.1092 - accuracy: 0.9583 - val_loss: 0.4081 - val_accuracy: 0.8962\n",
      "Epoch 34/50\n",
      "1500/1500 [==============================] - 3s 2ms/step - loss: 0.1058 - accuracy: 0.9593 - val_loss: 0.4320 - val_accuracy: 0.8931\n",
      "Epoch 35/50\n",
      "1500/1500 [==============================] - 3s 2ms/step - loss: 0.1017 - accuracy: 0.9615 - val_loss: 0.4237 - val_accuracy: 0.8956\n",
      "Epoch 36/50\n",
      "1500/1500 [==============================] - 3s 2ms/step - loss: 0.0983 - accuracy: 0.9626 - val_loss: 0.4489 - val_accuracy: 0.8948\n",
      "Epoch 37/50\n",
      "1500/1500 [==============================] - 3s 2ms/step - loss: 0.0966 - accuracy: 0.9641 - val_loss: 0.4625 - val_accuracy: 0.8952\n",
      "Epoch 38/50\n",
      "1500/1500 [==============================] - 3s 2ms/step - loss: 0.0958 - accuracy: 0.9636 - val_loss: 0.4471 - val_accuracy: 0.8937\n",
      "Epoch 39/50\n",
      "1500/1500 [==============================] - 3s 2ms/step - loss: 0.0937 - accuracy: 0.9650 - val_loss: 0.4305 - val_accuracy: 0.8963\n",
      "Epoch 40/50\n",
      "1500/1500 [==============================] - 3s 2ms/step - loss: 0.0921 - accuracy: 0.9662 - val_loss: 0.4400 - val_accuracy: 0.8949\n",
      "Epoch 41/50\n",
      "1500/1500 [==============================] - 3s 2ms/step - loss: 0.0877 - accuracy: 0.9662 - val_loss: 0.4547 - val_accuracy: 0.8938\n",
      "Epoch 42/50\n",
      "1500/1500 [==============================] - 3s 2ms/step - loss: 0.0868 - accuracy: 0.9673 - val_loss: 0.4573 - val_accuracy: 0.9012\n",
      "Epoch 43/50\n",
      "1500/1500 [==============================] - 3s 2ms/step - loss: 0.0832 - accuracy: 0.9688 - val_loss: 0.4912 - val_accuracy: 0.8935\n",
      "Epoch 44/50\n",
      "1500/1500 [==============================] - 3s 2ms/step - loss: 0.0835 - accuracy: 0.9684 - val_loss: 0.4890 - val_accuracy: 0.8929\n",
      "Epoch 45/50\n",
      "1500/1500 [==============================] - 3s 2ms/step - loss: 0.0800 - accuracy: 0.9700 - val_loss: 0.5232 - val_accuracy: 0.8888\n",
      "Epoch 46/50\n",
      "1500/1500 [==============================] - 3s 2ms/step - loss: 0.0841 - accuracy: 0.9689 - val_loss: 0.4995 - val_accuracy: 0.8967\n",
      "Epoch 47/50\n",
      "1500/1500 [==============================] - 3s 2ms/step - loss: 0.0774 - accuracy: 0.9705 - val_loss: 0.5074 - val_accuracy: 0.8915\n",
      "Epoch 48/50\n",
      "1500/1500 [==============================] - 3s 2ms/step - loss: 0.0745 - accuracy: 0.9718 - val_loss: 0.5126 - val_accuracy: 0.8938\n",
      "Epoch 49/50\n",
      "1500/1500 [==============================] - 3s 2ms/step - loss: 0.0764 - accuracy: 0.9715 - val_loss: 0.5149 - val_accuracy: 0.8913\n",
      "Epoch 50/50\n",
      "1500/1500 [==============================] - 3s 2ms/step - loss: 0.0729 - accuracy: 0.9727 - val_loss: 0.5287 - val_accuracy: 0.8933\n",
      "Best epoch: 42\n"
     ]
    }
   ],
   "source": [
    "# Build the model with the optimal hyperparameters and train it on the data for 50 epochs\n",
    "model = tuner.hypermodel.build(best_hps)\n",
    "history = model.fit(img_train, label_train, epochs=50, validation_split=0.2)\n",
    "\n",
    "val_acc_per_epoch = history.history['val_accuracy']\n",
    "best_epoch = val_acc_per_epoch.index(max(val_acc_per_epoch)) + 1\n",
    "print('Best epoch: %d' % (best_epoch,))"
   ]
  },
  {
   "cell_type": "markdown",
   "metadata": {},
   "source": [
    "<br>"
   ]
  },
  {
   "cell_type": "markdown",
   "metadata": {},
   "source": [
    "Re-instantiate the hypermodel and train it with the optimal number of epochs from above."
   ]
  },
  {
   "cell_type": "code",
   "execution_count": 12,
   "metadata": {
    "scrolled": true
   },
   "outputs": [
    {
     "name": "stdout",
     "output_type": "stream",
     "text": [
      "Epoch 1/42\n",
      "1500/1500 [==============================] - 3s 2ms/step - loss: 0.4920 - accuracy: 0.8255 - val_loss: 0.4241 - val_accuracy: 0.8443\n",
      "Epoch 2/42\n",
      "1500/1500 [==============================] - 3s 2ms/step - loss: 0.3692 - accuracy: 0.8646 - val_loss: 0.4026 - val_accuracy: 0.8490\n",
      "Epoch 3/42\n",
      "1500/1500 [==============================] - 3s 2ms/step - loss: 0.3286 - accuracy: 0.8787 - val_loss: 0.3285 - val_accuracy: 0.8808\n",
      "Epoch 4/42\n",
      "1500/1500 [==============================] - 3s 2ms/step - loss: 0.3049 - accuracy: 0.8872 - val_loss: 0.3281 - val_accuracy: 0.8830\n",
      "Epoch 5/42\n",
      "1500/1500 [==============================] - 3s 2ms/step - loss: 0.2853 - accuracy: 0.8944 - val_loss: 0.3408 - val_accuracy: 0.8803\n",
      "Epoch 6/42\n",
      "1500/1500 [==============================] - 3s 2ms/step - loss: 0.2692 - accuracy: 0.8992 - val_loss: 0.3410 - val_accuracy: 0.8768\n",
      "Epoch 7/42\n",
      "1500/1500 [==============================] - 3s 2ms/step - loss: 0.2560 - accuracy: 0.9041 - val_loss: 0.3199 - val_accuracy: 0.8874\n",
      "Epoch 8/42\n",
      "1500/1500 [==============================] - 3s 2ms/step - loss: 0.2474 - accuracy: 0.9072 - val_loss: 0.3272 - val_accuracy: 0.8871\n",
      "Epoch 9/42\n",
      "1500/1500 [==============================] - 3s 2ms/step - loss: 0.2341 - accuracy: 0.9122 - val_loss: 0.3182 - val_accuracy: 0.8920\n",
      "Epoch 10/42\n",
      "1500/1500 [==============================] - 3s 2ms/step - loss: 0.2241 - accuracy: 0.9154 - val_loss: 0.3442 - val_accuracy: 0.8825\n",
      "Epoch 11/42\n",
      "1500/1500 [==============================] - 3s 2ms/step - loss: 0.2154 - accuracy: 0.9194 - val_loss: 0.3094 - val_accuracy: 0.8971\n",
      "Epoch 12/42\n",
      "1500/1500 [==============================] - 3s 2ms/step - loss: 0.2085 - accuracy: 0.9227 - val_loss: 0.3389 - val_accuracy: 0.8904\n",
      "Epoch 13/42\n",
      "1500/1500 [==============================] - 3s 2ms/step - loss: 0.2003 - accuracy: 0.9254 - val_loss: 0.3269 - val_accuracy: 0.8910\n",
      "Epoch 14/42\n",
      "1500/1500 [==============================] - 3s 2ms/step - loss: 0.1920 - accuracy: 0.9280 - val_loss: 0.3166 - val_accuracy: 0.8939\n",
      "Epoch 15/42\n",
      "1500/1500 [==============================] - 3s 2ms/step - loss: 0.1852 - accuracy: 0.9310 - val_loss: 0.3518 - val_accuracy: 0.8882\n",
      "Epoch 16/42\n",
      "1500/1500 [==============================] - 3s 2ms/step - loss: 0.1791 - accuracy: 0.9338 - val_loss: 0.3294 - val_accuracy: 0.8938\n",
      "Epoch 17/42\n",
      "1500/1500 [==============================] - 3s 2ms/step - loss: 0.1713 - accuracy: 0.9361 - val_loss: 0.3593 - val_accuracy: 0.8864\n",
      "Epoch 18/42\n",
      "1500/1500 [==============================] - 3s 2ms/step - loss: 0.1665 - accuracy: 0.9379 - val_loss: 0.3516 - val_accuracy: 0.8887\n",
      "Epoch 19/42\n",
      "1500/1500 [==============================] - 3s 2ms/step - loss: 0.1618 - accuracy: 0.9393 - val_loss: 0.3341 - val_accuracy: 0.8944\n",
      "Epoch 20/42\n",
      "1500/1500 [==============================] - 3s 2ms/step - loss: 0.1569 - accuracy: 0.9416 - val_loss: 0.3637 - val_accuracy: 0.8828\n",
      "Epoch 21/42\n",
      "1500/1500 [==============================] - 3s 2ms/step - loss: 0.1507 - accuracy: 0.9439 - val_loss: 0.3520 - val_accuracy: 0.8931\n",
      "Epoch 22/42\n",
      "1500/1500 [==============================] - 3s 2ms/step - loss: 0.1495 - accuracy: 0.9436 - val_loss: 0.3320 - val_accuracy: 0.8955\n",
      "Epoch 23/42\n",
      "1500/1500 [==============================] - 3s 2ms/step - loss: 0.1400 - accuracy: 0.9472 - val_loss: 0.3711 - val_accuracy: 0.8923\n",
      "Epoch 24/42\n",
      "1500/1500 [==============================] - 3s 2ms/step - loss: 0.1398 - accuracy: 0.9482 - val_loss: 0.3795 - val_accuracy: 0.8924\n",
      "Epoch 25/42\n",
      "1500/1500 [==============================] - 3s 2ms/step - loss: 0.1348 - accuracy: 0.9503 - val_loss: 0.3896 - val_accuracy: 0.8884\n",
      "Epoch 26/42\n",
      "1500/1500 [==============================] - 3s 2ms/step - loss: 0.1325 - accuracy: 0.9495 - val_loss: 0.4104 - val_accuracy: 0.8920\n",
      "Epoch 27/42\n",
      "1500/1500 [==============================] - 3s 2ms/step - loss: 0.1270 - accuracy: 0.9522 - val_loss: 0.3840 - val_accuracy: 0.8960\n",
      "Epoch 28/42\n",
      "1500/1500 [==============================] - 3s 2ms/step - loss: 0.1221 - accuracy: 0.9548 - val_loss: 0.3796 - val_accuracy: 0.8949\n",
      "Epoch 29/42\n",
      "1500/1500 [==============================] - 3s 2ms/step - loss: 0.1225 - accuracy: 0.9540 - val_loss: 0.3968 - val_accuracy: 0.8970\n",
      "Epoch 30/42\n",
      "1500/1500 [==============================] - 3s 2ms/step - loss: 0.1156 - accuracy: 0.9568 - val_loss: 0.3974 - val_accuracy: 0.8935\n",
      "Epoch 31/42\n",
      "1500/1500 [==============================] - 3s 2ms/step - loss: 0.1146 - accuracy: 0.9573 - val_loss: 0.4138 - val_accuracy: 0.8897\n",
      "Epoch 32/42\n",
      "1500/1500 [==============================] - 3s 2ms/step - loss: 0.1089 - accuracy: 0.9589 - val_loss: 0.4113 - val_accuracy: 0.8914\n",
      "Epoch 33/42\n",
      "1500/1500 [==============================] - 3s 2ms/step - loss: 0.1095 - accuracy: 0.9581 - val_loss: 0.4366 - val_accuracy: 0.8923\n",
      "Epoch 34/42\n",
      "1500/1500 [==============================] - 3s 2ms/step - loss: 0.1036 - accuracy: 0.9616 - val_loss: 0.4399 - val_accuracy: 0.8940\n",
      "Epoch 35/42\n",
      "1500/1500 [==============================] - 3s 2ms/step - loss: 0.1089 - accuracy: 0.9595 - val_loss: 0.4272 - val_accuracy: 0.8902\n",
      "Epoch 36/42\n",
      "1500/1500 [==============================] - 3s 2ms/step - loss: 0.0983 - accuracy: 0.9634 - val_loss: 0.4475 - val_accuracy: 0.8917\n",
      "Epoch 37/42\n",
      "1500/1500 [==============================] - 3s 2ms/step - loss: 0.0993 - accuracy: 0.9632 - val_loss: 0.4592 - val_accuracy: 0.8960\n",
      "Epoch 38/42\n",
      "1500/1500 [==============================] - 3s 2ms/step - loss: 0.0954 - accuracy: 0.9646 - val_loss: 0.4450 - val_accuracy: 0.8938\n",
      "Epoch 39/42\n",
      "1500/1500 [==============================] - 3s 2ms/step - loss: 0.0956 - accuracy: 0.9642 - val_loss: 0.4473 - val_accuracy: 0.8939\n",
      "Epoch 40/42\n",
      "1500/1500 [==============================] - 3s 2ms/step - loss: 0.0948 - accuracy: 0.9651 - val_loss: 0.4579 - val_accuracy: 0.8955\n",
      "Epoch 41/42\n",
      "1500/1500 [==============================] - 3s 2ms/step - loss: 0.0906 - accuracy: 0.9661 - val_loss: 0.4677 - val_accuracy: 0.8906\n",
      "Epoch 42/42\n",
      "1500/1500 [==============================] - 3s 2ms/step - loss: 0.0887 - accuracy: 0.9672 - val_loss: 0.4614 - val_accuracy: 0.8935\n"
     ]
    },
    {
     "data": {
      "text/plain": [
       "<tensorflow.python.keras.callbacks.History at 0x1a40ec135e0>"
      ]
     },
     "execution_count": 12,
     "metadata": {},
     "output_type": "execute_result"
    }
   ],
   "source": [
    "hypermodel = tuner.hypermodel.build(best_hps)\n",
    "\n",
    "# Retrain the model\n",
    "hypermodel.fit(img_train, label_train, epochs=best_epoch, validation_split=0.2)"
   ]
  },
  {
   "cell_type": "markdown",
   "metadata": {},
   "source": [
    "<br>"
   ]
  },
  {
   "cell_type": "markdown",
   "metadata": {},
   "source": [
    "To finish this tutorial, evaluate the hypermodel on the test data."
   ]
  },
  {
   "cell_type": "code",
   "execution_count": 13,
   "metadata": {},
   "outputs": [
    {
     "name": "stdout",
     "output_type": "stream",
     "text": [
      "313/313 [==============================] - 1s 2ms/step - loss: 0.5135 - accuracy: 0.8913\n",
      "[test loss, test accuracy]: [0.5134900212287903, 0.8913000226020813]\n"
     ]
    }
   ],
   "source": [
    "eval_result = hypermodel.evaluate(img_test, label_test)\n",
    "print(\"[test loss, test accuracy]:\", eval_result)"
   ]
  },
  {
   "cell_type": "markdown",
   "metadata": {},
   "source": [
    "<br>\n",
    "<br>"
   ]
  },
  {
   "cell_type": "markdown",
   "metadata": {},
   "source": [
    "The `my_dir/intro_to_kt` directory contains detailed logs and checkpoints for every trial (model configuration) run during the hyperparameter search. If you re-run the hyperparameter search, the Keras Tuner uses the existing state from these logs to resume the search. To disable this behavior, pass an additional `overwrite=True` argument while instantiating the tuner."
   ]
  },
  {
   "cell_type": "markdown",
   "metadata": {},
   "source": [
    "<br>\n",
    "<br>\n",
    "<br>"
   ]
  },
  {
   "cell_type": "markdown",
   "metadata": {},
   "source": [
    "## Summary\n",
    "\n",
    "In this tutorial, you learned how to use the Keras Tuner to tune hyperparameters for a model. To learn more about the Keras Tuner, check out these additional resources:\n",
    "\n",
    "* [Keras Tuner on the TensorFlow blog](https://blog.tensorflow.org/2020/01/hyperparameter-tuning-with-keras-tuner.html)\n",
    "* [Keras Tuner website](https://keras-team.github.io/keras-tuner/)\n",
    "\n",
    "Also check out the [HParams Dashboard](https://www.tensorflow.org/tensorboard/hyperparameter_tuning_with_hparams) in TensorBoard to interactively tune your model hyperparameters."
   ]
  },
  {
   "cell_type": "markdown",
   "metadata": {},
   "source": [
    "<br>\n",
    "<br>\n",
    "<br>"
   ]
  },
  {
   "cell_type": "markdown",
   "metadata": {},
   "source": [
    "```python\n",
    "# MIT License\n",
    "#\n",
    "# Copyright (c) 2017 François Chollet\n",
    "#\n",
    "# Permission is hereby granted, free of charge, to any person obtaining a\n",
    "# copy of this software and associated documentation files (the \"Software\"),\n",
    "# to deal in the Software without restriction, including without limitation\n",
    "# the rights to use, copy, modify, merge, publish, distribute, sublicense,\n",
    "# and/or sell copies of the Software, and to permit persons to whom the\n",
    "# Software is furnished to do so, subject to the following conditions:\n",
    "#\n",
    "# The above copyright notice and this permission notice shall be included in\n",
    "# all copies or substantial portions of the Software.\n",
    "#\n",
    "# THE SOFTWARE IS PROVIDED \"AS IS\", WITHOUT WARRANTY OF ANY KIND, EXPRESS OR\n",
    "# IMPLIED, INCLUDING BUT NOT LIMITED TO THE WARRANTIES OF MERCHANTABILITY,\n",
    "# FITNESS FOR A PARTICULAR PURPOSE AND NONINFRINGEMENT. IN NO EVENT SHALL\n",
    "# THE AUTHORS OR COPYRIGHT HOLDERS BE LIABLE FOR ANY CLAIM, DAMAGES OR OTHER\n",
    "# LIABILITY, WHETHER IN AN ACTION OF CONTRACT, TORT OR OTHERWISE, ARISING\n",
    "# FROM, OUT OF OR IN CONNECTION WITH THE SOFTWARE OR THE USE OR OTHER\n",
    "# DEALINGS IN THE SOFTWARE.\n",
    "```"
   ]
  },
  {
   "cell_type": "markdown",
   "metadata": {},
   "source": [
    "<br>\n",
    "<br>\n",
    "<br>"
   ]
  }
 ],
 "metadata": {
  "kernelspec": {
   "display_name": "Python [conda env:tfg]",
   "language": "python",
   "name": "conda-env-tfg-py"
  },
  "language_info": {
   "codemirror_mode": {
    "name": "ipython",
    "version": 3
   },
   "file_extension": ".py",
   "mimetype": "text/x-python",
   "name": "python",
   "nbconvert_exporter": "python",
   "pygments_lexer": "ipython3",
   "version": "3.9.7"
  },
  "toc": {
   "base_numbering": 1,
   "nav_menu": {},
   "number_sections": true,
   "sideBar": true,
   "skip_h1_title": false,
   "title_cell": "Table of Contents",
   "title_sidebar": "Contents",
   "toc_cell": false,
   "toc_position": {},
   "toc_section_display": true,
   "toc_window_display": false
  },
  "varInspector": {
   "cols": {
    "lenName": 16,
    "lenType": 16,
    "lenVar": 40
   },
   "kernels_config": {
    "python": {
     "delete_cmd_postfix": "",
     "delete_cmd_prefix": "del ",
     "library": "var_list.py",
     "varRefreshCmd": "print(var_dic_list())"
    },
    "r": {
     "delete_cmd_postfix": ") ",
     "delete_cmd_prefix": "rm(",
     "library": "var_list.r",
     "varRefreshCmd": "cat(var_dic_list()) "
    }
   },
   "types_to_exclude": [
    "module",
    "function",
    "builtin_function_or_method",
    "instance",
    "_Feature"
   ],
   "window_display": false
  }
 },
 "nbformat": 4,
 "nbformat_minor": 4
}
